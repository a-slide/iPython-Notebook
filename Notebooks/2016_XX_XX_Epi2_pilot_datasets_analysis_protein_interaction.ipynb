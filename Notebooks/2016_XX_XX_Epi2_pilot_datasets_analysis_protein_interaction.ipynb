{
 "cells": [
  {
   "cell_type": "markdown",
   "metadata": {},
   "source": [
    "# Meta Analysis of the Datasets for the Epi² pilot project \n",
    "\n",
    "---\n",
    "# lncRNA interaction with proteins\n",
    "\n",
    "---\n",
    "# PYTHON 3 / R Notebook\n",
    "### Adrien Leger / EMBL EBI\n",
    "### Starting date XX/XX/XXXX"
   ]
  },
  {
   "cell_type": "markdown",
   "metadata": {},
   "source": [
    "---\n",
    "## Import general package and definition of specific functions"
   ]
  },
  {
   "cell_type": "code",
   "execution_count": 1,
   "metadata": {
    "collapsed": true
   },
   "outputs": [],
   "source": [
    "# pycl imports\n",
    "from pycl import is_readable_file, is_gziped\n",
    "from pycl import file_basename, file_extension, file_name, dir_name\n",
    "from pycl import supersplit, rm_blank\n",
    "from pycl import copyFile, gzip_file, gunzip_file\n",
    "from pycl import head, linerange, colsum, fastcount, simplecount\n",
    "from pycl import mkdir\n",
    "from pycl import bash_basic, bash, make_cmd_str\n",
    "from pycl import dict_to_md, dict_to_report\n",
    "from pycl import reformat_table, _decompose_line, _clean_values, _reformat_line\n",
    "from pycl import url_exist\n",
    "\n",
    "#Std lib imports\n",
    "import datetime\n",
    "from glob import glob\n",
    "from pprint import pprint as pp\n",
    "from os.path import basename\n",
    "from os import listdir, remove, rename\n",
    "from os.path import abspath, basename, isdir\n",
    "\n",
    "# Third party import\n",
    "import numpy as np\n",
    "import scipy.stats as stats\n",
    "import pylab as pl\n",
    "from Bio import Entrez\n",
    "\n",
    "#pyplot tweaking\n",
    "%matplotlib inline\n",
    "pl.rcParams['figure.figsize'] = 30, 10  # that's default image size for this interactive session"
   ]
  },
  {
   "cell_type": "markdown",
   "metadata": {},
   "source": [
    "---\n",
    "## Hendrickson = fRIP with 24 chromatin related protein"
   ]
  },
  {
   "cell_type": "markdown",
   "metadata": {},
   "source": [
    "***Hendrickson D G, DR Kelley, D Tenen, B Bernstein, JL Rinn. Widespread RNA binding by chromatin-associated proteins.. Genome Biol 17, 28 (2016).***\n",
    "\n",
    "- Formaldehyde RNA immunoprecipitation of 24 RPB and chromatin related proteins \n",
    "- Really detaillled and extensive datasets to have transcriptome wide lncRNA interacting with chromatin.\n",
    "- Contain all the list of lncRNA gene significantly enriched in captured factions\n",
    "- Problem = K562 (myelogenous leukemia line) with highly rearranged genomes... "
   ]
  },
  {
   "cell_type": "code",
   "execution_count": null,
   "metadata": {
    "collapsed": true
   },
   "outputs": [],
   "source": []
  },
  {
   "cell_type": "markdown",
   "metadata": {},
   "source": [
    "---\n",
    "## Li  / Starbase =  CLIP-Seq data"
   ]
  },
  {
   "cell_type": "markdown",
   "metadata": {},
   "source": [
    "***JH Li, S Liu, LL Zheng, J Wu, WJ Sun, ZL Wang, H Zhou, LH Qu, JH Yang. Discovery of Protein-lncRNA Interactions by Integrating Large-Scale CLIP-Seq and RNA-Seq Datasets.. Front Bioeng Biotechnol 2, 88 (2014).***\n",
    "\n",
    "***JH Li, S Liu, H Zhou, LH Qu, JH Yang. starBase v2.0: decoding miRNA-ceRNA, miRNA-ncRNA and protein-RNA interaction networks from large-scale CLIP-Seq data.. Nucleic Acids Res 42, D92-7 (2014).***\n",
    "\n",
    "- Comprehensive collection of lncRNA protein interaction from \n",
    "- Database dates from 2014 => contain datasets up to 2013 = not up to date.\n",
    "- No specific chromatin protein => have to be crossmatched with protein localization => Done from uniprot = few nuclei pure proteins\n",
    "\n",
    "**Cross-match Protein location Uniprot with data protein/lncRNA database from Starbase**\n",
    "\n",
    "Selection of a limited number of candidate CLIP-Seq datasets based on their localization and the experimental conditions:\n",
    "- Nuclear candidates: ALKBH5, ZC3H7B, FUS, TAF15, hnRNPC, DGCR8, FUS\n",
    "- Cytoplasmic candidates: AGO1, AGO3, AGO4, FXR1, LIN28B, PUM2"
   ]
  }
 ],
 "metadata": {
  "kernelspec": {
   "display_name": "Python 3",
   "language": "python",
   "name": "python3"
  },
  "language_info": {
   "codemirror_mode": {
    "name": "ipython",
    "version": 3
   },
   "file_extension": ".py",
   "mimetype": "text/x-python",
   "name": "python",
   "nbconvert_exporter": "python",
   "pygments_lexer": "ipython3",
   "version": "3.5.1+"
  }
 },
 "nbformat": 4,
 "nbformat_minor": 0
}
