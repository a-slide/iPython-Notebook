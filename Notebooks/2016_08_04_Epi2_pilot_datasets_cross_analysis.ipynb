{
 "cells": [
  {
   "cell_type": "markdown",
   "metadata": {},
   "source": [
    "# Meta Analysis of the Datasets for the Epi² pilot project \n",
    "\n",
    "---\n",
    "# Cross analysis of datasets\n",
    "\n",
    "---\n",
    "# PYTHON 3 / R Notebook\n",
    "### Adrien Leger / EMBL EBI\n",
    "### Starting date 04/08/2016"
   ]
  },
  {
   "cell_type": "markdown",
   "metadata": {},
   "source": [
    "---\n",
    "## Import general package and definition of specific functions"
   ]
  },
  {
   "cell_type": "code",
   "execution_count": 1,
   "metadata": {
    "collapsed": false
   },
   "outputs": [
    {
     "data": {
      "text/html": [
       "<style>.container { width:100% !important; }</style>"
      ],
      "text/plain": [
       "<IPython.core.display.HTML object>"
      ]
     },
     "metadata": {},
     "output_type": "display_data"
    }
   ],
   "source": [
    "# Import all the packages from pyclpycl imports\n",
    "from pycl import *\n",
    "\n",
    "# Standard lib imports\n",
    "from collections import OrderedDict\n",
    "import random as rand\n",
    "import statistics as stat\n",
    "\n",
    "# Third party import\n",
    "import numpy as np\n",
    "import pylab as pl\n",
    "import pandas as pd\n",
    "import seaborn as sns\n",
    "import matplotlib.pyplot as plt\n",
    "\n",
    "# Pyplot tweaking\n",
    "%matplotlib inline\n",
    "pl.rcParams['figure.figsize'] = 30, 10  # that's default image size for this interactive session\n",
    "\n",
    "# Larger display \n",
    "from IPython.core.display import display, HTML\n",
    "display(HTML(\"<style>.container { width:100% !important; }</style>\"))\n",
    "\n",
    "# Allow to use R directly\n",
    "%load_ext rpy2.ipython\n",
    "\n",
    "# Simplify warning reporting to lighten the notbook style \n",
    "import warnings\n",
    "warnings.formatwarning=(lambda message, *args: \"{}\\n\".format(message))"
   ]
  },
  {
   "cell_type": "markdown",
   "metadata": {},
   "source": [
    "---\n",
    "## Comparison lncRNA PTM datasets / lncRNA Localization "
   ]
  },
  {
   "cell_type": "markdown",
   "metadata": {},
   "source": [
    "**Summary PTM datasets**\n",
    "* \n",
    "* \n",
    "\n",
    "**Summary dataset 2**\n"
   ]
  }
 ],
 "metadata": {
  "kernelspec": {
   "display_name": "Python 3",
   "language": "python",
   "name": "python3"
  },
  "language_info": {
   "codemirror_mode": {
    "name": "ipython",
    "version": 3
   },
   "file_extension": ".py",
   "mimetype": "text/x-python",
   "name": "python",
   "nbconvert_exporter": "python",
   "pygments_lexer": "ipython3",
   "version": "3.5.1+"
  }
 },
 "nbformat": 4,
 "nbformat_minor": 0
}
