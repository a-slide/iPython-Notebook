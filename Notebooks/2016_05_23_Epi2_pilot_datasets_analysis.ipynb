{
 "cells": [
  {
   "cell_type": "markdown",
   "metadata": {},
   "source": [
    "# Meta Analysis of the Datasets for the Epi² pilot project \n",
    "# PYTHON 3 Notebook\n",
    "### Adrien Leger / EMBL EBI\n",
    "### Starting date 23/05/2016"
   ]
  },
  {
   "cell_type": "markdown",
   "metadata": {},
   "source": [
    "---\n",
    "# Import general package and definition of specific functions"
   ]
  },
  {
   "cell_type": "code",
   "execution_count": 83,
   "metadata": {
    "collapsed": false
   },
   "outputs": [],
   "source": [
    "# pycl imports\n",
    "from pycl import is_readable_file, is_gziped\n",
    "from pycl import file_basename, file_extension, file_name, dir_name\n",
    "from pycl import supersplit, rm_blank\n",
    "from pycl import copyFile, gzip_file, gunzip_file\n",
    "from pycl import head, linerange, colsum, fastcount, simplecount\n",
    "from pycl import mkdir\n",
    "from pycl import bash_basic, bash, make_cmd_str\n",
    "from pycl import dict_to_md, dict_to_report\n",
    "from pycl import reformat_table, _decompose_line, _clean_values, _reformat_line\n",
    "from pycl import url_exist\n",
    "\n",
    "#Std lib imports\n",
    "import datetime\n",
    "from glob import glob\n",
    "from pprint import pprint as pp\n",
    "from os.path import basename\n",
    "from os import listdir, remove\n",
    "\n",
    "# Third party import\n",
    "import numpy as np\n",
    "import scipy.stats as stats\n",
    "import pylab as pl\n",
    "from Bio import Entrez\n",
    "\n",
    "#pyplot tweaking\n",
    "%matplotlib inline\n",
    "pl.rcParams['figure.figsize'] = 30, 10  # that's default image size for this interactive session"
   ]
  },
  {
   "cell_type": "code",
   "execution_count": 84,
   "metadata": {
    "collapsed": false,
    "scrolled": false
   },
   "outputs": [],
   "source": [
    "# Specific helper functions\n",
    "\n",
    "def generate_header (PMID, cell, modification, method):\n",
    "    h = \"# Data cleaned, converted to BED6, coordinate converted to hg38 using liftOver\\n\"\n",
    "    h+= \"# Maurits Evers (maurits.evers@anu.edu.au)\\n\"\n",
    "    h+= \"# Data cleaned and standardized. {}\\n\".format(str (datetime.datetime.today()))\n",
    "    h+= \"# Adrien Leger (aleg@ebi.ac.uk)\\n\"\n",
    "    h+= \"# RNA_modification={}|Cell_type={}|Analysis_method={}|Pubmed_ID={}\\n\".format(modification, cell, method, PMID)\n",
    "    h+= \"# chrom\tchromstart\tchromend\tmodif|cell_type|method|PMID|loci\tscore\tstrand\\n\"\n",
    "    return h\n",
    "\n",
    "def file_summary(file, separator=[\"\\t\", \"|\"], max_items=10):\n",
    "    n_line = fastcount(file)\n",
    "    print(\"Filename:\\t{}\".format(file))\n",
    "    print(\"Total lines:\\t{}\\n\".format(n_line))\n",
    "    linerange(file, range_list=[[0,9],[n_line-5, n_line-1]])\n",
    "    print(colsum(file, header=False, ignore_hashtag_line=True, separator=separator, max_items=max_items))\n",
    "\n",
    "def distrib_peak_len (file, range=None, bins=50, normed=True):\n",
    "    h = []\n",
    "    for line in open (file):    \n",
    "        if line[0] != \"#\":\n",
    "            ls = line.split(\"\\t\")\n",
    "            delta = abs(int(ls[1])-int(ls[2]))\n",
    "            h.append(delta)\n",
    "        h.sort()\n",
    "\n",
    "    pl.hist(h,normed=normed, range=range, bins=bins)\n",
    "    pl.show()\n",
    "\n",
    "def pubmed_fetch(pmid):\n",
    "    Entrez.email = 'your.email@example.com'\n",
    "    handle = Entrez.efetch (db='pubmed', id=pmid, retmode='xml', )\n",
    "    return Entrez.read(handle)[0]\n",
    "\n",
    "def pmid_to_info(pmid):\n",
    "    results = pubmed_fetch(pmid)\n",
    "    try:\n",
    "        title = results['MedlineCitation']['Article']['ArticleTitle']\n",
    "    except (KeyError, IndexError) as E:\n",
    "        title = \"NA\"\n",
    "    try:\n",
    "        first_name = results['MedlineCitation']['Article']['AuthorList'][0]['LastName']\n",
    "    except (KeyError, IndexError) as E:\n",
    "        first_name = \"NA\"\n",
    "    try:\n",
    "        Year = results['MedlineCitation']['Article']['ArticleDate'][0]['Year']\n",
    "    except (KeyError, IndexError) as E:\n",
    "        Year = \"NA\"\n",
    "    try:\n",
    "        Month = results['MedlineCitation']['Article']['ArticleDate'][0]['Month']\n",
    "    except (KeyError, IndexError) as E:\n",
    "        Month = \"NA\"\n",
    "    try:\n",
    "        Day = results['MedlineCitation']['Article']['ArticleDate'][0]['Day']\n",
    "    except (KeyError, IndexError) as E:\n",
    "        Day = \"NA\"\n",
    "    \n",
    "    d = {\"title\":title, \"first_name\":first_name, \"Year\":Year, \"Month\":Month, \"Day\":Day}\n",
    "        \n",
    "    return d"
   ]
  },
  {
   "cell_type": "markdown",
   "metadata": {},
   "source": [
    "---\n",
    "# RNA PTM DATASETS\n",
    "\n",
    "**I collected datasets from different sources. The 2 big database containing Inosine edition RADAR and DARNED as well as all the datasets cited in the recent review about lncRNA and epitranscriptomics from Shaffik et al. In addition I also have 2 recent datasets for m1A and m6A/Am6A. All the datasets need to be carefully reviewed, reformated to BED6 format, converted to hg38 reference genome and reannotated with recent genecode annotations. See overview of the datasets in the table below**\n",
    "\n",
    "\n",
    "|Modification|Article|Initial number of peaks found (Shafik et al)|Final number of peaks found|Number of peaks in lncRNA found (Shafik et al)|Number of uniq lncRNA (Shafik et al)|\n",
    "|---|---|---|---|---|---|\n",
    "|Inosine|Z Peng et al. Nat Biotechnol 30, 253-60 (2012)|22686 (22686)|21,111 |3382 (4425)|505 (846)|\n",
    "|Inosine|M Sakurai et al. Genome Res 24, 522-34 (2014)|20482 (20482)|20,482 |2550 (3050)|319 (400)|\n",
    "|m5C|S Hussain et al. Cell Rep 4, 255-61 (2013)|1084 (1084)|1,084 |107 (110)|39 (41)|\n",
    "|m5C|V Khoddami et al. Nat Biotechnol 31, 458-64 (2013)|20553 (20533)|20,553 |1523 (1580)|39 (38)|\n",
    "|m5C|JE Squires et al. Nucleic Acids Res 40, 5023-33 (2012)|10490 (10490)|10,490 |281 (1544)|112 (711)|\n",
    "|m6A|D Dominissini et al. Nature 485, 201-6 (2012)|25918 (25776)|2,894 |115 (7397)|84 (6165)|\n",
    "|m6A|KD Meyer et al. Cell 149, 1635-46 (2012)|4341 (4341)|4,341 |48 (57)|16 (20)|\n",
    "|m6A and m6Am|B Linder et al. Nat Methods 12, 767-72 (2015)|15167 (NA)|15,167 |385 (NA)|168 (NA)|\n",
    "|m1A|D Dominissini et al. Nature 530, 441-6 (2016)|32136 (NA)|19552 (HeLa:8873, HepG2:8550, HEK293:2129)|606 (NA)|338 (NA)|\n",
    "|pseudouridylation|TM Carlile et al. Nature 515, 143-6 (2014)|8 (8)|8 |4 (4)|3 (3)|\n",
    "|pseudouridylation|X Li et al. Nat Chem Biol 11, 592-7 (2015)|1489 (1489)|1,489 |48 (58)|44 (54)|\n",
    "|pseudouridylation|S Schwartz et al. Cell 159, 148-62 (2014)|402 (396)|402 |14 (15)|10 (11)|\n",
    "|Inosine|DARNED database|333216 (259654)|290,002 |24152 (23574)|1300 (1833)|\n",
    "|Inosine|RADAR database|2576460 (2576289)|1,342,374 |97118 (218793)|3343 (6376)|"
   ]
  },
  {
   "cell_type": "markdown",
   "metadata": {},
   "source": [
    "---\n",
    "## DARNED\n",
    "\n",
    "### Reformat DARNED Database\n",
    "\n",
    "**The file dowloaded from DARNED is not a bed file. I need to modify it to comply with the standard format**"
   ]
  },
  {
   "cell_type": "code",
   "execution_count": 62,
   "metadata": {
    "collapsed": false,
    "scrolled": true
   },
   "outputs": [
    {
     "name": "stdout",
     "output_type": "stream",
     "text": [
      "Filename:\t./PTM_Original_Datasets/DARNED_human_hg19_all_sites.txt\n",
      "Total lines:\t333217\n",
      "\n",
      "0\t#DARNED  \n",
      "1\t#chrom\tcoordinate\tstrand\tinchr\tinrna\tgene\tseqReg\texReg\tsource\tPubMed ID\n",
      "2\t4\t250721\t-\tA\tI\t\tO\t\tDIENCEPHALON\t19478186\n",
      "3\t4\t475468\t-\tA\tI\tZNF721\tI\t\tTHYMUS\t15342557\n",
      "4\t4\t476348\t-\tA\tI\tZNF721\tI\t\tTHYMUS\t15342557\n",
      "5\t4\t476410\t-\tA\tI\tZNF721\tI\t\tTHYMUS\t15342557\n",
      "6\t4\t476414\t-\tA\tI\tZNF721\tI\t\tTHYMUS\t15342557\n",
      "7\t4\t476424\t-\tA\tI\tZNF721\tI\t\tTHYMUS\t15342557\n",
      "8\t4\t476487\t-\tA\tI\tZNF721\tI\t\tTHYMUS\t15342557\n",
      "9\t4\t476489\t-\tA\tI\tZNF721\tI\t\tTHYMUS\t15342557\n",
      "\n",
      "333212\tX\t3737545\t-\tA\tG\tLOC389906\tI\t\tLYMPHOBLASTOID CELL\t22484847\n",
      "333213\tX\t3737714\t-\tA\tG\tLOC389906\tI\t\tLYMPHOBLASTOID CELL\t22484847\n",
      "333214\tX\t3737716\t-\tA\tG\tLOC389906\tI\t\tLYMPHOBLASTOID CELL\t22484847\n",
      "333215\tX\t3738584\t-\tG\tT\tLOC389906\tI\t\tLYMPHOBLASTOID CELL\t22484847\n",
      "333216\tX\t3738585\t-\tG\tT\tLOC389906\tI\t\tLYMPHOBLASTOID CELL\t22484847\n",
      "\n",
      "|0|1|2|12|3|7|5|6|4|8|19|...|\n",
      "|:---|:---|:---|:---|:---|:---|:---|:---|:---|:---|:---|:---|\n",
      "|Count|50666|34880|28526|28318|28036|21071|19282|16767|15833|15081|...|\n",
      "\n",
      "|1|14716333|14715305|52882052|119532688|67852887|9605882|69040972|32828603|42878530|66174571|...|\n",
      "|:---|:---|:---|:---|:---|:---|:---|:---|:---|:---|:---|:---|\n",
      "|Count|4|4|3|3|3|3|3|3|3|3|...|\n",
      "\n",
      "|2|+|-|?|\n",
      "|:---|:---|:---|:---|\n",
      "|Count|169430|163784|1|\n",
      "\n",
      "|3|A|T|G|C|\n",
      "|:---|:---|:---|:---|:---|\n",
      "|Count|311260|14098|4452|3405|\n",
      "\n",
      "|4|G|I|C|T|A|U|\n",
      "|:---|:---|:---|:---|:---|:---|:---|\n",
      "|Count|221647|89116|13552|4765|4132|3|\n",
      "\n",
      "|5||RBM6|RABGAP1L|EIF4G3|RBM47|GATAD2B|ASH1L|SPATS2|UBE2K|RERE|...|\n",
      "|:---|:---|:---|:---|:---|:---|:---|:---|:---|:---|:---|:---|\n",
      "|Count|53302|912|902|845|844|765|701|699|648|641|...|\n",
      "\n",
      "|6|I|O|E|\n",
      "|:---|:---|:---|:---|\n",
      "|Count|266423|53302|13490|\n",
      "\n",
      "|7||3|5|C|\n",
      "|:---|:---|:---|:---|:---|\n",
      "|Count|319725|11830|940|720|\n",
      "\n",
      "|8|LYMPHOBLASTOID CELL||LYMPHOBLASTOID CELL LINE|BREAST CANCER|BRAIN|U87MG|CEREBELLUM|THYMUS|UTERUS|SPLEEN|...|\n",
      "|:---|:---|:---|:---|:---|:---|:---|:---|:---|:---|:---|:---|\n",
      "|Count|242346|24471|20285|8075|4866|2916|2343|2003|1737|1398|...|\n",
      "\n",
      "|9|22484847|15342557|22327324|22028664|21960545|15258596|15342557,15258596|15545495|21725310|21960545,22327324|...|\n",
      "|:---|:---|:---|:---|:---|:---|:---|:---|:---|:---|:---|:---|\n",
      "|Count|242346|25158|19791|15266|10753|6675|4944|1622|1237|1028|...|\n",
      "\n",
      "\n"
     ]
    }
   ],
   "source": [
    "file_summary(\"./PTM_Original_Datasets/DARNED_human_hg19_all_sites.txt\")"
   ]
  },
  {
   "cell_type": "markdown",
   "metadata": {},
   "source": [
    "**DARNED is a little messy and hard to convert since the position with the same PMID/OR sample types where fused in the same Site. It makes it difficult to parse. I think it would be better if I duplicate the site with the several PMID and sample type. I just need to verify if the number of fields in PMID and cell type is similar and if they correspond to each other, ie first in cell type = first in PMID**"
   ]
  },
  {
   "cell_type": "code",
   "execution_count": 55,
   "metadata": {
    "collapsed": false,
    "scrolled": true
   },
   "outputs": [
    {
     "name": "stdout",
     "output_type": "stream",
     "text": [
      "333215 Lines processed\t285250 Lines pass\t47965 Lines filtered out\t0 Lines fail\n",
      "\n",
      "Filename:\t./DARNED/DARNED_human_hg19_inosine.bed\n",
      "Total lines:\t285254\n",
      "\n",
      "0\t# DARNED database Human all sites hg19 coordinates\n",
      "1\t# Data cleaned, filtered for Inosine editing, standardized and converted to BED6 format\n",
      "2\t# Adrien Leger (aleg@ebi.ac.uk) - 2016-06-09 11:23:04.068087\n",
      "3\t# chrom\tchromstart\tchromend\tmodif|cell_type|method|PMID|loci\tscore\tstrand\n",
      "4\tchr4\t250721\t250721\tA>I|DIENCEPHALON|-|19478186|-\t0\t-\n",
      "5\tchr4\t475468\t475468\tA>I|THYMUS|-|15342557|ZNF721\t0\t-\n",
      "6\tchr4\t476348\t476348\tA>I|THYMUS|-|15342557|ZNF721\t0\t-\n",
      "7\tchr4\t476410\t476410\tA>I|THYMUS|-|15342557|ZNF721\t0\t-\n",
      "8\tchr4\t476414\t476414\tA>I|THYMUS|-|15342557|ZNF721\t0\t-\n",
      "9\tchr4\t476424\t476424\tA>I|THYMUS|-|15342557|ZNF721\t0\t-\n",
      "\n",
      "285249\tchrX\t3626805\t3626805\tA>I|LYMPHOBLASTOID_CELL|-|22484847|PRKX\t0\t-\n",
      "285250\tchrX\t3737454\t3737454\tA>I|LYMPHOBLASTOID_CELL|-|22484847|LOC389906\t0\t-\n",
      "285251\tchrX\t3737545\t3737545\tA>I|LYMPHOBLASTOID_CELL|-|22484847|LOC389906\t0\t-\n",
      "285252\tchrX\t3737714\t3737714\tA>I|LYMPHOBLASTOID_CELL|-|22484847|LOC389906\t0\t-\n",
      "285253\tchrX\t3737716\t3737716\tA>I|LYMPHOBLASTOID_CELL|-|22484847|LOC389906\t0\t-\n",
      "\n",
      "Found 10 colums\n",
      "First line found\n",
      "|0|chr1|chr2|chr3|chr12|chr7|chr5|chr6|chr4|chr8|chr19|...|\n",
      "|:---|:---|:---|:---|:---|:---|:---|:---|:---|:---|:---|:---|\n",
      "|Count|44398|30388|24884|24604|24321|18260|16768|14625|13808|12417|...|\n",
      "\n",
      "|1|14715305|52882052|119532688|67852887|9605882|69040972|32828603|64940103|9219835|38582448|...|\n",
      "|:---|:---|:---|:---|:---|:---|:---|:---|:---|:---|:---|:---|\n",
      "|Count|4|3|3|3|3|3|3|3|3|3|...|\n",
      "\n",
      "|2|14715305|52882052|119532688|67852887|9605882|69040972|32828603|64940103|9219835|38582448|...|\n",
      "|:---|:---|:---|:---|:---|:---|:---|:---|:---|:---|:---|:---|\n",
      "|Count|4|3|3|3|3|3|3|3|3|3|...|\n",
      "\n",
      "|3|A>I|\n",
      "|:---|:---|\n",
      "|Count|285250|\n",
      "\n",
      "|4|LYMPHOBLASTOID_CELL|LYMPHOBLASTOID_CELL_LINE|BREAST_CANCER|BRAIN|U87MG|CEREBELLUM|THYMUS|UTERUS|SPLEEN|AMYGDALA|...|\n",
      "|:---|:---|:---|:---|:---|:---|:---|:---|:---|:---|:---|:---|\n",
      "|Count|219647|20285|8075|4866|2916|2343|2003|1737|1398|1382|...|\n",
      "\n",
      "|5|-|\n",
      "|:---|:---|\n",
      "|Count|285250|\n",
      "\n",
      "|6|22484847|15342557|22327324|21960545|15342557,15258596|15545495|21960545,22327324|15342557,22028664|21725310,22484847|15342557,22327324|...|\n",
      "|:---|:---|:---|:---|:---|:---|:---|:---|:---|:---|:---|:---|\n",
      "|Count|219647|23473|19791|10753|4467|1622|1028|610|506|464|...|\n",
      "\n",
      "|7|-|RBM6|RABGAP1L|RBM47|EIF4G3|GATAD2B|SPATS2|ASH1L|RERE|UBE2K|...|\n",
      "|:---|:---|:---|:---|:---|:---|:---|:---|:---|:---|:---|:---|\n",
      "|Count|39914|889|818|800|793|735|669|662|617|617|...|\n",
      "\n",
      "|8|0|\n",
      "|:---|:---|\n",
      "|Count|285250|\n",
      "\n",
      "|9|+|-|\n",
      "|:---|:---|:---|\n",
      "|Count|144783|140467|\n",
      "\n"
     ]
    }
   ],
   "source": [
    "# chrom\tchromstart\tchromend\tmodif|cell_type|method|PMID|loci\tscore\tstrand\\n\"\n",
    "\n",
    "header = \"# DARNED database Human all sites hg19 coordinates\\n\"\n",
    "header+= \"# Data cleaned, filtered for Inosine editing, standardized and converted to BED6 format\\n\"\n",
    "header+= \"# Adrien Leger (aleg@ebi.ac.uk) - {}\\n\".format(str (datetime.datetime.today()))\n",
    "header+= \"# chrom\tchromstart\tchromend\tmodif|cell_type|method|PMID|loci\tscore\tstrand\\n\"\n",
    "\n",
    "reformat_table(\n",
    "    input_file = \"./PTM_Original_Datasets/DARNED_human_hg19_all_sites.txt\",\n",
    "    output_file = \"./PTM_Original_Datasets/DARNED_human_hg19_inosine.bed\",\n",
    "    init_template = [0,\"\\t\",1,\"\\t\",2,\"\\t\",3,\"\\t\",4,\"\\t\",5,\"\\t\",6,\"\\t\",7,\"\\t\",8,\"\\t\",9],\n",
    "    final_template = [\"chr\",0,\"\\t\",1,\"\\t\",1,\"\\t\",3,\">\",4,\"|\",8,\"|-|\",9,\"|\",5,\"\\t0\\t\",2],\n",
    "    keep_original_header = False,\n",
    "    header = header,\n",
    "    replace_internal_space = '_',\n",
    "    replace_null_val = \"-\",\n",
    "    filter_dict = {0:[\"-\"],1:[\"-\"],2:[\"?\"],3:[\"T\",\"G\",\"C\"],4:[\"C\",\"T\",\"A\",\"U\"],8:[\"-\"],9:[\"-\"]},\n",
    "    subst_dict = {4:{\"G\":\"I\"}}\n",
    "    )\n",
    "\n",
    "file_summary(\"./PTM_Original_Datasets/DARNED_human_hg19_inosine.bed\")"
   ]
  },
  {
   "cell_type": "markdown",
   "metadata": {},
   "source": [
    "**I reformated and filtered the database with reformat_table to be BED6 compatible. I removed the fields lacking either chromosome, position, tissue, and PID as well as with unknown strand. In addition I also selected only A>I and A>G transitions (same thing). This filtering step eliminated 47965 sites**"
   ]
  },
  {
   "cell_type": "code",
   "execution_count": 56,
   "metadata": {
    "collapsed": false,
    "scrolled": false
   },
   "outputs": [
    {
     "name": "stdout",
     "output_type": "stream",
     "text": [
      "{'5:2': 32, '4:4': 28, '3:4': 49, '1:4': 5, '7:2': 1, '8:4': 1, '6:1': 4, '2:2': 3125, '4:2': 52, '3:3': 215, '1:2': 4618, '3:2': 285, '3:5': 2, '2:4': 18, '5:5': 1, '5:1': 41, '4:3': 50, '6:4': 1, '1:1': 272551, '4:5': 1, '1:3': 181, '4:1': 47, '5:4': 5, '2:5': 1, '6:2': 4, '7:4': 2, '2:3': 386, '3:1': 185, '2:1': 3348, '5:3': 11}\n"
     ]
    }
   ],
   "source": [
    "d={}\n",
    "\n",
    "with open(\"./PTM_Original_Datasets/DARNED_human_hg19_inosine.bed\", \"r\") as f:\n",
    "    for line in f:\n",
    "        if line [0] !=\"#\":\n",
    "            ls = supersplit(line, [\"\\t\",\"|\"])\n",
    "            n_tissue = len(ls[4].split(\",\"))\n",
    "            n_PMID = len(ls[6].split(\",\"))\n",
    "            key=\"{}:{}\".format(n_tissue,n_PMID)\n",
    "            if key not in d:\n",
    "                d[key]=0\n",
    "            d[key]+=1\n",
    "\n",
    "print (d)"
   ]
  },
  {
   "cell_type": "markdown",
   "metadata": {},
   "source": [
    "**I tried to see if the PMID and the tissue field always had the same lengh, so I could de multiplex the fused positions. The answer is no, the number of PMID and tissues could be different. However 272551 positions have only 1 tissue and 1 PMID. These are maybe not the more relialable positions but they might be more easy to interprete. The sites with only 1 PMID but several tissues can also be used. Same think for several PMID, 1 tissue. I will demultiplex them so as to have only 1 PMID and 1 tissue by site. Concerning the site with more than 1 PMID and 1 tissue, I will extract then in another backup file.** "
   ]
  },
  {
   "cell_type": "code",
   "execution_count": 57,
   "metadata": {
    "collapsed": false,
    "scrolled": true
   },
   "outputs": [
    {
     "name": "stdout",
     "output_type": "stream",
     "text": [
      "Initial sites:  285250\n",
      "Final clean sites:  290018\n",
      "1 PMID 1 tissu:  272551\n",
      "1 PMID ++ tissue:  3625\n",
      "++ PMID 1 tissue:  4804\n",
      "++ PMID ++ tissue:  4270\n",
      "Filename:\t./DARNED/DARNED_human_hg19_inosine_cleaned.bed\n",
      "Total lines:\t290022\n",
      "\n",
      "0\t# DARNED database Human all sites hg19 coordinates\n",
      "1\t# Data cleaned, filtered for Inosine editing, standardized and converted to BED6 format\n",
      "2\t# Adrien Leger (aleg@ebi.ac.uk) - 2016-06-09 11:23:04.068087\n",
      "3\t# chrom\tchromstart\tchromend\tmodif|cell_type|method|PMID|loci\tscore\tstrand\n",
      "4\tchr4\t250721\t250721\tA>I|DIENCEPHALON|-|19478186|-\t0\t-\n",
      "5\tchr4\t475468\t475468\tA>I|THYMUS|-|15342557|ZNF721\t0\t-\n",
      "6\tchr4\t476348\t476348\tA>I|THYMUS|-|15342557|ZNF721\t0\t-\n",
      "7\tchr4\t476410\t476410\tA>I|THYMUS|-|15342557|ZNF721\t0\t-\n",
      "8\tchr4\t476414\t476414\tA>I|THYMUS|-|15342557|ZNF721\t0\t-\n",
      "9\tchr4\t476424\t476424\tA>I|THYMUS|-|15342557|ZNF721\t0\t-\n",
      "\n",
      "290017\tchrX\t3626805\t3626805\tA>I|LYMPHOBLASTOID_CELL|-|22484847|PRKX\t0\t-\n",
      "290018\tchrX\t3737454\t3737454\tA>I|LYMPHOBLASTOID_CELL|-|22484847|LOC389906\t0\t-\n",
      "290019\tchrX\t3737545\t3737545\tA>I|LYMPHOBLASTOID_CELL|-|22484847|LOC389906\t0\t-\n",
      "290020\tchrX\t3737714\t3737714\tA>I|LYMPHOBLASTOID_CELL|-|22484847|LOC389906\t0\t-\n",
      "290021\tchrX\t3737716\t3737716\tA>I|LYMPHOBLASTOID_CELL|-|22484847|LOC389906\t0\t-\n",
      "\n",
      "Found 10 colums\n",
      "First line found\n",
      "|0|chr1|chr2|chr3|chr12|chr7|chr5|chr6|chr4|chr8|chr19|...|\n",
      "|:---|:---|:---|:---|:---|:---|:---|:---|:---|:---|:---|:---|\n",
      "|Count|44648|30709|25074|24695|24563|18565|16848|14786|13917|12992|...|\n",
      "\n",
      "|1|100265393|142605978|142605971|100265391|100264626|142605889|142605887|53430927|53430922|53430916|...|\n",
      "|:---|:---|:---|:---|:---|:---|:---|:---|:---|:---|:---|:---|\n",
      "|Count|7|7|7|6|6|6|6|5|5|5|...|\n",
      "\n",
      "|2|100265393|142605978|142605971|100265391|100264626|142605889|142605887|53430927|53430922|53430916|...|\n",
      "|:---|:---|:---|:---|:---|:---|:---|:---|:---|:---|:---|:---|\n",
      "|Count|7|7|7|6|6|6|6|5|5|5|...|\n",
      "\n",
      "|3|A>I|\n",
      "|:---|:---|\n",
      "|Count|290018|\n",
      "\n",
      "|4|LYMPHOBLASTOID_CELL|LYMPHOBLASTOID_CELL_LINE|BREAST_CANCER|BRAIN|U87MG|CEREBELLUM|THYMUS|UTERUS|SPLEEN|AMYGDALA|...|\n",
      "|:---|:---|:---|:---|:---|:---|:---|:---|:---|:---|:---|:---|\n",
      "|Count|219647|20827|8292|7364|3238|2732|2372|2109|1856|1731|...|\n",
      "\n",
      "|5|-|\n",
      "|:---|:---|\n",
      "|Count|290018|\n",
      "\n",
      "|6|22484847|15342557|22327324|21960545|15258596|15545495|22028664|21725310|19478186|18684997|...|\n",
      "|:---|:---|:---|:---|:---|:---|:---|:---|:---|:---|:---|:---|\n",
      "|Count|219647|31500|20285|11165|3955|1646|885|450|412|41|...|\n",
      "\n",
      "|7|-|RBM6|RABGAP1L|RBM47|EIF4G3|GATAD2B|SPATS2|ASH1L|UBE2K|RERE|...|\n",
      "|:---|:---|:---|:---|:---|:---|:---|:---|:---|:---|:---|:---|\n",
      "|Count|42637|890|817|797|793|735|666|659|618|617|...|\n",
      "\n",
      "|8|0|\n",
      "|:---|:---|\n",
      "|Count|290018|\n",
      "\n",
      "|9|+|-|\n",
      "|:---|:---|:---|\n",
      "|Count|147164|142854|\n",
      "\n",
      "Filename:\t./DARNED/DARNED_human_hg19_inosine_unclean.bed\n",
      "Total lines:\t4274\n",
      "\n",
      "0\t# DARNED database Human all sites hg19 coordinates\n",
      "1\t# Data cleaned, filtered for Inosine editing, standardized and converted to BED6 format\n",
      "2\t# Adrien Leger (aleg@ebi.ac.uk) - 2016-06-09 11:23:04.068087\n",
      "3\t# chrom\tchromstart\tchromend\tmodif|cell_type|method|PMID|loci\tscore\tstrand\n",
      "4\tchr4\t491512\t491512\tA>I|WHOLE_EMBRYO,_MAINLY_HEAD|-|15342557,15258596|ZNF721\t0\t-\n",
      "5\tchr4\t491575\t491575\tA>I|WHOLE_EMBRYO,_MAINLY_HEAD|-|15342557,15258596|ZNF721\t0\t-\n",
      "6\tchr4\t491592\t491592\tA>I|WHOLE_EMBRYO,_MAINLY_HEAD|-|15342557,15258596|ZNF721\t0\t-\n",
      "7\tchr4\t491643\t491643\tA>I|WHOLE_EMBRYO,_MAINLY_HEAD|-|15342557,15258596|ZNF721\t0\t-\n",
      "8\tchr4\t491894\t491894\tA>I|WHOLE_EMBRYO,_MAINLY_HEAD|-|15342557,15258596|ZNF721\t0\t-\n",
      "9\tchr4\t491908\t491908\tA>I|WHOLE_EMBRYO,_MAINLY_HEAD|-|15342557,15258596|ZNF721\t0\t-\n",
      "\n",
      "4269\tchrX\t77083673\t77083673\tA>I|VENOUS_BLOOD,LYMPHOBLASTOID_CELL|-|21725310,22484847|MAGT1\t0\t-\n",
      "4270\tchrX\t77083915\t77083915\tA>I|VENOUS_BLOOD,LYMPHOBLASTOID_CELL|-|21725310,22484847|MAGT1\t0\t-\n",
      "4271\tchrX\t100354910\t100354910\tA>I|VENOUS_BLOOD,LYMPHOBLASTOID_CELL|-|21725310,22484847|CENPI\t0\t+\n",
      "4272\tchrX\t118672535\t118672535\tA>I|VENOUS_BLOOD,LYMPHOBLASTOID_CELL|-|21725310,22484847|CXorf56\t0\t-\n",
      "4273\tchrX\t123046865\t123046865\tA>I|VENOUS_BLOOD,LYMPHOBLASTOID_CELL|-|21725310,22484847|XIAP\t0\t+\n",
      "\n",
      "Found 10 colums\n",
      "First line found\n",
      "|0|chr19|chr1|chr17|chr2|chr7|chr12|chr8|chr3|chr6|chr16|...|\n",
      "|:---|:---|:---|:---|:---|:---|:---|:---|:---|:---|:---|:---|\n",
      "|Count|440|438|302|288|280|233|212|191|188|184|...|\n",
      "\n",
      "|1|30931810|41591342|128299306|37330614|54589730|19440290|55900533|39359707|39359055|47919605|...|\n",
      "|:---|:---|:---|:---|:---|:---|:---|:---|:---|:---|:---|:---|\n",
      "|Count|2|2|2|2|2|2|2|2|2|2|...|\n",
      "\n",
      "|2|30931810|41591342|128299306|37330614|54589730|19440290|55900533|39359707|39359055|47919605|...|\n",
      "|:---|:---|:---|:---|:---|:---|:---|:---|:---|:---|:---|:---|\n",
      "|Count|2|2|2|2|2|2|2|2|2|2|...|\n",
      "\n",
      "|3|A>I|\n",
      "|:---|:---|\n",
      "|Count|4270|\n",
      "\n",
      "|4|U87MG,LYMPHOBLASTOID_CELL_LINE|VENOUS_BLOOD,LYMPHOBLASTOID_CELL|BREAST_CANCER,LYMPHOBLASTOID_CELL_LINE|BRAIN,_HYPOTHALAMUS|BRAIN,_HIPPOCAMPUS|TONGUE,_TUMOR_TISSUE|BREAST_CANCER,U87MG,LYMPHOBLASTOID_CELL_LINE|BRAIN,LYMPHOBLASTOID_CELL_LINE|THYMUS,LYMPHOBLASTOID_CELL_LINE|SPLEEN,LYMPHOBLASTOID_CELL_LINE|...|\n",
      "|:---|:---|:---|:---|:---|:---|:---|:---|:---|:---|:---|:---|\n",
      "|Count|603|506|481|270|245|101|84|70|57|50|...|\n",
      "\n",
      "|5|-|\n",
      "|:---|:---|\n",
      "|Count|4270|\n",
      "\n",
      "|6|15342557,15258596|21960545,22327324|21725310,22484847|15342557,22327324|15342557,15258596,22327324|15342557,21960545|15342557,15258596,21960545|15342557,21960545,22327324|15258596,21960545,22327324|15342557,15258596,21960545,22327324|...|\n",
      "|:---|:---|:---|:---|:---|:---|:---|:---|:---|:---|:---|:---|\n",
      "|Count|1174|1028|506|434|236|194|122|98|93|69|...|\n",
      "\n",
      "|7|-|MAVS|GINS4|POLH|COQ4|NUP43|CTSS|MRI1|APOL6|SGK494|...|\n",
      "|:---|:---|:---|:---|:---|:---|:---|:---|:---|:---|:---|:---|\n",
      "|Count|789|42|35|32|30|30|30|27|24|23|...|\n",
      "\n",
      "|8|0|\n",
      "|:---|:---|\n",
      "|Count|4270|\n",
      "\n",
      "|9|+|-|\n",
      "|:---|:---|:---|\n",
      "|Count|2243|2027|\n",
      "\n"
     ]
    }
   ],
   "source": [
    "infile = \"./PTM_Original_Datasets/DARNED_human_hg19_inosine.bed\"\n",
    "outclean = \"./PTM_Original_Datasets/DARNED_human_hg19_inosine_cleaned.bed\"\n",
    "outunclean = \"./PTM_Original_Datasets/DARNED_human_hg19_inosine_unclean.bed\"\n",
    "\n",
    "with open(infile, \"r\") as inf, open(outclean, \"w\") as outf_clean, open(outunclean, \"w\") as outf_unclean:\n",
    "    \n",
    "    init_sites = uniq = several_tissue = several_pmid = several_all = final_sites = 0  \n",
    "    \n",
    "    for line in inf:\n",
    "        if line [0] == \"#\":\n",
    "            outf_clean.write(line)\n",
    "            outf_unclean.write(line)\n",
    "        else:\n",
    "            init_sites += 1\n",
    "            ls = supersplit(line, [\"\\t\",\"|\"])\n",
    "            tissue_list = ls[4].split(\",\")\n",
    "            PMID_list = ls[6].split(\",\")\n",
    "            n_tissue = len(tissue_list)\n",
    "            n_PMID = len(PMID_list)\n",
    "            \n",
    "            if n_tissue == 1:\n",
    "                \n",
    "                # 1 PMID, 1 tissue = no problem\n",
    "                if n_PMID == 1:\n",
    "                    uniq += 1\n",
    "                    final_sites += 1\n",
    "                    outf_clean.write(line)\n",
    "                \n",
    "                # Several PMID, 1 tissue = demultiplex PMID lines\n",
    "                else:\n",
    "                    several_pmid += 1\n",
    "                    for PMID in PMID_list:\n",
    "                        final_sites += 1\n",
    "                        outf_clean.write(\"{0}\\t{1}\\t{2}\\t{3}|{4}|{5}|{6}|{7}\\t{8}\\t{9}\".format(\n",
    "                            ls[0],ls[1],ls[2],ls[3],ls[4],ls[5],PMID.strip(),ls[7],ls[8],ls[9]))\n",
    "            else:\n",
    "                \n",
    "                # 1 PMID, several tissues = demultiplex tissues lines\n",
    "                if n_PMID == 1:\n",
    "                    several_tissue += 1\n",
    "                    for tissue in tissue_list:\n",
    "                        final_sites += 1\n",
    "                        outf_clean.write(\"{0}\\t{1}\\t{2}\\t{3}|{4}|{5}|{6}|{7}\\t{8}\\t{9}\".format(\n",
    "                            ls[0],ls[1],ls[2],ls[3],tissue.strip().strip(\"_\").strip(\".\"),ls[5],ls[6],ls[7],ls[8],ls[9]))\n",
    "                \n",
    "                # Several PMID, several tissues = extract the line in uncleanable datasets\n",
    "                else:\n",
    "                    several_all += 1\n",
    "                    outf_unclean.write(line)\n",
    "\n",
    "print(\"Initial sites: \", init_sites)\n",
    "print(\"Final clean sites: \", final_sites)\n",
    "print(\"1 PMID 1 tissu: \", uniq)\n",
    "print(\"1 PMID ++ tissue: \", several_tissue)\n",
    "print(\"++ PMID 1 tissue: \", several_pmid)\n",
    "print(\"++ PMID ++ tissue: \", several_all)\n",
    "\n",
    "file_summary(outclean)\n",
    "file_summary(outunclean)"
   ]
  },
  {
   "cell_type": "markdown",
   "metadata": {},
   "source": [
    "**I only lost 4270 sites with several PMID and several tissue. Some sites where demultiplexed and I now have 290018 sites with 1 PMID and 1 tissue**"
   ]
  },
  {
   "cell_type": "markdown",
   "metadata": {},
   "source": [
    "### Convert DARNED coordinates from hg19 to hg39 with Crossmap\n",
    "\n",
    "**Coordinate conversion using CrossMap and a hg19 tp hg38 chain file in BASH**"
   ]
  },
  {
   "cell_type": "code",
   "execution_count": 58,
   "metadata": {
    "collapsed": false,
    "scrolled": true
   },
   "outputs": [
    {
     "name": "stdout",
     "output_type": "stream",
     "text": [
      "\n",
      "@ 2016-06-09 11:27:48: Read chain_file:  ../LiftOver_chain_files/hg19ToHg38.over.chain.gz\n",
      "\n",
      "Filename:\t./DARNED/DARNED_human_hg38_inosine_cleaned.bed\n",
      "Total lines:\t290002\n",
      "\n",
      "0\t# DARNED database Human all sites hg38 coordinates\n",
      "1\t# Data cleaned, filtered for Inosine editing, standardized, converted to BED6 format and updated to hg38 coordinates\n",
      "2\t# Adrien Leger (aleg@ebi.ac.uk) - 2016-06-09 11:27:51.339572\n",
      "3\t# chrom\tchromstart\tchromend\tmodif|cell_type|method|PMID|loci\tscore\tstrand\n",
      "4\tchr4\t256932\t256932\tA>I|DIENCEPHALON|-|19478186|-\t0\t-\n",
      "5\tchr4\t481679\t481679\tA>I|THYMUS|-|15342557|ZNF721\t0\t-\n",
      "6\tchr4\t482559\t482559\tA>I|THYMUS|-|15342557|ZNF721\t0\t-\n",
      "7\tchr4\t482621\t482621\tA>I|THYMUS|-|15342557|ZNF721\t0\t-\n",
      "8\tchr4\t482625\t482625\tA>I|THYMUS|-|15342557|ZNF721\t0\t-\n",
      "9\tchr4\t482635\t482635\tA>I|THYMUS|-|15342557|ZNF721\t0\t-\n",
      "\n",
      "289997\tchrX\t3708764\t3708764\tA>I|LYMPHOBLASTOID_CELL|-|22484847|PRKX\t0\t-\n",
      "289998\tchrX\t3819413\t3819413\tA>I|LYMPHOBLASTOID_CELL|-|22484847|LOC389906\t0\t-\n",
      "289999\tchrX\t3819504\t3819504\tA>I|LYMPHOBLASTOID_CELL|-|22484847|LOC389906\t0\t-\n",
      "290000\tchrX\t3819673\t3819673\tA>I|LYMPHOBLASTOID_CELL|-|22484847|LOC389906\t0\t-\n",
      "290001\tchrX\t3819675\t3819675\tA>I|LYMPHOBLASTOID_CELL|-|22484847|LOC389906\t0\t-\n",
      "\n",
      "Found 10 colums\n",
      "First line found\n",
      "|0|chr1|chr2|chr3|chr12|chr7|chr5|chr6|chr4|chr8|chr19|...|\n",
      "|:---|:---|:---|:---|:---|:---|:---|:---|:---|:---|:---|:---|\n",
      "|Count|44646|30709|25074|24695|24554|18565|16848|14783|13916|12991|...|\n",
      "\n",
      "|1|101010404|143226413|143226406|101010402|101009637|143226324|143226322|52927674|52927669|52927663|...|\n",
      "|:---|:---|:---|:---|:---|:---|:---|:---|:---|:---|:---|:---|\n",
      "|Count|7|7|7|6|6|6|6|5|5|5|...|\n",
      "\n",
      "|2|101010404|143226413|143226406|101010402|101009637|143226324|143226322|52927674|52927669|52927663|...|\n",
      "|:---|:---|:---|:---|:---|:---|:---|:---|:---|:---|:---|:---|\n",
      "|Count|7|7|7|6|6|6|6|5|5|5|...|\n",
      "\n",
      "|3|A>I|\n",
      "|:---|:---|\n",
      "|Count|289998|\n",
      "\n",
      "|4|LYMPHOBLASTOID_CELL|LYMPHOBLASTOID_CELL_LINE|BREAST_CANCER|BRAIN|U87MG|CEREBELLUM|THYMUS|UTERUS|SPLEEN|AMYGDALA|...|\n",
      "|:---|:---|:---|:---|:---|:---|:---|:---|:---|:---|:---|:---|\n",
      "|Count|219641|20827|8291|7364|3238|2732|2371|2109|1856|1729|...|\n",
      "\n",
      "|5|-|\n",
      "|:---|:---|\n",
      "|Count|289998|\n",
      "\n",
      "|6|22484847|15342557|22327324|21960545|15258596|15545495|22028664|21725310|19478186|18684997|...|\n",
      "|:---|:---|:---|:---|:---|:---|:---|:---|:---|:---|:---|:---|\n",
      "|Count|219641|31489|20285|11164|3954|1646|885|449|412|41|...|\n",
      "\n",
      "|7|-|RBM6|RABGAP1L|RBM47|EIF4G3|GATAD2B|SPATS2|ASH1L|UBE2K|RERE|...|\n",
      "|:---|:---|:---|:---|:---|:---|:---|:---|:---|:---|:---|:---|\n",
      "|Count|42623|890|817|797|793|735|666|659|618|617|...|\n",
      "\n",
      "|8|0|\n",
      "|:---|:---|\n",
      "|Count|289998|\n",
      "\n",
      "|9|+|-|\n",
      "|:---|:---|:---|\n",
      "|Count|146981|143017|\n",
      "\n"
     ]
    }
   ],
   "source": [
    "# Conversion to hg38 with Crossmap/liftover\n",
    "lifover_chainfile = \"../LiftOver_chain_files/hg19ToHg38.over.chain.gz\"\n",
    "input_bed = \"./PTM_Original_Datasets/DARNED_human_hg19_inosine_cleaned.bed\"\n",
    "temp_bed = \"./PTM_Original_Datasets/DARNED_human_hg38_inosine_temp.bed\"\n",
    "\n",
    "cmd = \"CrossMap.py bed {} {} {}\".format(lifover_chainfile, input_bed, temp_bed)  \n",
    "bash(cmd)\n",
    "\n",
    "# Rewriting and updating of the header removed by Crossmap\n",
    "final_bed = \"./PTM_Original_Datasets/DARNED_human_hg38_inosine_cleaned.bed\"\n",
    "\n",
    "header = \"# DARNED database Human all sites hg38 coordinates\\n\"\n",
    "header+= \"# Data cleaned, filtered for Inosine editing, standardized, converted to BED6 format and updated to hg38 coordinates\\n\"\n",
    "header+= \"# Adrien Leger (aleg@ebi.ac.uk) - {}\\n\".format(str (datetime.datetime.today()))\n",
    "header+= \"# chrom\tchromstart\tchromend\tmodif|cell_type|method|PMID|loci\tscore\tstrand\\n\"\n",
    "\n",
    "with open (temp_bed, \"r\") as infile, open (final_bed, \"w\") as outfile:\n",
    "    outfile.write (header)\n",
    "    for line in infile:\n",
    "        outfile.write (line)\n",
    "\n",
    "file_summary(final_bed)"
   ]
  },
  {
   "cell_type": "markdown",
   "metadata": {},
   "source": [
    "**The conversion resulted in the lost of 16 sites, which is neglectable compared with the 290002 sites in the database**"
   ]
  },
  {
   "cell_type": "markdown",
   "metadata": {},
   "source": [
    "---\n",
    "## RADAR\n",
    "\n",
    "### Reformat RADAR Database"
   ]
  },
  {
   "cell_type": "markdown",
   "metadata": {},
   "source": [
    "**The file dowloaded from DARNED is not a bed file. I need to modify it to comply with the standard format. The format of the mane file *Human_AG_all_hg19_v2.txt* is the following: **"
   ]
  },
  {
   "cell_type": "code",
   "execution_count": 45,
   "metadata": {
    "collapsed": false,
    "scrolled": true
   },
   "outputs": [
    {
     "name": "stdout",
     "output_type": "stream",
     "text": [
      "Filename:\t./RADAR/RADAR_human_hg19_v2_primary.txt\n",
      "Total lines:\t2576460\n",
      "\n",
      "0\t#chromosome\tposition\tgene\tstrand\tannot1\tannot2\talu?\tnon_alu_repetitive?\tconservation_chimp\tconservation_rhesus\tconservation_mouse\n",
      "1\tchr1\t206256301\tC1orf186\t-\tintronic\tintronic\tno\tno\tN\tN\tN\n",
      "2\tchr6\t116991832\tintergenic\t-\tintergenic\tintergenic\tno\tno\tN\tN\tN\n",
      "3\tchr7\t30504355\tNOD1\t-\tintronic\tintronic\tno\tno\tN\tN\tN\n",
      "4\tchr1\t85127959\tSSX2IP\t-\tSyn\tGln->Gln\tno\tno\tN\tN\tN\n",
      "5\tchr15\t100203261\tMEF2A\t+\tintronic\tintronic\tno\tno\tN\tN\tN\n",
      "6\tchr6\t102372915\tGRIK2\t+\tintronic\tintronic\tno\tno\tN\tN\tN\n",
      "7\tchr9\t135788925\tTSC1\t-\tintronic\tintronic\tno\tno\tN\tN\tN\n",
      "8\tchr17\t74414054\tUBE2O\t-\tintronic\tintronic\tno\tno\tN\tN\tN\n",
      "9\tchr15\t73069310\tADPGK\t-\tintronic\tintronic\tno\tno\tN\tN\tN\n",
      "\n",
      "2576455\tchr1\t92591586\tintergenic\t-\tintergenic\tintergenic\tno\tno\tN\tN\tN\n",
      "2576456\tchr1\t92591608\tintergenic\t-\tintergenic\tintergenic\tno\tno\tN\tN\tN\n",
      "2576457\tchr1\t92591631\tintergenic\t-\tintergenic\tintergenic\tno\tno\tN\tN\tN\n",
      "2576458\tchr1\t92591653\tintergenic\t-\tintergenic\tintergenic\tno\tno\tN\tN\tN\n",
      "2576459\tchr1\t92591655\tintergenic\t-\tintergenic\tintergenic\tno\tno\tN\tN\tN\n",
      "\n",
      "Found 11 colums\n",
      "First line found\n",
      "|0|chr1|chr19|chr2|chr17|chr12|chr7|chr3|chr16|chr11|chr10|...|\n",
      "|:---|:---|:---|:---|:---|:---|:---|:---|:---|:---|:---|:---|\n",
      "|Count|252016|199959|175788|174174|146931|145354|142732|127960|114020|113928|...|\n",
      "\n",
      "|1|42831806|30049042|50790316|44475661|4235199|41373938|67126414|58306614|40511124|33025396|...|\n",
      "|:---|:---|:---|:---|:---|:---|:---|:---|:---|:---|:---|:---|\n",
      "|Count|3|3|3|3|3|3|3|3|3|3|...|\n",
      "\n",
      "|2|intergenic|EIF4G3|FNBP1|ASH1L|RBM6|PITPNC1|BMPR2|UBE2D2|RBFOX1|SSH2|...|\n",
      "|:---|:---|:---|:---|:---|:---|:---|:---|:---|:---|:---|:---|\n",
      "|Count|516714|2407|2329|2324|2281|2267|2190|2122|2078|2070|...|\n",
      "\n",
      "|3|+|-|\n",
      "|:---|:---|:---|\n",
      "|Count|1317488|1258971|\n",
      "\n",
      "|4|intronic|intergenic|3UTR|ncRNA|5UTR|Nonsyn|Syn|\n",
      "|:---|:---|:---|:---|:---|:---|:---|:---|\n",
      "|Count|1936801|516714|85169|26595|6775|3036|1369|\n",
      "\n",
      "|5|intronic|intergenic|3UTR|ncRNA|5UTR|Ser->Gly|Lys->Arg|Thr->Ala|Gln->Arg|Lys->Glu|...|\n",
      "|:---|:---|:---|:---|:---|:---|:---|:---|:---|:---|:---|:---|\n",
      "|Count|1936801|516714|85169|26595|6775|352|334|329|308|251|...|\n",
      "\n",
      "|6|yes|no|\n",
      "|:---|:---|:---|\n",
      "|Count|2461955|114504|\n",
      "\n",
      "|7|no|yes|\n",
      "|:---|:---|:---|\n",
      "|Count|2514573|61886|\n",
      "\n",
      "|8|N|chr10:103286552|chr2b:164625417|chr16:69147108|chr14:52012530|chr2a:113447991|chr17:49960115|chr19:1909581|chr11:122596489|chr11:74768561|...|\n",
      "|:---|:---|:---|:---|:---|:---|:---|:---|:---|:---|:---|:---|\n",
      "|Count|2559579|1|1|1|1|1|1|1|1|1|...|\n",
      "\n",
      "|9|N|chr13:37093053|chr9:15399446|chr2:33731045|chr13:111889329|chr16:35202767|chr19:1700969|chr14:121990938|chr11:94627674|chr1:165876512|...|\n",
      "|:---|:---|:---|:---|:---|:---|:---|:---|:---|:---|:---|:---|\n",
      "|Count|2568511|1|1|1|1|1|1|1|1|1|...|\n",
      "\n",
      "|10|N|chr15:3230063|chr14:8769692|chr14:8769662|chr14:8769652|chr14:8769608|chr18:24123733|chr18:24123481|chr18:24123472|chr18:24123361|...|\n",
      "|:---|:---|:---|:---|:---|:---|:---|:---|:---|:---|:---|:---|\n",
      "|Count|2576372|1|1|1|1|1|1|1|1|1|...|\n",
      "\n"
     ]
    }
   ],
   "source": [
    "file_summary(\"./PTM_Original_Datasets/RADAR_human_hg19_v2_primary.txt\", separator=[\"\\t\"])"
   ]
  },
  {
   "cell_type": "markdown",
   "metadata": {},
   "source": [
    "**I am not interested by the conservation fields, the annotation and the repetitive nature, but I will keep chromosome, position, gene and strand.**\n",
    "**Additional information is also available in a secondary database file that I found hidden on RADAR website. The information includes the original publication and the source of the biological sample. The information is only available for around half of the sites from 4 publications. I will only retain these richly annotated sites. The same sites can have bmultiple entries in the secondary file since I could have been reported by several papers in several tissues. I will keep a line for each independantly discovered site. The coverage and editing level could be interesting to save too.**"
   ]
  },
  {
   "cell_type": "code",
   "execution_count": 46,
   "metadata": {
    "collapsed": false,
    "scrolled": true
   },
   "outputs": [
    {
     "name": "stdout",
     "output_type": "stream",
     "text": [
      "Filename:\t./RADAR/RADAR_human_hg19_v2_secondary.txt\n",
      "Total lines:\t1343465\n",
      "\n",
      "0\t#location\treference\ttissue\tcoverage\tediting_level(%)\n",
      "1\tchr1:1037916\tPeng et al 2012\tLymphoblastoid cell line\t9\t66.67\n",
      "2\tchr1:1156882\tPeng et al 2012\tLymphoblastoid cell line\t42\t36.59\n",
      "3\tchr1:1157460\tPeng et al 2012\tLymphoblastoid cell line\t66\t22.73\n",
      "4\tchr1:1252441\tPeng et al 2012\tLymphoblastoid cell line\t11\t72.73\n",
      "5\tchr1:1252443\tPeng et al 2012\tLymphoblastoid cell line\t11\t45.45\n",
      "6\tchr1:1253357\tPeng et al 2012\tLymphoblastoid cell line\t31\t32.26\n",
      "7\tchr1:1253944\tPeng et al 2012\tLymphoblastoid cell line\t28\t46.43\n",
      "8\tchr1:1418532\tPeng et al 2012\tLymphoblastoid cell line\t5\t60.00\n",
      "9\tchr1:1419773\tPeng et al 2012\tLymphoblastoid cell line\t10\t60.00\n",
      "\n",
      "1343460\tchrX:119056591\tBahn et al 2012\tU87 cell line\t5\t60\n",
      "1343461\tchrX:123047295\tBahn et al 2012\tU87 cell line\t17\t71\n",
      "1343462\tchrX:135300016\tBahn et al 2012\tU87 cell line\t9\t55\n",
      "1343463\tchrX:153702725\tBahn et al 2012\tU87 cell line\t15\t33\n",
      "1343464\tchrX:153702725\tBahn et al 2012\tU87 cell line\t15\t33\n",
      "\n",
      "Found 5 colums\n",
      "First line found\n",
      "|0|chrX:73417059|chrX:73417042|chrX:73416986|chrX:73416963|chr7:130629624|chr7:128299306|chr7:128101135|chr7:66180775|chr7:66174750|chr7:38763241|...|\n",
      "|:---|:---|:---|:---|:---|:---|:---|:---|:---|:---|:---|:---|\n",
      "|Count|6|6|6|6|6|6|6|6|6|6|...|\n",
      "\n",
      "|1|Ramaswami et al 2013|Ramaswami et al 2012|Peng et al 2012|Bahn et al 2012|\n",
      "|:---|:---|:---|:---|:---|\n",
      "|Count|813960|504251|21111|4142|\n",
      "\n",
      "|2|Lymphoblastoid cell line|Brain|Illumina Bodymap|U87 cell line|\n",
      "|:---|:---|:---|:---|:---|\n",
      "|Count|689264|417104|232954|4142|\n",
      "\n",
      "|3|4|3|5|2|6|1|7|8|9|10|...|\n",
      "|:---|:---|:---|:---|:---|:---|:---|:---|:---|:---|:---|:---|\n",
      "|Count|83140|80917|80548|77752|74430|71549|67965|61546|55401|49506|...|\n",
      "\n",
      "|4|100|50|33.3|66.7|25|40|20|28.6|16.7|22.2|...|\n",
      "|:---|:---|:---|:---|:---|:---|:---|:---|:---|:---|:---|:---|\n",
      "|Count|147889|107934|79376|62334|60977|53316|44422|40080|32439|29548|...|\n",
      "\n"
     ]
    }
   ],
   "source": [
    "file_summary(\"./PTM_Original_Datasets/RADAR_human_hg19_v2_secondary.txt\")"
   ]
  },
  {
   "cell_type": "markdown",
   "metadata": {
    "collapsed": true
   },
   "source": [
    "**The operation is quite complex since I will have to fuse the 2 files and extract only specific values. I need to code a specific parser. The main RADAR file will be parsed and organised as a simple embed dict. The secondary file will be the more important since I will start parsing from it to find the complementary information in the main database file. Each site will be added to a list of Site objects, that will be subsequently iterated to combine with the main database before writing in a new Bed formated file.**"
   ]
  },
  {
   "cell_type": "code",
   "execution_count": 108,
   "metadata": {
    "collapsed": false,
    "scrolled": false
   },
   "outputs": [],
   "source": [
    "# Create a structured dict of dict to parse the main database file\n",
    "from collections import OrderedDict\n",
    "\n",
    "def parse_RADAR_main (file):\n",
    "    \n",
    "    # Define the top level access dict\n",
    "    radar_dict = OrderedDict() \n",
    "    \n",
    "    for line in open (file, \"r\"):\n",
    "        if line[0] != \"#\":\n",
    "            \n",
    "            sl = line.split(\"\\t\")\n",
    "\n",
    "            assert len(sl) == 11      \n",
    "            chromosome, position, gene, strand = sl[0].strip(), int(sl[1].strip()), sl[2].strip(), sl[3].strip()\n",
    "\n",
    "            if chromosome not in radar_dict:\n",
    "                radar_dict[chromosome] = OrderedDict()\n",
    "\n",
    "            # There should be only one line per position\n",
    "            assert position not in radar_dict[chromosome]\n",
    "            radar_dict[chromosome][position] = {\"gene\":gene,\"strand\":strand}\n",
    "    \n",
    "    return radar_dict\n",
    "        "
   ]
  },
  {
   "cell_type": "code",
   "execution_count": 109,
   "metadata": {
    "collapsed": true,
    "scrolled": false
   },
   "outputs": [],
   "source": [
    "# Create a class to store a line of the additional file.\n",
    "\n",
    "from collections import OrderedDict\n",
    "\n",
    "class Site (object):\n",
    "    \n",
    "    #~~~~~~~CLASS FIELDS~~~~~~~#\n",
    "    # Table of correspondance reference => PMID\n",
    "    TITLE_TO_PMID = {\n",
    "        \"Peng et al 2012\":\"22327324\",\n",
    "        \"Bahn et al 2012\":\"21960545\",\n",
    "        \"Ramaswami et al 2012\":\"22484847\",\n",
    "        \"Ramaswami et al 2013\":\"23291724\",\n",
    "        }\n",
    "    \n",
    "    # Table of correspondance reference => PMID\n",
    "    TISSUE_TO_SAMPLE = {\n",
    "        \"Brain\":\"Brain\",\n",
    "        \"Illumina Bodymap\":\"Illumina_Bodymap\",\n",
    "        \"Lymphoblastoid cell line\":\"YH\",\n",
    "        \"U87 cell line\":\"U87MG\"\n",
    "        }\n",
    "\n",
    "    #~~~~~~~FONDAMENTAL METHODS~~~~~~~#\n",
    "    # Parse a line of the aditional information file\n",
    "    def __init__(self, line, ):\n",
    "        sl = line.strip().split(\"\\t\")\n",
    "        \n",
    "        self.chromosome = sl[0].split(\":\")[0].strip()\n",
    "        self.position = int(sl[0].split(\":\")[1].strip())\n",
    "        self.PMID = self.TITLE_TO_PMID[sl[1].strip()]\n",
    "        self.tissue = self.TISSUE_TO_SAMPLE[sl[2].strip()]\n",
    "        self.coverage = sl[3].strip()\n",
    "        self.editing_level = sl[4].strip()\n",
    "    \n",
    "    # Fundamental class methods str and repr\n",
    "    def __repr__(self):\n",
    "        msg = \"SITE CLASS\\n\"\n",
    "        # list all values in object dict in alphabetical order\n",
    "        keylist = [key for key in self.__dict__.keys()]\n",
    "        keylist.sort()\n",
    "        for key in keylist:\n",
    "            msg+=\"\\t{}\\t{}\\n\".format(key, self.__dict__[key])\n",
    "        return (msg)\n",
    "\n",
    "    def __str__(self):\n",
    "        return self.__repr__()"
   ]
  },
  {
   "cell_type": "code",
   "execution_count": 110,
   "metadata": {
    "collapsed": false,
    "scrolled": true
   },
   "outputs": [
    {
     "name": "stdout",
     "output_type": "stream",
     "text": [
      "SITE CLASS\n",
      "\tPMID\t22327324\n",
      "\tchromosome\tchr1\n",
      "\tcoverage\t9\n",
      "\tediting_level\t66.67\n",
      "\tposition\t1037916\n",
      "\ttissue\tYH\n",
      "\n"
     ]
    }
   ],
   "source": [
    "a = Site(\"chr1:1037916\tPeng et al 2012\tLymphoblastoid cell line\t9\t66.67\")\n",
    "print (a)"
   ]
  },
  {
   "cell_type": "code",
   "execution_count": 111,
   "metadata": {
    "collapsed": true,
    "scrolled": false
   },
   "outputs": [],
   "source": [
    "# Create a structured dict of dict to parse the secondary database file\n",
    "def parse_RADAR_secondary (file):\n",
    "    \n",
    "    # Define a list to store Site object (not a dict because of redundancy)\n",
    "    radar_list = []\n",
    "    \n",
    "    for line in open (file, \"r\"):\n",
    "        if line[0] != \"#\":\n",
    "            radar_list.append(Site(line))\n",
    "    \n",
    "    # return a list sorted by chromosome and positions\n",
    "    return sorted(radar_list, key=lambda Site: (Site.chromosome, Site.position))"
   ]
  },
  {
   "cell_type": "markdown",
   "metadata": {},
   "source": [
    "**Read the original file, reformat the field and write a new file BED6 compliant.**\n",
    "\n",
    "    chrom\tchromstart\tchromend\tname\tscore\torient\n",
    "    chr4\t774138\t774138\tA>I|LOC100129917|LUNG:LYMPHOBLASTOID_CELL_LINE|15342557:15258596:22327324\t0\t-"
   ]
  },
  {
   "cell_type": "code",
   "execution_count": 112,
   "metadata": {
    "collapsed": false,
    "scrolled": false
   },
   "outputs": [],
   "source": [
    "# chrom\tchromstart\tchromend\tmodif|cell_type|method|PMID|loci\tscore\tstrand\\n\"\n",
    "\n",
    "\n",
    "def reformat_RADAR (main_file, secondary_file, outfile, errfile, header):\n",
    "\n",
    "    # Read and structure the 2 database files\n",
    "    print(\"Parse the main database file\")\n",
    "    main = parse_RADAR_main(main_file)\n",
    "\n",
    "    print(\"Parse the secondary database file\")\n",
    "    secondary = parse_RADAR_secondary (secondary_file)\n",
    "\n",
    "    print(\"Combine the data together in a new bed formated file\")\n",
    "    with open (outfile, \"w+\") as csvout, open (errfile, \"w+\") as errout:\n",
    "        \n",
    "        # rewrite header\n",
    "        csvout.write(header)\n",
    "\n",
    "        fail = success = 0\n",
    "        for total, site in enumerate(secondary):\n",
    "\n",
    "            try:\n",
    "                line = \"{0}\\t{1}\\t{1}\\t{2}|{3}|{4}|{5}|{6}\\t{7}\\t{8}\\n\".format(\n",
    "                    site.chromosome,\n",
    "                    site.position,\n",
    "                    \"A>I\",\n",
    "                    site.tissue,\n",
    "                    \"-\",\n",
    "                    site.PMID,\n",
    "                    main[site.chromosome][site.position][\"gene\"],\n",
    "                    site.editing_level,\n",
    "                    main[site.chromosome][site.position][\"strand\"],\n",
    "                )\n",
    "                csvout.write(line)\n",
    "                success += 1\n",
    "\n",
    "            except KeyError as E:\n",
    "                line = \"{0}\\t{1}\\t{2}\\t{3}\\t{4}\\n\".format(\n",
    "                    site.chromosome,\n",
    "                    site.position,\n",
    "                    site.tissue,\n",
    "                    site.PMID,\n",
    "                    site.editing_level\n",
    "                )\n",
    "                errout.write(line)\n",
    "                fail += 1       \n",
    "\n",
    "    print (\"{} Sites processed\\t{} Sites pass\\t{} Sites fail\".format(total, success, fail))"
   ]
  },
  {
   "cell_type": "code",
   "execution_count": 113,
   "metadata": {
    "collapsed": false,
    "scrolled": true
   },
   "outputs": [
    {
     "name": "stdout",
     "output_type": "stream",
     "text": [
      "Parse the main database file\n",
      "Parse the secondary database file\n",
      "Combine the data together in a new bed formated file\n",
      "1343463 Sites processed\t1342423 Sites pass\t1041 Sites fail\n",
      "Filename:\t./RADAR/RADAR_Human_hg19_inosine_cleaned.bed\n",
      "Total lines:\t1342427\n",
      "\n",
      "0\t# RADAR database Human v2 all sites hg19 coordinates\n",
      "1\t# Data cleaned, standardized and converted to BED6 format\n",
      "2\t# Adrien Leger (aleg@ebi.ac.uk) - 2016-06-09 12:08:57.833547\n",
      "3\t# chrom\tchromstart\tchromend\tmodif|cell_type|method|PMID|loci\tscore\tstrand\n",
      "4\tchr1\t651206\t651206\tA>I|YH|-|22484847|RP5-857K21.4\t40\t-\n",
      "5\tchr1\t666265\t666265\tA>I|YH|-|22484847|uc009vjm.2\t16.7\t-\n",
      "6\tchr1\t666266\t666266\tA>I|YH|-|22484847|uc009vjm.2\t16.7\t-\n",
      "7\tchr1\t676236\t676236\tA>I|YH|-|22484847|uc002khh.2\t19.4\t-\n",
      "8\tchr1\t676236\t676236\tA>I|YH|-|23291724|uc002khh.2\t13\t-\n",
      "9\tchr1\t676236\t676236\tA>I|Brain|-|23291724|uc002khh.2\t15\t-\n",
      "\n",
      "1342422\tchrY\t23457758\t23457758\tA>I|YH|-|22484847|intergenic\t18.8\t-\n",
      "1342423\tchrY\t23475581\t23475581\tA>I|YH|-|22484847|intergenic\t50\t+\n",
      "1342424\tchrY\t23475599\t23475599\tA>I|YH|-|22484847|intergenic\t50\t+\n",
      "1342425\tchrY\t23476318\t23476318\tA>I|YH|-|22484847|intergenic\t66.7\t+\n",
      "1342426\tchrY\t23476344\t23476344\tA>I|YH|-|22484847|intergenic\t100\t+\n",
      "\n",
      "Found 10 colums\n",
      "First line found\n",
      "|0|chr1|chr19|chr17|chr2|chr7|chr3|chr12|chr16|chr11|chr10|...|\n",
      "|:---|:---|:---|:---|:---|:---|:---|:---|:---|:---|:---|:---|\n",
      "|Count|134437|105431|93850|93622|78261|76421|76398|63190|61568|58856|...|\n",
      "\n",
      "|1|35822000|684433|50850813|69689663|45644567|86382114|32828603|89857376|31134287|43711294|...|\n",
      "|:---|:---|:---|:---|:---|:---|:---|:---|:---|:---|:---|:---|\n",
      "|Count|8|8|8|8|7|7|7|7|7|7|...|\n",
      "\n",
      "|2|35822000|684433|50850813|69689663|45644567|86382114|32828603|89857376|31134287|43711294|...|\n",
      "|:---|:---|:---|:---|:---|:---|:---|:---|:---|:---|:---|:---|\n",
      "|Count|8|8|8|8|7|7|7|7|7|7|...|\n",
      "\n",
      "|3|A>I|\n",
      "|:---|:---|\n",
      "|Count|1342423|\n",
      "\n",
      "|4|YH|Brain|Illumina_Bodymap|U87MG|\n",
      "|:---|:---|:---|:---|:---|\n",
      "|Count|688679|416924|232846|3974|\n",
      "\n",
      "|5|-|\n",
      "|:---|:---|\n",
      "|Count|1342423|\n",
      "\n",
      "|6|23291724|22484847|22327324|21960545|\n",
      "|:---|:---|:---|:---|:---|\n",
      "|Count|813604|503965|20880|3974|\n",
      "\n",
      "|7|intergenic|RBM6|FNBP1|EIF4G3|UBE2D2|uc003tvf.2|uc001sns.2|ASH1L|C11orf80|BMPR2|...|\n",
      "|:---|:---|:---|:---|:---|:---|:---|:---|:---|:---|:---|:---|\n",
      "|Count|65861|1891|1884|1731|1667|1614|1592|1488|1463|1429|...|\n",
      "\n",
      "|8|100|50|33.3|66.7|25|40|20|28.6|16.7|22.2|...|\n",
      "|:---|:---|:---|:---|:---|:---|:---|:---|:---|:---|:---|:---|\n",
      "|Count|147788|107871|79336|62303|60939|53270|44407|40063|32424|29536|...|\n",
      "\n",
      "|9|+|-|\n",
      "|:---|:---|:---|\n",
      "|Count|689923|652500|\n",
      "\n"
     ]
    }
   ],
   "source": [
    "header = \"# RADAR database Human v2 all sites hg19 coordinates\\n\"\n",
    "header+= \"# Data cleaned, standardized and converted to BED6 format\\n\"\n",
    "header+= \"# Adrien Leger (aleg@ebi.ac.uk) - {}\\n\".format(str (datetime.datetime.today()))\n",
    "header+= \"# chrom\tchromstart\tchromend\tmodif|cell_type|method|PMID|loci\tscore\tstrand\\n\"\n",
    "\n",
    "reformat_RADAR(\n",
    "    main_file = \"./PTM_Original_Datasets/RADAR_human_hg19_v2_primary.txt\",\n",
    "    secondary_file = \"./PTM_Original_Datasets/RADAR_human_hg19_v2_secondary.txt\",\n",
    "    outfile = \"./PTM_Original_Datasets/RADAR_Human_hg19_inosine_cleaned.bed\",\n",
    "    errfile = \"./PTM_Original_Datasets/RADAR_Human_hg19_inosine_orphan.bed\",\n",
    "    header = header)\n",
    "\n",
    "file_summary(\"./PTM_Original_Datasets/RADAR_Human_hg19_inosine_cleaned.bed\")"
   ]
  },
  {
   "cell_type": "markdown",
   "metadata": {},
   "source": [
    "**After combining information, out of the 1343463 sites in the RADAR secondary file and 2576460 in the RADAR primary file, 1342423 consistant sites were found in both files, ie half of the database site were filtered out because they where not in the 2 database files.**"
   ]
  },
  {
   "cell_type": "markdown",
   "metadata": {},
   "source": [
    "### Convert RADAR coordinates from hg19 to hg39 with Crossmap\n",
    "\n",
    "Coordinate conversion using CrossMap in BASH"
   ]
  },
  {
   "cell_type": "code",
   "execution_count": 114,
   "metadata": {
    "collapsed": false,
    "scrolled": true
   },
   "outputs": [
    {
     "name": "stdout",
     "output_type": "stream",
     "text": [
      "\n",
      "@ 2016-06-09 12:09:43: Read chain_file:  ../LiftOver_chain_files/hg19ToHg38.over.chain.gz\n",
      "\n",
      "Filename:\t./RADAR/RADAR_Human_hg38_inosine_cleaned.bed\n",
      "Total lines:\t1342378\n",
      "\n",
      "0\t# RADAR database Human v2 all sites hg38 coordinates\n",
      "1\t# Data cleaned, standardized, converted to BED6 format and updated to hg38 coordinates\n",
      "2\t# Adrien Leger (aleg@ebi.ac.uk) - 2016-06-09 12:09:56.855643\n",
      "3\t# chrom\tchromstart\tchromend\tmodif|cell_type|method|PMID|loci\tscore\tstrand\n",
      "4\tchr1\t715826\t715826\tA>I|YH|-|22484847|RP5-857K21.4\t40\t-\n",
      "5\tchr1\t730885\t730885\tA>I|YH|-|22484847|uc009vjm.2\t16.7\t-\n",
      "6\tchr1\t730886\t730886\tA>I|YH|-|22484847|uc009vjm.2\t16.7\t-\n",
      "7\tchr1\t740856\t740856\tA>I|YH|-|22484847|uc002khh.2\t19.4\t-\n",
      "8\tchr1\t740856\t740856\tA>I|YH|-|23291724|uc002khh.2\t13\t-\n",
      "9\tchr1\t740856\t740856\tA>I|Brain|-|23291724|uc002khh.2\t15\t-\n",
      "\n",
      "1342373\tchrY\t21295872\t21295872\tA>I|YH|-|22484847|intergenic\t18.8\t-\n",
      "1342374\tchrY\t21313695\t21313695\tA>I|YH|-|22484847|intergenic\t50\t+\n",
      "1342375\tchrY\t21313713\t21313713\tA>I|YH|-|22484847|intergenic\t50\t+\n",
      "1342376\tchrY\t21314432\t21314432\tA>I|YH|-|22484847|intergenic\t66.7\t+\n",
      "1342377\tchrY\t21314458\t21314458\tA>I|YH|-|22484847|intergenic\t100\t+\n",
      "\n",
      "Found 10 colums\n",
      "First line found\n",
      "|0|chr1|chr19|chr17|chr2|chr7|chr3|chr12|chr16|chr11|chr10|...|\n",
      "|:---|:---|:---|:---|:---|:---|:---|:---|:---|:---|:---|:---|\n",
      "|Count|134410|105430|93813|93615|78247|76420|76398|63190|61568|58853|...|\n",
      "\n",
      "|1|69252729|36517927|48346889|124783316|124783311|124783279|26718169|87187352|42473933|39772282|...|\n",
      "|:---|:---|:---|:---|:---|:---|:---|:---|:---|:---|:---|:---|\n",
      "|Count|9|8|8|8|8|8|8|7|7|7|...|\n",
      "\n",
      "|2|69252729|36517927|48346889|124783316|124783311|124783279|26718169|87187352|42473933|39772282|...|\n",
      "|:---|:---|:---|:---|:---|:---|:---|:---|:---|:---|:---|:---|\n",
      "|Count|9|8|8|8|8|8|8|7|7|7|...|\n",
      "\n",
      "|3|A>I|\n",
      "|:---|:---|\n",
      "|Count|1342374|\n",
      "\n",
      "|4|YH|Brain|Illumina_Bodymap|U87MG|\n",
      "|:---|:---|:---|:---|:---|\n",
      "|Count|688654|416907|232839|3974|\n",
      "\n",
      "|5|-|\n",
      "|:---|:---|\n",
      "|Count|1342374|\n",
      "\n",
      "|6|23291724|22484847|22327324|21960545|\n",
      "|:---|:---|:---|:---|:---|\n",
      "|Count|813569|503951|20880|3974|\n",
      "\n",
      "|7|intergenic|RBM6|FNBP1|EIF4G3|UBE2D2|uc003tvf.2|uc001sns.2|ASH1L|C11orf80|BMPR2|...|\n",
      "|:---|:---|:---|:---|:---|:---|:---|:---|:---|:---|:---|:---|\n",
      "|Count|65861|1891|1884|1731|1667|1614|1592|1488|1463|1429|...|\n",
      "\n",
      "|8|100|50|33.3|66.7|25|40|20|28.6|16.7|22.2|...|\n",
      "|:---|:---|:---|:---|:---|:---|:---|:---|:---|:---|:---|:---|\n",
      "|Count|147777|107868|79334|62301|60938|53268|44406|40059|32423|29536|...|\n",
      "\n",
      "|9|+|-|\n",
      "|:---|:---|:---|\n",
      "|Count|689259|653115|\n",
      "\n"
     ]
    }
   ],
   "source": [
    "# Conversion to hg38 with Crossmap/liftover\n",
    "lifover_chainfile = \"../LiftOver_chain_files/hg19ToHg38.over.chain.gz\"\n",
    "input_bed = \"./PTM_Original_Datasets/RADAR_Human_hg19_inosine_cleaned.bed\"\n",
    "temp_bed = \"./PTM_Original_Datasets/RADAR_Human_hg38_inosine_temp.bed\"\n",
    "\n",
    "cmd = \"CrossMap.py bed {} {} {}\".format(lifover_chainfile, input_bed, temp_bed)  \n",
    "bash(cmd)\n",
    "\n",
    "# Rewriting and updating of the header removed by Crossmap\n",
    "final_bed = \"./PTM_Original_Datasets/RADAR_Human_hg38_inosine_cleaned.bed\"\n",
    "\n",
    "header = \"# RADAR database Human v2 all sites hg38 coordinates\\n\"\n",
    "header+= \"# Data cleaned, standardized, converted to BED6 format and updated to hg38 coordinates\\n\"\n",
    "header+= \"# Adrien Leger (aleg@ebi.ac.uk) - {}\\n\".format(str (datetime.datetime.today()))\n",
    "header+= \"# chrom\tchromstart\tchromend\tmodif|cell_type|method|PMID|loci\tscore\tstrand\\n\"\n",
    "\n",
    "with open (temp_bed, \"r\") as infile, open (final_bed, \"w\") as outfile:\n",
    "    outfile.write (header)\n",
    "    for line in infile:\n",
    "        outfile.write (line)\n",
    "\n",
    "file_summary(final_bed)"
   ]
  },
  {
   "cell_type": "markdown",
   "metadata": {},
   "source": [
    "**Around 10000 additional sites were lost during the conversion from hg19 to hg38**"
   ]
  },
  {
   "cell_type": "markdown",
   "metadata": {},
   "source": [
    "---\n",
    "## Shafik et al datasets\n",
    "\n",
    "### File list and define basic exploratory functions"
   ]
  },
  {
   "cell_type": "markdown",
   "metadata": {},
   "source": [
    "**The datasets a pretty cleaned and already converted to hg38 build coordinates. However, they are not strandardize and the synthax could be different since the bioinformatician in charge of the analysis tried to keep as much information as possible from the original datasets. I will strandardize the file names, the bed name fields and add reformat the file header. In addition I will explore the datasets to see if the are consistant and decide if I use them or not.**"
   ]
  },
  {
   "cell_type": "code",
   "execution_count": 35,
   "metadata": {
    "collapsed": false,
    "scrolled": true
   },
   "outputs": [
    {
     "data": {
      "text/plain": [
       "['m6A_Meyer_hg38.bed',\n",
       " 'editing_Sakurai_hg38.bed',\n",
       " 'pseudoU_Li_hg38.bed',\n",
       " 'DARNED_human_hg19_inosine.bed',\n",
       " 'MeRIPseq_m1A_Dominissini2016_hg38.bed',\n",
       " 'm5C_Khoddami_hg38.bed',\n",
       " 'DARNED_human_hg19_all_sites.txt',\n",
       " 'pseudoU_Carlile_hg38.bed',\n",
       " 'RADAR_Human_hg38_inosine_temp.bed.unmap',\n",
       " 'miCLIP_m6A_Linder2015_hg38.bed',\n",
       " 'm5C_Hussain_hg38.bed',\n",
       " 'RADAR_Human_hg19_inosine_cleaned.bed',\n",
       " 'pseudoU_Schwartz_hg38.bed',\n",
       " 'DARNED_human_hg38_inosine_cleaned.bed',\n",
       " 'm6A_Dominissini_hg38.bed',\n",
       " 'RADAR_Human_hg19_inosine_orphan.bed',\n",
       " 'RADAR_Human_hg38_inosine_temp.bed',\n",
       " 'editing_Peng_hg38.bed',\n",
       " 'RADAR_Human_hg38_inosine_cleaned.bed',\n",
       " 'DARNED_human_hg19_inosine_cleaned.bed',\n",
       " 'RADAR_human_hg19_v2_secondary.txt',\n",
       " 'RADAR_human_hg19_v2_primary.txt',\n",
       " 'm5C_Squires_hg38.bed',\n",
       " 'DARNED_human_hg19_inosine_unclean.bed',\n",
       " 'DARNED_human_hg38_inosine_temp.bed',\n",
       " 'DARNED_human_hg38_inosine_temp.bed.unmap']"
      ]
     },
     "execution_count": 35,
     "metadata": {},
     "output_type": "execute_result"
    }
   ],
   "source": [
    "listdir(\"./PTM_Original_Datasets/\")"
   ]
  },
  {
   "cell_type": "markdown",
   "metadata": {},
   "source": [
    "---\n",
    "### editing_Peng_hg38"
   ]
  },
  {
   "cell_type": "code",
   "execution_count": 5,
   "metadata": {
    "collapsed": false,
    "scrolled": true
   },
   "outputs": [
    {
     "name": "stdout",
     "output_type": "stream",
     "text": [
      "Filename:\t./PTM_Original_Datasets/editing_Peng_hg38.bed\n",
      "Total lines:\t22692\n",
      "\n",
      "0\t# Transcriptome-wide map of editing sites [hg38 coordinates]\n",
      "1\t# Reference: Peng et al., Nat. Biotechnol. 30, 253 (2012) [PMID 22327324, DOI 10.1038/nbt.2122]\n",
      "2\t#\n",
      "3\t# Data cleaned and converted to BED6, coordinate conversion to hg38 using liftOver.\n",
      "4\t# Maintainer: Maurits Evers (maurits.evers@anu.edu.au)\n",
      "5\t#\n",
      "6\tchr1\t1102535\t1102536\tPeng|chr1|1027779|-|T|Y|A->G|66.67%|37|C|6|T|3|9|intron|C1orf159\t0\t-\n",
      "7\tchr1\t1221501\t1221502\tPeng|chr1|1146745|-|T|Y|A->G|36.59%|99|T|26|C|15|42|intron|SDF4\t0\t-\n",
      "8\tchr1\t1222079\t1222080\tPeng|chr1|1147323|-|T|Y|A->G|22.73%|94|T|51|C|15|66|intron|SDF4\t0\t-\n",
      "9\tchr1\t1251840\t1251841\tPeng|chr1|1177084|-|T|Y|A->G|56.25%|99|C|9|T|7|16|intergenic|-\t0\t-\n",
      "\n",
      "22687\tchrY\t21272330\t21272331\tPeng|chrY|21843605|-|T|Y|A->G|58.33%|62|C|7|T|5|12|intergenic|-\t0\t-\n",
      "22688\tchrY\t21272371\t21272372\tPeng|chrY|21843646|-|T|Y|A->G|81.48%|49|C|22|T|5|27|intergenic|-\t0\t-\n",
      "22689\tchrY\t21288231\t21288232\tPeng|chrY|21859506|-|T|Y|A->G|30.00%|45|T|14|C|6|20|intergenic|-\t0\t-\n",
      "22690\tchrY\t21294412\t21294413\tPeng|chrY|21865687|-|T|Y|A->G|27.78%|25|T|13|C|5|18|intergenic|-\t0\t-\n",
      "22691\tchrY\t21295110\t21295111\tPeng|chrY|21866385|-|T|Y|A->G|26.32%|45|T|28|C|10|38|intergenic|-\t0\t-\n",
      "\n",
      "|0|chr1|chr12|chr19|chr2|chr7|chr3|chr11|chr17|chr16|chr6|...|\n",
      "|:---|:---|:---|:---|:---|:---|:---|:---|:---|:---|:---|:---|\n",
      "|Count|2081|1713|1709|1596|1358|1264|1262|1226|1051|964|...|\n",
      "\n",
      "|1|64863354|21295110|21294412|21288231|21272371|21272330|21272300|21272295|21263766|21263690|...|\n",
      "|:---|:---|:---|:---|:---|:---|:---|:---|:---|:---|:---|:---|\n",
      "|Count|2|1|1|1|1|1|1|1|1|1|...|\n",
      "\n",
      "|2|64863355|21295111|21294413|21288232|21272372|21272331|21272301|21272296|21263767|21263691|...|\n",
      "|:---|:---|:---|:---|:---|:---|:---|:---|:---|:---|:---|:---|\n",
      "|Count|2|1|1|1|1|1|1|1|1|1|...|\n",
      "\n",
      "|3|Peng|\n",
      "|:---|:---|\n",
      "|Count|22686|\n",
      "\n",
      "|4|chr1|chr12|chr19|chr2|chr7|chr3|chr11|chr17|chr16|chr6|...|\n",
      "|:---|:---|:---|:---|:---|:---|:---|:---|:---|:---|:---|:---|\n",
      "|Count|2081|1713|1709|1596|1358|1264|1262|1226|1051|964|...|\n",
      "\n",
      "|5|31676676|21866385|21865687|21859506|21843646|21843605|21843575|21843570|21835041|21834965|...|\n",
      "|:---|:---|:---|:---|:---|:---|:---|:---|:---|:---|:---|:---|\n",
      "|Count|2|1|1|1|1|1|1|1|1|1|...|\n",
      "\n",
      "|6|+|-|\n",
      "|:---|:---|:---|\n",
      "|Count|11774|10912|\n",
      "\n",
      "|7|A|T|C|G|\n",
      "|:---|:---|:---|:---|:---|\n",
      "|Count|11481|10563|329|313|\n",
      "\n",
      "|8|R|Y|C|G|T|A|W|M|S|K|\n",
      "|:---|:---|:---|:---|:---|:---|:---|:---|:---|:---|:---|\n",
      "|Count|11406|10460|151|137|107|107|82|82|78|76|\n",
      "\n",
      "|9|A->G|T->C|G->A|C->T|T->G|C->G|G->C|A->C|T->A|C->A|...|\n",
      "|:---|:---|:---|:---|:---|:---|:---|:---|:---|:---|:---|:---|\n",
      "|Count|21111|715|236|195|69|61|56|53|51|49|...|\n",
      "\n",
      "|10|50.00%|66.67%|33.33%|60.00%|40.00%|57.14%|44.44%|71.43%|42.86%|25.00%|...|\n",
      "|:---|:---|:---|:---|:---|:---|:---|:---|:---|:---|:---|:---|\n",
      "|Count|1088|706|634|502|455|431|358|299|285|284|...|\n",
      "\n",
      "|11|99|24|25|32|20|26|21|23|22|30|...|\n",
      "|:---|:---|:---|:---|:---|:---|:---|:---|:---|:---|:---|:---|\n",
      "|Count|6650|371|366|362|359|356|356|351|344|340|...|\n",
      "\n",
      "|12|A|T|G|C|\n",
      "|:---|:---|:---|:---|:---|\n",
      "|Count|7903|7058|3903|3822|\n",
      "\n",
      "|13|5|6|7|8|4|10|9|11|12|13|...|\n",
      "|:---|:---|:---|:---|:---|:---|:---|:---|:---|:---|:---|:---|\n",
      "|Count|1125|1120|1034|1004|988|870|857|759|728|616|...|\n",
      "\n",
      "|14|G|C|A|T|\n",
      "|:---|:---|:---|:---|:---|\n",
      "|Count|7907|7075|3896|3808|\n",
      "\n",
      "|15|4|5|6|7|8|9|3|2|10|11|...|\n",
      "|:---|:---|:---|:---|:---|:---|:---|:---|:---|:---|:---|:---|\n",
      "|Count|2151|2134|1937|1707|1461|1347|1313|1219|1100|978|...|\n",
      "\n",
      "|16|9|10|11|13|12|14|15|8|7|17|...|\n",
      "|:---|:---|:---|:---|:---|:---|:---|:---|:---|:---|:---|:---|\n",
      "|Count|718|694|693|685|666|651|642|628|555|548|...|\n",
      "\n",
      "|17|intergenic|intron|3-UTR|unknown|CDS|5-UTR|\n",
      "|:---|:---|:---|:---|:---|:---|:---|\n",
      "|Count|11219|9362|1905|102|80|18|\n",
      "\n",
      "|18|-|SPN|FNBP1|FCER2|USP4|CCDC84|CCAR1|SRP54|CD22|C11orf80|...|\n",
      "|:---|:---|:---|:---|:---|:---|:---|:---|:---|:---|:---|:---|\n",
      "|Count|11219|112|51|45|42|41|41|40|37|36|...|\n",
      "\n",
      "|19|0|\n",
      "|:---|:---|\n",
      "|Count|22686|\n",
      "\n",
      "|20|+|-|\n",
      "|:---|:---|:---|\n",
      "|Count|11768|10918|\n",
      "\n",
      "\n"
     ]
    }
   ],
   "source": [
    "infile=\"./PTM_Original_Datasets/editing_Peng_hg38.bed\"\n",
    "PMID = \"22327324\"\n",
    "cell = \"YH\"\n",
    "modification = \"A>I\"\n",
    "method = \"A_to_I_editing\"\n",
    "author = \"Peng\"\n",
    "outfile = \"./PTM_Clean_Datasets/{}_{}_{}_hg38_cleaned.bed\".format(author, modification, cell, method)\n",
    "\n",
    "file_summary(infile)"
   ]
  },
  {
   "cell_type": "code",
   "execution_count": 5,
   "metadata": {
    "collapsed": false,
    "scrolled": false
   },
   "outputs": [
    {
     "name": "stdout",
     "output_type": "stream",
     "text": [
      "First line found\n",
      "9\n",
      "\tA->G\t21111\n",
      "\tT->C\t715\n",
      "\tG->A\t236\n",
      "\tC->T\t195\n",
      "\tT->G\t69\n",
      "\tC->G\t61\n",
      "\tG->C\t56\n",
      "\tA->C\t53\n",
      "\tT->A\t51\n",
      "\tC->A\t49\n",
      "\tG->T\t45\n",
      "\tA->T\t45\n",
      "\n"
     ]
    }
   ],
   "source": [
    "print(colsum(infile, colrange=[9], header=False, ignore_hashtag_line=True, separator=[\"\\t\", \"|\"], max_items=20, ret_type=\"report\"))"
   ]
  },
  {
   "cell_type": "markdown",
   "metadata": {},
   "source": [
    "**The column 9 contains more than just Inosine transitions(A>G) but also all the other editing sites they found. Here I will focuss on the Inosine only. I need to filter out all the other values** "
   ]
  },
  {
   "cell_type": "code",
   "execution_count": 61,
   "metadata": {
    "collapsed": false,
    "scrolled": true
   },
   "outputs": [
    {
     "name": "stdout",
     "output_type": "stream",
     "text": [
      "22686 Lines processed\t21111 Lines pass\t1575 Lines filtered out\t0 Lines fail\n",
      "\n",
      "Filename:\t./PTM_Clean_Datasets/Peng_A>I_YH_hg38_cleaned.bed\n",
      "Total lines:\t21117\n",
      "\n",
      "0\t# Data cleaned, converted to BED6, coordinate converted to hg38 using liftOver\n",
      "1\t# Maurits Evers (maurits.evers@anu.edu.au)\n",
      "2\t# Data cleaned and standardized. 2016-06-09 16:51:42.099109\n",
      "3\t# Adrien Leger (aleg@ebi.ac.uk)\n",
      "4\t# RNA_modification=A>I|Cell_type=YH|Analysis_method=A_to_I_editing|Pubmed_ID=22327324\n",
      "5\t# chrom\tchromstart\tchromend\tmodif|cell_type|method|PMID|loci\tscore\tstrand\n",
      "6\tchr1\t1102535\t1102536\tA>I|YH|A_to_I_editing|22327324|C1orf159\t66.67\t-\n",
      "7\tchr1\t1221501\t1221502\tA>I|YH|A_to_I_editing|22327324|SDF4\t36.59\t-\n",
      "8\tchr1\t1222079\t1222080\tA>I|YH|A_to_I_editing|22327324|SDF4\t22.73\t-\n",
      "9\tchr1\t1251840\t1251841\tA>I|YH|A_to_I_editing|22327324|-\t56.25\t-\n",
      "\n",
      "21112\tchrY\t21272330\t21272331\tA>I|YH|A_to_I_editing|22327324|-\t58.33\t-\n",
      "21113\tchrY\t21272371\t21272372\tA>I|YH|A_to_I_editing|22327324|-\t81.48\t-\n",
      "21114\tchrY\t21288231\t21288232\tA>I|YH|A_to_I_editing|22327324|-\t30.00\t-\n",
      "21115\tchrY\t21294412\t21294413\tA>I|YH|A_to_I_editing|22327324|-\t27.78\t-\n",
      "21116\tchrY\t21295110\t21295111\tA>I|YH|A_to_I_editing|22327324|-\t26.32\t-\n",
      "\n",
      "|0|chr1|chr19|chr12|chr2|chr7|chr11|chr3|chr17|chr16|chr6|...|\n",
      "|:---|:---|:---|:---|:---|:---|:---|:---|:---|:---|:---|:---|\n",
      "|Count|1933|1644|1586|1451|1278|1164|1150|1147|1005|906|...|\n",
      "\n",
      "|1|64863354|21295110|21294412|21288231|21272371|21272330|21272300|21272295|21263766|21263690|...|\n",
      "|:---|:---|:---|:---|:---|:---|:---|:---|:---|:---|:---|:---|\n",
      "|Count|2|1|1|1|1|1|1|1|1|1|...|\n",
      "\n",
      "|2|64863355|21295111|21294413|21288232|21272372|21272331|21272301|21272296|21263767|21263691|...|\n",
      "|:---|:---|:---|:---|:---|:---|:---|:---|:---|:---|:---|:---|\n",
      "|Count|2|1|1|1|1|1|1|1|1|1|...|\n",
      "\n",
      "|3|A>I|\n",
      "|:---|:---|\n",
      "|Count|21111|\n",
      "\n",
      "|4|YH|\n",
      "|:---|:---|\n",
      "|Count|21111|\n",
      "\n",
      "|5|A_to_I_editing|\n",
      "|:---|:---|\n",
      "|Count|21111|\n",
      "\n",
      "|6|22327324|\n",
      "|:---|:---|\n",
      "|Count|21111|\n",
      "\n",
      "|7|-|SPN|FNBP1|FCER2|USP4|CCDC84|CCAR1|SRP54|CD22|LYRM7|...|\n",
      "|:---|:---|:---|:---|:---|:---|:---|:---|:---|:---|:---|:---|\n",
      "|Count|10768|112|51|45|42|41|41|40|37|35|...|\n",
      "\n",
      "|8|50.00|66.67|33.33|60.00|40.00|57.14|44.44|71.43|25.00|55.56|...|\n",
      "|:---|:---|:---|:---|:---|:---|:---|:---|:---|:---|:---|:---|\n",
      "|Count|1036|678|609|474|441|410|344|290|274|266|...|\n",
      "\n",
      "|9|+|-|\n",
      "|:---|:---|:---|\n",
      "|Count|11012|10099|\n",
      "\n",
      "\n"
     ]
    }
   ],
   "source": [
    "# chrom\tchromstart\tchromend\tmodif|cell_type|method|PMID|loci\tscore\tstrand\\n\"\n",
    "\n",
    "init_template=[0,\"\\t\",1,\"\\t\",2,\"\\t\",3,\"|\",4,\"|\",5,\"|\",6,\"|\",7,\"|\",8,\"|\",9,\"|\",10,\"%|\",11,\"|\",12,\"|\",13,\"|\",14,\"|\",15,\"|\",16,\"|\",17,\"|\",18,\"\\t\",19,\"\\t\",20]\n",
    "final_template=[0,\"\\t\",1,\"\\t\",2,\"\\t\",9,\"|\",cell,\"|\",method,\"|\",PMID,\"|\",18,\"\\t\",10,\"\\t\",20]\n",
    "\n",
    "# filter out all but A>G transition which are Inosine transition\n",
    "filter_dict={9:[\"T->C\",\"G->A\",\"C->T\",\"T->G\",\"C->G\",\"G->C\",\"A->C\",\"T->A\",\"C->A\",\"G->T\",\"A->T\"]}\n",
    "\n",
    "# Reformat the field value A->G to A>I for standardization \n",
    "subst_dict={9:{\"A->G\":\"A>I\"}}\n",
    "\n",
    "\n",
    "reformat_table(\n",
    "    input_file=infile,\n",
    "    output_file=outfile,\n",
    "    init_template=init_template,\n",
    "    final_template=final_template,\n",
    "    keep_original_header = False,\n",
    "    header = generate_header(PMID, cell, modification, method),\n",
    "    replace_internal_space='_',\n",
    "    replace_null_val=\"-\",\n",
    "    subst_dict = subst_dict,\n",
    "    filter_dict = filter_dict )\n",
    "\n",
    "file_summary(outfile)"
   ]
  },
  {
   "cell_type": "code",
   "execution_count": 17,
   "metadata": {
    "collapsed": false,
    "scrolled": false
   },
   "outputs": [
    {
     "data": {
      "image/png": "[encoded data removed]",
      "text/plain": [
       "<matplotlib.figure.Figure at 0x7fa3f51ddfd0>"
      ]
     },
     "metadata": {},
     "output_type": "display_data"
    }
   ],
   "source": [
    "distrib_peak_len(outfile)"
   ]
  },
  {
   "cell_type": "markdown",
   "metadata": {},
   "source": [
    "**Contains a lot of fields, some of which I don't even have an idea of what the contains. The dataset was not filtered and contains not only A>G A>I transitions. There is a total of 22686 sites but only 21111 are A>G transitions. I filtered out all the other modifications and retained only the A>G transition.**\n",
    "\n",
    "**I am not sure that I should use this dataset, especially since it is already included in the RADAR database.**"
   ]
  },
  {
   "cell_type": "markdown",
   "metadata": {},
   "source": [
    "---\n",
    "### editing_Sakurai_hg38"
   ]
  },
  {
   "cell_type": "code",
   "execution_count": 18,
   "metadata": {
    "collapsed": false,
    "scrolled": true
   },
   "outputs": [
    {
     "name": "stdout",
     "output_type": "stream",
     "text": [
      "Filename:\t./PTM_Original_Datasets/editing_Sakurai_hg38.bed\n",
      "Total lines:\t20488\n",
      "\n",
      "0\t# Transcriptome-wide map of editing sites [hg38 coordinates]\n",
      "1\t# Reference: Sakurai et al., Genome Res. 24, 522 (2014) [PMID 24407955, DOI 10.1101/gr.162537.113]\n",
      "2\t#\n",
      "3\t# Data cleaned and converted to BED6, coordinate conversion to hg38 using liftOver.\n",
      "4\t# Maintainer: Maurits Evers (maurits.evers@anu.edu.au)\n",
      "5\t#\n",
      "6\tchr1\t136167\t136168\tSakurai|uc009vjj.1|EST|NA\t0\t-\n",
      "7\tchr1\t136175\t136176\tSakurai|uc009vjj.1|EST|NA\t0\t-\n",
      "8\tchr1\t136177\t136178\tSakurai|uc009vjj.1|EST|NA\t0\t-\n",
      "9\tchr1\t136178\t136179\tSakurai|uc009vjj.1|EST|NA\t0\t-\n",
      "\n",
      "20483\tchrY\t18928288\t18928289\tSakurai|NA|No_annotation|SINE/Alu\t0\t-\n",
      "20484\tchrY\t18928298\t18928299\tSakurai|NA|No_annotation|SINE/Alu\t0\t-\n",
      "20485\tchrY\t18928299\t18928300\tSakurai|NA|No_annotation|SINE/Alu\t0\t-\n",
      "20486\tchrY\t18928319\t18928320\tSakurai|NA|No_annotation|SINE/Alu\t0\t-\n",
      "20487\tchrY\t19608866\t19608867\tSakurai|NA|No_annotation|SINE/Alu\t0\t+\n",
      "\n",
      "|0|chr1|chr19|chr17|chr2|chr7|chr16|chr12|chr15|chr5|chr22|...|\n",
      "|:---|:---|:---|:---|:---|:---|:---|:---|:---|:---|:---|:---|\n",
      "|Count|2273|2254|1491|1444|1345|1254|1056|945|834|815|...|\n",
      "\n",
      "|1|23296469|104124385|85091790|85091779|85090896|85090878|85090865|85090844|17148267|301184|...|\n",
      "|:---|:---|:---|:---|:---|:---|:---|:---|:---|:---|:---|:---|\n",
      "|Count|3|2|2|2|2|2|2|2|2|2|...|\n",
      "\n",
      "|2|23296470|104124386|85091791|85091780|85090897|85090879|85090866|85090845|17148268|301185|...|\n",
      "|:---|:---|:---|:---|:---|:---|:---|:---|:---|:---|:---|:---|\n",
      "|Count|3|2|2|2|2|2|2|2|2|2|...|\n",
      "\n",
      "|3|Sakurai|\n",
      "|:---|:---|\n",
      "|Count|20482|\n",
      "\n",
      "|4|NA|SMIM7|ZNF587|uc002uzx.2|uc010nlq.1|MAVS|SNRPN|FOXRED2|KCNIP4|LYRM7|...|\n",
      "|:---|:---|:---|:---|:---|:---|:---|:---|:---|:---|:---|:---|\n",
      "|Count|6672|126|92|73|71|71|68|65|61|59|...|\n",
      "\n",
      "|5|No_annotation|Intron|3'UTR|5'UTR|EST|CDS|\n",
      "|:---|:---|:---|:---|:---|:---|:---|\n",
      "|Count|6671|5767|4506|2056|1416|66|\n",
      "\n",
      "|6|SINE/Alu|NA|LINE/L1|LTR/ERVL-MaLR|LTR/ERV1|SINE/MIR|Simple_repeat|DNA/hAT-Charlie|LINE/L2|DNA/TcMar-Tigger|...|\n",
      "|:---|:---|:---|:---|:---|:---|:---|:---|:---|:---|:---|:---|\n",
      "|Count|18787|1006|324|133|60|37|25|17|15|14|...|\n",
      "\n",
      "|7|0|\n",
      "|:---|:---|\n",
      "|Count|20482|\n",
      "\n",
      "|8|+|-|\n",
      "|:---|:---|:---|\n",
      "|Count|10405|10077|\n",
      "\n",
      "\n"
     ]
    }
   ],
   "source": [
    "infile = \"./PTM_Original_Datasets/editing_Sakurai_hg38.bed\"\n",
    "PMID = \"24407955\"\n",
    "cell = \"Brain\"\n",
    "modification = \"A>I\"\n",
    "method = \"ICE_seq\"\n",
    "author = \"Sakurai\"\n",
    "outfile = \"./PTM_Clean_Datasets/{}_{}_{}_hg38_cleaned.bed\".format(author, modification, cell, method)\n",
    "\n",
    "file_summary(infile)"
   ]
  },
  {
   "cell_type": "code",
   "execution_count": 7,
   "metadata": {
    "collapsed": false,
    "scrolled": true
   },
   "outputs": [
    {
     "name": "stdout",
     "output_type": "stream",
     "text": [
      "20482 Lines processed\t20482 Lines pass\t0 Lines filtered out\t0 Lines fail\n",
      "\n",
      "Filename:\t./PTM_Clean_Dataset/Sakurai_A>I_Brain_hg38_cleaned.bed\n",
      "Total lines:\t20488\n",
      "\n",
      "0\t# Data cleaned, converted to BED6, coordinate converted to hg38 using liftOver\n",
      "1\t# Maurits Evers (maurits.evers@anu.edu.au)\n",
      "2\t# Data cleaned and standardized. 2016-06-08 12:20:13.527986\n",
      "3\t# Adrien Leger (aleg@ebi.ac.uk)\n",
      "4\t# RNA_modification=A>I|Cell_type=Brain|Analysis_method=ICE_seq|Pubmed_ID=24407955\n",
      "5\t# chrom\tchromstart\tchromend\tmodif|cell_type|method|PMID|loci\tscore\tstrand\n",
      "6\tchr1\t136167\t136168\tA>I|Brain|ICE_seq|24407955|uc009vjj.1\t0\t-\n",
      "7\tchr1\t136175\t136176\tA>I|Brain|ICE_seq|24407955|uc009vjj.1\t0\t-\n",
      "8\tchr1\t136177\t136178\tA>I|Brain|ICE_seq|24407955|uc009vjj.1\t0\t-\n",
      "9\tchr1\t136178\t136179\tA>I|Brain|ICE_seq|24407955|uc009vjj.1\t0\t-\n",
      "\n",
      "20483\tchrY\t18928288\t18928289\tA>I|Brain|ICE_seq|24407955|NA\t0\t-\n",
      "20484\tchrY\t18928298\t18928299\tA>I|Brain|ICE_seq|24407955|NA\t0\t-\n",
      "20485\tchrY\t18928299\t18928300\tA>I|Brain|ICE_seq|24407955|NA\t0\t-\n",
      "20486\tchrY\t18928319\t18928320\tA>I|Brain|ICE_seq|24407955|NA\t0\t-\n",
      "20487\tchrY\t19608866\t19608867\tA>I|Brain|ICE_seq|24407955|NA\t0\t+\n",
      "\n",
      "Found 10 colums\n",
      "First line found\n",
      "|0|chr1|chr19|chr17|chr2|chr7|chr16|chr12|chr15|chr5|chr22|...|\n",
      "|:---|:---|:---|:---|:---|:---|:---|:---|:---|:---|:---|:---|\n",
      "|Count|2273|2254|1491|1444|1345|1254|1056|945|834|815|...|\n",
      "\n",
      "|1|23296469|104124385|85091790|85091779|85090896|85090878|85090865|85090844|17148267|301184|...|\n",
      "|:---|:---|:---|:---|:---|:---|:---|:---|:---|:---|:---|:---|\n",
      "|Count|3|2|2|2|2|2|2|2|2|2|...|\n",
      "\n",
      "|2|23296470|104124386|85091791|85091780|85090897|85090879|85090866|85090845|17148268|301185|...|\n",
      "|:---|:---|:---|:---|:---|:---|:---|:---|:---|:---|:---|:---|\n",
      "|Count|3|2|2|2|2|2|2|2|2|2|...|\n",
      "\n",
      "|3|A>I|\n",
      "|:---|:---|\n",
      "|Count|20482|\n",
      "\n",
      "|4|Brain|\n",
      "|:---|:---|\n",
      "|Count|20482|\n",
      "\n",
      "|5|ICE_seq|\n",
      "|:---|:---|\n",
      "|Count|20482|\n",
      "\n",
      "|6|24407955|\n",
      "|:---|:---|\n",
      "|Count|20482|\n",
      "\n",
      "|7|NA|SMIM7|ZNF587|uc002uzx.2|uc010nlq.1|MAVS|SNRPN|FOXRED2|KCNIP4|LYRM7|...|\n",
      "|:---|:---|:---|:---|:---|:---|:---|:---|:---|:---|:---|:---|\n",
      "|Count|6672|126|92|73|71|71|68|65|61|59|...|\n",
      "\n",
      "|8|0|\n",
      "|:---|:---|\n",
      "|Count|20482|\n",
      "\n",
      "|9|+|-|\n",
      "|:---|:---|:---|\n",
      "|Count|10405|10077|\n",
      "\n"
     ]
    }
   ],
   "source": [
    "# chrom\tchromstart\tchromend\tmodif|cell_type|method|PMID|loci\tscore\tstrand\\n\"\n",
    "\n",
    "init_template=[0,\"\\t\",1,\"\\t\",2,\"\\t\",3,\"|\",4,\"|\",5,\"|\",6,\"\\t\",7,\"\\t\",8]\n",
    "final_template=[0,\"\\t\",1,\"\\t\",2,\"\\t\",modification,\"|\",cell,\"|\",method,\"|\",PMID,\"|\",4,\"\\t\",7,\"\\t\",8]\n",
    "\n",
    "reformat_table(\n",
    "    input_file=infile,\n",
    "    output_file=outfile,\n",
    "    init_template=init_template,\n",
    "    final_template=final_template,\n",
    "    keep_original_header = False,\n",
    "    header = generate_header(PMID, cell, modification, method),\n",
    "    replace_internal_space='_',\n",
    "    replace_null_val=\"-\")\n",
    "\n",
    "file_summary(outfile)"
   ]
  },
  {
   "cell_type": "code",
   "execution_count": 19,
   "metadata": {
    "collapsed": false,
    "scrolled": false
   },
   "outputs": [
    {
     "data": {
      "image/png": "[encoded data removed]",
      "text/plain": [
       "<matplotlib.figure.Figure at 0x7fa3f54369b0>"
      ]
     },
     "metadata": {},
     "output_type": "display_data"
    }
   ],
   "source": [
    "distrib_peak_len(outfile)"
   ]
  },
  {
   "cell_type": "markdown",
   "metadata": {},
   "source": [
    "**No problem with this dataset, I kept the gene loci name for future comparison after reannotation with GENCODE**"
   ]
  },
  {
   "cell_type": "markdown",
   "metadata": {},
   "source": [
    "---\n",
    "### m5C_Hussain_hg38"
   ]
  },
  {
   "cell_type": "code",
   "execution_count": 20,
   "metadata": {
    "collapsed": false,
    "scrolled": true
   },
   "outputs": [
    {
     "name": "stdout",
     "output_type": "stream",
     "text": [
      "Filename:\t./PTM_Original_Datasets/m5C_Hussain_hg38.bed\n",
      "Total lines:\t1090\n",
      "\n",
      "0\t# Transcriptome-wide map of m5C [hg38 coordinates]\n",
      "1\t# Reference: Hussain et al., Genome Biology 14, 215 (2013) [PMID 24286375, DOI 10.1186/gb4143]\n",
      "2\t#\n",
      "3\t# Data cleaned and converted to BED6, coordinate conversion to hg38 using liftOver.\n",
      "4\t# Maintainer: Maurits Evers (maurits.evers@anu.edu.au)\n",
      "5\t#\n",
      "6\tchr1\t16535295\t16535296\tHussain|id102\t0\t-\n",
      "7\tchr1\t16535303\t16535304\tHussain|id103\t0\t-\n",
      "8\tchr1\t16535309\t16535310\tHussain|id104\t0\t-\n",
      "9\tchr1\t16545955\t16545956\tHussain|id105\t0\t-\n",
      "\n",
      "1085\tchrX\t56600603\t56600604\tHussain|id1081\t0\t-\n",
      "1086\tchrX\t91280207\t91280208\tHussain|id1082\t0\t+\n",
      "1087\tchrX\t121653629\t121653630\tHussain|id1075\t0\t-\n",
      "1088\tchrY\t11204085\t11204086\tHussain|id1083\t0\t-\n",
      "1089\tchrY\t13552443\t13552444\tHussain|id1084\t0\t-\n",
      "\n",
      "|0|chr6|chr1|chr5|chr17|chr14|chr16|chr11|chr2|chr8|chr15|...|\n",
      "|:---|:---|:---|:---|:---|:---|:---|:---|:---|:---|:---|:---|\n",
      "|Count|368|92|88|87|73|59|44|41|39|28|...|\n",
      "\n",
      "|1|13552443|11204085|121653629|91280207|56600603|39509363|31486611|18674986|18674933|3838454|...|\n",
      "|:---|:---|:---|:---|:---|:---|:---|:---|:---|:---|:---|:---|\n",
      "|Count|1|1|1|1|1|1|1|1|1|1|...|\n",
      "\n",
      "|2|13552444|11204086|121653630|91280208|56600604|39509364|31486612|18674987|18674934|3838455|...|\n",
      "|:---|:---|:---|:---|:---|:---|:---|:---|:---|:---|:---|:---|\n",
      "|Count|1|1|1|1|1|1|1|1|1|1|...|\n",
      "\n",
      "|3|Hussain|\n",
      "|:---|:---|\n",
      "|Count|1084|\n",
      "\n",
      "|4|id1084|id1083|id1075|id1082|id1081|id1080|id1078|id1077|id1076|id1079|...|\n",
      "|:---|:---|:---|:---|:---|:---|:---|:---|:---|:---|:---|:---|\n",
      "|Count|1|1|1|1|1|1|1|1|1|1|...|\n",
      "\n",
      "|5|0|\n",
      "|:---|:---|\n",
      "|Count|1084|\n",
      "\n",
      "|6|-|+|\n",
      "|:---|:---|:---|\n",
      "|Count|593|491|\n",
      "\n",
      "\n"
     ]
    }
   ],
   "source": [
    "infile = \"./PTM_Original_Datasets/m5C_Hussain_hg38.bed\"\n",
    "PMID = \"23871666\"\n",
    "cell = \"HEK293\"\n",
    "modification = \"m5C\"\n",
    "method = \"miCLIP\"\n",
    "author = \"Hussain\"\n",
    "outfile = \"./PTM_Clean_Datasets/{}_{}_{}_hg38_cleaned.bed\".format(author, modification, cell, method)\n",
    "\n",
    "file_summary(infile)"
   ]
  },
  {
   "cell_type": "code",
   "execution_count": 9,
   "metadata": {
    "collapsed": false,
    "scrolled": true
   },
   "outputs": [
    {
     "name": "stdout",
     "output_type": "stream",
     "text": [
      "1084 Lines processed\t1084 Lines pass\t0 Lines filtered out\t0 Lines fail\n",
      "\n",
      "Filename:\t./PTM_Clean_Dataset/Hussain_m5C_HEK293_hg38_cleaned.bed\n",
      "Total lines:\t1090\n",
      "\n",
      "0\t# Data cleaned, converted to BED6, coordinate converted to hg38 using liftOver\n",
      "1\t# Maurits Evers (maurits.evers@anu.edu.au)\n",
      "2\t# Data cleaned and standardized. 2016-06-08 12:22:11.200389\n",
      "3\t# Adrien Leger (aleg@ebi.ac.uk)\n",
      "4\t# RNA_modification=m5C|Cell_type=HEK293|Analysis_method=miCLIP|Pubmed_ID=23871666\n",
      "5\t# chrom\tchromstart\tchromend\tmodif|cell_type|method|PMID|loci\tscore\tstrand\n",
      "6\tchr1\t16535295\t16535296\tm5C|HEK293|miCLIP|23871666|-\t0\t-\n",
      "7\tchr1\t16535303\t16535304\tm5C|HEK293|miCLIP|23871666|-\t0\t-\n",
      "8\tchr1\t16535309\t16535310\tm5C|HEK293|miCLIP|23871666|-\t0\t-\n",
      "9\tchr1\t16545955\t16545956\tm5C|HEK293|miCLIP|23871666|-\t0\t-\n",
      "\n",
      "1085\tchrX\t56600603\t56600604\tm5C|HEK293|miCLIP|23871666|-\t0\t-\n",
      "1086\tchrX\t91280207\t91280208\tm5C|HEK293|miCLIP|23871666|-\t0\t+\n",
      "1087\tchrX\t121653629\t121653630\tm5C|HEK293|miCLIP|23871666|-\t0\t-\n",
      "1088\tchrY\t11204085\t11204086\tm5C|HEK293|miCLIP|23871666|-\t0\t-\n",
      "1089\tchrY\t13552443\t13552444\tm5C|HEK293|miCLIP|23871666|-\t0\t-\n",
      "\n",
      "Found 10 colums\n",
      "First line found\n",
      "|0|chr6|chr1|chr5|chr17|chr14|chr16|chr11|chr2|chr8|chr15|...|\n",
      "|:---|:---|:---|:---|:---|:---|:---|:---|:---|:---|:---|:---|\n",
      "|Count|368|92|88|87|73|59|44|41|39|28|...|\n",
      "\n",
      "|1|13552443|11204085|121653629|91280207|56600603|39509363|31486611|18674986|18674933|3838454|...|\n",
      "|:---|:---|:---|:---|:---|:---|:---|:---|:---|:---|:---|:---|\n",
      "|Count|1|1|1|1|1|1|1|1|1|1|...|\n",
      "\n",
      "|2|13552444|11204086|121653630|91280208|56600604|39509364|31486612|18674987|18674934|3838455|...|\n",
      "|:---|:---|:---|:---|:---|:---|:---|:---|:---|:---|:---|:---|\n",
      "|Count|1|1|1|1|1|1|1|1|1|1|...|\n",
      "\n",
      "|3|m5C|\n",
      "|:---|:---|\n",
      "|Count|1084|\n",
      "\n",
      "|4|HEK293|\n",
      "|:---|:---|\n",
      "|Count|1084|\n",
      "\n",
      "|5|miCLIP|\n",
      "|:---|:---|\n",
      "|Count|1084|\n",
      "\n",
      "|6|23871666|\n",
      "|:---|:---|\n",
      "|Count|1084|\n",
      "\n",
      "|7|-|\n",
      "|:---|:---|\n",
      "|Count|1084|\n",
      "\n",
      "|8|0|\n",
      "|:---|:---|\n",
      "|Count|1084|\n",
      "\n",
      "|9|-|+|\n",
      "|:---|:---|:---|\n",
      "|Count|593|491|\n",
      "\n"
     ]
    }
   ],
   "source": [
    "# chrom\tchromstart\tchromend\tmodif|cell_type|method|PMID|loci\tscore\tstrand\\n\"\n",
    "\n",
    "init_template=[0,\"\\t\",1,\"\\t\",2,\"\\t\",3,\"|\",4,\"\\t\",5,\"\\t\",6]\n",
    "final_template=[0,\"\\t\",1,\"\\t\",2,\"\\t\",modification,\"|\",cell,\"|\",method,\"|\",PMID,\"|-\\t\",5,\"\\t\",6]\n",
    "\n",
    "reformat_table(\n",
    "    input_file=infile,\n",
    "    output_file=outfile,\n",
    "    init_template=init_template,\n",
    "    final_template=final_template,\n",
    "    keep_original_header = False,\n",
    "    header = generate_header(PMID, cell, modification, method),\n",
    "    replace_internal_space='_',\n",
    "    replace_null_val=\"-\")\n",
    "\n",
    "file_summary(outfile)"
   ]
  },
  {
   "cell_type": "code",
   "execution_count": 13,
   "metadata": {
    "collapsed": false,
    "scrolled": false
   },
   "outputs": [
    {
     "data": {
      "image/png": "[encoded data removed]",
      "text/plain": [
       "<matplotlib.figure.Figure at 0x7fa3f7690c88>"
      ]
     },
     "metadata": {},
     "output_type": "display_data"
    }
   ],
   "source": [
    "distrib_peak_len(outfile)"
   ]
  },
  {
   "cell_type": "markdown",
   "metadata": {},
   "source": [
    "**No problem with this dataset, Since there is no gene loci, I just filed the field with a dash to indicate that it is empty**"
   ]
  },
  {
   "cell_type": "markdown",
   "metadata": {},
   "source": [
    "### m5C_Khoddami_hg38"
   ]
  },
  {
   "cell_type": "code",
   "execution_count": 21,
   "metadata": {
    "collapsed": false,
    "scrolled": true
   },
   "outputs": [
    {
     "name": "stdout",
     "output_type": "stream",
     "text": [
      "Filename:\t./PTM_Original_Datasets/m5C_Khoddami_hg38.bed\n",
      "Total lines:\t20559\n",
      "\n",
      "0\t# Transcriptome-wide map of m5C [hg38 coordinates]\n",
      "1\t# Reference: Khoddami and Cairns, Nat. Biotechnol. 31, 458 (2013) [PMID 23604283, DOI 10.1038/nbt.2566]\n",
      "2\t#\n",
      "3\t# Data cleaned and converted to BED6, coordinate conversion to hg38 using liftOver.\n",
      "4\t# Maintainer: Maurits Evers (maurits.evers@anu.edu.au)\n",
      "5\t#\n",
      "6\tchr1\t16545917\t16545918\tKhoddami|tRNA-Gly-GGG\t0\t-\n",
      "7\tchr1\t16545919\t16545920\tKhoddami|tRNA-Gly-GGG\t0\t-\n",
      "8\tchr1\t16545920\t16545921\tKhoddami|tRNA-Gly-GGG\t0\t-\n",
      "9\tchr1\t16545921\t16545922\tKhoddami|tRNA-Gly-GGG\t0\t-\n",
      "\n",
      "20554\tchrY\t3367777\t3367778\tKhoddami|tRNA-Glu-GAG\t0\t+\n",
      "20555\tchrY\t3367784\t3367785\tKhoddami|tRNA-Glu-GAG\t0\t+\n",
      "20556\tchrY\t3367799\t3367800\tKhoddami|tRNA-Glu-GAG\t0\t+\n",
      "20557\tchrY\t3367804\t3367805\tKhoddami|tRNA-Glu-GAG\t0\t+\n",
      "20558\tchrY\t3367808\t3367809\tKhoddami|tRNA-Glu-GAG\t0\t+\n",
      "\n",
      "|0|chr15|chr6|chr1|chr17|chr16|chr14|chr5|chr12|chr7|chr3|...|\n",
      "|:---|:---|:---|:---|:---|:---|:---|:---|:---|:---|:---|:---|\n",
      "|Count|5959|3648|1843|949|893|892|705|686|622|596|...|\n",
      "\n",
      "|1|143831770|143831768|143831764|143831761|143831757|143831755|143831748|143831741|3367808|3367804|...|\n",
      "|:---|:---|:---|:---|:---|:---|:---|:---|:---|:---|:---|:---|\n",
      "|Count|2|2|2|2|2|2|2|2|1|1|...|\n",
      "\n",
      "|2|143831771|143831769|143831765|143831762|143831758|143831756|143831749|143831742|3367809|3367805|...|\n",
      "|:---|:---|:---|:---|:---|:---|:---|:---|:---|:---|:---|:---|\n",
      "|Count|2|2|2|2|2|2|2|2|1|1|...|\n",
      "\n",
      "|3|Khoddami|\n",
      "|:---|:---|\n",
      "|Count|20553|\n",
      "\n",
      "|4|SHF|5S-rRNA|tRNA-Cys-TGY|tRNA-Gly-GGY|tRNA-Glu-GAG|tRNA-Lys-AAG|tRNA-Lys-AAA|tRNA-Ala-GCY|tRNA-Gln-CAG|tRNA-Tyr-TAC|...|\n",
      "|:---|:---|:---|:---|:---|:---|:---|:---|:---|:---|:---|:---|\n",
      "|Count|5716|2044|511|400|373|356|334|325|317|315|...|\n",
      "\n",
      "|5|0|SHF|AC084082.3|\n",
      "|:---|:---|:---|:---|\n",
      "|Count|20419|87|47|\n",
      "\n",
      "|6|-|+|0|\n",
      "|:---|:---|:---|:---|\n",
      "|Count|12988|7431|134|\n",
      "\n",
      "\n"
     ]
    }
   ],
   "source": [
    "infile=\"./PTM_Original_Datasets/m5C_Khoddami_hg38.bed\"\n",
    "PMID = \"23604283\"\n",
    "cell = \"MEF\"\n",
    "modification = \"m5C\"\n",
    "method = \"AzaIP\"\n",
    "author = \"Khoddami\"\n",
    "outfile = \"./PTM_Clean_Datasets/{}_{}_{}_hg38_cleaned.bed\".format(author, modification, cell, method)\n",
    "\n",
    "file_summary(infile)"
   ]
  },
  {
   "cell_type": "code",
   "execution_count": 11,
   "metadata": {
    "collapsed": false,
    "scrolled": true
   },
   "outputs": [
    {
     "name": "stdout",
     "output_type": "stream",
     "text": [
      "20553 Lines processed\t20553 Lines pass\t0 Lines filtered out\t0 Lines fail\n",
      "\n",
      "Filename:\t./PTM_Clean_Dataset/Khoddami_m5C_MEF_hg38_cleaned.bed\n",
      "Total lines:\t20559\n",
      "\n",
      "0\t# Data cleaned, converted to BED6, coordinate converted to hg38 using liftOver\n",
      "1\t# Maurits Evers (maurits.evers@anu.edu.au)\n",
      "2\t# Data cleaned and standardized. 2016-06-08 12:22:52.164144\n",
      "3\t# Adrien Leger (aleg@ebi.ac.uk)\n",
      "4\t# RNA_modification=m5C|Cell_type=MEF|Analysis_method=AzaIP|Pubmed_ID=23604283\n",
      "5\t# chrom\tchromstart\tchromend\tmodif|cell_type|method|PMID|loci\tscore\tstrand\n",
      "6\tchr1\t16545917\t16545918\tm5C|MEF|AzaIP|23604283|tRNA-Gly-GGG\t0\t-\n",
      "7\tchr1\t16545919\t16545920\tm5C|MEF|AzaIP|23604283|tRNA-Gly-GGG\t0\t-\n",
      "8\tchr1\t16545920\t16545921\tm5C|MEF|AzaIP|23604283|tRNA-Gly-GGG\t0\t-\n",
      "9\tchr1\t16545921\t16545922\tm5C|MEF|AzaIP|23604283|tRNA-Gly-GGG\t0\t-\n",
      "\n",
      "20554\tchrY\t3367777\t3367778\tm5C|MEF|AzaIP|23604283|tRNA-Glu-GAG\t0\t+\n",
      "20555\tchrY\t3367784\t3367785\tm5C|MEF|AzaIP|23604283|tRNA-Glu-GAG\t0\t+\n",
      "20556\tchrY\t3367799\t3367800\tm5C|MEF|AzaIP|23604283|tRNA-Glu-GAG\t0\t+\n",
      "20557\tchrY\t3367804\t3367805\tm5C|MEF|AzaIP|23604283|tRNA-Glu-GAG\t0\t+\n",
      "20558\tchrY\t3367808\t3367809\tm5C|MEF|AzaIP|23604283|tRNA-Glu-GAG\t0\t+\n",
      "\n",
      "Found 10 colums\n",
      "First line found\n",
      "|0|chr15|chr6|chr1|chr17|chr16|chr14|chr5|chr12|chr7|chr3|...|\n",
      "|:---|:---|:---|:---|:---|:---|:---|:---|:---|:---|:---|:---|\n",
      "|Count|5959|3648|1843|949|893|892|705|686|622|596|...|\n",
      "\n",
      "|1|143831770|143831768|143831764|143831761|143831757|143831755|143831748|143831741|3367808|3367804|...|\n",
      "|:---|:---|:---|:---|:---|:---|:---|:---|:---|:---|:---|:---|\n",
      "|Count|2|2|2|2|2|2|2|2|1|1|...|\n",
      "\n",
      "|2|143831771|143831769|143831765|143831762|143831758|143831756|143831749|143831742|3367809|3367805|...|\n",
      "|:---|:---|:---|:---|:---|:---|:---|:---|:---|:---|:---|:---|\n",
      "|Count|2|2|2|2|2|2|2|2|1|1|...|\n",
      "\n",
      "|3|m5C|\n",
      "|:---|:---|\n",
      "|Count|20553|\n",
      "\n",
      "|4|MEF|\n",
      "|:---|:---|\n",
      "|Count|20553|\n",
      "\n",
      "|5|AzaIP|\n",
      "|:---|:---|\n",
      "|Count|20553|\n",
      "\n",
      "|6|23604283|\n",
      "|:---|:---|\n",
      "|Count|20553|\n",
      "\n",
      "|7|SHF|5S-rRNA|tRNA-Cys-TGY|tRNA-Gly-GGY|tRNA-Glu-GAG|tRNA-Lys-AAG|tRNA-Lys-AAA|tRNA-Ala-GCY|tRNA-Gln-CAG|tRNA-Tyr-TAC|...|\n",
      "|:---|:---|:---|:---|:---|:---|:---|:---|:---|:---|:---|:---|\n",
      "|Count|5716|2044|511|400|373|356|334|325|317|315|...|\n",
      "\n",
      "|8|0|SHF|AC084082.3|\n",
      "|:---|:---|:---|:---|\n",
      "|Count|20419|87|47|\n",
      "\n",
      "|9|-|+|0|\n",
      "|:---|:---|:---|:---|\n",
      "|Count|12988|7431|134|\n",
      "\n"
     ]
    }
   ],
   "source": [
    "# chrom\tchromstart\tchromend\tmodif|cell_type|method|PMID|loci\tscore\tstrand\\n\"\n",
    "\n",
    "init_template=[0,\"\\t\",1,\"\\t\",2,\"\\t\",3,\"|\",4,\"\\t\",5,\"\\t\",6]\n",
    "final_template=[0,\"\\t\",1,\"\\t\",2,\"\\t\",modification,\"|\",cell,\"|\",method,\"|\",PMID,\"|\",4,\"\\t\",5,\"\\t\",6]\n",
    "\n",
    "reformat_table(\n",
    "    input_file=infile,\n",
    "    output_file=outfile,\n",
    "    init_template=init_template,\n",
    "    final_template=final_template,\n",
    "    keep_original_header = False,\n",
    "    header = generate_header(PMID, cell, modification, method),\n",
    "    replace_internal_space='_',\n",
    "    replace_null_val=\"-\")\n",
    "\n",
    "file_summary(outfile)"
   ]
  },
  {
   "cell_type": "code",
   "execution_count": 22,
   "metadata": {
    "collapsed": false,
    "scrolled": true
   },
   "outputs": [
    {
     "data": {
      "image/png": "[encoded data removed]",
      "text/plain": [
       "<matplotlib.figure.Figure at 0x7fa3f77b5b00>"
      ]
     },
     "metadata": {},
     "output_type": "display_data"
    }
   ],
   "source": [
    "distrib_peak_len(outfile)"
   ]
  },
  {
   "cell_type": "markdown",
   "metadata": {},
   "source": [
    "**No problem with this dataset. It seems to be focussed on tRNA gene that are clearly over-represented in the gene list**"
   ]
  },
  {
   "cell_type": "markdown",
   "metadata": {},
   "source": [
    "---\n",
    "### m5C_Squires_hg38"
   ]
  },
  {
   "cell_type": "code",
   "execution_count": 23,
   "metadata": {
    "collapsed": false,
    "scrolled": true
   },
   "outputs": [
    {
     "name": "stdout",
     "output_type": "stream",
     "text": [
      "Filename:\t./PTM_Original_Datasets/m5C_Squires_hg38.bed\n",
      "Total lines:\t10496\n",
      "\n",
      "0\t# Transcriptome-wide map of m5C [hg38 coordinates]\n",
      "1\t# Reference: Squires et al., Nucleic Acids Res. 40, 5023 (2012) [PMID 22344696, DOI 10.1093/nar/gks144]\n",
      "2\t#\n",
      "3\t# Data cleaned and converted to BED6, coordinate conversion to hg38 using liftOver.\n",
      "4\t# Maintainer: Maurits Evers (maurits.evers@anu.edu.au)\n",
      "5\t#\n",
      "6\tchr1\t631539\t631540\tSquires|id1\t0\t+\n",
      "7\tchr1\t631540\t631541\tSquires|id2\t0\t+\n",
      "8\tchr1\t632285\t632286\tSquires|id3\t0\t+\n",
      "9\tchr1\t632286\t632287\tSquires|id4\t0\t+\n",
      "\n",
      "10491\tchrX\t155291091\t155291092\tSquires|id10271\t0\t-\n",
      "10492\tchrX\t156023069\t156023070\tSquires|id10272\t0\t+\n",
      "10493\tchrY\t5105140\t5105141\tSquires|id10273\t0\t+\n",
      "10494\tchrY\t5338229\t5338230\tSquires|id10274\t0\t-\n",
      "10495\tchrY\t10192049\t10192050\tSquires|id10275\t0\t-\n",
      "\n",
      "|0|chr1|chr17|chr19|chr11|chr3|chr6|chr2|chr5|chr12|chr7|...|\n",
      "|:---|:---|:---|:---|:---|:---|:---|:---|:---|:---|:---|:---|\n",
      "|Count|1169|734|660|659|621|608|582|576|497|472|...|\n",
      "\n",
      "|1|1629420|1629419|10192049|5338229|5105140|156023069|155291091|155291090|154552121|154515971|...|\n",
      "|:---|:---|:---|:---|:---|:---|:---|:---|:---|:---|:---|:---|\n",
      "|Count|2|2|1|1|1|1|1|1|1|1|...|\n",
      "\n",
      "|2|1629421|1629420|10192050|5338230|5105141|156023070|155291092|155291091|154552122|154515972|...|\n",
      "|:---|:---|:---|:---|:---|:---|:---|:---|:---|:---|:---|:---|\n",
      "|Count|2|2|1|1|1|1|1|1|1|1|...|\n",
      "\n",
      "|3|Squires|\n",
      "|:---|:---|\n",
      "|Count|10490|\n",
      "\n",
      "|4|id10275|id10274|id10273|id10272|id10271|id10270|id10269|id10268|id10267|id10266|...|\n",
      "|:---|:---|:---|:---|:---|:---|:---|:---|:---|:---|:---|:---|\n",
      "|Count|1|1|1|1|1|1|1|1|1|1|...|\n",
      "\n",
      "|5|0|\n",
      "|:---|:---|\n",
      "|Count|10490|\n",
      "\n",
      "|6|+|-|\n",
      "|:---|:---|:---|\n",
      "|Count|5349|5141|\n",
      "\n",
      "\n"
     ]
    }
   ],
   "source": [
    "infile=\"./PTM_Original_Datasets/m5C_Squires_hg38.bed\"\n",
    "PMID = \"22344696\"\n",
    "cell = \"HeLa\"\n",
    "modification = \"m5C\"\n",
    "method = \"bisulfite_seq\"\n",
    "author = \"Squires\"\n",
    "outfile = \"./PTM_Clean_Datasets/{}_{}_{}_hg38_cleaned.bed\".format(author, modification, cell, method)\n",
    "\n",
    "file_summary(infile)"
   ]
  },
  {
   "cell_type": "code",
   "execution_count": 13,
   "metadata": {
    "collapsed": false,
    "scrolled": true
   },
   "outputs": [
    {
     "name": "stdout",
     "output_type": "stream",
     "text": [
      "10490 Lines processed\t10490 Lines pass\t0 Lines filtered out\t0 Lines fail\n",
      "\n",
      "Filename:\t./PTM_Clean_Dataset/Squires_m5C_HeLa_hg38_cleaned.bed\n",
      "Total lines:\t10496\n",
      "\n",
      "0\t# Data cleaned, converted to BED6, coordinate converted to hg38 using liftOver\n",
      "1\t# Maurits Evers (maurits.evers@anu.edu.au)\n",
      "2\t# Data cleaned and standardized. 2016-06-08 12:23:48.676446\n",
      "3\t# Adrien Leger (aleg@ebi.ac.uk)\n",
      "4\t# RNA_modification=m5C|Cell_type=HeLa|Analysis_method=bisulfite_seq|Pubmed_ID=22344696\n",
      "5\t# chrom\tchromstart\tchromend\tmodif|cell_type|method|PMID|loci\tscore\tstrand\n",
      "6\tchr1\t631539\t631540\tm5C|HeLa|bisulfite_seq|22344696|-\t0\t+\n",
      "7\tchr1\t631540\t631541\tm5C|HeLa|bisulfite_seq|22344696|-\t0\t+\n",
      "8\tchr1\t632285\t632286\tm5C|HeLa|bisulfite_seq|22344696|-\t0\t+\n",
      "9\tchr1\t632286\t632287\tm5C|HeLa|bisulfite_seq|22344696|-\t0\t+\n",
      "\n",
      "10491\tchrX\t155291091\t155291092\tm5C|HeLa|bisulfite_seq|22344696|-\t0\t-\n",
      "10492\tchrX\t156023069\t156023070\tm5C|HeLa|bisulfite_seq|22344696|-\t0\t+\n",
      "10493\tchrY\t5105140\t5105141\tm5C|HeLa|bisulfite_seq|22344696|-\t0\t+\n",
      "10494\tchrY\t5338229\t5338230\tm5C|HeLa|bisulfite_seq|22344696|-\t0\t-\n",
      "10495\tchrY\t10192049\t10192050\tm5C|HeLa|bisulfite_seq|22344696|-\t0\t-\n",
      "\n",
      "Found 10 colums\n",
      "First line found\n",
      "|0|chr1|chr17|chr19|chr11|chr3|chr6|chr2|chr5|chr12|chr7|...|\n",
      "|:---|:---|:---|:---|:---|:---|:---|:---|:---|:---|:---|:---|\n",
      "|Count|1169|734|660|659|621|608|582|576|497|472|...|\n",
      "\n",
      "|1|1629420|1629419|10192049|5338229|5105140|156023069|155291091|155291090|154552121|154515971|...|\n",
      "|:---|:---|:---|:---|:---|:---|:---|:---|:---|:---|:---|:---|\n",
      "|Count|2|2|1|1|1|1|1|1|1|1|...|\n",
      "\n",
      "|2|1629421|1629420|10192050|5338230|5105141|156023070|155291092|155291091|154552122|154515972|...|\n",
      "|:---|:---|:---|:---|:---|:---|:---|:---|:---|:---|:---|:---|\n",
      "|Count|2|2|1|1|1|1|1|1|1|1|...|\n",
      "\n",
      "|3|m5C|\n",
      "|:---|:---|\n",
      "|Count|10490|\n",
      "\n",
      "|4|HeLa|\n",
      "|:---|:---|\n",
      "|Count|10490|\n",
      "\n",
      "|5|bisulfite_seq|\n",
      "|:---|:---|\n",
      "|Count|10490|\n",
      "\n",
      "|6|22344696|\n",
      "|:---|:---|\n",
      "|Count|10490|\n",
      "\n",
      "|7|-|\n",
      "|:---|:---|\n",
      "|Count|10490|\n",
      "\n",
      "|8|0|\n",
      "|:---|:---|\n",
      "|Count|10490|\n",
      "\n",
      "|9|+|-|\n",
      "|:---|:---|:---|\n",
      "|Count|5349|5141|\n",
      "\n"
     ]
    }
   ],
   "source": [
    "# chrom\tchromstart\tchromend\tmodif|cell_type|method|PMID|loci\tscore\tstrand\\n\"\n",
    "\n",
    "init_template=[0,\"\\t\",1,\"\\t\",2,\"\\t\",3,\"|\",4,\"\\t\",5,\"\\t\",6]\n",
    "final_template=[0,\"\\t\",1,\"\\t\",2,\"\\t\",modification,\"|\",cell,\"|\",method,\"|\",PMID,\"|-\\t\",5,\"\\t\",6]\n",
    "\n",
    "reformat_table(\n",
    "    input_file=infile,\n",
    "    output_file=outfile,\n",
    "    init_template=init_template,\n",
    "    final_template=final_template,\n",
    "    keep_original_header = False,\n",
    "    header = generate_header(PMID, cell, modification, method),\n",
    "    replace_internal_space='_',\n",
    "    replace_null_val=\"-\")\n",
    "\n",
    "file_summary(outfile)"
   ]
  },
  {
   "cell_type": "code",
   "execution_count": 24,
   "metadata": {
    "collapsed": false,
    "scrolled": false
   },
   "outputs": [
    {
     "data": {
      "image/png": "[encoded data removed]",
      "text/plain": [
       "<matplotlib.figure.Figure at 0x7fa424ccc630>"
      ]
     },
     "metadata": {},
     "output_type": "display_data"
    }
   ],
   "source": [
    "distrib_peak_len(outfile)"
   ]
  },
  {
   "cell_type": "markdown",
   "metadata": {},
   "source": [
    "**1 nt wide peaks = No problem with this dataset. Since there are no gene loci, I just filed the field with a dash to indicate that it is empty**"
   ]
  },
  {
   "cell_type": "markdown",
   "metadata": {},
   "source": [
    "---\n",
    "### m6A_Dominissini_hg38"
   ]
  },
  {
   "cell_type": "code",
   "execution_count": 51,
   "metadata": {
    "collapsed": false,
    "scrolled": true
   },
   "outputs": [
    {
     "name": "stdout",
     "output_type": "stream",
     "text": [
      "Filename:\t./PTM_Original_Datasets/m6A_Dominissini_hg38.bed\n",
      "Total lines:\t25782\n",
      "\n",
      "0\t# Transcriptome-wide map of m6A [hg38 coordinates]\n",
      "1\t# Reference: Dominissini et al., Nature 485, 201 (2012) [PMID 22575960, DOI 10.1038/nature11112]\n",
      "2\t#\n",
      "3\t# Data cleaned and converted to BED6, coordinate conversion to hg38 using liftOver.\n",
      "4\t# Maintainer: Maurits Evers (maurits.evers@anu.edu.au)\n",
      "5\t#\n",
      "6\tchr1\t10000\t10156\tDominissini|NR_003285|NR_003285\t0\t+\n",
      "7\tchr1\t10000\t12006\tDominissini|NR_003286|NR_003286\t0\t+\n",
      "8\tchr1\t10000\t15207\tDominissini|NR_003287|NR_003287\t0\t+\n",
      "9\tchr1\t14405\t29358\tDominissini|FLJ00038|iduc009viw.1\t0\t-\n",
      "\n",
      "25777\tchrY\t25975511\t25988101\tDominissini|PRY|iduc004fxh.1\t0\t+\n",
      "25778\tchrY\t56954307\t56968975\tDominissini|SPRY3|iduc004fxi.1\t0\t+\n",
      "25779\tchrY\t57067874\t57130276\tDominissini|VAMP7|iduc004fxj.1\t0\t+\n",
      "25780\tchrY\t57184099\t57197337\tDominissini|IL9R|iduc004fxn.1\t0\t+\n",
      "25781\tchrY\t57208832\t57212183\tDominissini|WASH1|iduc010nxs.1\t0\t+\n",
      "\n",
      "|0|chr1|chr19|chr2|chr11|chr17|chr6|chr15|chr3|chr7|chr12|...|\n",
      "|:---|:---|:---|:---|:---|:---|:---|:---|:---|:---|:---|:---|\n",
      "|Count|2458|1665|1571|1566|1477|1370|1350|1312|1299|1229|...|\n",
      "\n",
      "|1|10000|22439591|22308857|2752294|155061623|154398375|52495831|2691185|2664302|2609390|...|\n",
      "|:---|:---|:---|:---|:---|:---|:---|:---|:---|:---|:---|:---|\n",
      "|Count|3|2|2|2|2|2|2|2|2|2|...|\n",
      "\n",
      "|2|2500974|101560403|93576202|107481853|22146831|155071361|153744726|52500812|2741309|2666039|...|\n",
      "|:---|:---|:---|:---|:---|:---|:---|:---|:---|:---|:---|:---|\n",
      "|Count|4|3|3|3|2|2|2|2|2|2|...|\n",
      "\n",
      "|3|Dominissini|\n",
      "|:---|:---|\n",
      "|Count|25776|\n",
      "\n",
      "|4|DQ587539|DQ590589|FKSG56|DQ571461|DQ576951|DQ599872|DQ599768|DQ575686|DQ593188|DQ576952|...|\n",
      "|:---|:---|:---|:---|:---|:---|:---|:---|:---|:---|:---|:---|\n",
      "|Count|15|14|11|10|9|9|9|8|8|8|...|\n",
      "\n",
      "|5|iduc010nxs.1|iduc004fxn.1|iduc004fxj.1|iduc004fxi.1|iduc004fxh.1|iduc004fxg.1|iduc004fxf.1|iduc004fxd.1|iduc004fxc.1|iduc004fxb.1|...|\n",
      "|:---|:---|:---|:---|:---|:---|:---|:---|:---|:---|:---|:---|\n",
      "|Count|1|1|1|1|1|1|1|1|1|1|...|\n",
      "\n",
      "|6|0|\n",
      "|:---|:---|\n",
      "|Count|25776|\n",
      "\n",
      "|7|+|-|\n",
      "|:---|:---|:---|\n",
      "|Count|13088|12688|\n",
      "\n",
      "\n"
     ]
    }
   ],
   "source": [
    "infile=\"./PTM_Original_Datasets/m6A_Dominissini_hg38.bed\"\n",
    "PMID = \"22575960\"\n",
    "cell = \"HepG2\"\n",
    "modification = \"m6A\"\n",
    "method = \"M6A_seq\"\n",
    "author = \"Dominissini\"\n",
    "outfile = \"./PTM_Clean_Datasets/{}_{}_{}_hg38_cleaned.bed\".format(author, modification, cell, method)\n",
    "\n",
    "file_summary(infile)"
   ]
  },
  {
   "cell_type": "code",
   "execution_count": 4,
   "metadata": {
    "collapsed": false,
    "scrolled": false
   },
   "outputs": [
    {
     "data": {
      "image/png": "[encoded data removed]",
      "text/plain": [
       "<matplotlib.figure.Figure at 0x7fcd6441b7f0>"
      ]
     },
     "metadata": {},
     "output_type": "display_data"
    }
   ],
   "source": [
    "distrib_peak_len(infile, normed=False, bins=500)"
   ]
  },
  {
   "cell_type": "markdown",
   "metadata": {},
   "source": [
    "**Apparently there is a problem in the data since some of the peaks can be up to 3 500 000 with is much longer than initially described in the paper. I dowloaded the original peak calling file from the sup data of the paper to compare with this datafile.**"
   ]
  },
  {
   "cell_type": "code",
   "execution_count": 30,
   "metadata": {
    "collapsed": false,
    "scrolled": true
   },
   "outputs": [
    {
     "name": "stdout",
     "output_type": "stream",
     "text": [
      "Filename:\t./PTM_Original_Datasets/m6A_Dominissini_hg19_original_table.csv\n",
      "Total lines:\t25919\n",
      "\n",
      "0\t#chr\ttxStart\ttxEnd\tstrand\tgeneSymbol\n",
      "1\tchr1\t24475\t25940\t-\tF379\n",
      "2\tchr1\t58953\t59871\t+\tOR4F5\n",
      "3\tchr1\t127586\t128558\t-\tDQ580039\n",
      "4\tchr1\t129367\t129428\t-\tDQ600587\n",
      "5\tchr1\t310946\t310977\t+\tDQ599874\n",
      "6\tchr1\t311008\t311086\t+\tDQ599768\n",
      "7\tchr1\t314322\t314353\t+\tDQ574670\n",
      "8\tchr1\t314353\t314385\t+\tDQ596298\n",
      "9\tchr1\t314432\t314501\t+\tDQ599768\n",
      "\n",
      "25914\tchrY\t22700500\t22702366\t+\tTTY6\n",
      "25915\tchrY\t57764372\t57767722\t+\tWASH1\n",
      "25916\tchr1\t1\t156\t+\tNR_003285\n",
      "25917\tchr1\t1\t1869\t+\tNR_003286\n",
      "25918\tchr1\t1\t5070\t+\tNR_003287\n",
      "\n",
      "|0|chr1|chr19|chr2|chr11|chr17|chr6|chr15|chr7|chr3|chr12|...|\n",
      "|:---|:---|:---|:---|:---|:---|:---|:---|:---|:---|:---|:---|\n",
      "|Count|2501|1668|1576|1566|1480|1370|1362|1326|1312|1233|...|\n",
      "\n",
      "|1|1|46717826|3447992|73075997|72861477|95740887|22995127|22864393|2680336|153943093|...|\n",
      "|:---|:---|:---|:---|:---|:---|:---|:---|:---|:---|:---|:---|\n",
      "|Count|3|2|2|2|2|2|2|2|2|2|...|\n",
      "\n",
      "|2|2429015|101096493|92494109|107825998|47848011|35774471|73076608|74671945|153987177|22702366|...|\n",
      "|:---|:---|:---|:---|:---|:---|:---|:---|:---|:---|:---|:---|\n",
      "|Count|4|3|3|3|2|2|2|2|2|2|...|\n",
      "\n",
      "|3|+|-|\n",
      "|:---|:---|:---|\n",
      "|Count|13140|12778|\n",
      "\n",
      "|4|DQ587539|DQ590589|FKSG56|DQ571461|DQ576951|DQ599872|DQ599768|TCRB|DQ575686|DQ593188|...|\n",
      "|:---|:---|:---|:---|:---|:---|:---|:---|:---|:---|:---|:---|\n",
      "|Count|15|14|11|10|9|9|9|8|8|8|...|\n",
      "\n",
      "\n"
     ]
    }
   ],
   "source": [
    "infile=\"./PTM_Original_Datasets/m6A_Dominissini_hg19_original_table.csv\"\n",
    "file_summary(infile)"
   ]
  },
  {
   "cell_type": "code",
   "execution_count": 26,
   "metadata": {
    "collapsed": false,
    "scrolled": true
   },
   "outputs": [
    {
     "data": {
      "image/png": "[encoded data removed]",
      "text/plain": [
       "<matplotlib.figure.Figure at 0x7fcd344d5400>"
      ]
     },
     "metadata": {},
     "output_type": "display_data"
    }
   ],
   "source": [
    "distrib_peak_len(infile, normed=False, bins=500)"
   ]
  },
  {
   "cell_type": "code",
   "execution_count": 27,
   "metadata": {
    "collapsed": false,
    "scrolled": true
   },
   "outputs": [
    {
     "data": {
      "image/png": "[encoded data removed]",
      "text/plain": [
       "<matplotlib.figure.Figure at 0x7fcd347b1a90>"
      ]
     },
     "metadata": {},
     "output_type": "display_data"
    }
   ],
   "source": [
    "distrib_peak_len(infile, normed=False, range=[1,2000], bins=500)"
   ]
  },
  {
   "cell_type": "code",
   "execution_count": 28,
   "metadata": {
    "collapsed": false
   },
   "outputs": [
    {
     "data": {
      "image/png": "[encoded data removed]",
      "text/plain": [
       "<matplotlib.figure.Figure at 0x7fcd3464dbe0>"
      ]
     },
     "metadata": {},
     "output_type": "display_data"
    }
   ],
   "source": [
    "distrib_peak_len(infile, normed=False, range=[1,200], bins=200)"
   ]
  },
  {
   "cell_type": "markdown",
   "metadata": {},
   "source": [
    "**The same problem is also found in the original data, though the values only goes up to 2 500 000... I think that long peaks were improperly called... Looking at the data in detail we can see that most of the peaks are found in the 1 to 130 range. There is also a second smaller peak around 1000. Looking at the original article the mapping was done on the human transcriptome and not the genome. Apparently the coordinates were converted to the genome after and that might explain this decrepancy. I have 2 options => Starting from scratch with a recent genome build, but the dataset seems quite tricky and I am not sure I could do it as well as the original authors. The second option is to be retrictive and keep only the small peaks ie > 1000 pb. I think that I will start by this alternative and go back to the data again if needed. To be sure of the quality of the data I will start from the original data and do the liftover conversion myself.**"
   ]
  },
  {
   "cell_type": "code",
   "execution_count": 52,
   "metadata": {
    "collapsed": false,
    "scrolled": true
   },
   "outputs": [
    {
     "name": "stdout",
     "output_type": "stream",
     "text": [
      "25918 Lines processed\t2994 Lines pass\t22924 Lines filtered out\t0 Lines fail\n",
      "\n",
      "Filename:\t./PTM_Clean_Datasets/Dominissini_m6A_HepG2_hg19_cleaned.bed\n",
      "Total lines:\t3000\n",
      "\n",
      "0\t# Data cleaned, converted to BED6, coordinate converted to hg38 using liftOver\n",
      "1\t# Maurits Evers (maurits.evers@anu.edu.au)\n",
      "2\t# Data cleaned and standardized. 2016-06-13 14:24:15.657786\n",
      "3\t# Adrien Leger (aleg@ebi.ac.uk)\n",
      "4\t# RNA_modification=m6A|Cell_type=HepG2|Analysis_method=M6A_seq|Pubmed_ID=22575960\n",
      "5\t# chrom\tchromstart\tchromend\tmodif|cell_type|method|PMID|loci\tscore\tstrand\n",
      "6\tchr1\t58953\t59871\tm6A|HepG2|M6A_seq|22575960|OR4F5\t-\t+\n",
      "7\tchr1\t127586\t128558\tm6A|HepG2|M6A_seq|22575960|DQ580039\t-\t-\n",
      "8\tchr1\t129367\t129428\tm6A|HepG2|M6A_seq|22575960|DQ600587\t-\t-\n",
      "9\tchr1\t310946\t310977\tm6A|HepG2|M6A_seq|22575960|DQ599874\t-\t+\n",
      "\n",
      "2995\tchrX\t76056091\t76056179\tm6A|HepG2|M6A_seq|22575960|DJ442759\t-\t-\n",
      "2996\tchrX\t95478740\t95479557\tm6A|HepG2|M6A_seq|22575960|LOC643486\t-\t-\n",
      "2997\tchrX\t109354872\t109354944\tm6A|HepG2|M6A_seq|22575960|SNORD96B\t-\t-\n",
      "2998\tchrX\t138833983\t138834005\tm6A|HepG2|M6A_seq|22575960|CS548486\t-\t-\n",
      "2999\tchr1\t1\t156\tm6A|HepG2|M6A_seq|22575960|NR_003285\t-\t+\n",
      "\n",
      "|0|chr15|chr11|chr1|chr6|chr17|chr7|chr14|chr19|chr9|chr16|...|\n",
      "|:---|:---|:---|:---|:---|:---|:---|:---|:---|:---|:---|:---|\n",
      "|Count|589|293|222|190|188|172|160|154|150|98|...|\n",
      "\n",
      "|1|73075997|720013|13627924|100114700|1|138833983|109354872|95478740|76056091|56779945|...|\n",
      "|:---|:---|:---|:---|:---|:---|:---|:---|:---|:---|:---|:---|\n",
      "|Count|2|2|2|2|1|1|1|1|1|1|...|\n",
      "\n",
      "|2|73076608|720042|13628535|156|138834005|109354944|95479557|76056179|56780742|51950584|...|\n",
      "|:---|:---|:---|:---|:---|:---|:---|:---|:---|:---|:---|:---|\n",
      "|Count|2|2|2|1|1|1|1|1|1|1|...|\n",
      "\n",
      "|3|m6A|\n",
      "|:---|:---|\n",
      "|Count|2994|\n",
      "\n",
      "|4|HepG2|\n",
      "|:---|:---|\n",
      "|Count|2994|\n",
      "\n",
      "|5|M6A_seq|\n",
      "|:---|:---|\n",
      "|Count|2994|\n",
      "\n",
      "|6|22575960|\n",
      "|:---|:---|\n",
      "|Count|2994|\n",
      "\n",
      "|7|DQ587539|DQ590589|FKSG56|DQ576951|DQ599872|DQ599768|DQ571461|DQ575686|DQ593188|DQ576952|...|\n",
      "|:---|:---|:---|:---|:---|:---|:---|:---|:---|:---|:---|:---|\n",
      "|Count|15|14|11|9|9|9|8|8|8|8|...|\n",
      "\n",
      "|8|-|\n",
      "|:---|:---|\n",
      "|Count|2994|\n",
      "\n",
      "|9|+|-|\n",
      "|:---|:---|:---|\n",
      "|Count|1543|1451|\n",
      "\n",
      "\n"
     ]
    }
   ],
   "source": [
    "# chrom\tchromstart\tchromend\tmodif|cell_type|method|PMID|loci\tscore\tstrand\\n\"\n",
    "infile=\"./PTM_Original_Datasets/m6A_Dominissini_hg19_original_table.csv\"\n",
    "outfile = \"./PTM_Clean_Datasets/Dominissini_m6A_HepG2_hg19_cleaned.bed\"\n",
    "\n",
    "init_template=[0,\"\\t\",1,\"\\t\",2,\"\\t\",3,\"\\t\",4]\n",
    "final_template=[0,\"\\t\",1,\"\\t\",2,\"\\t\",modification,\"|\",cell,\"|\",method,\"|\",PMID,\"|\",4,\"\\t-\\t\",3]\n",
    "\n",
    "# Predicate function to filter out large peaks \n",
    "predicate = lambda val_list: abs(int(val_list[1])-int(val_list[2])) <= 1000\n",
    "\n",
    "reformat_table(\n",
    "    input_file=infile,\n",
    "    output_file=outfile,\n",
    "    init_template=init_template,\n",
    "    final_template=final_template,\n",
    "    keep_original_header = False,\n",
    "    header = generate_header(PMID, cell, modification, method),\n",
    "    replace_internal_space='_',\n",
    "    replace_null_val=\"-\",\n",
    "    predicate = predicate)\n",
    "\n",
    "file_summary(outfile)"
   ]
  },
  {
   "cell_type": "markdown",
   "metadata": {},
   "source": [
    "**The filtering based on the peak length size remove a lot of peaks = nearly 90 % of the dataset**"
   ]
  },
  {
   "cell_type": "code",
   "execution_count": 53,
   "metadata": {
    "collapsed": false,
    "scrolled": true
   },
   "outputs": [
    {
     "name": "stdout",
     "output_type": "stream",
     "text": [
      "\n",
      "@ 2016-06-13 14:24:41: Read chain_file:  ../LiftOver_chain_files/hg19ToHg38.over.chain.gz\n",
      "\n",
      "Filename:\t./PTM_Clean_Datasets/Dominissini_m6A_HepG2_hg38_cleaned.bed\n",
      "Total lines:\t2900\n",
      "\n",
      "0\t# Data cleaned, converted to BED6, coordinate converted to hg38 using liftOver\n",
      "1\t# Maurits Evers (maurits.evers@anu.edu.au)\n",
      "2\t# Data cleaned and standardized. 2016-06-13 14:24:42.098489\n",
      "3\t# Adrien Leger (aleg@ebi.ac.uk)\n",
      "4\t# RNA_modification=m6A|Cell_type=HepG2|Analysis_method=M6A_seq|Pubmed_ID=22575960\n",
      "5\t# chrom\tchromstart\tchromend\tmodif|cell_type|method|PMID|loci\tscore\tstrand\n",
      "6\tchr1\t58953\t59871\tm6A|HepG2|M6A_seq|22575960|OR4F5\t+\t+\n",
      "7\tchr1\t127586\t128558\tm6A|HepG2|M6A_seq|22575960|DQ580039\t-\t-\n",
      "8\tchr1\t129367\t129428\tm6A|HepG2|M6A_seq|22575960|DQ600587\t-\t-\n",
      "9\tchr1\t501020\t501617\tm6A|HepG2|M6A_seq|22575960|DQ574721\t-\t-\n",
      "\n",
      "2895\tchrX\t56753512\t56754309\tm6A|HepG2|M6A_seq|22575960|LOC442454\t-\t-\n",
      "2896\tchrX\t76835666\t76835754\tm6A|HepG2|M6A_seq|22575960|DJ442759\t-\t-\n",
      "2897\tchrX\t96223741\t96224558\tm6A|HepG2|M6A_seq|22575960|LOC643486\t-\t-\n",
      "2898\tchrX\t110111644\t110111716\tm6A|HepG2|M6A_seq|22575960|SNORD96B\t-\t-\n",
      "2899\tchrX\t139751824\t139751846\tm6A|HepG2|M6A_seq|22575960|CS548486\t-\t-\n",
      "\n",
      "|0|chr15|chr11|chr1|chr6|chr17|chr14|chr7|chr19|chr9|chr16|...|\n",
      "|:---|:---|:---|:---|:---|:---|:---|:---|:---|:---|:---|:---|\n",
      "|Count|569|293|191|190|171|171|163|151|143|98|...|\n",
      "\n",
      "|1|72783656|13586424|99574495|139751824|110111644|96223741|76835666|56753512|52207330|52080086|...|\n",
      "|:---|:---|:---|:---|:---|:---|:---|:---|:---|:---|:---|:---|\n",
      "|Count|2|2|2|1|1|1|1|1|1|1|...|\n",
      "\n",
      "|2|72784267|13587035|139751846|110111716|96224558|76835754|56754309|52207457|52080213|50922622|...|\n",
      "|:---|:---|:---|:---|:---|:---|:---|:---|:---|:---|:---|:---|\n",
      "|Count|2|2|1|1|1|1|1|1|1|1|...|\n",
      "\n",
      "|3|m6A|\n",
      "|:---|:---|\n",
      "|Count|2894|\n",
      "\n",
      "|4|HepG2|\n",
      "|:---|:---|\n",
      "|Count|2894|\n",
      "\n",
      "|5|M6A_seq|\n",
      "|:---|:---|\n",
      "|Count|2894|\n",
      "\n",
      "|6|22575960|\n",
      "|:---|:---|\n",
      "|Count|2894|\n",
      "\n",
      "|7|DQ587539|FKSG56|DQ576951|DQ599872|DQ571461|DQ575686|DQ593188|DQ576952|DQ582460|DQ590589|...|\n",
      "|:---|:---|:---|:---|:---|:---|:---|:---|:---|:---|:---|:---|\n",
      "|Count|13|11|9|9|8|8|8|8|8|8|...|\n",
      "\n",
      "|8|-|+|\n",
      "|:---|:---|:---|\n",
      "|Count|1471|1423|\n",
      "\n",
      "|9|-|+|\n",
      "|:---|:---|:---|\n",
      "|Count|1471|1423|\n",
      "\n",
      "\n"
     ]
    }
   ],
   "source": [
    "# Conversion to hg38 with Crossmap/liftover\n",
    "lifover_chainfile = \"../LiftOver_chain_files/hg19ToHg38.over.chain.gz\"\n",
    "input_bed = \"./PTM_Clean_Datasets/Dominissini_m6A_HepG2_hg19_cleaned.bed\"\n",
    "temp_bed = \"./PTM_Clean_Datasets/Dominissini_m6A_HepG2_hg38_temp.bed\"\n",
    "\n",
    "cmd = \"CrossMap.py bed {} {} {}\".format(lifover_chainfile, input_bed, temp_bed)  \n",
    "bash(cmd)\n",
    "\n",
    "# Rewriting and updating of the header removed by Crossmap\n",
    "final_bed = \"./PTM_Clean_Datasets/Dominissini_m6A_HepG2_hg38_cleaned.bed\"\n",
    "header = generate_header(PMID, cell, modification, method)\n",
    "\n",
    "with open (temp_bed, \"r\") as infile, open (final_bed, \"w\") as outfile:\n",
    "    outfile.write (header)\n",
    "    for line in infile:\n",
    "        outfile.write (line)\n",
    "\n",
    "file_summary(final_bed)"
   ]
  },
  {
   "cell_type": "code",
   "execution_count": 55,
   "metadata": {
    "collapsed": false
   },
   "outputs": [
    {
     "data": {
      "image/png": "[encoded data removed]",
      "text/plain": [
       "<matplotlib.figure.Figure at 0x7fcd34724a90>"
      ]
     },
     "metadata": {},
     "output_type": "display_data"
    }
   ],
   "source": [
    "distrib_peak_len(final_bed, normed=False, bins=200)"
   ]
  },
  {
   "cell_type": "markdown",
   "metadata": {},
   "source": [
    "**It is much better but I only have 2894 sites out of the 25000 initially in the dataset. For this first exploratory study it should be OK, but I will probably have to go back to the original data again later**"
   ]
  },
  {
   "cell_type": "markdown",
   "metadata": {},
   "source": [
    "---\n",
    "### m6A_Meyer_hg38"
   ]
  },
  {
   "cell_type": "code",
   "execution_count": 14,
   "metadata": {
    "collapsed": false,
    "scrolled": true
   },
   "outputs": [
    {
     "name": "stdout",
     "output_type": "stream",
     "text": [
      "Filename:\t./PTM_Original_Datasets/m6A_Meyer_hg38.bed\n",
      "Total lines:\t4347\n",
      "\n",
      "0\t# Transcriptome-wide map of m6A [hg38 coordinates]\n",
      "1\t# Reference: Meyer et al., Cell 149, 1635 (2012) [PMID 22608085, DOI 10.1016/j.cell.2012.05.003]\n",
      "2\t#\n",
      "3\t# Data cleaned and converted to BED6, coordinate conversion to hg38 using liftOver.\n",
      "4\t# Maintainer: Maurits Evers (maurits.evers@anu.edu.au)\n",
      "5\t#\n",
      "6\tchr1\t1055019\t1055133\tMeyer|AGRN|3'UTR\t0\t+\n",
      "7\tchr1\t1055132\t1055245\tMeyer|AGRN|3'UTR\t0\t+\n",
      "8\tchr1\t1055419\t1055620\tMeyer|AGRN|3'UTR\t0\t+\n",
      "9\tchr1\t1232619\t1232795\tMeyer|B3GALT6|CDS\t0\t+\n",
      "\n",
      "4342\tchrX\t154488410\t154488595\tMeyer|SLC10A3|CDS\t0\t-\n",
      "4343\tchrX\t154488594\t154488779\tMeyer|SLC10A3|CDS\t0\t-\n",
      "4344\tchrX\t154488778\t154488961\tMeyer|SLC10A3|Exon\t0\t-\n",
      "4345\tchrX\t155216447\t155216548\tMeyer|VBP1|Exon\t0\t+\n",
      "4346\tchrX\t155260564\t155260740\tMeyer|RAB39B|3'UTR\t0\t-\n",
      "\n",
      "|0|chr1|chr3|chr2|chr16|chr6|chrX|chr17|chr5|chr8|chr12|...|\n",
      "|:---|:---|:---|:---|:---|:---|:---|:---|:---|:---|:---|:---|\n",
      "|Count|364|269|262|240|233|232|229|221|208|199|...|\n",
      "\n",
      "|1|155260564|155216447|154488778|154488594|154488410|154461184|154460334|154421110|154420985|154398171|...|\n",
      "|:---|:---|:---|:---|:---|:---|:---|:---|:---|:---|:---|:---|\n",
      "|Count|1|1|1|1|1|1|1|1|1|1|...|\n",
      "\n",
      "|2|155260740|155216548|154488961|154488779|154488595|154461335|154460535|154421236|154421111|154398284|...|\n",
      "|:---|:---|:---|:---|:---|:---|:---|:---|:---|:---|:---|:---|\n",
      "|Count|1|1|1|1|1|1|1|1|1|1|...|\n",
      "\n",
      "|3|Meyer|\n",
      "|:---|:---|\n",
      "|Count|4341|\n",
      "\n",
      "|4|NSD1|ANKRD11|FREM2|FAM208B|ASXL1|SACS|DST|FAT4|TSHZ1|EPPK1|...|\n",
      "|:---|:---|:---|:---|:---|:---|:---|:---|:---|:---|:---|:---|\n",
      "|Count|23|17|17|17|16|15|14|14|14|13|...|\n",
      "\n",
      "|5|CDS|3'UTR|Exon|Intron|5'UTR|Gene|\n",
      "|:---|:---|:---|:---|:---|:---|:---|\n",
      "|Count|2168|1295|459|203|152|64|\n",
      "\n",
      "|6|0|\n",
      "|:---|:---|\n",
      "|Count|4341|\n",
      "\n",
      "|7|+|-|\n",
      "|:---|:---|:---|\n",
      "|Count|2217|2124|\n",
      "\n",
      "\n"
     ]
    }
   ],
   "source": [
    "infile=\"./PTM_Original_Datasets/m6A_Meyer_hg38.bed\"\n",
    "PMID = \"22608085\"\n",
    "cell = \"HEK293\"\n",
    "modification = \"m6A\"\n",
    "method = \"MeRIP_Seq\"\n",
    "author = \"Meyer\"\n",
    "outfile = \"./PTM_Clean_Datasets/{}_{}_{}_hg38_cleaned.bed\".format(author, modification, cell, method)\n",
    "\n",
    "file_summary(infile)"
   ]
  },
  {
   "cell_type": "code",
   "execution_count": 16,
   "metadata": {
    "collapsed": false,
    "scrolled": true
   },
   "outputs": [
    {
     "name": "stdout",
     "output_type": "stream",
     "text": [
      "4341 Lines processed\t4341 Lines pass\t0 Lines filtered out\t0 Lines fail\n",
      "\n",
      "Filename:\t./PTM_Clean_Datasets/Meyer_m6A_HEK293_hg38_cleaned.bed\n",
      "Total lines:\t4347\n",
      "\n",
      "0\t# Data cleaned, converted to BED6, coordinate converted to hg38 using liftOver\n",
      "1\t# Maurits Evers (maurits.evers@anu.edu.au)\n",
      "2\t# Data cleaned and standardized. 2016-06-13 12:23:21.117650\n",
      "3\t# Adrien Leger (aleg@ebi.ac.uk)\n",
      "4\t# RNA_modification=m6A|Cell_type=HEK293|Analysis_method=MeRIP_Seq|Pubmed_ID=22608085\n",
      "5\t# chrom\tchromstart\tchromend\tmodif|cell_type|method|PMID|loci\tscore\tstrand\n",
      "6\tchr1\t1055019\t1055133\tm6A|HEK293|MeRIP_Seq|22608085|AGRN\t0\t+\n",
      "7\tchr1\t1055132\t1055245\tm6A|HEK293|MeRIP_Seq|22608085|AGRN\t0\t+\n",
      "8\tchr1\t1055419\t1055620\tm6A|HEK293|MeRIP_Seq|22608085|AGRN\t0\t+\n",
      "9\tchr1\t1232619\t1232795\tm6A|HEK293|MeRIP_Seq|22608085|B3GALT6\t0\t+\n",
      "\n",
      "4342\tchrX\t154488410\t154488595\tm6A|HEK293|MeRIP_Seq|22608085|SLC10A3\t0\t-\n",
      "4343\tchrX\t154488594\t154488779\tm6A|HEK293|MeRIP_Seq|22608085|SLC10A3\t0\t-\n",
      "4344\tchrX\t154488778\t154488961\tm6A|HEK293|MeRIP_Seq|22608085|SLC10A3\t0\t-\n",
      "4345\tchrX\t155216447\t155216548\tm6A|HEK293|MeRIP_Seq|22608085|VBP1\t0\t+\n",
      "4346\tchrX\t155260564\t155260740\tm6A|HEK293|MeRIP_Seq|22608085|RAB39B\t0\t-\n",
      "\n",
      "|0|chr1|chr3|chr2|chr16|chr6|chrX|chr17|chr5|chr8|chr12|...|\n",
      "|:---|:---|:---|:---|:---|:---|:---|:---|:---|:---|:---|:---|\n",
      "|Count|364|269|262|240|233|232|229|221|208|199|...|\n",
      "\n",
      "|1|155260564|155216447|154488778|154488594|154488410|154461184|154460334|154421110|154420985|154398171|...|\n",
      "|:---|:---|:---|:---|:---|:---|:---|:---|:---|:---|:---|:---|\n",
      "|Count|1|1|1|1|1|1|1|1|1|1|...|\n",
      "\n",
      "|2|155260740|155216548|154488961|154488779|154488595|154461335|154460535|154421236|154421111|154398284|...|\n",
      "|:---|:---|:---|:---|:---|:---|:---|:---|:---|:---|:---|:---|\n",
      "|Count|1|1|1|1|1|1|1|1|1|1|...|\n",
      "\n",
      "|3|m6A|\n",
      "|:---|:---|\n",
      "|Count|4341|\n",
      "\n",
      "|4|HEK293|\n",
      "|:---|:---|\n",
      "|Count|4341|\n",
      "\n",
      "|5|MeRIP_Seq|\n",
      "|:---|:---|\n",
      "|Count|4341|\n",
      "\n",
      "|6|22608085|\n",
      "|:---|:---|\n",
      "|Count|4341|\n",
      "\n",
      "|7|NSD1|ANKRD11|FREM2|FAM208B|ASXL1|SACS|DST|FAT4|TSHZ1|EPPK1|...|\n",
      "|:---|:---|:---|:---|:---|:---|:---|:---|:---|:---|:---|:---|\n",
      "|Count|23|17|17|17|16|15|14|14|14|13|...|\n",
      "\n",
      "|8|0|\n",
      "|:---|:---|\n",
      "|Count|4341|\n",
      "\n",
      "|9|+|-|\n",
      "|:---|:---|:---|\n",
      "|Count|2217|2124|\n",
      "\n",
      "\n"
     ]
    }
   ],
   "source": [
    "# chrom\tchromstart\tchromend\tmodif|cell_type|method|PMID|loci\tscore\tstrand\\n\"\n",
    "\n",
    "init_template=[0,\"\\t\",1,\"\\t\",2,\"\\t\",3,\"|\",4,\"|\",5,\"\\t\",6,\"\\t\",7]\n",
    "final_template=[0,\"\\t\",1,\"\\t\",2,\"\\t\",modification,\"|\",cell,\"|\",method,\"|\",PMID,\"|\",4,\"\\t\",6,\"\\t\",7]\n",
    "\n",
    "reformat_table(\n",
    "    input_file=infile,\n",
    "    output_file=outfile,\n",
    "    init_template=init_template,\n",
    "    final_template=final_template,\n",
    "    keep_original_header = False,\n",
    "    header = generate_header(PMID, cell, modification, method),\n",
    "    replace_internal_space='_',\n",
    "    replace_null_val=\"-\")\n",
    "\n",
    "file_summary(outfile)"
   ]
  },
  {
   "cell_type": "code",
   "execution_count": 17,
   "metadata": {
    "collapsed": false,
    "scrolled": false
   },
   "outputs": [
    {
     "data": {
      "image/png": "[encoded data removed]",
      "text/plain": [
       "<matplotlib.figure.Figure at 0x7fcd342af128>"
      ]
     },
     "metadata": {},
     "output_type": "display_data"
    }
   ],
   "source": [
    "distrib_peak_len(outfile, bins = 100)"
   ]
  },
  {
   "cell_type": "markdown",
   "metadata": {
    "collapsed": true
   },
   "source": [
    "**The original dataset was OK and clean. Contrary to the previous dataset the width of the peaks are between 100 and 220 pb wich is clearly better. It is however interesting to notice that the peak lengths are not randomly distributed** "
   ]
  },
  {
   "cell_type": "markdown",
   "metadata": {},
   "source": [
    "---\n",
    "### miCLIP_m6A_Linder2015_hg38"
   ]
  },
  {
   "cell_type": "code",
   "execution_count": 27,
   "metadata": {
    "collapsed": false,
    "scrolled": true
   },
   "outputs": [
    {
     "name": "stdout",
     "output_type": "stream",
     "text": [
      "Filename:\t./PTM_Original_Datasets/miCLIP_m6A_Linder2015_hg38.bed\n",
      "Total lines:\t15174\n",
      "\n",
      "0\t# miCLIP-based transcriptome-wide map of m6A and m6Am sites [hg38 coordinates]\n",
      "1\t# Reference: Linder et al., Nat. Methods 12, 767 (2015) [PMID 26121403, DOI 10.1038/nmeth.3453]\n",
      "2\t# Data converted to BED from Supplementary tables S2 and S3, conversion to hg38 using liftOver.\n",
      "3\t#\n",
      "4\t# Data is part of the R package RNAModR\n",
      "5\t# Maintainer: Maurits Evers (maurits.evers@anu.edu.au)\n",
      "6\t#\n",
      "7\tchr1\t631479\t631480\tB045_1-4_chr1_f_c1[k=4][m=2]_CTACT;MIR6723;hsa-mir-6723;microRNAmir-6723\t1\t+\n",
      "8\tchr1\t634538\t634539\tB045_1-4_chr1_f_c5[k=52][m=2]_ATACC;MIR6723;hsa-mir-6723;microRNAmir-6723\t1\t+\n",
      "9\tchr1\t931395\t931396\tB045_1-4_chr1_f_c7[k=4][m=2]_AGACT;XM_005244723;ENSG00000187634;SAMD11\t1\t+\n",
      "\n",
      "15169\tchrX\t154516231\t154516232\t105216[gene=chrX_r_c40520][PH=3][PH0=0.06][P=1.02e-02]_CCATT;XM_005274713;ENSG00000071889;FAM3A\t1\t-\n",
      "15170\tchrX\t155071078\t155071079\t105658[gene=chrX_r_c40716][PH=3][PH0=0.12][P=2.81e-02]_CCATT;NM_001018024;ENSG00000182712;CMC4\t1\t-\n",
      "15171\tchrY\t10195941\t10195942\tB045_1-4_chrY_f_c14[k=17][m=2]_CGACG;XR_244578;TTTY23B;TTTY23\t1\t+\n",
      "15172\tchrY\t10200247\t10200248\tB045_1-4_chrY_f_c42[k=1122][m=17]_CGACA;XR_244578;TTTY23B;TTTY23\t1\t+\n",
      "15173\tchrY\t10200249\t10200250\tB045_1-4_chrY_f_c43[k=899][m=18]_ACACT;XR_244578;TTTY23B;TTTY23\t1\t+\n",
      "\n",
      "|0|chr1|chr19|chr17|chr16|chr2|chr3|chr6|chr11|chr12|chr5|...|\n",
      "|:---|:---|:---|:---|:---|:---|:---|:---|:---|:---|:---|:---|\n",
      "|Count|1816|1098|1043|865|827|826|798|742|712|695|...|\n",
      "\n",
      "|1|10200249|10200247|10195941|155071078|154516231|154485199|154485159|154484982|154484792|154484582|...|\n",
      "|:---|:---|:---|:---|:---|:---|:---|:---|:---|:---|:---|:---|\n",
      "|Count|1|1|1|1|1|1|1|1|1|1|...|\n",
      "\n",
      "|2|10200250|10200248|10195942|155071079|154516232|154485200|154485160|154484983|154484793|154484583|...|\n",
      "|:---|:---|:---|:---|:---|:---|:---|:---|:---|:---|:---|:---|\n",
      "|Count|1|1|1|1|1|1|1|1|1|1|...|\n",
      "\n",
      "|3|B045_1-4_chrY_f_c43[k=899][m=18]_ACACT;XR_244578;TTTY23B;TTTY23|B045_1-4_chrY_f_c42[k=1122][m=17]_CGACA;XR_244578;TTTY23B;TTTY23|B045_1-4_chrY_f_c14[k=17][m=2]_CGACG;XR_244578;TTTY23B;TTTY23|105658[gene=chrX_r_c40716][PH=3][PH0=0.12][P=2.81e-02]_CCATT;NM_001018024;ENSG00000182712;CMC4|105216[gene=chrX_r_c40520][PH=3][PH0=0.06][P=1.02e-02]_CCATT;XM_005274713;ENSG00000071889;FAM3A|B045_1-4_chrX_r_c957[k=6][m=2]_TGACT;NM_014235;ENSG00000102178;UBL4A|104987[gene=chrX_r_c40453][PH=3][PH0=0.09][P=4.88e-02]_TGACT;NM_014235;ENSG00000102178;UBL4A|104977[gene=chrX_r_c40451][PH=4][PH0=0.13][P=1.15e-02]_TGACT;NM_014235;ENSG00000102178;UBL4A|B045_1-4_chrX_r_c955[k=11][m=2]_TGACA;NM_014235;ENSG00000102178;UBL4A|B045_1-4_chrX_r_c954[k=4][m=2]_AAACC;NM_014235;ENSG00000102178;UBL4A|...|\n",
      "|:---|:---|:---|:---|:---|:---|:---|:---|:---|:---|:---|:---|\n",
      "|Count|1|1|1|1|1|1|1|1|1|1|...|\n",
      "\n",
      "|4|1|2|U37;smallnucleolarRNA,C/Dbox37|ZNF503L|NCRNA00245|LC27|SPG48|hsa-mir-1226;microRNA1226|F1AA|U62|...|\n",
      "|:---|:---|:---|:---|:---|:---|:---|:---|:---|:---|:---|:---|\n",
      "|Count|13226|844|41|20|17|11|10|10|10|9|...|\n",
      "\n",
      "|5|+|-|1|ZPO1|zeta|FEM1-beta|U62A;smallnucleolarRNA,C/Dbox62A|TIP39|HSU15552|OCP2|...|\n",
      "|:---|:---|:---|:---|:---|:---|:---|:---|:---|:---|:---|:---|\n",
      "|Count|7158|6912|505|15|10|10|9|9|9|8|...|\n",
      "\n",
      "\n"
     ]
    }
   ],
   "source": [
    "infile=\"./PTM_Original_Datasets/miCLIP_m6A_Linder2015_hg38.bed\"\n",
    "PMID = \"26121403\"\n",
    "cell = \"HEK293\"\n",
    "modification = \"m6A:m6Am\"\n",
    "method = \"miCLIP\"\n",
    "author = \"Linder\"\n",
    "outfile = \"./PTM_Clean_Datasets/{}_{}_{}_hg38_cleaned.bed\".format(author, modification, cell, method)\n",
    "\n",
    "file_summary(infile)"
   ]
  },
  {
   "cell_type": "code",
   "execution_count": 22,
   "metadata": {
    "collapsed": false,
    "scrolled": true
   },
   "outputs": [
    {
     "name": "stdout",
     "output_type": "stream",
     "text": [
      "15167 Lines processed\t15167 Lines pass\t0 Lines filtered out\t0 Lines fail\n",
      "\n",
      "Filename:\t./PTM_Clean_Dataset/Linder_m6A:m6Am_HEK293_hg38_cleaned.bed\n",
      "Total lines:\t15173\n",
      "\n",
      "0\t# Data cleaned, converted to BED6, coordinate converted to hg38 using liftOver\n",
      "1\t# Maurits Evers (maurits.evers@anu.edu.au)\n",
      "2\t# Data cleaned and standardized. 2016-06-08 12:27:58.239000\n",
      "3\t# Adrien Leger (aleg@ebi.ac.uk)\n",
      "4\t# RNA_modification=m6A:m6Am|Cell_type=HEK293|Analysis_method=miCLIP|Pubmed_ID=26121403\n",
      "5\t# chrom\tchromstart\tchromend\tmodif|cell_type|method|PMID|loci\tscore\tstrand\n",
      "6\tchr1\t631479\t631480\tm6A:m6Am|HEK293|miCLIP|26121403|-\t1\t+\n",
      "7\tchr1\t634538\t634539\tm6A:m6Am|HEK293|miCLIP|26121403|-\t1\t+\n",
      "8\tchr1\t931395\t931396\tm6A:m6Am|HEK293|miCLIP|26121403|-\t1\t+\n",
      "9\tchr1\t942770\t942771\tm6A:m6Am|HEK293|miCLIP|26121403|-\t2\t+\n",
      "\n",
      "15168\tchrX\t154516231\t154516232\tm6A:m6Am|HEK293|miCLIP|26121403|-\t1\t-\n",
      "15169\tchrX\t155071078\t155071079\tm6A:m6Am|HEK293|miCLIP|26121403|-\t1\t-\n",
      "15170\tchrY\t10195941\t10195942\tm6A:m6Am|HEK293|miCLIP|26121403|-\t1\t+\n",
      "15171\tchrY\t10200247\t10200248\tm6A:m6Am|HEK293|miCLIP|26121403|-\t1\t+\n",
      "15172\tchrY\t10200249\t10200250\tm6A:m6Am|HEK293|miCLIP|26121403|-\t1\t+\n",
      "\n",
      "Found 10 colums\n",
      "First line found\n",
      "|0|chr1|chr19|chr17|chr16|chr2|chr3|chr6|chr11|chr12|chr5|...|\n",
      "|:---|:---|:---|:---|:---|:---|:---|:---|:---|:---|:---|:---|\n",
      "|Count|1816|1098|1043|865|827|826|798|742|712|695|...|\n",
      "\n",
      "|1|10200249|10200247|10195941|155071078|154516231|154485199|154485159|154484982|154484792|154484582|...|\n",
      "|:---|:---|:---|:---|:---|:---|:---|:---|:---|:---|:---|:---|\n",
      "|Count|1|1|1|1|1|1|1|1|1|1|...|\n",
      "\n",
      "|2|10200250|10200248|10195942|155071079|154516232|154485200|154485160|154484983|154484793|154484583|...|\n",
      "|:---|:---|:---|:---|:---|:---|:---|:---|:---|:---|:---|:---|\n",
      "|Count|1|1|1|1|1|1|1|1|1|1|...|\n",
      "\n",
      "|3|m6A:m6Am|\n",
      "|:---|:---|\n",
      "|Count|15167|\n",
      "\n",
      "|4|HEK293|\n",
      "|:---|:---|\n",
      "|Count|15167|\n",
      "\n",
      "|5|miCLIP|\n",
      "|:---|:---|\n",
      "|Count|15167|\n",
      "\n",
      "|6|26121403|\n",
      "|:---|:---|\n",
      "|Count|15167|\n",
      "\n",
      "|7|-|\n",
      "|:---|:---|\n",
      "|Count|15167|\n",
      "\n",
      "|8|1|2|\n",
      "|:---|:---|:---|\n",
      "|Count|14255|912|\n",
      "\n",
      "|9|+|-|\n",
      "|:---|:---|:---|\n",
      "|Count|7721|7446|\n",
      "\n"
     ]
    }
   ],
   "source": [
    "# chrom\tchromstart\tchromend\tmodif|cell_type|method|PMID|loci\tscore\tstrand\\n\"\n",
    "\n",
    "init_template=[0,\"\\t\",1,\"\\t\",2,\"\\t\",3,\"\\t\",4,\"\\t\",5]\n",
    "final_template=[0,\"\\t\",1,\"\\t\",2,\"\\t\",modification,\"|\",cell,\"|\",method,\"|\",PMID,\"|-\\t\",4,\"\\t\",5]\n",
    "\n",
    "reformat_table(\n",
    "    input_file=infile,\n",
    "    output_file=outfile,\n",
    "    init_template=init_template,\n",
    "    final_template=final_template,\n",
    "    keep_original_header = False,\n",
    "    header = generate_header(PMID, cell, modification, method),\n",
    "    replace_internal_space='_',\n",
    "    replace_null_val=\"-\")\n",
    "\n",
    "file_summary(outfile)"
   ]
  },
  {
   "cell_type": "code",
   "execution_count": 28,
   "metadata": {
    "collapsed": false,
    "scrolled": false
   },
   "outputs": [
    {
     "data": {
      "image/png": "[encoded data removed]",
      "text/plain": [
       "<matplotlib.figure.Figure at 0x7fa3f539ea20>"
      ]
     },
     "metadata": {},
     "output_type": "display_data"
    }
   ],
   "source": [
    "distrib_peak_len(outfile)"
   ]
  },
  {
   "cell_type": "markdown",
   "metadata": {
    "collapsed": true
   },
   "source": [
    "**The name field is unusable since it contains a random number of fieds... I cannot parse it easily. That is not a big problem since I will reannotate the data based on the last gencode annotation realease, I did not save any of the informations contained in the original name field. With miCLIP data the peak are 1 nt wide**"
   ]
  },
  {
   "cell_type": "markdown",
   "metadata": {},
   "source": [
    "---\n",
    "### MeRIPseq_m1A_Dominissini2016_hg38"
   ]
  },
  {
   "cell_type": "code",
   "execution_count": 29,
   "metadata": {
    "collapsed": false,
    "scrolled": true
   },
   "outputs": [
    {
     "name": "stdout",
     "output_type": "stream",
     "text": [
      "Filename:\t./PTM_Original_Datasets/MeRIPseq_m1A_Dominissini2016_hg38.bed\n",
      "Total lines:\t32136\n",
      "\n",
      "0\t# MeRIP-seq-based transcriptome-wide map of m1A [hg38 coordinates]\n",
      "1\t# Reference: Dominissini et al., Nature 530, 441 (2016) [PMID 26863196, DOI 10.1038/nature16998]\n",
      "2\t# Data converted to BED from Supplementary table 1, conversion to hg38 using liftOver.\n",
      "3\t# Strand information is missing in original reference, and was added using current\n",
      "4\t# RefSeq annotation from NCBI and UCSC.\n",
      "5\t#\n",
      "6\t# Data is part of the R package RNAModR\n",
      "7\t# Maintainer: Maurits Evers (maurits.evers@anu.edu.au)\n",
      "8\t#\n",
      "9\tchr1\t17001\t17002\tNR_024540|ncRNA|HeLa\t0\t-\n",
      "\n",
      "32131\tchrX\t155216522\t155216523\tNM_001303545|5UTR|HEPG2_common_mRNA\t0\t+\n",
      "32132\tchrX\t155216526\t155216527\tNM_003372|CDS|HeLa\t0\t+\n",
      "32133\tchrX\t155612852\t155612853\tNM_001184797|5UTR|HEPG2_common_mRNA\t0\t-\n",
      "32134\tchrX\t155612855\t155612856\tNM_001184797|5UTR|HeLa\t0\t-\n",
      "32135\tchrX\t155612864\t155612865\tNM_001184797|5UTR|HEPG2_Glucose_starv_4h\t0\t-\n",
      "\n",
      "|0|chr1|chr19|chr17|chr16|chr2|chr11|chr12|chr3|chr7|chr9|...|\n",
      "|:---|:---|:---|:---|:---|:---|:---|:---|:---|:---|:---|:---|\n",
      "|Count|3277|2995|2388|1931|1919|1827|1653|1576|1575|1374|...|\n",
      "\n",
      "|1|44748959|48802691|43865288|35277131|39342516|6070631|67847429|82524426|32077360|77821200|...|\n",
      "|:---|:---|:---|:---|:---|:---|:---|:---|:---|:---|:---|:---|\n",
      "|Count|6|4|4|4|4|4|4|4|4|4|...|\n",
      "\n",
      "|2|44748960|48802692|43865289|35277132|39342517|6070632|67847430|82524427|32077361|77821201|...|\n",
      "|:---|:---|:---|:---|:---|:---|:---|:---|:---|:---|:---|:---|\n",
      "|Count|6|4|4|4|4|4|4|4|4|4|...|\n",
      "\n",
      "|3|NM_000094|NM_032888|NM_014675|NM_052843|NM_058243|NM_198576|NM_002473|NM_016333|NM_001853|NM_031407|...|\n",
      "|:---|:---|:---|:---|:---|:---|:---|:---|:---|:---|:---|:---|\n",
      "|Count|37|32|31|24|22|22|21|21|20|19|...|\n",
      "\n",
      "|4|CDS|5UTR|ncRNA|3UTR|\n",
      "|:---|:---|:---|:---|:---|\n",
      "|Count|14627|13328|2610|1562|\n",
      "\n",
      "|5|HeLa|HEPG2_common_mRNA|HEPG2_heat_shock_4h|HEPG2_Glucose_starv_4h|HEPG2_common_total_RNA|HEK293|\n",
      "|:---|:---|:---|:---|:---|:---|:---|\n",
      "|Count|8873|8550|5529|3645|3401|2129|\n",
      "\n",
      "|6|0|\n",
      "|:---|:---|\n",
      "|Count|32127|\n",
      "\n",
      "|7|+|-|\n",
      "|:---|:---|:---|\n",
      "|Count|16301|15826|\n",
      "\n",
      "\n"
     ]
    }
   ],
   "source": [
    "infile=\"./PTM_Original_Datasets/MeRIPseq_m1A_Dominissini2016_hg38.bed\"\n",
    "PMID = \"26863196\"\n",
    "cell = \"HeLa:HEK293:HepG2\"\n",
    "modification = \"m1A\"\n",
    "method = \"M1A_seq\"\n",
    "author = \"Dominissini\"\n",
    "outfile = \"./PTM_Clean_Datasets/{}_{}_{}_hg38_cleaned.bed\".format(author, modification, cell, method)\n",
    "\n",
    "file_summary(infile)"
   ]
  },
  {
   "cell_type": "markdown",
   "metadata": {
    "collapsed": true
   },
   "source": [
    "**I don't know understand some of the categories for HEPG2 cells**\n",
    "* Hela = No ambiguity \n",
    "* HEK293 = No ambiguity\n",
    "* HEPG2_common_mRNA = Unclear, but aparently looking at the data this is the general RNA dataset (including ncRNA) after peak calling in untreated HEPG2 cells  \n",
    "* HEPG2_heat_shock_4h = No ambiguity\n",
    "* HEPG2_Glucose_starv_4h = No ambiguity\n",
    "* HEPG2_common_total_RNA = Unclear, but it seems to be commons peaks shared by all the cell types."
   ]
  },
  {
   "cell_type": "code",
   "execution_count": 37,
   "metadata": {
    "collapsed": false,
    "scrolled": true
   },
   "outputs": [
    {
     "name": "stdout",
     "output_type": "stream",
     "text": [
      "32127 Lines processed\t19552 Lines pass\t12575 Lines filtered out\t0 Lines fail\n",
      "\n",
      "Filename:\t./PTM_Clean_Dataset/Dominissini_m1A_HeLa:HEK293:HepG2_hg38_cleaned.bed\n",
      "Total lines:\t19558\n",
      "\n",
      "0\t# Data cleaned, converted to BED6, coordinate converted to hg38 using liftOver\n",
      "1\t# Maurits Evers (maurits.evers@anu.edu.au)\n",
      "2\t# Data cleaned and standardized. 2016-06-08 14:27:18.116524\n",
      "3\t# Adrien Leger (aleg@ebi.ac.uk)\n",
      "4\t# RNA_modification=m1A|Cell_type=HeLa:HEK293:HepG2|Analysis_method=M1A_seq|Pubmed_ID=26863196\n",
      "5\t# chrom\tchromstart\tchromend\tmodif|cell_type|method|PMID|loci\tscore\tstrand\n",
      "6\tchr1\t17001\t17002\tm1A|HeLa|M1A_seq|26863196|NR_024540\t0\t-\n",
      "7\tchr1\t24826\t24827\tm1A|HeLa|M1A_seq|26863196|NR_024540\t0\t-\n",
      "8\tchr1\t778484\t778485\tm1A|HepG2|M1A_seq|26863196|NR_033908\t0\t-\n",
      "9\tchr1\t826715\t826716\tm1A|HeLa|M1A_seq|26863196|NR_024321\t0\t-\n",
      "\n",
      "19553\tchrX\t155071584\t155071585\tm1A|HEK293|M1A_seq|26863196|NM_001018055\t0\t+\n",
      "19554\tchrX\t155216522\t155216523\tm1A|HepG2|M1A_seq|26863196|NM_001303545\t0\t+\n",
      "19555\tchrX\t155216526\t155216527\tm1A|HeLa|M1A_seq|26863196|NM_003372\t0\t+\n",
      "19556\tchrX\t155612852\t155612853\tm1A|HepG2|M1A_seq|26863196|NM_001184797\t0\t-\n",
      "19557\tchrX\t155612855\t155612856\tm1A|HeLa|M1A_seq|26863196|NM_001184797\t0\t-\n",
      "\n",
      "Found 10 colums\n",
      "First line found\n",
      "|0|chr1|chr19|chr17|chr16|chr11|chr2|chr12|chr7|chr3|chr9|...|\n",
      "|:---|:---|:---|:---|:---|:---|:---|:---|:---|:---|:---|:---|\n",
      "|Count|1983|1908|1501|1224|1133|1115|1013|960|934|835|...|\n",
      "\n",
      "|1|44748959|112100|153934912|132023526|118727659|107628638|107000102|53686602|48802691|47171145|...|\n",
      "|:---|:---|:---|:---|:---|:---|:---|:---|:---|:---|:---|:---|\n",
      "|Count|4|3|2|2|2|2|2|2|2|2|...|\n",
      "\n",
      "|2|44748960|112101|153934913|132023527|118727660|107628639|107000103|53686603|48802692|47171146|...|\n",
      "|:---|:---|:---|:---|:---|:---|:---|:---|:---|:---|:---|:---|\n",
      "|Count|4|3|2|2|2|2|2|2|2|2|...|\n",
      "\n",
      "|3|m1A|\n",
      "|:---|:---|\n",
      "|Count|19552|\n",
      "\n",
      "|4|HeLa|HepG2|HEK293|\n",
      "|:---|:---|:---|:---|\n",
      "|Count|8873|8550|2129|\n",
      "\n",
      "|5|M1A_seq|\n",
      "|:---|:---|\n",
      "|Count|19552|\n",
      "\n",
      "|6|26863196|\n",
      "|:---|:---|\n",
      "|Count|19552|\n",
      "\n",
      "|7|NM_000094|NM_052843|NM_058243|NM_016333|NR_027409|NM_001042681|NM_002473|NM_007056|NM_001961|NR_027410|...|\n",
      "|:---|:---|:---|:---|:---|:---|:---|:---|:---|:---|:---|:---|\n",
      "|Count|25|18|16|16|14|14|13|13|13|13|...|\n",
      "\n",
      "|8|0|\n",
      "|:---|:---|\n",
      "|Count|19552|\n",
      "\n",
      "|9|+|-|\n",
      "|:---|:---|:---|\n",
      "|Count|10053|9499|\n",
      "\n"
     ]
    }
   ],
   "source": [
    "###### chrom\tchromstart\tchromend\tmodif|cell_type|method|PMID|loci\tscore\tstrand\\n\"\n",
    "\n",
    "init_template=[0,\"\\t\",1,\"\\t\",2,\"\\t\",3,\"|\",4,\"|\",5,\"\\t\",6,\"\\t\",7]\n",
    "final_template=[0,\"\\t\",1,\"\\t\",2,\"\\t\",modification,\"|\",5,\"|\",method,\"|\",PMID,\"|\",3,\"\\t\",6,\"\\t\",7]\n",
    "\n",
    "# filter out all but A>G transition which are Inosine transition\n",
    "filter_dict={5:[\"HEPG2_heat_shock_4h\",\"HEPG2_Glucose_starv_4h\",\"HEPG2_common_total_RNA\"]}\n",
    "\n",
    "# Reformat the field value A->G to A>I for standardization \n",
    "subst_dict={5:{\"HEPG2_common_mRNA\":\"HepG2\"}}\n",
    "\n",
    "reformat_table(\n",
    "    input_file=infile,\n",
    "    output_file=outfile,\n",
    "    init_template=init_template,\n",
    "    final_template=final_template,\n",
    "    keep_original_header = False,\n",
    "    header = generate_header(PMID, cell, modification, method),\n",
    "    replace_internal_space='_',\n",
    "    replace_null_val=\"-\",\n",
    "    subst_dict = subst_dict,\n",
    "    filter_dict = filter_dict\n",
    "    )\n",
    "\n",
    "file_summary(outfile)"
   ]
  },
  {
   "cell_type": "code",
   "execution_count": 30,
   "metadata": {
    "collapsed": false,
    "scrolled": false
   },
   "outputs": [
    {
     "data": {
      "image/png": "[encoded data removed]",
      "text/plain": [
       "<matplotlib.figure.Figure at 0x7fa3f549cd68>"
      ]
     },
     "metadata": {},
     "output_type": "display_data"
    }
   ],
   "source": [
    "distrib_peak_len(outfile)"
   ]
  },
  {
   "cell_type": "markdown",
   "metadata": {},
   "source": [
    "---\n",
    "### pseudoU_Carlile_hg38"
   ]
  },
  {
   "cell_type": "code",
   "execution_count": 31,
   "metadata": {
    "collapsed": false,
    "scrolled": true
   },
   "outputs": [
    {
     "name": "stdout",
     "output_type": "stream",
     "text": [
      "Filename:\t./PTM_Original_Datasets/pseudoU_Carlile_hg38.bed\n",
      "Total lines:\t14\n",
      "\n",
      "0\t# Transcriptome-wide map of pseudouridine [hg38 coordinates]\n",
      "1\t# Reference: Carlile et al., Nature 515, 143 (2014) [PMID 25192136, DOI 10.1038/nature13802]\n",
      "2\t#\n",
      "3\t# Data cleaned and converted to BED6, coordinate conversion to hg38 using liftOver.\n",
      "4\t# Maintainer: Maurits Evers (maurits.evers@anu.edu.au)\n",
      "5\t#\n",
      "6\tchr11\t62851987\t62855914\tENST00000538654|SNHG1\t1766\t-\n",
      "7\tchr11\t65497761\t65506469\tENST00000534336|MALAT1\t5160\t+\n",
      "8\tchr11\t65497761\t65506469\tENST00000534336|MALAT1\t5590\t+\n",
      "9\tchr12\t98599634\t98599883\tENST00000391141|SNORA53\t110\t+\n",
      "\n",
      "9\tchr12\t98599634\t98599883\tENST00000391141|SNORA53\t110\t+\n",
      "10\tchr17\t16438821\t16478678\tENST00000497774|FAM211A-AS1\t1537\t+\n",
      "11\tchr2\t231455799\t231455936\tENST00000384158|SNROA75\t84\t-\n",
      "12\tchr6\t52995619\t52995950\tENST00000365328|RN7SK\t250\t+\n",
      "13\tchrX\t119787352\t119787484\tENST00000383895|SNORA69\t81\t-\n",
      "\n",
      "|0|chr11|chrX|chr6|chr2|chr17|chr12|\n",
      "|:---|:---|:---|:---|:---|:---|:---|\n",
      "|Count|3|1|1|1|1|1|\n",
      "\n",
      "|1|65497761|119787352|52995619|231455799|16438821|98599634|62851987|\n",
      "|:---|:---|:---|:---|:---|:---|:---|:---|\n",
      "|Count|2|1|1|1|1|1|1|\n",
      "\n",
      "|2|65506469|119787484|52995950|231455936|16478678|98599883|62855914|\n",
      "|:---|:---|:---|:---|:---|:---|:---|:---|\n",
      "|Count|2|1|1|1|1|1|1|\n",
      "\n",
      "|3|ENST00000534336|ENST00000383895|ENST00000365328|ENST00000384158|ENST00000497774|ENST00000391141|ENST00000538654|\n",
      "|:---|:---|:---|:---|:---|:---|:---|:---|\n",
      "|Count|2|1|1|1|1|1|1|\n",
      "\n",
      "|4|MALAT1|SNORA69|RN7SK|SNROA75|FAM211A-AS1|SNORA53|SNHG1|\n",
      "|:---|:---|:---|:---|:---|:---|:---|:---|\n",
      "|Count|2|1|1|1|1|1|1|\n",
      "\n",
      "|5|81|250|84|1537|110|5590|5160|1766|\n",
      "|:---|:---|:---|:---|:---|:---|:---|:---|:---|\n",
      "|Count|1|1|1|1|1|1|1|1|\n",
      "\n",
      "|6|+|-|\n",
      "|:---|:---|:---|\n",
      "|Count|5|3|\n",
      "\n",
      "\n"
     ]
    }
   ],
   "source": [
    "infile=\"./PTM_Original_Datasets/pseudoU_Carlile_hg38.bed\"\n",
    "PMID = \"25192136\"\n",
    "cell = \"HeLa\"\n",
    "modification = \"Y\"\n",
    "method = \"Pseudo_seq\"\n",
    "author = \"Carlile\"\n",
    "outfile = \"./PTM_Clean_Datasets/{}_{}_{}_hg38_cleaned.bed\".format(author, modification, cell, method)\n",
    "\n",
    "file_summary(infile)"
   ]
  },
  {
   "cell_type": "code",
   "execution_count": 32,
   "metadata": {
    "collapsed": false,
    "scrolled": true
   },
   "outputs": [
    {
     "name": "stdout",
     "output_type": "stream",
     "text": [
      "8 Lines processed\t8 Lines pass\t0 Lines filtered out\t0 Lines fail\n",
      "\n",
      "Filename:\t./PTM_Clean_Dataset/Carlile_Y_HeLa_hg38_cleaned.bed\n",
      "Total lines:\t14\n",
      "\n",
      "0\t# Data cleaned, converted to BED6, coordinate converted to hg38 using liftOver\n",
      "1\t# Maurits Evers (maurits.evers@anu.edu.au)\n",
      "2\t# Data cleaned and standardized. 2016-06-08 14:23:30.530422\n",
      "3\t# Adrien Leger (aleg@ebi.ac.uk)\n",
      "4\t# RNA_modification=Y|Cell_type=HeLa|Analysis_method=Pseudo_seq|Pubmed_ID=25192136\n",
      "5\t# chrom\tchromstart\tchromend\tmodif|cell_type|method|PMID|loci\tscore\tstrand\n",
      "6\tchr11\t62851987\t62855914\tY|HeLa|Pseudo_seq|25192136|SNHG1\t1766\t-\n",
      "7\tchr11\t65497761\t65506469\tY|HeLa|Pseudo_seq|25192136|MALAT1\t5160\t+\n",
      "8\tchr11\t65497761\t65506469\tY|HeLa|Pseudo_seq|25192136|MALAT1\t5590\t+\n",
      "9\tchr12\t98599634\t98599883\tY|HeLa|Pseudo_seq|25192136|SNORA53\t110\t+\n",
      "\n",
      "9\tchr12\t98599634\t98599883\tY|HeLa|Pseudo_seq|25192136|SNORA53\t110\t+\n",
      "10\tchr17\t16438821\t16478678\tY|HeLa|Pseudo_seq|25192136|FAM211A-AS1\t1537\t+\n",
      "11\tchr2\t231455799\t231455936\tY|HeLa|Pseudo_seq|25192136|SNROA75\t84\t-\n",
      "12\tchr6\t52995619\t52995950\tY|HeLa|Pseudo_seq|25192136|RN7SK\t250\t+\n",
      "13\tchrX\t119787352\t119787484\tY|HeLa|Pseudo_seq|25192136|SNORA69\t81\t-\n",
      "\n",
      "Found 10 colums\n",
      "First line found\n",
      "|0|chr11|chrX|chr6|chr2|chr17|chr12|\n",
      "|:---|:---|:---|:---|:---|:---|:---|\n",
      "|Count|3|1|1|1|1|1|\n",
      "\n",
      "|1|65497761|119787352|52995619|231455799|16438821|98599634|62851987|\n",
      "|:---|:---|:---|:---|:---|:---|:---|:---|\n",
      "|Count|2|1|1|1|1|1|1|\n",
      "\n",
      "|2|65506469|119787484|52995950|231455936|16478678|98599883|62855914|\n",
      "|:---|:---|:---|:---|:---|:---|:---|:---|\n",
      "|Count|2|1|1|1|1|1|1|\n",
      "\n",
      "|3|Y|\n",
      "|:---|:---|\n",
      "|Count|8|\n",
      "\n",
      "|4|HeLa|\n",
      "|:---|:---|\n",
      "|Count|8|\n",
      "\n",
      "|5|Pseudo_seq|\n",
      "|:---|:---|\n",
      "|Count|8|\n",
      "\n",
      "|6|25192136|\n",
      "|:---|:---|\n",
      "|Count|8|\n",
      "\n",
      "|7|MALAT1|SNORA69|RN7SK|SNROA75|FAM211A-AS1|SNORA53|SNHG1|\n",
      "|:---|:---|:---|:---|:---|:---|:---|:---|\n",
      "|Count|2|1|1|1|1|1|1|\n",
      "\n",
      "|8|81|250|84|1537|110|5590|5160|1766|\n",
      "|:---|:---|:---|:---|:---|:---|:---|:---|:---|\n",
      "|Count|1|1|1|1|1|1|1|1|\n",
      "\n",
      "|9|+|-|\n",
      "|:---|:---|:---|\n",
      "|Count|5|3|\n",
      "\n"
     ]
    }
   ],
   "source": [
    "# chrom\tchromstart\tchromend\tmodif|cell_type|method|PMID|loci\tscore\tstrand\\n\"\n",
    "\n",
    "init_template=[0,\"\\t\",1,\"\\t\",2,\"\\t\",3,\"|\",4,\"\\t\",5,\"\\t\",6]\n",
    "final_template=[0,\"\\t\",1,\"\\t\",2,\"\\t\",modification,\"|\",cell,\"|\",method,\"|\",PMID,\"|\",4,\"\\t\",5,\"\\t\",6]\n",
    "\n",
    "reformat_table(\n",
    "    input_file=infile,\n",
    "    output_file=outfile,\n",
    "    init_template=init_template,\n",
    "    final_template=final_template,\n",
    "    keep_original_header = False,\n",
    "    header = generate_header(PMID, cell, modification, method),\n",
    "    replace_internal_space='_',\n",
    "    replace_null_val=\"-\")\n",
    "\n",
    "file_summary(outfile)"
   ]
  },
  {
   "cell_type": "code",
   "execution_count": 32,
   "metadata": {
    "collapsed": false,
    "scrolled": true
   },
   "outputs": [
    {
     "data": {
      "image/png": "[encoded data removed]",
      "text/plain": [
       "<matplotlib.figure.Figure at 0x7fa3f5499be0>"
      ]
     },
     "metadata": {},
     "output_type": "display_data"
    }
   ],
   "source": [
    "distrib_peak_len(outfile)"
   ]
  },
  {
   "cell_type": "markdown",
   "metadata": {
    "collapsed": true
   },
   "source": [
    "**Dataset OK but only contains only 8 peaks in lncRNA. 1 of the peaks is really wide = 40000 pb The dataset contains only the 8 peaks identify in the lncRNA... The coordinates correspond to the gen coordinates rather than the peaks themselves.. Use the dataset?? Is it really worthy to remap everything for such a low number of eventual peaks?** "
   ]
  },
  {
   "cell_type": "markdown",
   "metadata": {},
   "source": [
    "### pseudoU_Li_hg38"
   ]
  },
  {
   "cell_type": "code",
   "execution_count": 33,
   "metadata": {
    "collapsed": false,
    "scrolled": true
   },
   "outputs": [
    {
     "name": "stdout",
     "output_type": "stream",
     "text": [
      "Filename:\t./PTM_Original_Datasets/pseudoU_Li_hg38.bed\n",
      "Total lines:\t1495\n",
      "\n",
      "0\t# Transcriptome-wide map of pseudouridine [hg38 coordinates]\n",
      "1\t# Reference: Li et al., Nat. Chem. Biol. 11, 592 (2015) [PMID 26075521, DOI 10.1038/nchembio.1836]\n",
      "2\t#\n",
      "3\t# Data cleaned and converted to BED6, coordinate conversion to hg38 using liftOver.\n",
      "4\t# Maintainer: Maurits Evers (maurits.evers@anu.edu.au)\n",
      "5\t#\n",
      "6\tchr1\t1051520\t1051521\tLi|AGRN|NM_198576|CDS\t0\t+\n",
      "7\tchr1\t1254956\t1254957\tLi|UBE2J2|NM_194458|3'_UTR\t0\t-\n",
      "8\tchr1\t1298603\t1298604\tLi|ACAP3|NM_030649|CDS\t0\t-\n",
      "9\tchr1\t1386884\t1386885\tLi|CCNL2|NM_030937|3'_UTR\t0\t-\n",
      "\n",
      "1490\tchrX\t154765960\t154765961\tLi|DKC1|NR_110022|noncoding\t0\t+\n",
      "1491\tchrX\t155033408\t155033409\tLi|FUNDC2|NM_023934|CDS\t0\t+\n",
      "1492\tchrX\t155054648\t155054649\tLi|FUNDC2|NM_023934|CDS\t0\t+\n",
      "1493\tchrX\t155122200\t155122201\tLi|BRCC3|NM_024332|3'_UTR\t0\t+\n",
      "1494\tchrX\t155258757\t155258758\tLi|RAB39B|NM_171998|3'_UTR\t0\t-\n",
      "\n",
      "|0|chr1|chr17|chr19|chr11|chr2|chr12|chr3|chrX|chr16|chr6|...|\n",
      "|:---|:---|:---|:---|:---|:---|:---|:---|:---|:---|:---|:---|\n",
      "|Count|169|121|108|100|97|90|69|62|60|57|...|\n",
      "\n",
      "|1|155258757|155122200|155054648|155033408|154765960|154436177|154413507|154398282|154024660|153934970|...|\n",
      "|:---|:---|:---|:---|:---|:---|:---|:---|:---|:---|:---|:---|\n",
      "|Count|1|1|1|1|1|1|1|1|1|1|...|\n",
      "\n",
      "|2|155258758|155122201|155054649|155033409|154765961|154436178|154413508|154398283|154024661|153934971|...|\n",
      "|:---|:---|:---|:---|:---|:---|:---|:---|:---|:---|:---|:---|\n",
      "|Count|1|1|1|1|1|1|1|1|1|1|...|\n",
      "\n",
      "|3|Li|\n",
      "|:---|:---|\n",
      "|Count|1489|\n",
      "\n",
      "|4|WHSC1|C7orf26|INTS1|BAG6|PRKCSH|IGF2BP1|CNOT2|HYOU1|ATP5L|MALAT1|...|\n",
      "|:---|:---|:---|:---|:---|:---|:---|:---|:---|:---|:---|:---|\n",
      "|Count|4|3|3|3|3|3|3|3|3|3|...|\n",
      "\n",
      "|5|NM_001042424|NM_024067|NM_001080453|NM_006546|NM_006389|NR_033759|NR_002819|NM_003373|NM_002631|NM_023934|...|\n",
      "|:---|:---|:---|:---|:---|:---|:---|:---|:---|:---|:---|:---|\n",
      "|Count|4|3|3|3|3|3|3|3|3|2|...|\n",
      "\n",
      "|6|CDS|3'_UTR|noncoding|5'_UTR|stop_codon|start_codon|\n",
      "|:---|:---|:---|:---|:---|:---|:---|\n",
      "|Count|779|466|141|96|6|1|\n",
      "\n",
      "|7|0|\n",
      "|:---|:---|\n",
      "|Count|1489|\n",
      "\n",
      "|8|+|-|\n",
      "|:---|:---|:---|\n",
      "|Count|788|701|\n",
      "\n",
      "\n"
     ]
    }
   ],
   "source": [
    "infile=\"./PTM_Original_Datasets/pseudoU_Li_hg38.bed\"\n",
    "PMID = \"26075521\"\n",
    "cell = \"HEK293\"\n",
    "modification = \"Y\"\n",
    "method = \"CeU_Seq\"\n",
    "author = \"Li\"\n",
    "outfile = \"./PTM_Clean_Datasets/{}_{}_{}_hg38_cleaned.bed\".format(author, modification, cell, method)\n",
    "\n",
    "file_summary(infile)"
   ]
  },
  {
   "cell_type": "code",
   "execution_count": 35,
   "metadata": {
    "collapsed": false,
    "scrolled": true
   },
   "outputs": [
    {
     "name": "stdout",
     "output_type": "stream",
     "text": [
      "1489 Lines processed\t1489 Lines pass\t0 Lines filtered out\t0 Lines fail\n",
      "\n",
      "Filename:\t./PTM_Clean_Dataset/Li_Y_HEK293_hg38_cleaned.bed\n",
      "Total lines:\t1495\n",
      "\n",
      "0\t# Data cleaned, converted to BED6, coordinate converted to hg38 using liftOver\n",
      "1\t# Maurits Evers (maurits.evers@anu.edu.au)\n",
      "2\t# Data cleaned and standardized. 2016-06-08 14:26:25.480994\n",
      "3\t# Adrien Leger (aleg@ebi.ac.uk)\n",
      "4\t# RNA_modification=Y|Cell_type=HEK293|Analysis_method=CeU_Seq|Pubmed_ID=26075521\n",
      "5\t# chrom\tchromstart\tchromend\tmodif|cell_type|method|PMID|loci\tscore\tstrand\n",
      "6\tchr1\t1051520\t1051521\tY|HEK293|CeU_Seq|26075521|AGRN\t0\t+\n",
      "7\tchr1\t1254956\t1254957\tY|HEK293|CeU_Seq|26075521|UBE2J2\t0\t-\n",
      "8\tchr1\t1298603\t1298604\tY|HEK293|CeU_Seq|26075521|ACAP3\t0\t-\n",
      "9\tchr1\t1386884\t1386885\tY|HEK293|CeU_Seq|26075521|CCNL2\t0\t-\n",
      "\n",
      "1490\tchrX\t154765960\t154765961\tY|HEK293|CeU_Seq|26075521|DKC1\t0\t+\n",
      "1491\tchrX\t155033408\t155033409\tY|HEK293|CeU_Seq|26075521|FUNDC2\t0\t+\n",
      "1492\tchrX\t155054648\t155054649\tY|HEK293|CeU_Seq|26075521|FUNDC2\t0\t+\n",
      "1493\tchrX\t155122200\t155122201\tY|HEK293|CeU_Seq|26075521|BRCC3\t0\t+\n",
      "1494\tchrX\t155258757\t155258758\tY|HEK293|CeU_Seq|26075521|RAB39B\t0\t-\n",
      "\n",
      "Found 10 colums\n",
      "First line found\n",
      "|0|chr1|chr17|chr19|chr11|chr2|chr12|chr3|chrX|chr16|chr6|...|\n",
      "|:---|:---|:---|:---|:---|:---|:---|:---|:---|:---|:---|:---|\n",
      "|Count|169|121|108|100|97|90|69|62|60|57|...|\n",
      "\n",
      "|1|155258757|155122200|155054648|155033408|154765960|154436177|154413507|154398282|154024660|153934970|...|\n",
      "|:---|:---|:---|:---|:---|:---|:---|:---|:---|:---|:---|:---|\n",
      "|Count|1|1|1|1|1|1|1|1|1|1|...|\n",
      "\n",
      "|2|155258758|155122201|155054649|155033409|154765961|154436178|154413508|154398283|154024661|153934971|...|\n",
      "|:---|:---|:---|:---|:---|:---|:---|:---|:---|:---|:---|:---|\n",
      "|Count|1|1|1|1|1|1|1|1|1|1|...|\n",
      "\n",
      "|3|Y|\n",
      "|:---|:---|\n",
      "|Count|1489|\n",
      "\n",
      "|4|HEK293|\n",
      "|:---|:---|\n",
      "|Count|1489|\n",
      "\n",
      "|5|CeU_Seq|\n",
      "|:---|:---|\n",
      "|Count|1489|\n",
      "\n",
      "|6|26075521|\n",
      "|:---|:---|\n",
      "|Count|1489|\n",
      "\n",
      "|7|WHSC1|C7orf26|INTS1|BAG6|PRKCSH|IGF2BP1|CNOT2|HYOU1|ATP5L|MALAT1|...|\n",
      "|:---|:---|:---|:---|:---|:---|:---|:---|:---|:---|:---|:---|\n",
      "|Count|4|3|3|3|3|3|3|3|3|3|...|\n",
      "\n",
      "|8|0|\n",
      "|:---|:---|\n",
      "|Count|1489|\n",
      "\n",
      "|9|+|-|\n",
      "|:---|:---|:---|\n",
      "|Count|788|701|\n",
      "\n"
     ]
    }
   ],
   "source": [
    "# chrom\tchromstart\tchromend\tmodif|cell_type|method|PMID|loci\tscore\tstrand\\n\"\n",
    "\n",
    "init_template=[0,\"\\t\",1,\"\\t\",2,\"\\t\",3,\"|\",4,\"|\",5,\"|\",6,\"\\t\",7,\"\\t\",8]\n",
    "final_template=[0,\"\\t\",1,\"\\t\",2,\"\\t\",modification,\"|\",cell,\"|\",method,\"|\",PMID,\"|\",4,\"\\t\",7,\"\\t\",8]\n",
    "\n",
    "reformat_table(\n",
    "    input_file=infile,\n",
    "    output_file=outfile,\n",
    "    init_template=init_template,\n",
    "    final_template=final_template,\n",
    "    keep_original_header = False,\n",
    "    header = generate_header(PMID, cell, modification, method),\n",
    "    replace_internal_space='_',\n",
    "    replace_null_val=\"-\")\n",
    "\n",
    "file_summary(outfile)"
   ]
  },
  {
   "cell_type": "code",
   "execution_count": 34,
   "metadata": {
    "collapsed": false,
    "scrolled": false
   },
   "outputs": [
    {
     "data": {
      "image/png": "[encoded data removed]",
      "text/plain": [
       "<matplotlib.figure.Figure at 0x7fa3f53ed438>"
      ]
     },
     "metadata": {},
     "output_type": "display_data"
    }
   ],
   "source": [
    "distrib_peak_len(outfile)"
   ]
  },
  {
   "cell_type": "markdown",
   "metadata": {},
   "source": [
    "**No problem with this dataset**"
   ]
  },
  {
   "cell_type": "markdown",
   "metadata": {},
   "source": [
    "### pseudoU_Schwartz_hg38"
   ]
  },
  {
   "cell_type": "code",
   "execution_count": 35,
   "metadata": {
    "collapsed": false,
    "scrolled": true
   },
   "outputs": [
    {
     "name": "stdout",
     "output_type": "stream",
     "text": [
      "Filename:\t./PTM_Original_Datasets/pseudoU_Schwartz_hg38.bed\n",
      "Total lines:\t402\n",
      "\n",
      "0\t# Transcriptome-wide map of pseudouridine [hg38 coordinates]\n",
      "1\t# Reference: Schwartz et al., Cell 159, 148 (2014) [PMID 25219674, DOI 10.1016/j.cell.2014.08.028]\n",
      "2\t#\n",
      "3\t# Data cleaned and converted to BED6, coordinate conversion to hg38 using liftOver.\n",
      "4\t# Maintainer: Maurits Evers (maurits.evers@anu.edu.au)\n",
      "5\t#\n",
      "6\tchr1\t1045799\t1045800\tSchwartz|AGRN\t0\t+\n",
      "7\tchr1\t6222864\t6222865\tSchwartz|ICMT\t0\t-\n",
      "8\tchr1\t6623606\t6623607\tSchwartz|PHF13\t0\t+\n",
      "9\tchr1\t16545956\t16545957\tSchwartz|TRNA_Gly\t0\t-\n",
      "\n",
      "397\tchrX\t136210827\t136210828\tSchwartz|FHL1\t0\t+\n",
      "398\tchrX\t153694609\t153694610\tSchwartz|SLC6A8\t0\t+\n",
      "399\tchrX\t153700577\t153700578\tSchwartz|BCAP31\t0\t-\n",
      "400\tchrX\t153786900\t153786901\tSchwartz|IDH3G\t0\t-\n",
      "401\tchrX\t154765960\t154765961\tSchwartz|DKC1\t0\t+\n",
      "\n",
      "|0|chr1|chr12|chr2|chr5|chr17|chr11|chr6|chr3|chrX|chr8|...|\n",
      "|:---|:---|:---|:---|:---|:---|:---|:---|:---|:---|:---|:---|\n",
      "|Count|58|30|28|27|25|24|23|22|18|18|...|\n",
      "\n",
      "|1|23917850|22829934|154765960|153786900|153700577|153694609|136210827|136210510|129592365|124077964|...|\n",
      "|:---|:---|:---|:---|:---|:---|:---|:---|:---|:---|:---|:---|\n",
      "|Count|4|2|1|1|1|1|1|1|1|1|...|\n",
      "\n",
      "|2|23917851|22829935|154765961|153786901|153700578|153694610|136210828|136210511|129592366|124077965|...|\n",
      "|:---|:---|:---|:---|:---|:---|:---|:---|:---|:---|:---|:---|\n",
      "|Count|4|2|1|1|1|1|1|1|1|1|...|\n",
      "\n",
      "|3|Schwartz|\n",
      "|:---|:---|\n",
      "|Count|396|\n",
      "\n",
      "|4|RPL15|TRNA_Val|PMPCB|MALAT1|TRNA_Glu|MCL1|SNORD21|FHL1|HNRNPH2|PLEC|...|\n",
      "|:---|:---|:---|:---|:---|:---|:---|:---|:---|:---|:---|:---|\n",
      "|Count|4|4|3|3|3|3|3|2|2|2|...|\n",
      "\n",
      "|5|0|\n",
      "|:---|:---|\n",
      "|Count|396|\n",
      "\n",
      "|6|-|+|\n",
      "|:---|:---|:---|\n",
      "|Count|198|198|\n",
      "\n",
      "\n"
     ]
    }
   ],
   "source": [
    "infile=\"./PTM_Original_Datasets/pseudoU_Schwartz_hg38.bed\"\n",
    "PMID = \"25219674\"\n",
    "cell = \"HEK293:Fibroblast\"\n",
    "modification = \"Y\"\n",
    "method = \"Psi-seq\"\n",
    "author = \"Schwartz\"\n",
    "outfile = \"./PTM_Clean_Datasets/{}_{}_{}_hg38_cleaned.bed\".format(author, modification, cell, method)\n",
    "\n",
    "file_summary(infile)"
   ]
  },
  {
   "cell_type": "code",
   "execution_count": 39,
   "metadata": {
    "collapsed": false,
    "scrolled": true
   },
   "outputs": [
    {
     "name": "stdout",
     "output_type": "stream",
     "text": [
      "396 Lines processed\t396 Lines pass\t0 Lines filtered out\t0 Lines fail\n",
      "\n",
      "Filename:\t./PTM_Clean_Dataset/Schwartz_Y_HEK293:Fibroblast_hg38_cleaned.bed\n",
      "Total lines:\t402\n",
      "\n",
      "0\t# Data cleaned, converted to BED6, coordinate converted to hg38 using liftOver\n",
      "1\t# Maurits Evers (maurits.evers@anu.edu.au)\n",
      "2\t# Data cleaned and standardized. 2016-06-08 14:30:59.408427\n",
      "3\t# Adrien Leger (aleg@ebi.ac.uk)\n",
      "4\t# RNA_modification=Y|Cell_type=HEK293:Fibroblast|Analysis_method=Psi-seq|Pubmed_ID=25219674\n",
      "5\t# chrom\tchromstart\tchromend\tmodif|cell_type|method|PMID|loci\tscore\tstrand\n",
      "6\tchr1\t1045799\t1045800\tY|HEK293:Fibroblast|Psi-seq|25219674|AGRN\t0\t+\n",
      "7\tchr1\t6222864\t6222865\tY|HEK293:Fibroblast|Psi-seq|25219674|ICMT\t0\t-\n",
      "8\tchr1\t6623606\t6623607\tY|HEK293:Fibroblast|Psi-seq|25219674|PHF13\t0\t+\n",
      "9\tchr1\t16545956\t16545957\tY|HEK293:Fibroblast|Psi-seq|25219674|TRNA_Gly\t0\t-\n",
      "\n",
      "397\tchrX\t136210827\t136210828\tY|HEK293:Fibroblast|Psi-seq|25219674|FHL1\t0\t+\n",
      "398\tchrX\t153694609\t153694610\tY|HEK293:Fibroblast|Psi-seq|25219674|SLC6A8\t0\t+\n",
      "399\tchrX\t153700577\t153700578\tY|HEK293:Fibroblast|Psi-seq|25219674|BCAP31\t0\t-\n",
      "400\tchrX\t153786900\t153786901\tY|HEK293:Fibroblast|Psi-seq|25219674|IDH3G\t0\t-\n",
      "401\tchrX\t154765960\t154765961\tY|HEK293:Fibroblast|Psi-seq|25219674|DKC1\t0\t+\n",
      "\n",
      "Found 10 colums\n",
      "First line found\n",
      "|0|chr1|chr12|chr2|chr5|chr17|chr11|chr6|chr3|chrX|chr8|...|\n",
      "|:---|:---|:---|:---|:---|:---|:---|:---|:---|:---|:---|:---|\n",
      "|Count|58|30|28|27|25|24|23|22|18|18|...|\n",
      "\n",
      "|1|23917850|22829934|154765960|153786900|153700577|153694609|136210827|136210510|129592365|124077964|...|\n",
      "|:---|:---|:---|:---|:---|:---|:---|:---|:---|:---|:---|:---|\n",
      "|Count|4|2|1|1|1|1|1|1|1|1|...|\n",
      "\n",
      "|2|23917851|22829935|154765961|153786901|153700578|153694610|136210828|136210511|129592366|124077965|...|\n",
      "|:---|:---|:---|:---|:---|:---|:---|:---|:---|:---|:---|:---|\n",
      "|Count|4|2|1|1|1|1|1|1|1|1|...|\n",
      "\n",
      "|3|Y|\n",
      "|:---|:---|\n",
      "|Count|396|\n",
      "\n",
      "|4|HEK293:Fibroblast|\n",
      "|:---|:---|\n",
      "|Count|396|\n",
      "\n",
      "|5|Psi-seq|\n",
      "|:---|:---|\n",
      "|Count|396|\n",
      "\n",
      "|6|25219674|\n",
      "|:---|:---|\n",
      "|Count|396|\n",
      "\n",
      "|7|RPL15|TRNA_Val|PMPCB|MALAT1|TRNA_Glu|MCL1|SNORD21|FHL1|HNRNPH2|PLEC|...|\n",
      "|:---|:---|:---|:---|:---|:---|:---|:---|:---|:---|:---|:---|\n",
      "|Count|4|4|3|3|3|3|3|2|2|2|...|\n",
      "\n",
      "|8|0|\n",
      "|:---|:---|\n",
      "|Count|396|\n",
      "\n",
      "|9|-|+|\n",
      "|:---|:---|:---|\n",
      "|Count|198|198|\n",
      "\n"
     ]
    }
   ],
   "source": [
    "# chrom\tchromstart\tchromend\tmodif|cell_type|method|PMID|loci\tscore\tstrand\\n\"\n",
    "\n",
    "init_template=[0,\"\\t\",1,\"\\t\",2,\"\\t\",3,\"|\",4,\"\\t\",5,\"\\t\",6]\n",
    "final_template=[0,\"\\t\",1,\"\\t\",2,\"\\t\",modification,\"|\",cell,\"|\",method,\"|\",PMID,\"|\",4,\"\\t\",5,\"\\t\",6]\n",
    "\n",
    "reformat_table(\n",
    "    input_file=infile,\n",
    "    output_file=outfile,\n",
    "    init_template=init_template,\n",
    "    final_template=final_template,\n",
    "    keep_original_header = False,\n",
    "    header = generate_header(PMID, cell, modification, method),\n",
    "    replace_internal_space='_',\n",
    "    replace_null_val=\"-\")\n",
    "\n",
    "file_summary(outfile)"
   ]
  },
  {
   "cell_type": "code",
   "execution_count": 36,
   "metadata": {
    "collapsed": false,
    "scrolled": false
   },
   "outputs": [
    {
     "data": {
      "image/png": "[encoded data removed]",
      "text/plain": [
       "<matplotlib.figure.Figure at 0x7fa3f5480198>"
      ]
     },
     "metadata": {},
     "output_type": "display_data"
    }
   ],
   "source": [
    "distrib_peak_len(outfile)"
   ]
  },
  {
   "cell_type": "markdown",
   "metadata": {},
   "source": [
    "**No problem with this dataset**"
   ]
  },
  {
   "cell_type": "markdown",
   "metadata": {},
   "source": [
    "---\n",
    "## Summary of the PTM datasets"
   ]
  },
  {
   "cell_type": "markdown",
   "metadata": {},
   "source": [
    "### Verify datasets homogeneous formating"
   ]
  },
  {
   "cell_type": "code",
   "execution_count": 57,
   "metadata": {
    "collapsed": false,
    "scrolled": true
   },
   "outputs": [
    {
     "name": "stdout",
     "output_type": "stream",
     "text": [
      "./PTM_Clean_Datasets/Carlile_Y_HeLa_hg38_cleaned.bed\n",
      "10\tchr17\t16438821\t16478678\tY|HeLa|Pseudo_seq|25192136|FAM211A-AS1\t1537\t+\n",
      "11\tchr2\t231455799\t231455936\tY|HeLa|Pseudo_seq|25192136|SNROA75\t84\t-\n",
      "12\tchr6\t52995619\t52995950\tY|HeLa|Pseudo_seq|25192136|RN7SK\t250\t+\n",
      "\n",
      "./PTM_Clean_Datasets/DARNED_human_hg38_inosine_cleaned.bed\n",
      "10\tchr4\t482698\t482698\tA>I|THYMUS|-|15342557|ZNF721\t0\t-\n",
      "11\tchr4\t482700\t482700\tA>I|THYMUS|-|15342557|ZNF721\t0\t-\n",
      "12\tchr4\t482737\t482737\tA>I|THYMUS|-|15342557|ZNF721\t0\t-\n",
      "\n",
      "./PTM_Clean_Datasets/Dominissini_m1A_HeLa:HEK293:HepG2_hg38_cleaned.bed\n",
      "10\tchr1\t826862\t826863\tm1A|HepG2|M1A_seq|26863196|NR_024321\t0\t-\n",
      "11\tchr1\t827681\t827682\tm1A|HepG2|M1A_seq|26863196|NR_047524\t0\t+\n",
      "12\tchr1\t942192\t942193\tm1A|HeLa|M1A_seq|26863196|NM_152486\t0\t+\n",
      "\n",
      "./PTM_Clean_Datasets/Dominissini_m6A_HepG2_hg38_cleaned.bed\n",
      "10\tchr1\t460876\t461815\tm6A|HepG2|M6A_seq|22575960|OR4F16\t-\t-\n",
      "11\tchr1\t622631\t623325\tm6A|HepG2|M6A_seq|22575960|X64709\t+\t+\n",
      "12\tchr1\t623326\t623396\tm6A|HepG2|M6A_seq|22575960|M37726\t+\t+\n",
      "\n",
      "./PTM_Clean_Datasets/Hussain_m5C_HEK293_hg38_cleaned.bed\n",
      "10\tchr1\t16678287\t16678288\tm5C|HEK293|miCLIP|23871666|-\t0\t-\n",
      "11\tchr1\t16678295\t16678296\tm5C|HEK293|miCLIP|23871666|-\t0\t-\n",
      "12\tchr1\t16678302\t16678303\tm5C|HEK293|miCLIP|23871666|-\t0\t-\n",
      "\n",
      "./PTM_Clean_Datasets/Khoddami_m5C_MEF_hg38_cleaned.bed\n",
      "10\tchr1\t16545922\t16545923\tm5C|MEF|AzaIP|23604283|tRNA-Gly-GGG\t0\t-\n",
      "11\tchr1\t16545924\t16545925\tm5C|MEF|AzaIP|23604283|tRNA-Gly-GGG\t0\t-\n",
      "12\tchr1\t16545930\t16545931\tm5C|MEF|AzaIP|23604283|tRNA-Gly-GGG\t0\t-\n",
      "\n",
      "./PTM_Clean_Datasets/Li_Y_HEK293_hg38_cleaned.bed\n",
      "10\tchr1\t1482572\t1482573\tY|HEK293|CeU_Seq|26075521|ATAD3B\t0\t+\n",
      "11\tchr1\t1520575\t1520576\tY|HEK293|CeU_Seq|26075521|ATAD3A\t0\t+\n",
      "12\tchr1\t2374504\t2374505\tY|HEK293|CeU_Seq|26075521|MORN1\t0\t-\n",
      "\n",
      "./PTM_Clean_Datasets/Linder_m6A:m6Am_HEK293_hg38_cleaned.bed\n",
      "10\tchr1\t942896\t942897\tm6A:m6Am|HEK293|miCLIP|26121403|-\t1\t+\n",
      "11\tchr1\t1014146\t1014147\tm6A:m6Am|HEK293|miCLIP|26121403|-\t1\t+\n",
      "12\tchr1\t1014335\t1014336\tm6A:m6Am|HEK293|miCLIP|26121403|-\t1\t+\n",
      "\n",
      "./PTM_Clean_Datasets/Meyer_m6A_HEK293_hg38_cleaned.bed\n",
      "10\tchr1\t1233019\t1233195\tm6A|HEK293|MeRIP_Seq|22608085|B3GALT6\t0\t+\n",
      "11\tchr1\t1233894\t1234070\tm6A|HEK293|MeRIP_Seq|22608085|B3GALT6\t0\t+\n",
      "12\tchr1\t1234494\t1234662\tm6A|HEK293|MeRIP_Seq|22608085|B3GALT6\t0\t+\n",
      "\n",
      "./PTM_Clean_Datasets/Peng_A>I_YH_hg38_cleaned.bed\n",
      "10\tchr1\t1252243\t1252244\tA>I|YH|A_to_I_editing|22327324|-\t19.44\t-\n",
      "11\tchr1\t1317060\t1317061\tA>I|YH|A_to_I_editing|22327324|CPSF3L\t72.73\t-\n",
      "12\tchr1\t1317062\t1317063\tA>I|YH|A_to_I_editing|22327324|CPSF3L\t45.45\t-\n",
      "\n",
      "./PTM_Clean_Datasets/RADAR_Human_hg38_inosine_cleaned.bed\n",
      "10\tchr1\t740870\t740870\tA>I|YH|-|22484847|uc002khh.2\t6.9\t-\n",
      "11\tchr1\t749347\t749347\tA>I|YH|-|22484847|RP11-206L10.3\t19\t-\n",
      "12\tchr1\t766680\t766680\tA>I|Brain|-|23291724|LOC100288069\t100\t-\n",
      "\n",
      "./PTM_Clean_Datasets/Sakurai_A>I_Brain_hg38_cleaned.bed\n",
      "10\tchr1\t136185\t136186\tA>I|Brain|ICE_seq|24407955|uc009vjj.1\t0\t-\n",
      "11\tchr1\t136217\t136218\tA>I|Brain|ICE_seq|24407955|uc009vjj.1\t0\t-\n",
      "12\tchr1\t136280\t136281\tA>I|Brain|ICE_seq|24407955|uc009vjj.1\t0\t-\n",
      "\n",
      "./PTM_Clean_Datasets/Schwartz_Y_HEK293:Fibroblast_hg38_cleaned.bed\n",
      "10\tchr1\t24842732\t24842733\tY|HEK293:Fibroblast|Psi-seq|25219674|CLIC4\t0\t+\n",
      "11\tchr1\t25356801\t25356802\tY|HEK293:Fibroblast|Psi-seq|25219674|TMEM50A\t0\t+\n",
      "12\tchr1\t33014552\t33014553\tY|HEK293:Fibroblast|Psi-seq|25219674|AK2\t0\t-\n",
      "\n",
      "./PTM_Clean_Datasets/Squires_m5C_HeLa_hg38_cleaned.bed\n",
      "10\tchr1\t633058\t633059\tm5C|HeLa|bisulfite_seq|22344696|-\t0\t+\n",
      "11\tchr1\t633062\t633063\tm5C|HeLa|bisulfite_seq|22344696|-\t0\t+\n",
      "12\tchr1\t634423\t634424\tm5C|HeLa|bisulfite_seq|22344696|-\t0\t+\n",
      "\n"
     ]
    }
   ],
   "source": [
    "for f in sorted(glob(\"./PTM_Clean_Datasets/*.bed\")):\n",
    "    print (f)\n",
    "    linerange(f, [[10,12]])"
   ]
  },
  {
   "cell_type": "markdown",
   "metadata": {},
   "source": [
    "**OK for all the datasets**"
   ]
  },
  {
   "cell_type": "markdown",
   "metadata": {},
   "source": [
    "### Summary of the datasets "
   ]
  },
  {
   "cell_type": "code",
   "execution_count": 58,
   "metadata": {
    "collapsed": false,
    "scrolled": true
   },
   "outputs": [
    {
     "name": "stdout",
     "output_type": "stream",
     "text": [
      "\n",
      " ----------------------------------------------------------------------------------------------------\n",
      "Dataset Name\tCarlile_Y_HeLa_hg38_cleaned.bed\n",
      "Number sites\t8\n",
      "PMID\n",
      "\t*25192136\t8\n",
      "\t Carlile. et al, 2014\\09\\05\n",
      "\t Pseudouridine profiling reveals regulated mRNA pseudouridylation in yeast and human cells.\n",
      "RNA PTM\n",
      "\tY\t8\n",
      "\n",
      "Tissue/cell\n",
      "\tHeLa\t8\n",
      "\n",
      "Method\n",
      "\tPseudo_seq\t8\n",
      "\n",
      "\n",
      " ----------------------------------------------------------------------------------------------------\n",
      "Dataset Name\tDARNED_human_hg38_inosine_cleaned.bed\n",
      "Number sites\t289998\n",
      "PMID\n",
      "\t*19478186\t412\n",
      "\t Li. et al, NA\\NA\\NA\n",
      "\t Genome-wide identification of human RNA editing sites by parallel DNA capturing and sequencing.\n",
      "\t*15342557\t31489\n",
      "\t Kim. et al, NA\\NA\\NA\n",
      "\t Widespread RNA editing of embedded alu elements in the human transcriptome.\n",
      "\t*15258596\t3954\n",
      "\t Levanon. et al, 2004\\07\\18\n",
      "\t Systematic identification of abundant A-to-I editing sites in the human transcriptome.\n",
      "\t*21960545\t11164\n",
      "\t Bahn. et al, 2011\\09\\29\n",
      "\t Accurate identification of A-to-I RNA editing in human by transcriptome sequencing.\n",
      "\t*22327324\t20285\n",
      "\t Peng. et al, 2012\\02\\12\n",
      "\t Comprehensive analysis of RNA-Seq data reveals extensive RNA editing in a human transcriptome.\n",
      "\t*22028664\t885\n",
      "\t Carmi. et al, 2011\\10\\20\n",
      "\t Identification of widespread ultra-edited human RNAs.\n",
      "\t*15545495\t1646\n",
      "\t Blow. et al, 2004\\11\\15\n",
      "\t A survey of RNA editing in human brain.\n",
      "\t*18684997\t41\n",
      "\t Kawahara. et al, 2008\\08\\06\n",
      "\t Frequency and fate of microRNA editing in human brain.\n",
      "\t*16100382\t15\n",
      "\t Eisenberg. et al, 2005\\08\\12\n",
      "\t Identification of RNA editing sites in the SNP database.\n",
      "\t*16594986\t6\n",
      "\t Blow. et al, 2006\\04\\04\n",
      "\t RNA editing of human microRNAs.\n",
      "\t*15797904\t3\n",
      "\t Clutterbuck. et al, 2005\\03\\29\n",
      "\t A bioinformatic screen for novel A-I RNA editing sites reveals recoding editing in BC10.\n",
      "\t*21725310\t449\n",
      "\t Ju. et al, 2011\\07\\03\n",
      "\t Extensive genomic and transcriptional diversity identified through massively parallel DNA and RNA sequencing of eighteen Korean individuals.\n",
      "\t*21984433\t4\n",
      "\t Silberberg. et al, 2011\\10\\07\n",
      "\t Deregulation of the A-to-I RNA editing mechanism in psychiatric disorders.\n",
      "\t*19275900\t4\n",
      "\t Sie. et al, 2009\\03\\09\n",
      "\t Conserved recoding RNA editing of vertebrate C1q-related factor C1QL1.\n",
      "\t*22484847\t219641\n",
      "\t Ramaswami. et al, 2012\\04\\04\n",
      "\t Accurate identification of human Alu and non-Alu RNA editing sites.\n",
      "RNA PTM\n",
      "\tA>I\t289998\n",
      "\n",
      "Tissue/cell\n",
      "\tLYMPHOBLASTOID_CELL\t219641\n",
      "\tLYMPHOBLASTOID_CELL_LINE\t20827\n",
      "\tBREAST_CANCER\t8291\n",
      "\tBRAIN\t7364\n",
      "\tU87MG\t3238\n",
      "\tCEREBELLUM\t2732\n",
      "\tTHYMUS\t2371\n",
      "\tUTERUS\t2109\n",
      "\tSPLEEN\t1856\n",
      "\tAMYGDALA\t1729\n",
      "\t...\t...\n",
      "\n",
      "Method\n",
      "\t-\t289998\n",
      "\n",
      "\n",
      " ----------------------------------------------------------------------------------------------------\n",
      "Dataset Name\tDominissini_m1A_HeLa:HEK293:HepG2_hg38_cleaned.bed\n",
      "Number sites\t19552\n",
      "PMID\n",
      "\t*26863196\t19552\n",
      "\t Dominissini. et al, 2016\\02\\10\n",
      "\t The dynamic N(1)-methyladenosine methylome in eukaryotic messenger RNA.\n",
      "RNA PTM\n",
      "\tm1A\t19552\n",
      "\n",
      "Tissue/cell\n",
      "\tHeLa\t8873\n",
      "\tHepG2\t8550\n",
      "\tHEK293\t2129\n",
      "\n",
      "Method\n",
      "\tM1A_seq\t19552\n",
      "\n",
      "\n",
      " ----------------------------------------------------------------------------------------------------\n",
      "Dataset Name\tDominissini_m6A_HepG2_hg38_cleaned.bed\n",
      "Number sites\t2894\n",
      "PMID\n",
      "\t*22575960\t2894\n",
      "\t Dominissini. et al, 2012\\04\\29\n",
      "\t Topology of the human and mouse m6A RNA methylomes revealed by m6A-seq.\n",
      "RNA PTM\n",
      "\tm6A\t2894\n",
      "\n",
      "Tissue/cell\n",
      "\tHepG2\t2894\n",
      "\n",
      "Method\n",
      "\tM6A_seq\t2894\n",
      "\n",
      "\n",
      " ----------------------------------------------------------------------------------------------------\n",
      "Dataset Name\tHussain_m5C_HEK293_hg38_cleaned.bed\n",
      "Number sites\t1084\n",
      "PMID\n",
      "\t*23871666\t1084\n",
      "\t Hussain. et al, 2013\\07\\18\n",
      "\t NSun2-mediated cytosine-5 methylation of vault noncoding RNA determines its processing into regulatory small RNAs.\n",
      "RNA PTM\n",
      "\tm5C\t1084\n",
      "\n",
      "Tissue/cell\n",
      "\tHEK293\t1084\n",
      "\n",
      "Method\n",
      "\tmiCLIP\t1084\n",
      "\n",
      "\n",
      " ----------------------------------------------------------------------------------------------------\n",
      "Dataset Name\tKhoddami_m5C_MEF_hg38_cleaned.bed\n",
      "Number sites\t20553\n",
      "PMID\n",
      "\t*23604283\t20553\n",
      "\t Khoddami. et al, 2013\\04\\21\n",
      "\t Identification of direct targets and modified bases of RNA cytosine methyltransferases.\n",
      "RNA PTM\n",
      "\tm5C\t20553\n",
      "\n",
      "Tissue/cell\n",
      "\tMEF\t20553\n",
      "\n",
      "Method\n",
      "\tAzaIP\t20553\n",
      "\n",
      "\n",
      " ----------------------------------------------------------------------------------------------------\n",
      "Dataset Name\tLi_Y_HEK293_hg38_cleaned.bed\n",
      "Number sites\t1489\n",
      "PMID\n",
      "\t*26075521\t1489\n",
      "\t Li. et al, 2015\\06\\15\n",
      "\t Chemical pulldown reveals dynamic pseudouridylation of the mammalian transcriptome.\n",
      "RNA PTM\n",
      "\tY\t1489\n",
      "\n",
      "Tissue/cell\n",
      "\tHEK293\t1489\n",
      "\n",
      "Method\n",
      "\tCeU_Seq\t1489\n",
      "\n",
      "\n",
      " ----------------------------------------------------------------------------------------------------\n",
      "Dataset Name\tLinder_m6A:m6Am_HEK293_hg38_cleaned.bed\n",
      "Number sites\t15167\n",
      "PMID\n",
      "\t*26121403\t15167\n",
      "\t Linder. et al, 2015\\06\\29\n",
      "\t Single-nucleotide-resolution mapping of m6A and m6Am throughout the transcriptome.\n",
      "RNA PTM\n",
      "\tm6A:m6Am\t15167\n",
      "\n",
      "Tissue/cell\n",
      "\tHEK293\t15167\n",
      "\n",
      "Method\n",
      "\tmiCLIP\t15167\n",
      "\n",
      "\n",
      " ----------------------------------------------------------------------------------------------------\n",
      "Dataset Name\tMeyer_m6A_HEK293_hg38_cleaned.bed\n",
      "Number sites\t4341\n",
      "PMID\n",
      "\t*22608085\t4341\n",
      "\t Meyer. et al, 2012\\05\\17\n",
      "\t Comprehensive analysis of mRNA methylation reveals enrichment in 3' UTRs and near stop codons.\n",
      "RNA PTM\n",
      "\tm6A\t4341\n",
      "\n",
      "Tissue/cell\n",
      "\tHEK293\t4341\n",
      "\n",
      "Method\n",
      "\tMeRIP_Seq\t4341\n",
      "\n",
      "\n",
      " ----------------------------------------------------------------------------------------------------\n",
      "Dataset Name\tPeng_A>I_YH_hg38_cleaned.bed\n",
      "Number sites\t21111\n",
      "PMID\n",
      "\t*22327324\t21111\n",
      "\t Peng. et al, 2012\\02\\12\n",
      "\t Comprehensive analysis of RNA-Seq data reveals extensive RNA editing in a human transcriptome.\n",
      "RNA PTM\n",
      "\tA>I\t21111\n",
      "\n",
      "Tissue/cell\n",
      "\tYH\t21111\n",
      "\n",
      "Method\n",
      "\tA_to_I_editing\t21111\n",
      "\n",
      "\n",
      " ----------------------------------------------------------------------------------------------------\n",
      "Dataset Name\tRADAR_Human_hg38_inosine_cleaned.bed\n",
      "Number sites\t1342374\n",
      "PMID\n",
      "\t*22484847\t503951\n",
      "\t Ramaswami. et al, 2012\\04\\04\n",
      "\t Accurate identification of human Alu and non-Alu RNA editing sites.\n",
      "\t*23291724\t813569\n",
      "\t Ramaswami. et al, 2013\\01\\06\n",
      "\t Identifying RNA editing sites using RNA sequencing data alone.\n",
      "\t*22327324\t20880\n",
      "\t Peng. et al, 2012\\02\\12\n",
      "\t Comprehensive analysis of RNA-Seq data reveals extensive RNA editing in a human transcriptome.\n",
      "\t*21960545\t3974\n",
      "\t Bahn. et al, 2011\\09\\29\n",
      "\t Accurate identification of A-to-I RNA editing in human by transcriptome sequencing.\n",
      "RNA PTM\n",
      "\tA>I\t1342374\n",
      "\n",
      "Tissue/cell\n",
      "\tYH\t688654\n",
      "\tBrain\t416907\n",
      "\tIllumina_Bodymap\t232839\n",
      "\tU87MG\t3974\n",
      "\n",
      "Method\n",
      "\t-\t1342374\n",
      "\n",
      "\n",
      " ----------------------------------------------------------------------------------------------------\n",
      "Dataset Name\tSakurai_A>I_Brain_hg38_cleaned.bed\n",
      "Number sites\t20482\n",
      "PMID\n",
      "\t*24407955\t20482\n",
      "\t Sakurai. et al, 2014\\01\\09\n",
      "\t A biochemical landscape of A-to-I RNA editing in the human brain transcriptome.\n",
      "RNA PTM\n",
      "\tA>I\t20482\n",
      "\n",
      "Tissue/cell\n",
      "\tBrain\t20482\n",
      "\n",
      "Method\n",
      "\tICE_seq\t20482\n",
      "\n",
      "\n",
      " ----------------------------------------------------------------------------------------------------\n",
      "Dataset Name\tSchwartz_Y_HEK293:Fibroblast_hg38_cleaned.bed\n",
      "Number sites\t396\n",
      "PMID\n",
      "\t*25219674\t396\n",
      "\t Schwartz. et al, 2014\\09\\11\n",
      "\t Transcriptome-wide mapping reveals widespread dynamic-regulated pseudouridylation of ncRNA and mRNA.\n",
      "RNA PTM\n",
      "\tY\t396\n",
      "\n",
      "Tissue/cell\n",
      "\tHEK293:Fibroblast\t396\n",
      "\n",
      "Method\n",
      "\tPsi-seq\t396\n",
      "\n",
      "\n",
      " ----------------------------------------------------------------------------------------------------\n",
      "Dataset Name\tSquires_m5C_HeLa_hg38_cleaned.bed\n",
      "Number sites\t10490\n",
      "PMID\n",
      "\t*22344696\t10490\n",
      "\t Squires. et al, 2012\\02\\16\n",
      "\t Widespread occurrence of 5-methylcytosine in human coding and non-coding RNA.\n",
      "RNA PTM\n",
      "\tm5C\t10490\n",
      "\n",
      "Tissue/cell\n",
      "\tHeLa\t10490\n",
      "\n",
      "Method\n",
      "\tbisulfite_seq\t10490\n",
      "\n"
     ]
    }
   ],
   "source": [
    "for f in sorted(glob(\"./PTM_Clean_Datasets/*.bed\")):\n",
    "    print (\"\\n\", \"-\"*100)\n",
    "    print (\"Dataset Name\\t{}\".format(basename(f)))\n",
    "    print (\"Number sites\\t{}\".format(simplecount(f, ignore_hashtag_line=True)))\n",
    "    a = colsum(\n",
    "        f,\n",
    "        colrange = [3,4,5,6],\n",
    "        header=False,\n",
    "        ignore_hashtag_line=True,\n",
    "        separator=[\"\\t\", \"|\"],\n",
    "        max_items=20,\n",
    "        ret_type=\"dict\"\n",
    "    )\n",
    "    \n",
    "    # Get more info via pubmed\n",
    "    print (\"PMID\")\n",
    "    for pmid,count in a[6].items():\n",
    "        pubmed_info = pmid_to_info(pmid)\n",
    "        print (\"\\t*{}\\t{}\\n\\t {}. et al, {}\\{}\\{}\\n\\t {}\".format(\n",
    "                pmid,count,\n",
    "                pubmed_info[\"first_name\"],\n",
    "                pubmed_info[\"Year\"],\n",
    "                pubmed_info[\"Month\"],\n",
    "                pubmed_info[\"Day\"],\n",
    "                pubmed_info[\"title\"]))\n",
    "    \n",
    "    # Simple listing for the other fields\n",
    "    for title, col in [[\"RNA PTM\",3],[\"Tissue/cell\",4],[\"Method\",5]]:\n",
    "        print (title)\n",
    "        print(dict_to_report(a[col], ntab=1, max_items=10, tab=\"\\t\", sep=\"\\t\"))"
   ]
  },
  {
   "cell_type": "markdown",
   "metadata": {},
   "source": [
    "# Gene annotation of the PTM datasets"
   ]
  },
  {
   "cell_type": "markdown",
   "metadata": {},
   "source": [
    "** The original annotations might not be optimal, and probably not made from an uniq reference annotation file. I will reanotate all the datasets will the last version of gencodegencode.v24.long_noncoding_RNAs.gff3. I split the file in 3 to retain only genes, transcript and exons. I also got the general gencode file containing all the annotated genes in the primary assembly**\n",
    "\n",
    " * gencodegencode.v24.long_noncoding_RNAs = Contains the comprehensive gene annotation of lncRNA genes on the reference chromosomes \n",
    " * gencode.v24.annotation = Contains the comprehensive gene annotation on the primary assembly (chromosomes and scaffolds) sequence regions"
   ]
  },
  {
   "cell_type": "code",
   "execution_count": 120,
   "metadata": {
    "collapsed": false
   },
   "outputs": [
    {
     "data": {
      "text/plain": [
       "'Test'"
      ]
     },
     "execution_count": 120,
     "metadata": {},
     "output_type": "execute_result"
    }
   ],
   "source": [
    "# New dir to create annotated files \n",
    "mkdir(\"PTM_Annotated_Datasets\")\n",
    "mkdir(\"Test\")"
   ]
  },
  {
   "cell_type": "markdown",
   "metadata": {},
   "source": [
    "** I found a python wrapper package for bedtools to manipulate bed files. I will use it to intersect my bed files containing the positions of the PTM (or peaks) and the gff3 annotation files. This will allow me to get gene names for each positions **"
   ]
  },
  {
   "cell_type": "code",
   "execution_count": 127,
   "metadata": {
    "collapsed": false
   },
   "outputs": [],
   "source": [
    "import pybedtools\n",
    "\n",
    "def intersect_extract_genecodeID (annotation_file, peak_file, outdir):\n",
    "    \n",
    "    output_file = \"{}/{}_{}.bed\".format(outdir, file_basename(peak_file), file_basename(annotation_file))\n",
    "    genecount_file = \"{}/{}_{}_uniq-gene.csv\".format(outdir, file_basename(peak_file), file_basename(annotation_file))\n",
    "    site_file = \"{}/{}_{}_uniq-sites.csv\".format(outdir, file_basename(peak_file), file_basename(annotation_file))\n",
    "    \n",
    "    peak = pybedtools.BedTool(peak_file)\n",
    "    annotation = pybedtools.BedTool(annotation_file)\n",
    "    \n",
    "    # Intersect the 2 files with pybedtools\n",
    "    print(\"Intersecting {} with {}\".format(file_basename(peak_file), file_basename(annotation_file)))\n",
    "    intersection = peak.intersect(annotation, wo=True, s=True)\n",
    "\n",
    "    # Reformat the file generated by pybedtools to a simple Bed format\n",
    "    init_template=[0,\"\\t\",1,\"\\t\",2,\"\\t\",3,\"|\",4,\"|\",5,\"|\",6,\"|\",7,\"\\t\",8,\"\\t\",9,\"\\t\",10,\"\\t\",11,\"\\t\",12,\"\\t\",13,\n",
    "                   \"\\t\",14,\"\\t\",15,\"\\t\",16,\"\\t\",17,\"\\tID=\",18,\";gene_id=\",19,\";gene_type=\",20,\";gene_status=\",21,\n",
    "                   \";gene_name=\",22,\";level=\",23,\";havana_gene=\",24]\n",
    "\n",
    "    final_template=[0,\"\\t\",1,\"\\t\",2,\"\\t\",3,\"|\",4,\"|\",5,\"|\",6,\"|\",18,\"|\",20,\"|\",22,\"\\t\",8,\"\\t\",9]\n",
    "    \n",
    "    h = \"# Data cleaned, converted to BED6, standardized and coordinates converted to hg38 using liftOver\\n\"\n",
    "    h+= \"# Overlaping gene annotation with gencodev23\"\n",
    "    h+= \"# Adrien Leger (aleg@ebi.ac.uk) {}\".format(str (datetime.datetime.today()))\n",
    "    h+= \"# chrom\\tchromstart\\tchromend\\tmodif|cell_type|method|PMID|ensembl_id|gene_type|gene_name\\tscore\\tstrand\\n\"\n",
    "    \n",
    "    print(\"Post processing results\")\n",
    "    reformat_table(\n",
    "        input_file=intersection.fn,\n",
    "        output_file=output_file,\n",
    "        init_template=init_template,\n",
    "        final_template=final_template,\n",
    "        replace_internal_space='_',\n",
    "        replace_null_val=\"-\",\n",
    "        header = h,\n",
    "        keep_original_header = False,\n",
    "    )\n",
    "    \n",
    "    # Count the number of lines in the initial and final peak files\n",
    "    i, j = simplecount(peak_file, ignore_hashtag_line=True), simplecount(output_file, ignore_hashtag_line=True)\n",
    "    print(\"Total initial positions: {}\\tTotal final positions: {}\".format(i, j))\n",
    "         \n",
    "    # Count uniq gene id and uniq positions found in the dataset \n",
    "    geneid_dict = OrderedDict()\n",
    "    coord_dict = OrderedDict()\n",
    "    \n",
    "    with open (output_file, \"r\") as fp:\n",
    "        for line in fp:\n",
    "            if line[0] != \"#\":\n",
    "                sl= supersplit(line, separator=[\"\\t\", \"|\"])\n",
    "                \n",
    "                gene_id = \"{}\\t{}\".format(sl[7],sl[9])\n",
    "                if gene_id not in geneid_dict:\n",
    "                    geneid_dict[gene_id] = 0\n",
    "                geneid_dict[gene_id] += 1\n",
    "                \n",
    "                coord = \"{}:{}-{}\".format(sl[0],sl[1],sl[2])\n",
    "                if coord not in coord_dict:\n",
    "                    coord_dict[coord] = 0\n",
    "                coord_dict[coord] += 1\n",
    "                \n",
    "        print (\"Uniq genes found\\t{}\\nUniq position found\\t{}\\n\".format(\n",
    "                len(geneid_dict.values()), len(coord_dict.values()) ))\n",
    "    \n",
    "    # Write each gene id found with the number of time found \n",
    "    with open (genecount_file, \"w\") as fp:\n",
    "        fp.write(dict_to_report (geneid_dict, max_items=0, sep=\"\\t\"))\n",
    "\n",
    "    # Write each gene id found with the number of time found \n",
    "    with open (site_file, \"w\") as fp:\n",
    "        fp.write(dict_to_report (coord_dict, max_items=0, sep=\"\\t\"))\n"
   ]
  },
  {
   "cell_type": "markdown",
   "metadata": {},
   "source": [
    "**Add the gene name and ensembl gene ID to the bed name field**\n",
    "\n",
    "**Test with one file **"
   ]
  },
  {
   "cell_type": "code",
   "execution_count": 128,
   "metadata": {
    "collapsed": false,
    "scrolled": true
   },
   "outputs": [
    {
     "name": "stdout",
     "output_type": "stream",
     "text": [
      "Intersecting Carlile_Y_HeLa_hg38_cleaned with gencode_v24_gene\n",
      "Post processing results\n",
      "25 Lines processed\t25 Lines pass\t0 Lines filtered out\t0 Lines fail\n",
      "Total initial positions: 8\tTotal final positions: 25\n",
      "Uniq genes found\t22\n",
      "Uniq position found\t7\n",
      "\n",
      "Filename:\t./Test/Carlile_Y_HeLa_hg38_cleaned_gencode_v24_gene.bed\n",
      "Total lines:\t27\n",
      "\n",
      "0\t# Data cleaned, converted to BED6, standardized and coordinates converted to hg38 using liftOver\n",
      "1\t# Overlaping gene annotation with gencodev23# Adrien Leger (aleg@ebi.ac.uk) 2016-06-15 15:57:36.030536# chrom\tchromstart\tchromend\tmodif|cell_type|method|PMID|ensembl_id|gene_type|gene_name\tscore\tstrand\n",
      "2\tchr11\t62851987\t62855914\tY|HeLa|Pseudo_seq|25192136|ENSG00000255717.6|processed_transcript|SNHG1\t1766\t-\n",
      "3\tchr11\t62851987\t62855914\tY|HeLa|Pseudo_seq|25192136|ENSG00000277194.1|snoRNA|SNORD22\t1766\t-\n",
      "4\tchr11\t62851987\t62855914\tY|HeLa|Pseudo_seq|25192136|ENSG00000277846.1|snoRNA|SNORD30\t1766\t-\n",
      "5\tchr11\t62851987\t62855914\tY|HeLa|Pseudo_seq|25192136|ENSG00000278527.1|snoRNA|SNORD22\t1766\t-\n",
      "6\tchr11\t62851987\t62855914\tY|HeLa|Pseudo_seq|25192136|ENSG00000274544.1|snoRNA|SNORD28\t1766\t-\n",
      "7\tchr11\t62851987\t62855914\tY|HeLa|Pseudo_seq|25192136|ENSG00000275996.1|snoRNA|SNORD27\t1766\t-\n",
      "8\tchr11\t62851987\t62855914\tY|HeLa|Pseudo_seq|25192136|ENSG00000276788.1|snoRNA|SNORD26\t1766\t-\n",
      "9\tchr11\t62851987\t62855914\tY|HeLa|Pseudo_seq|25192136|ENSG00000275043.1|snoRNA|SNORD25\t1766\t-\n",
      "\n",
      "22\tchr2\t231455799\t231455936\tY|HeLa|Pseudo_seq|25192136|ENSG00000206885.1|snoRNA|SNORA75\t84\t-\n",
      "23\tchr2\t231455799\t231455936\tY|HeLa|Pseudo_seq|25192136|ENSG00000115053.15|protein_coding|NCL\t84\t-\n",
      "24\tchr6\t52995619\t52995950\tY|HeLa|Pseudo_seq|25192136|ENSG00000202198.1|misc_RNA|RN7SK\t250\t+\n",
      "25\tchrX\t119787352\t119787484\tY|HeLa|Pseudo_seq|25192136|ENSG00000198918.7|protein_coding|RPL39\t81\t-\n",
      "26\tchrX\t119787352\t119787484\tY|HeLa|Pseudo_seq|25192136|ENSG00000206622.1|snoRNA|SNORA69\t81\t-\n",
      "\n",
      "|0|chr11|chr17|chrX|chr2|chr12|chr6|\n",
      "|:---|:---|:---|:---|:---|:---|:---|\n",
      "|Count|14|4|2|2|2|1|\n",
      "\n",
      "|1|62851987|65497761|16438821|119787352|231455799|98599634|52995619|\n",
      "|:---|:---|:---|:---|:---|:---|:---|:---|\n",
      "|Count|8|6|4|2|2|2|1|\n",
      "\n",
      "|2|62855914|65506469|16478678|119787484|231455936|98599883|52995950|\n",
      "|:---|:---|:---|:---|:---|:---|:---|:---|\n",
      "|Count|8|6|4|2|2|2|1|\n",
      "\n",
      "|3|Y|\n",
      "|:---|:---|\n",
      "|Count|25|\n",
      "\n",
      "|4|HeLa|\n",
      "|:---|:---|\n",
      "|Count|25|\n",
      "\n",
      "|5|Pseudo_seq|\n",
      "|:---|:---|\n",
      "|Count|25|\n",
      "\n",
      "|6|25192136|\n",
      "|:---|:---|\n",
      "|Count|25|\n",
      "\n",
      "|7|ENSG00000251562.7|ENSG00000274072.1|ENSG00000278217.1|ENSG00000206622.1|ENSG00000198918.7|ENSG00000202198.1|ENSG00000115053.15|ENSG00000206885.1|ENSG00000175061.17|ENSG00000277512.1|...|\n",
      "|:---|:---|:---|:---|:---|:---|:---|:---|:---|:---|:---|:---|\n",
      "|Count|2|2|2|1|1|1|1|1|1|1|...|\n",
      "\n",
      "|8|snoRNA|protein_coding|misc_RNA|lincRNA|sRNA|processed_transcript|\n",
      "|:---|:---|:---|:---|:---|:---|:---|\n",
      "|Count|13|3|3|2|2|2|\n",
      "\n",
      "|9|MALAT1|mascRNA-menRNA|SNORD22|SNORA69|RPL39|RN7SK|NCL|SNORA75|LRRC75A-AS1|SNORD65|...|\n",
      "|:---|:---|:---|:---|:---|:---|:---|:---|:---|:---|:---|:---|\n",
      "|Count|4|2|2|1|1|1|1|1|1|1|...|\n",
      "\n",
      "|10|1766|1537|5590|5160|81|84|110|250|\n",
      "|:---|:---|:---|:---|:---|:---|:---|:---|:---|\n",
      "|Count|8|4|3|3|2|2|2|1|\n",
      "\n",
      "|11|+|-|\n",
      "|:---|:---|:---|\n",
      "|Count|13|12|\n",
      "\n",
      "\n",
      "ENSG00000251562.7\tMALAT1\t2\n",
      "ENSG00000274072.1\tmascRNA-menRNA\t2\n",
      "ENSG00000278217.1\tMALAT1\t2\n",
      "ENSG00000206622.1\tSNORA69\t1\n",
      "ENSG00000198918.7\tRPL39\t1\n",
      "ENSG00000202198.1\tRN7SK\t1\n",
      "ENSG00000115053.15\tNCL\t1\n",
      "ENSG00000206885.1\tSNORA75\t1\n",
      "ENSG00000175061.17\tLRRC75A-AS1\t1\n",
      "ENSG00000277512.1\tSNORD65\t1\n",
      "chr11:62851987-62855914\t8\n",
      "chr11:65497761-65506469\t6\n",
      "chr17:16438821-16478678\t4\n",
      "chrX:119787352-119787484\t2\n",
      "chr2:231455799-231455936\t2\n",
      "chr12:98599634-98599883\t2\n",
      "chr6:52995619-52995950\t1\n",
      "Only 7 lines in the file\n"
     ]
    }
   ],
   "source": [
    "annotation_file = \"../Reference_Annotation/gencode_v24_gene.gff3\"\n",
    "peak_file = \"./PTM_Clean_Datasets/Carlile_Y_HeLa_hg38_cleaned.bed\"\n",
    "outdir = \"./Test\"\n",
    "\n",
    "output_file = \"./Test/Carlile_Y_HeLa_hg38_cleaned_gencode_v24_gene.bed\"\n",
    "genecount_file = \"./Test/Carlile_Y_HeLa_hg38_cleaned_gencode_v24_gene_uniq-gene.csv\"\n",
    "site_file = \"./Test/Carlile_Y_HeLa_hg38_cleaned_gencode_v24_gene_uniq-sites.csv\"\n",
    "\n",
    "intersect_extract_genecodeID (annotation_file, peak_file, outdir)\n",
    "file_summary(output_file, separator=[\"\\t\",\"|\"])\n",
    "\n",
    "head (genecount_file)\n",
    "head (site_file)\n",
    "\n",
    "remove(output_file)\n",
    "remove(genecount_file)\n",
    "remove(site_file)"
   ]
  },
  {
   "cell_type": "markdown",
   "metadata": {},
   "source": [
    "**It is working ok > looping over all the cleaned PTM files**"
   ]
  },
  {
   "cell_type": "code",
   "execution_count": 130,
   "metadata": {
    "collapsed": false,
    "scrolled": true
   },
   "outputs": [
    {
     "name": "stdout",
     "output_type": "stream",
     "text": [
      "Intersecting Carlile_Y_HeLa_hg38_cleaned with gencode_v24_lncRNAs_gene\n",
      "Post processing results\n",
      "4 Lines processed\t4 Lines pass\t0 Lines filtered out\t0 Lines fail\n",
      "Total initial positions: 8\tTotal final positions: 4\n",
      "Uniq genes found\t3\n",
      "Uniq position found\t3\n",
      "\n",
      "Intersecting DARNED_human_hg38_inosine_cleaned with gencode_v24_lncRNAs_gene\n",
      "Post processing results\n",
      "24152 Lines processed\t24152 Lines pass\t0 Lines filtered out\t0 Lines fail\n",
      "Total initial positions: 289998\tTotal final positions: 24152\n",
      "Uniq genes found\t1300\n",
      "Uniq position found\t19814\n",
      "\n",
      "Intersecting Dominissini_m1A_HeLa:HEK293:HepG2_hg38_cleaned with gencode_v24_lncRNAs_gene\n",
      "Post processing results\n",
      "606 Lines processed\t606 Lines pass\t0 Lines filtered out\t0 Lines fail\n",
      "Total initial positions: 19552\tTotal final positions: 606\n",
      "Uniq genes found\t338\n",
      "Uniq position found\t578\n",
      "\n",
      "Intersecting Dominissini_m6A_HepG2_hg38_cleaned with gencode_v24_lncRNAs_gene\n",
      "Post processing results\n",
      "115 Lines processed\t115 Lines pass\t0 Lines filtered out\t0 Lines fail\n",
      "Total initial positions: 2894\tTotal final positions: 115\n",
      "Uniq genes found\t84\n",
      "Uniq position found\t114\n",
      "\n",
      "Intersecting Hussain_m5C_HEK293_hg38_cleaned with gencode_v24_lncRNAs_gene\n",
      "Post processing results\n",
      "107 Lines processed\t107 Lines pass\t0 Lines filtered out\t0 Lines fail\n",
      "Total initial positions: 1084\tTotal final positions: 107\n",
      "Uniq genes found\t39\n",
      "Uniq position found\t106\n",
      "\n",
      "Intersecting Khoddami_m5C_MEF_hg38_cleaned with gencode_v24_lncRNAs_gene\n",
      "Post processing results\n",
      "1523 Lines processed\t1523 Lines pass\t0 Lines filtered out\t0 Lines fail\n",
      "Total initial positions: 20553\tTotal final positions: 1523\n",
      "Uniq genes found\t36\n",
      "Uniq position found\t1523\n",
      "\n",
      "Intersecting Li_Y_HEK293_hg38_cleaned with gencode_v24_lncRNAs_gene\n",
      "Post processing results\n",
      "48 Lines processed\t48 Lines pass\t0 Lines filtered out\t0 Lines fail\n",
      "Total initial positions: 1489\tTotal final positions: 48\n",
      "Uniq genes found\t44\n",
      "Uniq position found\t47\n",
      "\n",
      "Intersecting Linder_m6A:m6Am_HEK293_hg38_cleaned with gencode_v24_lncRNAs_gene\n",
      "Post processing results\n",
      "385 Lines processed\t385 Lines pass\t0 Lines filtered out\t0 Lines fail\n",
      "Total initial positions: 15167\tTotal final positions: 385\n",
      "Uniq genes found\t168\n",
      "Uniq position found\t375\n",
      "\n",
      "Intersecting Meyer_m6A_HEK293_hg38_cleaned with gencode_v24_lncRNAs_gene\n",
      "Post processing results\n",
      "48 Lines processed\t48 Lines pass\t0 Lines filtered out\t0 Lines fail\n",
      "Total initial positions: 4341\tTotal final positions: 48\n",
      "Uniq genes found\t16\n",
      "Uniq position found\t48\n",
      "\n",
      "Intersecting Peng_A>I_YH_hg38_cleaned with gencode_v24_lncRNAs_gene\n",
      "Post processing results\n",
      "3382 Lines processed\t3382 Lines pass\t0 Lines filtered out\t0 Lines fail\n",
      "Total initial positions: 21111\tTotal final positions: 3382\n",
      "Uniq genes found\t505\n",
      "Uniq position found\t3259\n",
      "\n",
      "Intersecting RADAR_Human_hg38_inosine_cleaned with gencode_v24_lncRNAs_gene\n",
      "Post processing results\n",
      "97118 Lines processed\t97118 Lines pass\t0 Lines filtered out\t0 Lines fail\n",
      "Total initial positions: 1342374\tTotal final positions: 97118\n",
      "Uniq genes found\t3343\n",
      "Uniq position found\t68396\n",
      "\n",
      "Intersecting Sakurai_A>I_Brain_hg38_cleaned with gencode_v24_lncRNAs_gene\n",
      "Post processing results\n",
      "2550 Lines processed\t2550 Lines pass\t0 Lines filtered out\t0 Lines fail\n",
      "Total initial positions: 20482\tTotal final positions: 2550\n",
      "Uniq genes found\t319\n",
      "Uniq position found\t2330\n",
      "\n",
      "Intersecting Schwartz_Y_HEK293:Fibroblast_hg38_cleaned with gencode_v24_lncRNAs_gene\n",
      "Post processing results\n",
      "14 Lines processed\t14 Lines pass\t0 Lines filtered out\t0 Lines fail\n",
      "Total initial positions: 396\tTotal final positions: 14\n",
      "Uniq genes found\t10\n",
      "Uniq position found\t14\n",
      "\n",
      "Intersecting Squires_m5C_HeLa_hg38_cleaned with gencode_v24_lncRNAs_gene\n",
      "Post processing results\n",
      "281 Lines processed\t281 Lines pass\t0 Lines filtered out\t0 Lines fail\n",
      "Total initial positions: 10490\tTotal final positions: 281\n",
      "Uniq genes found\t112\n",
      "Uniq position found\t272\n",
      "\n"
     ]
    }
   ],
   "source": [
    "# Annotation vs gencodev23 lncRNA genes\n",
    "annotation_file = \"../Reference_Annotation/gencode_v24_lncRNAs_gene.gff3\"\n",
    "\n",
    "for peak_file in sorted(glob(\"./PTM_Clean_Datasets/*.bed\")):\n",
    "    outdir = \"./PTM_Annotated_Datasets\"\n",
    "    intersect_extract_genecodeID (annotation_file, peak_file, outdir)"
   ]
  },
  {
   "cell_type": "markdown",
   "metadata": {
    "collapsed": true,
    "scrolled": false
   },
   "source": [
    "**Between 1 and 16% (excluding the weird carlile dataset) of the peaks are found in lncRNA annotated in gencode v23.\n",
    "Iterate through the datasets to find the number of uniq genes found**"
   ]
  },
  {
   "cell_type": "code",
   "execution_count": 131,
   "metadata": {
    "collapsed": false,
    "scrolled": true
   },
   "outputs": [
    {
     "name": "stdout",
     "output_type": "stream",
     "text": [
      "Intersecting Carlile_Y_HeLa_hg38_cleaned with gencode_v24_gene\n",
      "Post processing results\n",
      "25 Lines processed\t25 Lines pass\t0 Lines filtered out\t0 Lines fail\n",
      "Total initial positions: 8\tTotal final positions: 25\n",
      "Uniq genes found\t22\n",
      "Uniq position found\t7\n",
      "\n",
      "Intersecting DARNED_human_hg38_inosine_cleaned with gencode_v24_gene\n",
      "Post processing results\n",
      "294441 Lines processed\t294441 Lines pass\t0 Lines filtered out\t0 Lines fail\n",
      "Total initial positions: 289998\tTotal final positions: 294441\n",
      "Uniq genes found\t10558\n",
      "Uniq position found\t254964\n",
      "\n",
      "Intersecting Dominissini_m1A_HeLa:HEK293:HepG2_hg38_cleaned with gencode_v24_gene\n",
      "Post processing results\n",
      "20786 Lines processed\t20786 Lines pass\t0 Lines filtered out\t0 Lines fail\n",
      "Total initial positions: 19552\tTotal final positions: 20786\n",
      "Uniq genes found\t8516\n",
      "Uniq position found\t19063\n",
      "\n",
      "Intersecting Dominissini_m6A_HepG2_hg38_cleaned with gencode_v24_gene\n",
      "Post processing results\n",
      "1080 Lines processed\t1080 Lines pass\t0 Lines filtered out\t0 Lines fail\n",
      "Total initial positions: 2894\tTotal final positions: 1080\n",
      "Uniq genes found\t466\n",
      "Uniq position found\t1019\n",
      "\n",
      "Intersecting Hussain_m5C_HEK293_hg38_cleaned with gencode_v24_gene\n",
      "Post processing results\n",
      "332 Lines processed\t332 Lines pass\t0 Lines filtered out\t0 Lines fail\n",
      "Total initial positions: 1084\tTotal final positions: 332\n",
      "Uniq genes found\t158\n",
      "Uniq position found\t296\n",
      "\n",
      "Intersecting Khoddami_m5C_MEF_hg38_cleaned with gencode_v24_gene\n",
      "Post processing results\n",
      "14234 Lines processed\t14234 Lines pass\t0 Lines filtered out\t0 Lines fail\n",
      "Total initial positions: 20553\tTotal final positions: 14234\n",
      "Uniq genes found\t321\n",
      "Uniq position found\t12011\n",
      "\n",
      "Intersecting Li_Y_HEK293_hg38_cleaned with gencode_v24_gene\n",
      "Post processing results\n",
      "1579 Lines processed\t1579 Lines pass\t0 Lines filtered out\t0 Lines fail\n",
      "Total initial positions: 1489\tTotal final positions: 1579\n",
      "Uniq genes found\t1425\n",
      "Uniq position found\t1471\n",
      "\n",
      "Intersecting Linder_m6A:m6Am_HEK293_hg38_cleaned with gencode_v24_gene\n",
      "Post processing results\n",
      "15945 Lines processed\t15945 Lines pass\t0 Lines filtered out\t0 Lines fail\n",
      "Total initial positions: 15167\tTotal final positions: 15945\n",
      "Uniq genes found\t6191\n",
      "Uniq position found\t14851\n",
      "\n",
      "Intersecting Meyer_m6A_HEK293_hg38_cleaned with gencode_v24_gene\n",
      "Post processing results\n",
      "4564 Lines processed\t4564 Lines pass\t0 Lines filtered out\t0 Lines fail\n",
      "Total initial positions: 4341\tTotal final positions: 4564\n",
      "Uniq genes found\t1525\n",
      "Uniq position found\t4312\n",
      "\n",
      "Intersecting Peng_A>I_YH_hg38_cleaned with gencode_v24_gene\n",
      "Post processing results\n",
      "18827 Lines processed\t18827 Lines pass\t0 Lines filtered out\t0 Lines fail\n",
      "Total initial positions: 21111\tTotal final positions: 18827\n",
      "Uniq genes found\t4034\n",
      "Uniq position found\t17081\n",
      "\n",
      "Intersecting RADAR_Human_hg38_inosine_cleaned with gencode_v24_gene\n",
      "Post processing results\n",
      "1372609 Lines processed\t1372609 Lines pass\t0 Lines filtered out\t0 Lines fail\n",
      "Total initial positions: 1342374\tTotal final positions: 1372609\n",
      "Uniq genes found\t17532\n",
      "Uniq position found\t918049\n",
      "\n",
      "Intersecting Sakurai_A>I_Brain_hg38_cleaned with gencode_v24_gene\n",
      "Post processing results\n",
      "19906 Lines processed\t19906 Lines pass\t0 Lines filtered out\t0 Lines fail\n",
      "Total initial positions: 20482\tTotal final positions: 19906\n",
      "Uniq genes found\t2648\n",
      "Uniq position found\t17230\n",
      "\n",
      "Intersecting Schwartz_Y_HEK293:Fibroblast_hg38_cleaned with gencode_v24_gene\n",
      "Post processing results\n",
      "421 Lines processed\t421 Lines pass\t0 Lines filtered out\t0 Lines fail\n",
      "Total initial positions: 396\tTotal final positions: 421\n",
      "Uniq genes found\t378\n",
      "Uniq position found\t372\n",
      "\n",
      "Intersecting Squires_m5C_HeLa_hg38_cleaned with gencode_v24_gene\n",
      "Post processing results\n",
      "11038 Lines processed\t11038 Lines pass\t0 Lines filtered out\t0 Lines fail\n",
      "Total initial positions: 10490\tTotal final positions: 11038\n",
      "Uniq genes found\t4659\n",
      "Uniq position found\t10169\n",
      "\n"
     ]
    }
   ],
   "source": [
    "# Annotation vs gencodev23 All genes\n",
    "annotation_file = \"../Reference_Annotation/gencode_v24_gene.gff3\"\n",
    "\n",
    "for peak_file in sorted(glob(\"./PTM_Clean_Datasets/*.bed\")):\n",
    "    outdir = \"./PTM_Annotated_Datasets\"\n",
    "    intersect_extract_genecodeID (annotation_file, peak_file, outdir)"
   ]
  },
  {
   "cell_type": "markdown",
   "metadata": {},
   "source": [
    "### Overall summary of the analysis compared with results reported in Shafik et al"
   ]
  },
  {
   "cell_type": "markdown",
   "metadata": {},
   "source": [
    "|Article|Modification|Total sites initial (Shafik)| Total sites final|All sites in RNA|Uniq sites in RNA|Uniq RNA with site|All sites in lncRNA (Shafik)|Uniq sites in lncRNA|Uniq lncRNA with site (Shafik)|\n",
    "|---|---|---|---|---|---|---|---|---|---|\n",
    "|Peng et al|Inosine|22686 (22686)|21,111 |18,827 |17,081 |4,034 |3382 (4425)|3259|505 (846)|\n",
    "|Sakurai et al|Inosine|20482 (20482)|20,482 |19,906 |17,230 |2,648 |2550 (3050)|2330|319 (400)|\n",
    "|Hussain et al|m5C|1084 (1084)|1,084 |332 |296 |158 |107 (110)|106|39 (41)|\n",
    "|Khoddami et al|m5C|20553 (20533)|20,553 |14,234 |12,011 |321 |1523 (1580)|1523|36 (38)|\n",
    "|Squires et al.|m5C|10490 (10490)|10,490 |11,038 |10,169 |4,659 |281 (1544)|272|112 (711)|\n",
    "|Dominissini et al.|m6A|25918 (25776)|2,894 |1,080 |1,019 |466 |115 (7397)|114|84 (6165)|\n",
    "|Meyer et al|m6A|4341 (4341)|4,341 |4,564 |4,312 |1,525 |48 (57)|48|16 (20)|\n",
    "|Linder et al|m6A and m6Am|15167 (NA)|15,167 |15,945 |14,851 |6,191 |385 (NA)|375|168 (NA)|\n",
    "|Dominissini et al.|m1A|32136 (NA)|19552 (HeLa:8873, HepG2:8550, HEK293:2129)|20,786 |19,063 |8,516 |606 (NA)|578|338 (NA)|\n",
    "|Carlile et al|pseudouridylation|8 (8)|8 |25 |7 |22 |4 (4)|3|3 (3)|\n",
    "|Li et al|pseudouridylation|1489 (1489)|1,489 |1,579 |1,471 |1,425 |48 (58)|47|44 (54)|\n",
    "|Schwartz et al|pseudouridylation|402 (396)|402 |421 |372 |378 |14 (15)|14|10 (11)|\n",
    "|DARNED|Inosine|333216 (259654)|290,002 |294,441 |254,964 |10,558 |24152 (23574)|19814|1300 (1833)|\n",
    "|RADAR|Inosine|2576460 (2576289)|1,342,374 |1,372,609 |918,049 |17,532 |97118 (218793)|68396|3343 (6376)|\n"
   ]
  },
  {
   "cell_type": "markdown",
   "metadata": {},
   "source": [
    "**I obtained less peaks and less uniq genes than shafik et al, probably since I used more stringent criteria for filtering and cleaning (especially for dominissini 2012 paper). Overall the results are consistant though for later analysis I will probably have to go back from the data for several papers.**"
   ]
  },
  {
   "cell_type": "markdown",
   "metadata": {
    "collapsed": true
   },
   "source": [
    "---\n",
    "# Subcellular cell localization datasets\n"
   ]
  },
  {
   "cell_type": "markdown",
   "metadata": {},
   "source": [
    "---\n",
    "## Cabili = HT-FISH data"
   ]
  },
  {
   "cell_type": "markdown",
   "metadata": {},
   "source": [
    "***Cabili, M. N. et al. Localization and abundance analysis of human lncRNAs at single-cell and single-molecule resolution. Genome Biol 16, (2015)***\n",
    "\n",
    "- Subcellular Location of lncRNA by RNA FISH\n",
    "- Nice dataset with Human foreskin fibloblast (hFFs), Human lung fibroblast (hLFs) and HeLA cells\n",
    "- Limited to a very number of candidate = 34 only\n",
    "- Could be a good control datasets if we stick to Hela cells"
   ]
  },
  {
   "cell_type": "markdown",
   "metadata": {},
   "source": [
    "**The only data available are a large multitab excel file containing a lot of messy information. The annotation are based on different database (lncipedia or Noncode, or refSeq and rarely ensembl)... sometime the lncRNA is only described in one database and not in ensembl. First I obtained the common name for all lncRNA from lncipedia. However it was impossible to get the Ensembl equivalent in most of the cases.**\n",
    "\n",
    "**Fortunatly they provide all the probe they used to fish the lncRNA. So when the information is not available I have to blast the probe in Ensemble to get the proper gene corresponding to the probes... It is a long and painfull work, but this dataset is going to be my reference for future localization experient so it has to be done properly**"
   ]
  },
  {
   "cell_type": "code",
   "execution_count": 6,
   "metadata": {
    "collapsed": false,
    "scrolled": true
   },
   "outputs": [
    {
     "name": "stdout",
     "output_type": "stream",
     "text": [
      "1\tXLOC_004198\n",
      "2\tXLOC_009233\n",
      "3\tNR_024412\n",
      "4\tNM_000272\n",
      "5\tXLOC_004456\n",
      "6\tNR_015370\n",
      "7\tXLOC_I2_010926\n",
      "8\tNR_024031\n",
      "9\tNR_038322\n",
      "10\tNR_027063\n",
      "11\tXLOC_009474\n",
      "12\tXLOC_004198\n",
      "13\tXLOC_009233\n",
      "14\tNR_024412\n",
      "15\tNM_000272\n",
      "16\tXLOC_004456\n",
      "17\tNR_015370\n",
      "18\tXLOC_I2_010926\n",
      "19\tNR_024031\n",
      "20\tNR_038322\n",
      "21\tNR_027063\n",
      "22\tXLOC_009474\n",
      "23\tXLOC_L2_008203\n",
      "24\tXLOC_012564\n",
      "25\tXLOC_012197\n",
      "26\tXLOC_012046_(exonsuniquetoNR_036444)\n",
      "27\tXLOC_011264\n",
      "28\tXLOC_010709\n",
      "29\tXLOC_010556\n",
      "30\tXLOC_009702\n",
      "31\tXLOC_009662\n",
      "32\tXLOC_009447\n",
      "33\tXLOC_008583\n",
      "34\tXLOC_008174\n",
      "35\tXLOC_005764\n",
      "36\tXLOC_005151\n",
      "37\tXLOC_004803\n",
      "38\tXLOC_004122\n",
      "39\tXLOC_003526\n",
      "40\tXLOC_002408\n",
      "41\tXLOC_002094\n",
      "42\tXLOC_000304\n",
      "43\tNR_033857exons0-2\n",
      "44\tNM_139078(XLOC_010202_neighbor)\n",
      "45\tNM_023000(NR_029435_neighbor)\n",
      "46\tXLOC_013841\n",
      "47\tXLOC_012046(exonsuniquetoNR_033925)\n",
      "48\tXLOC_010263\n",
      "49\tNM_005853(XLOC_011950_neighbor)\n",
      "50\tNM_000820_neighbor_of_XLOC_010514\n",
      "51\tANCR\n",
      "52\tlincFOXF1\n",
      "53\tlincSFPQ\n",
      "54\tlincDR1\n",
      "55\tlincTUG1\n",
      "56\tlincGARS\n",
      "57\tlincMKLN1_A\n",
      "58\tANRil\n",
      "59\tGAS5\n",
      "60\tKcnq1ot1\n",
      "61\tMeg3\n",
      "62\tNR_033857(part not shared with XLOC_008531)\n",
      "63\tNRON\n",
      "64\tNEAT1\n",
      "65\tTERC\n",
      "66\th19\n",
      "67\tXist\n",
      "68\tXLOC_011226\n",
      "69\tXLOC_012187\n",
      "70\tXLOC_010853\n",
      "71\tXLOC_008531\n",
      "72\tXLOC_006922\n",
      "73\tXLOC_002746\n",
      "74\tXLOC_011950\n",
      "75\tXLOC_014160\n",
      "76\tXLOC_012599\n",
      "77\tXLOC_010017\n",
      "78\tXLOC_012192\n",
      "79\tXLOC_012980\n",
      "80\tXLOC_010202\n",
      "81\tXLOC_009474\n",
      "82\tXLOC_010514\n",
      "83\tXLOC_006198\n",
      "84\tXLOC_011185\n",
      "85\tNR_029435\n",
      "86\tXLOC_010853\n",
      "87\tXLOC_012599\n",
      "88\tXLOC_012980\n",
      "89\tXLOC_I2_010926\n",
      "90\tZBTB37\n",
      "91\tRAB30_3UTR\n",
      "92\tMALAT1\n",
      "93\thMorc2\n",
      "94\thMKLN1\n",
      "95\tFOXF1_3UTR\n",
      "96\tCCNA2_exons\n",
      "97\tMIAT\n"
     ]
    }
   ],
   "source": [
    "from collections import OrderedDict\n",
    "\n",
    "d = OrderedDict()\n",
    "\n",
    "for line in open(\"./Localisation_Original_Datasets/Cabili_RNA_FISH/probes_seq/All_probes.csv\", 'r'):\n",
    "    sequence, seq_name, gene_num = line.split(\"\\t\")\n",
    "    d[gene_num]=seq_name.rpartition(\"_\")[0]\n",
    "\n",
    "for k,v in d.items():\n",
    "    print (\"{}\\t{}\".format(k.strip(),v))"
   ]
  },
  {
   "cell_type": "code",
   "execution_count": 17,
   "metadata": {
    "collapsed": false
   },
   "outputs": [],
   "source": [
    "# Extract the sequences of the probles for each gene in a separate file\n",
    "from collections import OrderedDict\n",
    "from pprint import pprint as pp\n",
    "import random\n",
    "\n",
    "def get_fasta_probes(infile, outfile, id_list=[]):\n",
    "    \n",
    "    seq_dict = OrderedDict()\n",
    "    for line in open (infile, \"r\"):\n",
    "        sequence, seq_name, gene_num = line.split(\"\\t\")\n",
    "        gene_name, sep, seq_num = seq_name.rpartition(\"_\")\n",
    "        \n",
    "        for id in id_list:\n",
    "            if (type(id) == int and id == int(gene_num)) or (type(id) == str and id == gene_id):\n",
    "                seq_dict[seq_name] = sequence\n",
    "\n",
    "    # if sequences were found = write the a maximum of 30 randomly picked sequence in an outfile\n",
    "    if seq_dict:\n",
    "        key_list = list(seq_dict.keys())\n",
    "        random.shuffle(key_list)\n",
    "        \n",
    "        with open (outfile, \"w\") as fp:\n",
    "            for key in key_list[0:30]:\n",
    "                fp.write(\">{}\\n{}\\n\".format(key, seq_dict[key]))"
   ]
  },
  {
   "cell_type": "code",
   "execution_count": 18,
   "metadata": {
    "collapsed": false,
    "scrolled": true
   },
   "outputs": [
    {
     "name": "stdout",
     "output_type": "stream",
     "text": [
      "Created ./Localisation_Original_Datasets/Cabili_RNA_FISH/probes_seq/Cabili_lnc-USP14-2.fa\n",
      "Created ./Localisation_Original_Datasets/Cabili_RNA_FISH/probes_seq/Cabili_MIR4435-2HG.fa\n",
      "Created ./Localisation_Original_Datasets/Cabili_RNA_FISH/probes_seq/Cabili_lnc-MAGOHB-1.fa\n",
      "Created ./Localisation_Original_Datasets/Cabili_RNA_FISH/probes_seq/Cabili_MEG3.fa\n",
      "Created ./Localisation_Original_Datasets/Cabili_RNA_FISH/probes_seq/Cabili_lnc-NRXN1-2.fa\n",
      "Created ./Localisation_Original_Datasets/Cabili_RNA_FISH/probes_seq/Cabili_TMEM161B-AS1.fa\n",
      "Created ./Localisation_Original_Datasets/Cabili_RNA_FISH/probes_seq/Cabili_CDKN2B-AS1.fa\n",
      "Created ./Localisation_Original_Datasets/Cabili_RNA_FISH/probes_seq/Cabili_lnc-C5orf39-2.fa\n",
      "Created ./Localisation_Original_Datasets/Cabili_RNA_FISH/probes_seq/Cabili_TUG1.fa\n",
      "Created ./Localisation_Original_Datasets/Cabili_RNA_FISH/probes_seq/Cabili_KCNQ1OT1.fa\n",
      "Created ./Localisation_Original_Datasets/Cabili_RNA_FISH/probes_seq/Cabili_lnc-AC078802.1-2.fa\n",
      "Created ./Localisation_Original_Datasets/Cabili_RNA_FISH/probes_seq/Cabili_XIST.fa\n",
      "Created ./Localisation_Original_Datasets/Cabili_RNA_FISH/probes_seq/Cabili_lnc-GRXCR1-4.fa\n",
      "Created ./Localisation_Original_Datasets/Cabili_RNA_FISH/probes_seq/Cabili_LINC-PINT.fa\n",
      "Created ./Localisation_Original_Datasets/Cabili_RNA_FISH/probes_seq/Cabili_RAB30-AS1.fa\n",
      "Created ./Localisation_Original_Datasets/Cabili_RNA_FISH/probes_seq/Cabili_lnc-SFPQ-2.fa\n",
      "Created ./Localisation_Original_Datasets/Cabili_RNA_FISH/probes_seq/Cabili_FENDRR.fa\n",
      "Created ./Localisation_Original_Datasets/Cabili_RNA_FISH/probes_seq/Cabili_lnc-SNURF-1.fa\n",
      "Created ./Localisation_Original_Datasets/Cabili_RNA_FISH/probes_seq/Cabili_DANCR.fa\n",
      "Created ./Localisation_Original_Datasets/Cabili_RNA_FISH/probes_seq/Cabili_lnc-RREB1-4.fa\n",
      "Created ./Localisation_Original_Datasets/Cabili_RNA_FISH/probes_seq/Cabili_OIP5-AS1.fa\n",
      "Created ./Localisation_Original_Datasets/Cabili_RNA_FISH/probes_seq/Cabili_NEAT1.fa\n",
      "Created ./Localisation_Original_Datasets/Cabili_RNA_FISH/probes_seq/Cabili_LINC00472.fa\n",
      "Created ./Localisation_Original_Datasets/Cabili_RNA_FISH/probes_seq/Cabili_GAS6-AS2.fa\n",
      "Created ./Localisation_Original_Datasets/Cabili_RNA_FISH/probes_seq/Cabili_CRNDE.fa\n",
      "Created ./Localisation_Original_Datasets/Cabili_RNA_FISH/probes_seq/Cabili_MALAT1.fa\n",
      "Created ./Localisation_Original_Datasets/Cabili_RNA_FISH/probes_seq/Cabili_DUBR.fa\n",
      "Created ./Localisation_Original_Datasets/Cabili_RNA_FISH/probes_seq/Cabili_PSMA3-AS1.fa\n",
      "Created ./Localisation_Original_Datasets/Cabili_RNA_FISH/probes_seq/Cabili_GAS5.fa\n",
      "Created ./Localisation_Original_Datasets/Cabili_RNA_FISH/probes_seq/Cabili_LINC01278.fa\n",
      "Created ./Localisation_Original_Datasets/Cabili_RNA_FISH/probes_seq/Cabili_LINC00941.fa\n",
      "Created ./Localisation_Original_Datasets/Cabili_RNA_FISH/probes_seq/Cabili_PVT1.fa\n",
      "Created ./Localisation_Original_Datasets/Cabili_RNA_FISH/probes_seq/Cabili_LINC01116.fa\n",
      "Created ./Localisation_Original_Datasets/Cabili_RNA_FISH/probes_seq/Cabili_LINC00998.fa\n"
     ]
    }
   ],
   "source": [
    "infile = \"./Localisation_Original_Datasets/Cabili_RNA_FISH/probes_seq/All_probes.csv\"\n",
    "\n",
    "# Creating a file contaning the probe used for each 34 valid experimental designs\n",
    "d ={\"DANCR\":[51, 8, 19],\n",
    "    \"CDKN2B-AS1\":[58],\n",
    "    \"GAS5\":[59],\n",
    "    \"KCNQ1OT1\":[60],\n",
    "    \"FENDRR\":[26, 47, 52, 95],\n",
    "    \"LINC-PINT\":[57],\n",
    "    \"lnc-SFPQ-2\":[53],\n",
    "    \"MALAT1\":[92],\n",
    "    \"MEG3\":[61],\n",
    "    \"NEAT1\":[64],\n",
    "    \"LINC00998\":[3, 14],\n",
    "    \"PSMA3-AS1\":[85],\n",
    "    \"lnc-AC078802.1-2\":[65],\n",
    "    \"TUG1\":[55],\n",
    "    \"XIST\":[67],\n",
    "    \"lnc-NRXN1-2\":[41],\n",
    "    \"LINC01116\":[40],\n",
    "    \"DUBR\":[73],\n",
    "    \"lnc-GRXCR1-4\":[39],\n",
    "    \"TMEM161B-AS1\":[5, 16],\n",
    "    \"lnc-C5orf39-2\":[37],\n",
    "    \"lnc-RREB1-4\":[36],\n",
    "    \"LINC00472\":[35],\n",
    "    \"PVT1\":[72],\n",
    "    \"LINC01278\":[34],\n",
    "    \"RAB30-AS1\":[2, 13],\n",
    "    \"LINC00941\":[30],\n",
    "    \"lnc-MAGOHB-1\":[77],\n",
    "    \"GAS6-AS2\":[82],\n",
    "    \"lnc-SNURF-1\":[84],\n",
    "    \"OIP5-AS1\":[68],\n",
    "    \"CRNDE\":[74],\n",
    "    \"lnc-USP14-2\":[76,87],\n",
    "    \"MIR4435-2HG\":[23]}\n",
    "\n",
    "for gene_name, id_list in d.items():\n",
    "    outfile = \"./Localisation_Original_Datasets/Cabili_RNA_FISH/probes_seq/Cabili_{}.fa\".format(gene_name)\n",
    "    get_fasta_probes(infile, outfile, id_list)\n",
    "    print (\"Created \" + outfile)"
   ]
  },
  {
   "cell_type": "markdown",
   "metadata": {
    "collapsed": true,
    "scrolled": false
   },
   "source": [
    "** Each file was blasted against ensembl human genomic sequence hgrh38. I manually checked the overlapping genes and the position of hits relative to exons. Finally I reported the corresponding ensembl ID. In 2 conditions I was nor able to find a gene in the ensembl build at the position indicated by the probes. Instead in fond genes only described in NCBI genes. Trom what I saw in the blast results, all of the genes identified are not lncRNA. I compared the ensembl gene ID found with the gencodev23 file containing all the genes. Results are summarized in the table thereafter**"
   ]
  },
  {
   "cell_type": "code",
   "execution_count": 132,
   "metadata": {
    "collapsed": false
   },
   "outputs": [],
   "source": [
    "from collections import OrderedDict\n",
    "\n",
    "def parse_ensembl_annotation (annotation_file):\n",
    "\n",
    "    annotation_dict = OrderedDict()\n",
    "    # Ensembl gen decomposing template\n",
    "    template=[0,\"\\t\",1,\"\\t\",2,\"\\t\",3,\"\\t\",4,\"\\t\",5,\"\\t\",6,\"\\t\",7,\"\\tID=\",8,\";gene_id=\",9,\";gene_type=\",10,\n",
    "              \";gene_status=\",11,\";gene_name=\",12,\";level=\",13,\";havana_gene=\",14]\n",
    "    \n",
    "    # Parsing annotation file in a dict\n",
    "    with open (annotation_file, \"r\") as fp:\n",
    "        for line in fp:\n",
    "            if line[0] != \"#\":\n",
    "                sl = _decompose_line(line, template)       \n",
    "                if sl[2] == \"gene\":\n",
    "                    id = sl[8].split(\".\")[0]\n",
    "                    assert id not in annotation_dict, \"Duplicated gene ID !! Fuck\" \n",
    "                    annotation_dict[id] = {\n",
    "                        \"seqid\":sl[0],\"source\":sl[1],\"type\":sl[2],\"start\":sl[3],\"end\":sl[4],\"score\":sl[5],\n",
    "                        \"strand\":sl[6],\"phase\":sl[7],\"ID\":sl[8],\"gene_id\":sl[9],\"gene_type\":sl[10],\n",
    "                        \"gene_status\":sl[11],\"gene_name\":sl[12],\"level\":sl[13],\"havana_gene\":sl[14]}\n",
    "    \n",
    "    return annotation_dict\n",
    "\n",
    "def annotate_ensembl_ID (annotation_file, candidate_file, out_file):\n",
    "    \n",
    "    print (\"Parsing annotation file ...\")\n",
    "    annotation_dict = parse_ensembl_annotation(annotation_file)\n",
    "    \n",
    "    print (\"Searching for candidates ...\")\n",
    "    with open (candidate_file, \"r\") as cf, open (out_file, \"w\") as of:\n",
    "        of.write(\"#Gen_screenID\\tGene_name\\tEnsemb_ID\\tseqid\\tsource\\ttype\\tstart\\tend\\tscore\\tstrand\\tphase\\tID\\tgene_id\\tgene_type\\tgene_status\\tgene_name\\tlevel\\thavana_gene\\n\")                \n",
    "        \n",
    "        for line in cf:\n",
    "            if line[0] != \"#\":\n",
    "                line = line.strip()\n",
    "                sl= line.split(\"\\t\")           \n",
    "                if sl[2] in annotation_dict:\n",
    "                    of.write (\"{}\\t{}\\t{}\\t{}\\t{}\\t{}\\t{}\\t{}\\t{}\\t{}\\t{}\\t{}\\t{}\\t{}\\t{}\\t{}\\n\".format(\n",
    "                            line,\n",
    "                            annotation_dict[sl[2]][\"seqid\"].strip(),\n",
    "                            annotation_dict[sl[2]][\"source\"].strip(),\n",
    "                            annotation_dict[sl[2]][\"type\"].strip(),\n",
    "                            annotation_dict[sl[2]][\"start\"].strip(),\n",
    "                            annotation_dict[sl[2]][\"end\"].strip(),\n",
    "                            annotation_dict[sl[2]][\"score\"].strip(),\n",
    "                            annotation_dict[sl[2]][\"strand\"].strip(),\n",
    "                            annotation_dict[sl[2]][\"phase\"].strip(),\n",
    "                            annotation_dict[sl[2]][\"ID\"].strip(),\n",
    "                            annotation_dict[sl[2]][\"gene_id\"].strip(),\n",
    "                            annotation_dict[sl[2]][\"gene_type\"].strip(),\n",
    "                            annotation_dict[sl[2]][\"gene_status\"].strip(),\n",
    "                            annotation_dict[sl[2]][\"gene_name\"].strip(),\n",
    "                            annotation_dict[sl[2]][\"level\"].strip(),\n",
    "                            annotation_dict[sl[2]][\"havana_gene\"].strip()))\n",
    "                else:\n",
    "                    of.write (\"{}\\t{}\\n\".format(line, \"NOT_FOUND\"))                   "
   ]
  },
  {
   "cell_type": "code",
   "execution_count": 134,
   "metadata": {
    "collapsed": false,
    "scrolled": false
   },
   "outputs": [
    {
     "name": "stdout",
     "output_type": "stream",
     "text": [
      "Parsing annotation file ...\n",
      "Searching for candidates ...\n",
      "#Gen_screenID\tGene_name\tEnsemb_ID\tseqid\tsource\ttype\tstart\tend\tscore\tstrand\tphase\tID\tgene_id\tgene_type\tgene_status\tgene_name\tlevel\thavana_gene\n",
      "ANCR\tDANCR\tENSG00000226950\tchr4\tHAVANA\tgene\t52712404\t52720351\t.\t+\t.\tENSG00000226950.6\tENSG00000226950.6\tprocessed_transcript\tKNOWN\tDANCR\t2;tag=ncRNA_host\tOTTHUMG00000154670.3\n",
      "Anril\tCDKN2B-AS1\tENSG00000240498\tchr9\tHAVANA\tgene\t21994778\t22121097\t.\t+\t.\tENSG00000240498.6\tENSG00000240498.6\tantisense\tKNOWN\tCDKN2B-AS1\t1;tag=ncRNA_host\tOTTHUMG00000019689.3\n",
      "GAS5\tGAS5\tENSG00000234741\tchr1\tHAVANA\tgene\t173863900\t173868882\t.\t-\t.\tENSG00000234741.7\tENSG00000234741.7\tprocessed_transcript\tKNOWN\tGAS5\t2\tOTTHUMG00000037216.5\n",
      "Kcnq1ot1\tKCNQ1OT1\tENSG00000269821\tchr11\tHAVANA\tgene\t2608328\t2699994\t.\t-\t.\tENSG00000269821.1\tENSG00000269821.1\tantisense\tKNOWN\tKCNQ1OT1\t2\tOTTHUMG00000171022.2\n"
     ]
    }
   ],
   "source": [
    "# Request annotation for all candidates in lncRNA Gencode database\n",
    "annotation_file = \"../Reference_Annotation/gencode_v24_lncRNAs_gene.gff3\"\n",
    "candidate_file = \"./Localisation_Original_Datasets/Cabili_RNA_FISH/candidate_list.csv\"\n",
    "out_file = \"./Localisation_Original_Datasets/Cabili_RNA_FISH/candidate_list_annotated.csv\"\n",
    "annotate_ensembl_ID (annotation_file, candidate_file, out_file)\n",
    "\n",
    "head(out_file, 5)"
   ]
  },
  {
   "cell_type": "code",
   "execution_count": 138,
   "metadata": {
    "collapsed": false
   },
   "outputs": [
    {
     "name": "stdout",
     "output_type": "stream",
     "text": [
      "Parsing annotation file ...\n",
      "Searching for candidates ...\n",
      "#Gen_screenID\tGene_name\tEnsemb_ID\tseqid\tsource\ttype\tstart\tend\tscore\tstrand\tphase\tID\tgene_id\tgene_type\tgene_status\tgene_name\tlevel\thavana_gene\n",
      "ANCR\tDANCR\tENSG00000226950\tchr4\tHAVANA\tgene\t52712404\t52720351\t.\t+\t.\tENSG00000226950.6\tENSG00000226950.6\tprocessed_transcript\tKNOWN\tDANCR\t2;tag=ncRNA_host\tOTTHUMG00000154670.3\n",
      "Anril\tCDKN2B-AS1\tENSG00000240498\tchr9\tHAVANA\tgene\t21994778\t22121097\t.\t+\t.\tENSG00000240498.6\tENSG00000240498.6\tantisense\tKNOWN\tCDKN2B-AS1\t1;tag=ncRNA_host\tOTTHUMG00000019689.3\n",
      "GAS5\tGAS5\tENSG00000234741\tchr1\tHAVANA\tgene\t173863900\t173868882\t.\t-\t.\tENSG00000234741.7\tENSG00000234741.7\tprocessed_transcript\tKNOWN\tGAS5\t2\tOTTHUMG00000037216.5\n",
      "Kcnq1ot1\tKCNQ1OT1\tENSG00000269821\tchr11\tHAVANA\tgene\t2608328\t2699994\t.\t-\t.\tENSG00000269821.1\tENSG00000269821.1\tantisense\tKNOWN\tKCNQ1OT1\t2\tOTTHUMG00000171022.2\n"
     ]
    }
   ],
   "source": [
    "# Request annotation for all candidates in all Gencode database\n",
    "annotation_file = \"../Reference_Annotation/gencode_v24_gene.gff3\"\n",
    "candidate_file = \"./Localisation_Original_Datasets/Cabili_RNA_FISH/candidate_list.csv\"\n",
    "out_file = \"./Localisation_Original_Datasets/Cabili_RNA_FISH/candidate_list_annotated.csv\"\n",
    "annotate_ensembl_ID (annotation_file, candidate_file, out_file)\n",
    "\n",
    "head(out_file, 5)"
   ]
  },
  {
   "cell_type": "markdown",
   "metadata": {},
   "source": [
    "**The 2 non-Ensembl lncRNA were not matched. As for the other 29 belong to the lncRNA class (processed_transcript, antisense, lincRNA), 1 is protein_coding and 2 are transcribed_unprocessed_pseudogene that do no belong to the lncRNA class. I think I will still keep a track of the pseudogene, since thay could also have a particular interest later in the analysis. So I have a final number of 29 valid lncRNA + 3 pseudogenes in the final dataset**"
   ]
  },
  {
   "cell_type": "markdown",
   "metadata": {
    "collapsed": true,
    "scrolled": false
   },
   "source": [
    "|#Gen_screenID|Gene_name|Ensemb_ID|gene_type|lncRNA_class|seqid|start|end|strand|\n",
    "|---|---|---|---|---|---|---|---|---|\n",
    "|ANCR|DANCR|ENSG00000226950|processed_transcript|YES|chr4|52712404|52720351|+|\n",
    "|Anril|CDKN2B-AS1|ENSG00000240498|antisense|YES|chr9|21994778|22121097|+|\n",
    "|GAS5|GAS5|ENSG00000234741|processed_transcript|YES|chr1|173863900|173868882|-|\n",
    "|Kcnq1ot1|KCNQ1OT1|ENSG00000269821|antisense|YES|chr11|2608328|2699994|-|\n",
    "|XLOC_012046|FENDRR|ENSG00000268388|lincRNA|YES|chr16|86474529|86509099|-|\n",
    "|lincMKLN1_A1|LINC-PINT|ENSG00000231721|antisense|YES|chr7|130941760|131110176|-|\n",
    "|lincSFPQ|SFPQ|ENSG00000116560|protein_coding|NO|chr1|35176378|35193148|-|\n",
    "|MALAT1|MALAT1|ENSG00000251562|lincRNA|YES|chr11|65497762|65506516|+|\n",
    "|Meg3|MEG3|ENSG00000214548|lincRNA|YES|chr14|100779410|100861031|+|\n",
    "|NEAT1|NEAT1|ENSG00000245532|lincRNA|YES|chr11|65422774|65445540|+|\n",
    "|NR_024412|LINC00998|ENSG00000214194|lincRNA|YES|chr7|113116718|113118613|-|\n",
    "|NR_029435|PSMA3-AS1|ENSG00000257621|antisense|YES|chr14|58265365|58298134|-|\n",
    "|TERC|TERC|ENSG00000270141|lincRNA|YES|chr3|169764520|169765060|-|\n",
    "|XLOC_014209|TUG1|ENSG00000253352|antisense|YES|chr22|30970677|30979395|+|\n",
    "|XLOC_008185|XIST|ENSG00000229807|lincRNA|YES|chrX|73820651|73852753|-|\n",
    "|XLOC_002094|AC007682.1|ENSG00000231918|lincRNA|YES|chr2|51032601|52407917|+|\n",
    "|XLOC_002408|LINC01116|ENSG00000163364|lincRNA|YES|chr2|176629589|176637931|-|\n",
    "|XLOC_002746|DUBR|ENSG00000243701|lincRNA|YES|chr3|107240692|107326964|+|\n",
    "|XLOC_003526|RP11-1E6.1|ENSG00000250657|processed_transcript|YES|chr4|43340875|43345600|+|\n",
    "|XLOC_004456|TMEM161B-AS1|ENSG00000247828|antisense|YES|chr5|88268895|88436685|+|\n",
    "|XLOC_004803|REFSEQ-FLJ32255|LOC643977|NA|NA|NA|NA|NA|NA|\n",
    "|XLOC_005151|NCBI-105374902|LOC105374902|NA|NA|NA|NA|NA|NA|\n",
    "|XLOC_005764|LINC00472|ENSG00000233237|lincRNA|YES|chr6|71344344|71420769|-|\n",
    "|XLOC_006922|PVT1|ENSG00000249859|lincRNA|YES|chr8|127794533|128101253|+|\n",
    "|XLOC_008174|LINC01278|ENSG00000235437|processed_transcript|YES|chrX|63343227|63561071|-|\n",
    "|XLOC_009233|RAB30-AS1|ENSG00000246067|lincRNA|YES|chr11|83072066|83106719|+|\n",
    "|XLOC_009702|LINC00941|ENSG00000235884|lincRNA|YES|chr12|30795681|30802711|+|\n",
    "|XLOC_010017|KLRAP1|ENSG00000256667|transcribed_unprocessed_pseudogene|NO|chr12|10588063|10599669|-|\n",
    "|XLOC_010514|GAS6-AS2|ENSG00000272695|lincRNA|YES|chr13|113864168|113866833|+|\n",
    "|XLOC_011185|SNHG14|ENSG00000224078|processed_transcript|YES|chr15|24978583|25419462|+|\n",
    "|XLOC_011226|OIP5-AS1|ENSG00000247556|processed_transcript|YES|chr15|41283990|41309737|+|\n",
    "|XLOC_011950|CRNDE|ENSG00000245694|lincRNA|YES|chr16|54918863|54929189|-|\n",
    "|XLOC_012599|ROCK1P1|ENSG00000263006|transcribed_unprocessed_pseudogene|NO|chr18|109065|122219|+|\n",
    "|XLOC_L2_008203|MIR4435-2HG|ENSG00000172965|lincRNA|YES|chr2|111196350|111495100|-|\n",
    "\n"
   ]
  },
  {
   "cell_type": "markdown",
   "metadata": {
    "collapsed": true,
    "scrolled": false
   },
   "source": [
    "**I removed the data from the protein coding and non ensembl gene and crosmatch them with the experimental data in a simple 3 column csv file (Ensembl-ID : Cell type : localization code). I will create a bedfile containing the coordinate of the gene with additional information fetched from the gencodev23 annotation file. The idea is to obtain a standardize file similar to the bed file created previously for PTM.**"
   ]
  },
  {
   "cell_type": "code",
   "execution_count": 156,
   "metadata": {
    "collapsed": false,
    "scrolled": false
   },
   "outputs": [],
   "source": [
    "def Bed_ensembl_ID (annotation_file, localization_file, out_file):\n",
    "        \n",
    "    print (\"Parsing annotation file ...\")\n",
    "    annotation_dict = parse_ensembl_annotation(annotation_file)\n",
    "    \n",
    "    h = \"# Data cleaned, converted to BED6, standardized, hg38 coordinates\\n\"\n",
    "    h+= \"# Gene annotation scrapped from gencodev23\\n\"\n",
    "    h+= \"# Adrien Leger (aleg@ebi.ac.uk) {}\\n\".format(str (datetime.datetime.today()))\n",
    "    h+= \"# Localization type is a numeric code from the original publication\\n\"\n",
    "    h+= \"# 0 = Invalid detection\\n\"\n",
    "    h+= \"# 1 = One or 2 large nuclear foci\\n\"\n",
    "    h+= \"# 2 = Large nuclear foci and single molecules scattered through the nucleus\\n\"\n",
    "    h+= \"# 3 = Predominantly nuclear, without foci\\n\"\n",
    "    h+= \"# 4 = Cytoplasmic and nuclear\\n\"\n",
    "    h+= \"# 5 = Predominantly cytoplasmic\\n\"\n",
    "    h+= \"# chrom\\tchromstart\\tchromend\\tLocalization_code|cell_type|method|PMID|ensembl_id|gene_type|gene_name\\tscore\\tstrand\\n\"\n",
    "        \n",
    "    print (\"Searching for candidates ...\")\n",
    "    with open (localization_file, \"r\") as infile, open (out_file, \"w\") as outfile:\n",
    "        outfile.write(h)\n",
    "        total = invalid_loc_code = invalid_ensemble_id = 0\n",
    "        \n",
    "        for line in infile:\n",
    "            if line[0] != \"#\":\n",
    "                total+=1        \n",
    "                sl= line.split(\"\\t\")\n",
    "                ensemble_id = sl[0].strip()\n",
    "                cell_type = sl[1].strip()\n",
    "                loc_code = sl[2].strip()\n",
    "                \n",
    "                if loc_code == '0':\n",
    "                    invalid_loc_code+=1\n",
    "                    continue\n",
    "                \n",
    "                if ensemble_id not in annotation_dict:\n",
    "                    invalid_ensemble_id+=1\n",
    "                    continue\n",
    "                    \n",
    "                outfile.write (\"{0}\\t{1}\\t{2}\\t{3}|{4}|{5}|{6}|{7}|{8}|{9}\\t{10}\\t{11}\\n\".format(\n",
    "                    annotation_dict[ensemble_id][\"seqid\"].strip(),\n",
    "                    annotation_dict[ensemble_id][\"start\"].strip(),\n",
    "                    annotation_dict[ensemble_id][\"end\"].strip(),\n",
    "                    loc_code,\n",
    "                    cell_type,\n",
    "                    \"RNA_FISH\",\n",
    "                    \"25630241\",\n",
    "                    ensemble_id,\n",
    "                    annotation_dict[ensemble_id][\"gene_type\"].strip(),\n",
    "                    annotation_dict[ensemble_id][\"gene_name\"].strip(),\n",
    "                    \"-\",\n",
    "                    annotation_dict[ensemble_id][\"strand\"].strip()))\n",
    "    \n",
    "    print(\"Total: {}\\tInvalid Localization code: {}\\tInvalid Ensembl ID: {}\".format(total,invalid_loc_code,invalid_ensemble_id))\n",
    "                                   "
   ]
  },
  {
   "cell_type": "code",
   "execution_count": 158,
   "metadata": {
    "collapsed": false,
    "scrolled": false
   },
   "outputs": [
    {
     "name": "stdout",
     "output_type": "stream",
     "text": [
      "Parsing annotation file ...\n",
      "Searching for candidates ...\n",
      "Total: 93\tInvalid Localization code: 24\tInvalid Ensembl ID: 0\n",
      "# Data cleaned, converted to BED6, standardized, hg38 coordinates\n",
      "# Gene annotation scrapped from gencodev23\n",
      "# Adrien Leger (aleg@ebi.ac.uk) 2016-06-15 17:58:10.405934\n",
      "# Localization type is a numeric code from the original publication\n",
      "# 0 = Invalid detection\n",
      "# 1 = One or 2 large nuclear foci\n",
      "# 2 = Large nuclear foci and single molecules scattered through the nucleus\n",
      "# 3 = Predominantly nuclear, without foci\n",
      "# 4 = Cytoplasmic and nuclear\n",
      "# 5 = Predominantly cytoplasmic\n",
      "# chrom\tchromstart\tchromend\tLocalization_code|cell_type|method|PMID|ensembl_id|gene_type|gene_name\tscore\tstrand\n",
      "chr4\t52712404\t52720351\t4|hela|RNA_FISH|25630241|ENSG00000226950|processed_transcript|DANCR\t-\t+\n",
      "chr4\t52712404\t52720351\t4|hLF|RNA_FISH|25630241|ENSG00000226950|processed_transcript|DANCR\t-\t+\n",
      "chr4\t52712404\t52720351\t4|hFF|RNA_FISH|25630241|ENSG00000226950|processed_transcript|DANCR\t-\t+\n",
      "chr9\t21994778\t22121097\t1|hela|RNA_FISH|25630241|ENSG00000240498|antisense|CDKN2B-AS1\t-\t+\n"
     ]
    }
   ],
   "source": [
    "# Request annotation for all candidates in all Gencode database (pseudogenes + lncRNA)\n",
    "annotation_file = \"../Reference_Annotation/gencode_v24_gene.gff3\"\n",
    "localization_file = \"./Localisation_Original_Datasets/Cabili_RNA_FISH/Localization_cell_ensembl.csv\"\n",
    "out_file = \"./Localisation_Clean_Datasets/Cabili_RNA_FISH_hg38.bed\"\n",
    "\n",
    "Bed_ensembl_ID (annotation_file, localization_file, out_file)\n",
    "\n",
    "head (out_file, 15)"
   ]
  },
  {
   "cell_type": "markdown",
   "metadata": {
    "collapsed": true,
    "scrolled": false
   },
   "source": [
    "**This last step removed 24 lines out of 93 for genes that had a invalid localization code (0). The data are now stored in a Bed compatible dataset and ready to be used. I am done with this dataset.**"
   ]
  },
  {
   "cell_type": "markdown",
   "metadata": {},
   "source": [
    "## Djebali =  ENCODE RNA-Seq nuclear/cytoplasmic fractions"
   ]
  },
  {
   "cell_type": "markdown",
   "metadata": {},
   "source": [
    "**I just found this new extensive dataset from the ENCODE v2 consortium published in 2012 with RNA-Seq data from various human cell lines in the nucleus and in the cytoplasm. The data were analysed with the previous version of the human genome and would probably have to be remapped completly on the new version of the genome hg38 and using the last GENCODE annotations. I for each cell line I will compare the nuclear vs the cytoplasmic fractions to get the transcript significantly enriched in the nucleus vs the cytoplasm.**\n",
    "\n",
    "**The content of the dataset is listed bellow** \n",
    "\n",
    "**Cell types (include immortalized cell lines, primary cells and embryonic cells)**\n",
    "* A549\n",
    "* GM12878\n",
    "* H1-hESC\n",
    "* HeLa-S3\n",
    "* HepG2\n",
    "* HUVEC\n",
    "* IMR90\n",
    "* K562\n",
    "* MCF-7\n",
    "* NHEK\n",
    "* SK-N-SH\n",
    "\n",
    "**Localization**\n",
    "* Nucleus / Cytoplasm > Separated using Qiagen RLN buffer\n",
    "* Cytosol\n",
    "* Chromatin (K562 only)\n",
    "* Nucleolus (K562 only)\n",
    "* Nucleoplasm (K562 only)\n",
    "\n",
    "** Additional informations**\n",
    "* RNAs of >200 nt length are selected using the RNeasy MiniElute Cleanup kit\n",
    "* RNA were split in 2 fractions by polyA + and the polyA - using Oligotex \n",
    "* All fractions were pre‐treated with the Ribominus Eukaryotic Kit for RNA‐seq\n",
    "* PhiX was added at 1% in \n",
    "* There are 2 biological replicates for all the samples (except the H1-hESC embyonic cells)\n",
    "* fastq Paired end reads are in 2 separates files\n",
    "* bed, Bigwig, sam .. are also available but I only need the fastq since I will remap the data\n",
    "\n",
    "** Summary of the dataset I will focus on** \n",
    "\n",
    "|Cell Line|Localization|RNA Extract|ENCODE Accesion|\n",
    "|---|---|---|---|\n",
    "|A549|cytosol|Long PolyA+ RNA|EH002624|\n",
    "|A549|nucleus|Long PolyA+ RNA|EH002625|\n",
    "|GM12878|cytosol|Long PolyA+ RNA|EH000147|\n",
    "|GM12878|nucleus|Long PolyA+ RNA|EH000170|\n",
    "|H1-hESC|cytosol|Long PolyA+ RNA|EH000151|\n",
    "|H1-hESC|nucleus|Long PolyA+ RNA|EH000152|\n",
    "|HeLa-S3|cytosol|Long PolyA+ RNA|EH000171|\n",
    "|HeLa-S3|nucleus|Long PolyA+ RNA|EH000172|\n",
    "|HepG2|cytosol|Long PolyA+ RNA|EH000161|\n",
    "|HepG2|nucleus|Long PolyA+ RNA|EH000158|\n",
    "|HUVEC|cytosol|Long PolyA+ RNA|EH000156|\n",
    "|HUVEC|nucleus|Long PolyA+ RNA|EH000157|\n",
    "|IMR90|cytosol|Long PolyA+ RNA|EH002626|\n",
    "|IMR90|nucleus|Long PolyA+ RNA|EH002628|\n",
    "|K562|cytosol|Long PolyA+ RNA|EH000140|\n",
    "|K562|nucleus|Long PolyA+ RNA|EH000174|\n",
    "|MCF-7|cytosol|Long PolyA+ RNA|EH002633|\n",
    "|MCF-7|nucleus|Long PolyA+ RNA|EH002627|\n",
    "|NHEK|cytosol|Long PolyA+ RNA|EH000166|\n",
    "|NHEK|nucleus|Long PolyA+ RNA|EH000165|\n",
    "|SK-N-SH|cytosol|Long PolyA+ RNA|EH002630|\n",
    "|SK-N-SH|nucleus|Long PolyA+ RNA|EH002631|"
   ]
  },
  {
   "cell_type": "markdown",
   "metadata": {},
   "source": [
    "**It has been a while that I want to use Kalisto, the software designed by Lior Patcher's team to analyse RNA data. I will perform this analysis with the conventional pipeline (STAR) in parallel to compare the results. The data are quite massive, so I will just prototype on my laptop but run the final analysis on the cluster**"
   ]
  },
  {
   "cell_type": "markdown",
   "metadata": {},
   "source": [
    "**Create an index for Kalisto from the human transcriptome gencodev23 transcript(main chr)**"
   ]
  },
  {
   "cell_type": "code",
   "execution_count": 8,
   "metadata": {
    "collapsed": false
   },
   "outputs": [
    {
     "name": "stdout",
     "output_type": "stream",
     "text": [
      "kallisto-0.43 index -i ../Index/Kalisto/gencode_v24_transcripts.idx ../Reference_Genomes/gencode_v24_transcripts.fa.gz\n",
      "\n",
      "[build] loading fasta file ../Reference_Genomes/gencode_v24_transcripts.fa.gz\n",
      "[build] k-mer length: 31\n",
      "[build] warning: clipped off poly-A tail (longer than 10)\n",
      "        from 1540 target sequences\n",
      "[build] warning: replaced 86 non-ACGUT characters in the input sequence\n",
      "        with pseudorandom nucleotides\n",
      "[build] counting k-mers ... done.\n",
      "[build] building target de Bruijn graph ...  done \n",
      "[build] creating equivalence classes ...  done\n",
      "[build] target de Bruijn graph has 1261049 contigs and contains 123898639 k-mers \n",
      "\n",
      "\n"
     ]
    }
   ],
   "source": [
    "program = \"kallisto-0.43 index\"\n",
    "index = \"../Index/Kalisto/gencode_v24_transcripts.idx\"\n",
    "index_report = \"../Index/Kalisto/gencode_v24_transcripts.txt\"\n",
    "transcript_fasta = \"../Reference_Genomes/gencode_v24_transcripts.fa.gz\"\n",
    "\n",
    "cmd = \"{} -i {} {}\".format(program, index, transcript_fasta)\n",
    "print (cmd)\n",
    "\n",
    "stderr = bash (cmd, ret_stderr=True, ret_stdout=False)\n",
    "\n",
    "print (stderr)\n",
    "\n",
    "# write the report\n",
    "with open (index_report, \"w\") as fp:\n",
    "    fp.write(stderr)"
   ]
  },
  {
   "cell_type": "markdown",
   "metadata": {},
   "source": [
    "**Test alignement avec 1 des datasets obtenus**"
   ]
  },
  {
   "cell_type": "code",
   "execution_count": null,
   "metadata": {
    "collapsed": true
   },
   "outputs": [],
   "source": [
    "program = \"kallisto-0.43 quant\"\n",
    "R1=\"./Localisation_Original_Datasets/Djebali-ENCODE/fastq/wgEncodeCshlLongRnaSeqA549CytosolPapFastqRd1Rep4.fastq.gz\"\n",
    "R2=\"./Localisation_Original_Datasets/Djebali-ENCODE/fastq/wgEncodeCshlLongRnaSeqA549CytosolPapFastqRd2Rep4.fastq.gz\"\n",
    "output_dir = \"./Localisation_Original_Datasets/Djebali-ENCODE/A549_Cytosol_Pap_Rep4/\"\n",
    "align_report = output_dir+\"Kallisto_report.txt\"\n",
    "n_thread = 4\n",
    "\n",
    "mkdir = output_dir\n",
    "\n",
    "cmd = \"{} -i {} -o {} -t {} --fr-stranded {} {}\".format(\n",
    "    program, index, output_dir, n_thread, R1, R2)\n",
    "print (cmd)\n",
    "\n",
    "print(bash (cmd, ret_stderr=True, ret_stdout=False))\n",
    "\n",
    "# write the report\n",
    "with open (align_report, \"w\") as fp:\n",
    "    fp.write(stderr)"
   ]
  },
  {
   "cell_type": "code",
   "execution_count": 1,
   "metadata": {
    "collapsed": false,
    "scrolled": false
   },
   "outputs": [
    {
     "ename": "NameError",
     "evalue": "name 'index' is not defined",
     "output_type": "error",
     "traceback": [
      "\u001b[1;31m---------------------------------------------------------------------------\u001b[0m",
      "\u001b[1;31mNameError\u001b[0m                                 Traceback (most recent call last)",
      "\u001b[1;32m<ipython-input-1-805e29bb522a>\u001b[0m in \u001b[0;36m<module>\u001b[1;34m()\u001b[0m\n\u001b[0;32m      9\u001b[0m \u001b[1;33m\u001b[0m\u001b[0m\n\u001b[0;32m     10\u001b[0m cmd = \"{} -i {} -o {} -t {} --fr-stranded {} {}\".format(\n\u001b[1;32m---> 11\u001b[1;33m     program, index, output_dir, n_thread, R1, R2)\n\u001b[0m\u001b[0;32m     12\u001b[0m \u001b[0mprint\u001b[0m \u001b[1;33m(\u001b[0m\u001b[0mcmd\u001b[0m\u001b[1;33m)\u001b[0m\u001b[1;33m\u001b[0m\u001b[0m\n\u001b[0;32m     13\u001b[0m \u001b[1;33m\u001b[0m\u001b[0m\n",
      "\u001b[1;31mNameError\u001b[0m: name 'index' is not defined"
     ]
    }
   ],
   "source": [
    "program = \"kallisto-0.43 quant\"\n",
    "R1=\"./Localisation_Original_Datasets/Djebali-ENCODE/fastq/wgEncodeCshlLongRnaSeqA549NucleusPapFastqRd1Rep4.fastq.gz\"\n",
    "R2=\"./Localisation_Original_Datasets/Djebali-ENCODE/fastq/wgEncodeCshlLongRnaSeqA549NucleusPapFastqRd2Rep4.fastq.gz\"\n",
    "output_dir = \"./Localisation_Original_Datasets/Djebali-ENCODE/A549_Nucleus_Pap_Rep4/\"\n",
    "align_report = output_dir+\"Kallisto_report.txt\"\n",
    "n_thread = 4\n",
    "\n",
    "mkdir = output_dir\n",
    "\n",
    "cmd = \"{} -i {} -o {} -t {} --fr-stranded {} {}\".format(\n",
    "    program, index, output_dir, n_thread, R1, R2)\n",
    "print (cmd)\n",
    "\n",
    "print(bash (cmd, ret_stderr=True, ret_stdout=False))\n",
    "\n",
    "# write the report\n",
    "with open (align_report, \"w\") as fp:\n",
    "    fp.write(stderr)"
   ]
  },
  {
   "cell_type": "markdown",
   "metadata": {},
   "source": [
    "**Kalisto index and quant is working correctly and we obtain a file with counts directly in a very short time = 15 min for 7GB pair ended datasets**\n",
    "\n",
    "**To analyse the data I will have to get all the fastq files and I will use the Cluster because of the amount of data to be analysed. All the data are available on the ENCODE website https://www.encodeproject.org/ and I can acces them thanks to the ENCODE Accesion number per experimental conditions. For each conditions I retrieved manually a file containing download links for all the files they generated. see bellow**"
   ]
  },
  {
   "cell_type": "code",
   "execution_count": 3,
   "metadata": {
    "collapsed": false,
    "scrolled": true
   },
   "outputs": [
    {
     "name": "stdout",
     "output_type": "stream",
     "text": [
      "https://www.encodeproject.org/metadata/type=Experiment&y.limit=&searchTerm=EH000140/metadata.tsv\r\n",
      "https://www.encodeproject.org/files/ENCFF000HIL/@@download/ENCFF000HIL.bigBed\r\n",
      "https://www.encodeproject.org/files/ENCFF000HIM/@@download/ENCFF000HIM.gtf.gz\r\n",
      "https://www.encodeproject.org/files/ENCFF000HIO/@@download/ENCFF000HIO.gtf.gz\r\n",
      "https://www.encodeproject.org/files/ENCFF000HIS/@@download/ENCFF000HIS.bam\r\n",
      "https://www.encodeproject.org/files/ENCFF000HIT/@@download/ENCFF000HIT.bam\r\n",
      "https://www.encodeproject.org/files/ENCFF000HIU/@@download/ENCFF000HIU.gtf.gz\r\n",
      "https://www.encodeproject.org/files/ENCFF000HIW/@@download/ENCFF000HIW.gtf.gz\r\n",
      "https://www.encodeproject.org/files/ENCFF000HIY/@@download/ENCFF000HIY.gtf.gz\r\n",
      "https://www.encodeproject.org/files/ENCFF000HJA/@@download/ENCFF000HJA.bigBed\r\n",
      "https://www.encodeproject.org/files/ENCFF000HJB/@@download/ENCFF000HJB.bigWig\r\n",
      "https://www.encodeproject.org/files/ENCFF000HJC/@@download/ENCFF000HJC.bigWig\r\n",
      "https://www.encodeproject.org/files/ENCFF000HJD/@@download/ENCFF000HJD.bigWig\r\n",
      "https://www.encodeproject.org/files/ENCFF000HJE/@@download/ENCFF000HJE.bigWig\r\n",
      "https://www.encodeproject.org/files/ENCFF000HJF/@@download/ENCFF000HJF.fastq.gz\r\n",
      "https://www.encodeproject.org/files/ENCFF000HJK/@@download/ENCFF000HJK.gtf.gz\r\n",
      "https://www.encodeproject.org/files/ENCFF000HJM/@@download/ENCFF000HJM.gtf.gz\r\n",
      "https://www.encodeproject.org/files/ENCFF000HJO/@@download/ENCFF000HJO.gtf.gz\r\n",
      "https://www.encodeproject.org/files/ENCFF000HJP/@@download/ENCFF000HJP.fastq.gz\r\n",
      "https://www.encodeproject.org/files/ENCFF000HJW/@@download/ENCFF000HJW.fastq.gz\r\n",
      "https://www.encodeproject.org/files/ENCFF000HJX/@@download/ENCFF000HJX.fastq.gz\r\n",
      "https://www.encodeproject.org/files/ENCFF631VVQ/@@download/ENCFF631VVQ.bed.gz\r\n",
      "https://www.encodeproject.org/files/ENCFF983WUC/@@download/ENCFF983WUC.bed.gz"
     ]
    }
   ],
   "source": [
    "cat ./Localisation_Original_Datasets/Djebali-ENCODE/ENCODE_sample_files/EH000140.txt"
   ]
  },
  {
   "cell_type": "markdown",
   "metadata": {},
   "source": [
    "**The first file contains a large table with detailled informations for all the files contained in the conditions including there download links I will parse each of the tables and extract only the information related to fastq files**"
   ]
  },
  {
   "cell_type": "code",
   "execution_count": 16,
   "metadata": {
    "collapsed": false
   },
   "outputs": [],
   "source": [
    "from urllib.request import urlopen\n",
    "\n",
    "def parse_ENCODE_info_files(file_dir, tsv_outfile):\n",
    "\n",
    "    # Handler to write the collect information\n",
    "    with open (tsv_outfile, \"w\") as outfp:\n",
    "        # Loop over the information files to extract the url of the tsv file \n",
    "        for f in sorted(glob(file_dir+\"*.txt\")):\n",
    "            print(\"Parsing {}\".format(file_basename(f)))\n",
    "            with open(f) as infp:\n",
    "                URL = next(infp).strip()\n",
    "\n",
    "                # Parse the tsv url and extract the lines correponding to the fadtq files   \n",
    "                with urlopen(URL) as tsv:\n",
    "                    for line in tsv:\n",
    "                        dl = line.decode('utf-8')\n",
    "                        sl = dl.split(\"\\t\")\n",
    "\n",
    "                        # Write the lines in the collecting file\n",
    "                        if sl[1] == \"fastq\":\n",
    "                            outfp.write(dl)\n",
    "    return tsv_outfile"
   ]
  },
  {
   "cell_type": "code",
   "execution_count": 17,
   "metadata": {
    "collapsed": false,
    "scrolled": false
   },
   "outputs": [
    {
     "name": "stdout",
     "output_type": "stream",
     "text": [
      "Parsing EH000140\n",
      "Parsing EH000147\n",
      "Parsing EH000151\n",
      "Parsing EH000152\n",
      "Parsing EH000156\n",
      "Parsing EH000157\n",
      "Parsing EH000158\n",
      "Parsing EH000161\n",
      "Parsing EH000165\n",
      "Parsing EH000166\n",
      "Parsing EH000170\n",
      "Parsing EH000171\n",
      "Parsing EH000172\n",
      "Parsing EH000174\n",
      "Parsing EH002624\n",
      "Parsing EH002625\n",
      "Parsing EH002626\n",
      "Parsing EH002627\n",
      "Parsing EH002628\n",
      "Parsing EH002630\n",
      "Parsing EH002631\n",
      "Parsing EH002633\n",
      "84\n",
      "ENCFF000HJF\tfastq\treads\tENCSR000COK\tRNA-seq\tEFO:0002067\tK562\timmortalized cell line\tadult\tfemale\tHomo sapiens\t\tcytosol\t\t\t\t\tpolyadenylated mRNA\trRNA\tsee document\tsee document\t\t2011-10-17\tENCODE\t\tsee document\t>200\t53 year\t2\t1\t76\tpaired-ended\t1\tENCFF000HJX\t\t5848000346\tThomas Gingeras, CSHL\t7d6fb0723fb5c2b48e40c6312fc9134e\thttps://www.encodeproject.org/files/ENCFF000HJF/@@download/ENCFF000HJF.fastq.gz\t\tIllumina Genome Analyzer IIx\n",
      "ENCFF000HJP\tfastq\treads\tENCSR000COK\tRNA-seq\tEFO:0002067\tK562\timmortalized cell line\tadult\tfemale\tHomo sapiens\t\tcytosol\t\t\t\t\tpolyadenylated mRNA\trRNA\tsee document\tsee document\t\t2011-10-17\tENCODE\t\tsee document\t>200\t53 year\t1\t1\t76\tpaired-ended\t1\tENCFF000HJW\t\t8866919688\tThomas Gingeras, CSHL\t521ed7d0b3b6e8b8d5a0a177d13be8ec\thttps://www.encodeproject.org/files/ENCFF000HJP/@@download/ENCFF000HJP.fastq.gz\t\tIllumina Genome Analyzer IIx\n"
     ]
    }
   ],
   "source": [
    "tsv_outfile = \"./Localisation_Original_Datasets/Djebali-ENCODE/fastq/fastq_details.tsv\"\n",
    "file_dir = \"./Localisation_Original_Datasets/Djebali-ENCODE/ENCODE_sample_files/\"\n",
    "\n",
    "parse_ENCODE_info_files(file_dir, tsv_outfile)\n",
    "print(fastcount(outfile))\n",
    "head (outfile, 2)"
   ]
  },
  {
   "cell_type": "markdown",
   "metadata": {},
   "source": [
    "**From this file containing all the information I will write a small python script to download the data on the cluster, similar to the following. https://github.com/a-slide/pyScripts/blob/master/EncodeParser.py. I launched the jobs on the cluster farm to download all the fastq files corresponding to the ENCODE number of Nucleus and cytosolic fraction polyA+ RNA. All the data are now available in the ebi server. There are 42 paired ended datafile. I renamed some of the datasets because *HUVEC* cells were called *endothelial-cell-of-umbilical-vein* and *NHEK* were called *keratinocyte* **"
   ]
  },
  {
   "cell_type": "markdown",
   "metadata": {
    "collapsed": true
   },
   "source": [
    "**To compare the different conditions it might be interesting to to use the internal spike in used in all ENCODE samples. The added the ERCC (External RNA Controls Consortium) RNA Spike-In Mix that is also sometime called NIST spike. This is a pool of 96 synthetic RNAs with various lengths, and GC content covering a 2^20 concentration range as spike-in controls to measure sensitivity, accuracy, and biases in RNA-seq experiments as well as to derive standard curves for quantifying the abundance of transcripts. In all the sample I have selected the used the ERCC pool 14 and the provide the concentration for all RNAs in a tsv file. To enable there analysis one should include the sequences of the oligo transcripts in the alignment step. I will gerenate a new reference mixing the human genome transcripts as well as the ERCC transcript directil on the computation farm**"
   ]
  },
  {
   "cell_type": "markdown",
   "metadata": {},
   "source": [
    "\n",
    "**The alignments against the modified reference containing both human transcripts and ERCC transcripts were performed on the cluster and I copied the results localy, since the size is rather small.**"
   ]
  },
  {
   "cell_type": "code",
   "execution_count": 9,
   "metadata": {
    "collapsed": true
   },
   "outputs": [],
   "source": [
    "# Parse the stderr files containing the number of read aligned with kallisto\n",
    "sname_list=[]\n",
    "total_list=[]\n",
    "mapped_list=[]\n",
    "total_strand_list=[]\n",
    "mapped_strand_list=[]\n",
    "flen_list=[]\n",
    "\n",
    "# results obtained with basic alignment using Kallisto quant\n",
    "for file in glob(\"./Localisation_Original_Datasets/Djebali-ENCODE/kallisto_results/*/stderr.txt\"):\n",
    "    sname_list.append(file.split(\"/\")[-2])   \n",
    "    lines = !cat {file}\n",
    "    total_list.append(int(lines[11].split()[2].replace(\",\",\"\")))\n",
    "    mapped_list.append(int(lines[11].split()[4].replace(\",\",\"\")))\n",
    "    #flen_list.append(float(lines[12].split()[-1].replace(\",\",\"\")))\n",
    "\n",
    "# results obtained with stranded alignment using Kallisto quant\n",
    "for file in glob(\"./Localisation_Original_Datasets/Djebali-ENCODE/kallisto_results_stranded/*/stderr.txt\"):\n",
    "    lines = !cat {file}\n",
    "    total_strand_list.append(int(lines[11].split()[2].replace(\",\",\"\")))\n",
    "    mapped_strand_list.append(int(lines[11].split()[4].replace(\",\",\"\")))\n",
    "    #flen_list.append(float(lines[12].split()[-1].replace(\",\",\"\")))"
   ]
  },
  {
   "cell_type": "code",
   "execution_count": 14,
   "metadata": {
    "collapsed": false
   },
   "outputs": [
    {
     "data": {
      "image/png": "[encoded data removed]",
      "text/plain": [
       "<matplotlib.figure.Figure at 0x7f5936fffdd8>"
      ]
     },
     "metadata": {},
     "output_type": "display_data"
    }
   ],
   "source": [
    "# Plot the results\n",
    "index = np.arange(len(sname_list))\n",
    "bar_width = 0.40\n",
    "\n",
    "p1 = pl.bar(index, total_list, bar_width, color=\"green\", alpha=0.5)\n",
    "p2 = pl.bar(index, mapped_list, bar_width, color=\"green\", alpha=0.5)\n",
    "p3 = pl.bar(index+bar_width, total_strand_list, bar_width, color=\"red\", alpha=0.5)\n",
    "p4 = pl.bar(index+bar_width, mapped_strand_list, bar_width, color=\"red\", alpha=0.5)\n",
    "\n",
    "pl.xticks(index+bar_width, sname_list, rotation=45, horizontalalignment =\"right\")\n",
    "pl.legend((p1[0], p2[0], p3[0], p4[0]), ('Total Reads', 'Mapped Reads', 'Total Reads', 'Mapped Reads stranded'))\n",
    "pl.title(\"Number of reads analysed by Kallisto\")\n",
    "pl.show()"
   ]
  },
  {
   "cell_type": "code",
   "execution_count": 15,
   "metadata": {
    "collapsed": false
   },
   "outputs": [
    {
     "data": {
      "image/png": "[encoded data removed]",
      "text/plain": [
       "<matplotlib.figure.Figure at 0x7f5937185828>"
      ]
     },
     "metadata": {},
     "output_type": "display_data"
    }
   ],
   "source": [
    "# Plot the results\n",
    "index = np.arange(len(sname_list))\n",
    "bar_width = 0.40\n",
    "\n",
    "percent_unstrand = [mapped/total*100.0 for mapped, total in zip(mapped_list, total_list)]\n",
    "percent_strand = [mapped/total*100.0 for mapped, total in zip(mapped_strand_list, total_strand_list)]\n",
    "    \n",
    "p1 = pl.bar(index, percent_unstrand, bar_width, color=\"green\", alpha=0.7)\n",
    "p2 = pl.bar(index+bar_width, percent_strand, bar_width, color=\"red\", alpha=0.7)\n",
    "\n",
    "pl.xticks(index+bar_width, sname_list, rotation=45, horizontalalignment =\"right\")\n",
    "pl.legend((p1[0], p2[0]), ('% Mapped Reads', '% Mapped Reads stranded'))\n",
    "pl.title(\"% of reads aligned by Kallisto\")\n",
    "pl.show()"
   ]
  },
  {
   "cell_type": "markdown",
   "metadata": {},
   "source": [
    "**I obtained between 4E7 and 2.3E8 reads aligned (ie 60% and 90%). The stranded alignment results in less aligned reads but it is surely more accurate, so I will use only these results. According to the Sleuth paper it might be beneficial to increase the number of boostrap up to 100. I will rerun the analysis with stranded and 100 bootstraps. The first step would be to normalize the count using the ERCC standard spikes results. There are several way to find it but I need to find one that is compatible with kalisto**\n",
    "\n",
    "**I reorganized the results obtained by kallisto per cell line. I don't intended to compare the cell line together, but only the cytoplasmic and nuclear fraction of each cell line**\n",
    "\n",
    "**Create a file containing the name of samples, the biological replicate group, and the path to the dir containing kallisto results** "
   ]
  },
  {
   "cell_type": "code",
   "execution_count": 3,
   "metadata": {
    "collapsed": false
   },
   "outputs": [
    {
     "name": "stderr",
     "output_type": "stream",
     "text": [
      "/usr/local/lib/python3.5/dist-packages/rpy2/robjects/functions.py:106: UserWarning: reading in kallisto results\n",
      "\n",
      "  res = super(Function, self).__call__(*new_args, **new_kwargs)\n",
      "/usr/local/lib/python3.5/dist-packages/rpy2/robjects/functions.py:106: UserWarning: .\n",
      "  res = super(Function, self).__call__(*new_args, **new_kwargs)\n",
      "/usr/local/lib/python3.5/dist-packages/rpy2/robjects/functions.py:106: UserWarning: Error: is(path, \"character\") is not TRUE\n",
      "\n",
      "  res = super(Function, self).__call__(*new_args, **new_kwargs)\n"
     ]
    },
    {
     "ename": "RRuntimeError",
     "evalue": "Error: is(path, \"character\") is not TRUE\n",
     "output_type": "error",
     "traceback": [
      "\u001b[1;31m---------------------------------------------------------------------------\u001b[0m",
      "\u001b[1;31mRRuntimeError\u001b[0m                             Traceback (most recent call last)",
      "\u001b[1;32m<ipython-input-3-ba1e3f5c7db4>\u001b[0m in \u001b[0;36m<module>\u001b[1;34m()\u001b[0m\n\u001b[0;32m     30\u001b[0m \u001b[1;33m\u001b[0m\u001b[0m\n\u001b[0;32m     31\u001b[0m \u001b[0msample_list\u001b[0m \u001b[1;33m=\u001b[0m \u001b[0msleuth_sample_list_R\u001b[0m\u001b[1;33m(\u001b[0m\u001b[1;34m\"./Localisation_Original_Datasets/Djebali-ENCODE/kallisto_results_stranded_b100/\"\u001b[0m\u001b[1;33m)\u001b[0m\u001b[1;33m\u001b[0m\u001b[0m\n\u001b[1;32m---> 32\u001b[1;33m \u001b[0msleuth\u001b[0m\u001b[1;33m.\u001b[0m\u001b[0msleuth_prep\u001b[0m\u001b[1;33m(\u001b[0m\u001b[0msample_to_covariates\u001b[0m \u001b[1;33m=\u001b[0m \u001b[0msample_list\u001b[0m\u001b[1;33m,\u001b[0m\u001b[0mfull_model\u001b[0m \u001b[1;33m=\u001b[0m \u001b[0mFormula\u001b[0m\u001b[1;33m(\u001b[0m\u001b[1;34m\"~ condition\"\u001b[0m\u001b[1;33m)\u001b[0m\u001b[1;33m)\u001b[0m\u001b[1;33m\u001b[0m\u001b[0m\n\u001b[0m",
      "\u001b[1;32m/usr/local/lib/python3.5/dist-packages/rpy2/robjects/functions.py\u001b[0m in \u001b[0;36m__call__\u001b[1;34m(self, *args, **kwargs)\u001b[0m\n\u001b[0;32m    176\u001b[0m                 \u001b[0mv\u001b[0m \u001b[1;33m=\u001b[0m \u001b[0mkwargs\u001b[0m\u001b[1;33m.\u001b[0m\u001b[0mpop\u001b[0m\u001b[1;33m(\u001b[0m\u001b[0mk\u001b[0m\u001b[1;33m)\u001b[0m\u001b[1;33m\u001b[0m\u001b[0m\n\u001b[0;32m    177\u001b[0m                 \u001b[0mkwargs\u001b[0m\u001b[1;33m[\u001b[0m\u001b[0mr_k\u001b[0m\u001b[1;33m]\u001b[0m \u001b[1;33m=\u001b[0m \u001b[0mv\u001b[0m\u001b[1;33m\u001b[0m\u001b[0m\n\u001b[1;32m--> 178\u001b[1;33m         \u001b[1;32mreturn\u001b[0m \u001b[0msuper\u001b[0m\u001b[1;33m(\u001b[0m\u001b[0mSignatureTranslatedFunction\u001b[0m\u001b[1;33m,\u001b[0m \u001b[0mself\u001b[0m\u001b[1;33m)\u001b[0m\u001b[1;33m.\u001b[0m\u001b[0m__call__\u001b[0m\u001b[1;33m(\u001b[0m\u001b[1;33m*\u001b[0m\u001b[0margs\u001b[0m\u001b[1;33m,\u001b[0m \u001b[1;33m**\u001b[0m\u001b[0mkwargs\u001b[0m\u001b[1;33m)\u001b[0m\u001b[1;33m\u001b[0m\u001b[0m\n\u001b[0m\u001b[0;32m    179\u001b[0m \u001b[1;33m\u001b[0m\u001b[0m\n\u001b[0;32m    180\u001b[0m \u001b[0mpattern_link\u001b[0m \u001b[1;33m=\u001b[0m \u001b[0mre\u001b[0m\u001b[1;33m.\u001b[0m\u001b[0mcompile\u001b[0m\u001b[1;33m(\u001b[0m\u001b[1;34mr'\\\\link\\{(.+?)\\}'\u001b[0m\u001b[1;33m)\u001b[0m\u001b[1;33m\u001b[0m\u001b[0m\n",
      "\u001b[1;32m/usr/local/lib/python3.5/dist-packages/rpy2/robjects/functions.py\u001b[0m in \u001b[0;36m__call__\u001b[1;34m(self, *args, **kwargs)\u001b[0m\n\u001b[0;32m    104\u001b[0m         \u001b[1;32mfor\u001b[0m \u001b[0mk\u001b[0m\u001b[1;33m,\u001b[0m \u001b[0mv\u001b[0m \u001b[1;32min\u001b[0m \u001b[0mkwargs\u001b[0m\u001b[1;33m.\u001b[0m\u001b[0mitems\u001b[0m\u001b[1;33m(\u001b[0m\u001b[1;33m)\u001b[0m\u001b[1;33m:\u001b[0m\u001b[1;33m\u001b[0m\u001b[0m\n\u001b[0;32m    105\u001b[0m             \u001b[0mnew_kwargs\u001b[0m\u001b[1;33m[\u001b[0m\u001b[0mk\u001b[0m\u001b[1;33m]\u001b[0m \u001b[1;33m=\u001b[0m \u001b[0mconversion\u001b[0m\u001b[1;33m.\u001b[0m\u001b[0mpy2ri\u001b[0m\u001b[1;33m(\u001b[0m\u001b[0mv\u001b[0m\u001b[1;33m)\u001b[0m\u001b[1;33m\u001b[0m\u001b[0m\n\u001b[1;32m--> 106\u001b[1;33m         \u001b[0mres\u001b[0m \u001b[1;33m=\u001b[0m \u001b[0msuper\u001b[0m\u001b[1;33m(\u001b[0m\u001b[0mFunction\u001b[0m\u001b[1;33m,\u001b[0m \u001b[0mself\u001b[0m\u001b[1;33m)\u001b[0m\u001b[1;33m.\u001b[0m\u001b[0m__call__\u001b[0m\u001b[1;33m(\u001b[0m\u001b[1;33m*\u001b[0m\u001b[0mnew_args\u001b[0m\u001b[1;33m,\u001b[0m \u001b[1;33m**\u001b[0m\u001b[0mnew_kwargs\u001b[0m\u001b[1;33m)\u001b[0m\u001b[1;33m\u001b[0m\u001b[0m\n\u001b[0m\u001b[0;32m    107\u001b[0m         \u001b[0mres\u001b[0m \u001b[1;33m=\u001b[0m \u001b[0mconversion\u001b[0m\u001b[1;33m.\u001b[0m\u001b[0mri2ro\u001b[0m\u001b[1;33m(\u001b[0m\u001b[0mres\u001b[0m\u001b[1;33m)\u001b[0m\u001b[1;33m\u001b[0m\u001b[0m\n\u001b[0;32m    108\u001b[0m         \u001b[1;32mreturn\u001b[0m \u001b[0mres\u001b[0m\u001b[1;33m\u001b[0m\u001b[0m\n",
      "\u001b[1;31mRRuntimeError\u001b[0m: Error: is(path, \"character\") is not TRUE\n"
     ]
    }
   ],
   "source": [
    "##### Attempt to integrate R in Python with rpy2 but non succesful since an assertion error is raised each time...\n",
    "##### I can't find why ?\n",
    "\n",
    "# general library import\n",
    "from os.path import abspath, basename, isdir\n",
    "from glob import glob\n",
    "from rpy2.robjects.packages import importr\n",
    "from rpy2.robjects import Formula\n",
    "import rpy2.rlike.container as rlc\n",
    "sleuth = importr(\"sleuth\")\n",
    "\n",
    "# R rpy2 python import and R package imports\n",
    "from rpy2 import robjects as ro\n",
    "\n",
    "def sleuth_sample_list_R (basedir):\n",
    "    \n",
    "    sample = ro.StrVector([])\n",
    "    condition = ro.StrVector([])\n",
    "    path = ro.StrVector([])\n",
    "    \n",
    "    dir_list = [path for path in glob(basedir+\"*\") if isdir(path)]\n",
    "    for dirpath in dir_list:\n",
    "        ss = basename(dirpath).split(\"_\")\n",
    "        sample+= basename(dirpath)\n",
    "        condition += \"_\".join(basename(dirpath).split(\"_\")[1:-1])\n",
    "        path += abspath(dirpath)\n",
    "        \n",
    "    od = rlc.OrdDict([(\"sample\",sample),(\"condition\",condition),(\"path\",path)])\n",
    "    return ro.DataFrame(od)\n",
    "\n",
    "sample_list = sleuth_sample_list_R(\"./Localisation_Original_Datasets/Djebali-ENCODE/kallisto_results_stranded_b100/\")\n",
    "sleuth.sleuth_prep(sample_to_covariates = sample_list,full_model = Formula(\"~ condition\"))"
   ]
  },
  {
   "cell_type": "code",
   "execution_count": 13,
   "metadata": {
    "collapsed": false,
    "scrolled": true
   },
   "outputs": [
    {
     "name": "stdout",
     "output_type": "stream",
     "text": [
      "sample\tcondition\tpath\n",
      "ENCSR000CPO_GM12878_nucleus_Rep2\tGM12878_nucleus\t/home/aleg/Data/Datasets/Epi2_pilot/Localisation_Original_Datasets/Djebali-ENCODE/kallisto_results_stranded_b100/GM12878/ENCSR000CPO_GM12878_nucleus_Rep2\n",
      "ENCSR000COR_GM12878_cytosol_Rep2\tGM12878_cytosol\t/home/aleg/Data/Datasets/Epi2_pilot/Localisation_Original_Datasets/Djebali-ENCODE/kallisto_results_stranded_b100/GM12878/ENCSR000COR_GM12878_cytosol_Rep2\n",
      "ENCSR000CPO_GM12878_nucleus_Rep1\tGM12878_nucleus\t/home/aleg/Data/Datasets/Epi2_pilot/Localisation_Original_Datasets/Djebali-ENCODE/kallisto_results_stranded_b100/GM12878/ENCSR000CPO_GM12878_nucleus_Rep1\n",
      "ENCSR000COR_GM12878_cytosol_Rep1\tGM12878_cytosol\t/home/aleg/Data/Datasets/Epi2_pilot/Localisation_Original_Datasets/Djebali-ENCODE/kallisto_results_stranded_b100/GM12878/ENCSR000COR_GM12878_cytosol_Rep1\n",
      "sample\tcondition\tpath\n",
      "ENCSR000CTU_MCF-7_cytosol_Rep4\tMCF-7_cytosol\t/home/aleg/Data/Datasets/Epi2_pilot/Localisation_Original_Datasets/Djebali-ENCODE/kallisto_results_stranded_b100/MCF-7/ENCSR000CTU_MCF-7_cytosol_Rep4\n",
      "ENCSR000CTO_MCF-7_nucleus_Rep3\tMCF-7_nucleus\t/home/aleg/Data/Datasets/Epi2_pilot/Localisation_Original_Datasets/Djebali-ENCODE/kallisto_results_stranded_b100/MCF-7/ENCSR000CTO_MCF-7_nucleus_Rep3\n",
      "ENCSR000CTU_MCF-7_cytosol_Rep3\tMCF-7_cytosol\t/home/aleg/Data/Datasets/Epi2_pilot/Localisation_Original_Datasets/Djebali-ENCODE/kallisto_results_stranded_b100/MCF-7/ENCSR000CTU_MCF-7_cytosol_Rep3\n",
      "ENCSR000CTO_MCF-7_nucleus_Rep4\tMCF-7_nucleus\t/home/aleg/Data/Datasets/Epi2_pilot/Localisation_Original_Datasets/Djebali-ENCODE/kallisto_results_stranded_b100/MCF-7/ENCSR000CTO_MCF-7_nucleus_Rep4\n",
      "sample\tcondition\tpath\n",
      "ENCSR000CPK_NHEK_cytosol_Rep4\tNHEK_cytosol\t/home/aleg/Data/Datasets/Epi2_pilot/Localisation_Original_Datasets/Djebali-ENCODE/kallisto_results_stranded_b100/NHEK/ENCSR000CPK_NHEK_cytosol_Rep4\n",
      "ENCSR000CPJ_NHEK_nucleus_Rep4\tNHEK_nucleus\t/home/aleg/Data/Datasets/Epi2_pilot/Localisation_Original_Datasets/Djebali-ENCODE/kallisto_results_stranded_b100/NHEK/ENCSR000CPJ_NHEK_nucleus_Rep4\n",
      "ENCSR000CPJ_NHEK_nucleus_Rep3\tNHEK_nucleus\t/home/aleg/Data/Datasets/Epi2_pilot/Localisation_Original_Datasets/Djebali-ENCODE/kallisto_results_stranded_b100/NHEK/ENCSR000CPJ_NHEK_nucleus_Rep3\n",
      "ENCSR000CPK_NHEK_cytosol_Rep3\tNHEK_cytosol\t/home/aleg/Data/Datasets/Epi2_pilot/Localisation_Original_Datasets/Djebali-ENCODE/kallisto_results_stranded_b100/NHEK/ENCSR000CPK_NHEK_cytosol_Rep3\n",
      "sample\tcondition\tpath\n",
      "ENCSR000CTP_IMR-90_nucleus_Rep2\tIMR-90_nucleus\t/home/aleg/Data/Datasets/Epi2_pilot/Localisation_Original_Datasets/Djebali-ENCODE/kallisto_results_stranded_b100/IMR-90/ENCSR000CTP_IMR-90_nucleus_Rep2\n",
      "ENCSR000CTN_IMR-90_cytosol_Rep1\tIMR-90_cytosol\t/home/aleg/Data/Datasets/Epi2_pilot/Localisation_Original_Datasets/Djebali-ENCODE/kallisto_results_stranded_b100/IMR-90/ENCSR000CTN_IMR-90_cytosol_Rep1\n",
      "ENCSR000CTN_IMR-90_cytosol_Rep2\tIMR-90_cytosol\t/home/aleg/Data/Datasets/Epi2_pilot/Localisation_Original_Datasets/Djebali-ENCODE/kallisto_results_stranded_b100/IMR-90/ENCSR000CTN_IMR-90_cytosol_Rep2\n",
      "ENCSR000CTP_IMR-90_nucleus_Rep1\tIMR-90_nucleus\t/home/aleg/Data/Datasets/Epi2_pilot/Localisation_Original_Datasets/Djebali-ENCODE/kallisto_results_stranded_b100/IMR-90/ENCSR000CTP_IMR-90_nucleus_Rep1\n",
      "sample\tcondition\tpath\n",
      "ENCSR000CPS_K562_nucleus_Rep1\tK562_nucleus\t/home/aleg/Data/Datasets/Epi2_pilot/Localisation_Original_Datasets/Djebali-ENCODE/kallisto_results_stranded_b100/K562/ENCSR000CPS_K562_nucleus_Rep1\n",
      "ENCSR000CPS_K562_nucleus_Rep2\tK562_nucleus\t/home/aleg/Data/Datasets/Epi2_pilot/Localisation_Original_Datasets/Djebali-ENCODE/kallisto_results_stranded_b100/K562/ENCSR000CPS_K562_nucleus_Rep2\n",
      "ENCSR000COK_K562_cytosol_Rep1\tK562_cytosol\t/home/aleg/Data/Datasets/Epi2_pilot/Localisation_Original_Datasets/Djebali-ENCODE/kallisto_results_stranded_b100/K562/ENCSR000COK_K562_cytosol_Rep1\n",
      "ENCSR000COK_K562_cytosol_Rep2\tK562_cytosol\t/home/aleg/Data/Datasets/Epi2_pilot/Localisation_Original_Datasets/Djebali-ENCODE/kallisto_results_stranded_b100/K562/ENCSR000COK_K562_cytosol_Rep2\n",
      "sample\tcondition\tpath\n",
      "ENCSR000CTR_SK-N-SH_cytosol_Rep4\tSK-N-SH_cytosol\t/home/aleg/Data/Datasets/Epi2_pilot/Localisation_Original_Datasets/Djebali-ENCODE/kallisto_results_stranded_b100/SK-N-SH/ENCSR000CTR_SK-N-SH_cytosol_Rep4\n",
      "ENCSR000CTR_SK-N-SH_cytosol_Rep3\tSK-N-SH_cytosol\t/home/aleg/Data/Datasets/Epi2_pilot/Localisation_Original_Datasets/Djebali-ENCODE/kallisto_results_stranded_b100/SK-N-SH/ENCSR000CTR_SK-N-SH_cytosol_Rep3\n",
      "ENCSR000CTS_SK-N-SH_nucleus_Rep3\tSK-N-SH_nucleus\t/home/aleg/Data/Datasets/Epi2_pilot/Localisation_Original_Datasets/Djebali-ENCODE/kallisto_results_stranded_b100/SK-N-SH/ENCSR000CTS_SK-N-SH_nucleus_Rep3\n",
      "ENCSR000CTS_SK-N-SH_nucleus_Rep4\tSK-N-SH_nucleus\t/home/aleg/Data/Datasets/Epi2_pilot/Localisation_Original_Datasets/Djebali-ENCODE/kallisto_results_stranded_b100/SK-N-SH/ENCSR000CTS_SK-N-SH_nucleus_Rep4\n",
      "sample\tcondition\tpath\n",
      "ENCSR000CPF_HepG2_cytosol_Rep1\tHepG2_cytosol\t/home/aleg/Data/Datasets/Epi2_pilot/Localisation_Original_Datasets/Djebali-ENCODE/kallisto_results_stranded_b100/HepG2/ENCSR000CPF_HepG2_cytosol_Rep1\n",
      "ENCSR000CPF_HepG2_cytosol_Rep2\tHepG2_cytosol\t/home/aleg/Data/Datasets/Epi2_pilot/Localisation_Original_Datasets/Djebali-ENCODE/kallisto_results_stranded_b100/HepG2/ENCSR000CPF_HepG2_cytosol_Rep2\n",
      "ENCSR000CPC_HepG2_nucleus_Rep2\tHepG2_nucleus\t/home/aleg/Data/Datasets/Epi2_pilot/Localisation_Original_Datasets/Djebali-ENCODE/kallisto_results_stranded_b100/HepG2/ENCSR000CPC_HepG2_nucleus_Rep2\n",
      "ENCSR000CPC_HepG2_nucleus_Rep1\tHepG2_nucleus\t/home/aleg/Data/Datasets/Epi2_pilot/Localisation_Original_Datasets/Djebali-ENCODE/kallisto_results_stranded_b100/HepG2/ENCSR000CPC_HepG2_nucleus_Rep1\n",
      "sample\tcondition\tpath\n",
      "ENCSR000CPB_HUVEC_nucleus_Rep3\tHUVEC_nucleus\t/home/aleg/Data/Datasets/Epi2_pilot/Localisation_Original_Datasets/Djebali-ENCODE/kallisto_results_stranded_b100/HUVEC/ENCSR000CPB_HUVEC_nucleus_Rep3\n",
      "ENCSR000CPA_HUVEC_cytosol_Rep4\tHUVEC_cytosol\t/home/aleg/Data/Datasets/Epi2_pilot/Localisation_Original_Datasets/Djebali-ENCODE/kallisto_results_stranded_b100/HUVEC/ENCSR000CPA_HUVEC_cytosol_Rep4\n",
      "ENCSR000CPA_HUVEC_cytosol_Rep3\tHUVEC_cytosol\t/home/aleg/Data/Datasets/Epi2_pilot/Localisation_Original_Datasets/Djebali-ENCODE/kallisto_results_stranded_b100/HUVEC/ENCSR000CPA_HUVEC_cytosol_Rep3\n",
      "ENCSR000CPB_HUVEC_nucleus_Rep4\tHUVEC_nucleus\t/home/aleg/Data/Datasets/Epi2_pilot/Localisation_Original_Datasets/Djebali-ENCODE/kallisto_results_stranded_b100/HUVEC/ENCSR000CPB_HUVEC_nucleus_Rep4\n",
      "sample\tcondition\tpath\n",
      "ENCSR000COW_H1-hESC_nucleus_Rep2\tH1-hESC_nucleus\t/home/aleg/Data/Datasets/Epi2_pilot/Localisation_Original_Datasets/Djebali-ENCODE/kallisto_results_stranded_b100/H1-hESC/ENCSR000COW_H1-hESC_nucleus_Rep2\n",
      "ENCSR000COV_H1-hESC_cytosol_Rep2\tH1-hESC_cytosol\t/home/aleg/Data/Datasets/Epi2_pilot/Localisation_Original_Datasets/Djebali-ENCODE/kallisto_results_stranded_b100/H1-hESC/ENCSR000COV_H1-hESC_cytosol_Rep2\n",
      "sample\tcondition\tpath\n",
      "ENCSR000CPP_HeLa-S3_cytosol_Rep2\tHeLa-S3_cytosol\t/home/aleg/Data/Datasets/Epi2_pilot/Localisation_Original_Datasets/Djebali-ENCODE/kallisto_results_stranded_b100/HeLa/ENCSR000CPP_HeLa-S3_cytosol_Rep2\n",
      "ENCSR000CPQ_HeLa-S3_nucleus_Rep1\tHeLa-S3_nucleus\t/home/aleg/Data/Datasets/Epi2_pilot/Localisation_Original_Datasets/Djebali-ENCODE/kallisto_results_stranded_b100/HeLa/ENCSR000CPQ_HeLa-S3_nucleus_Rep1\n",
      "ENCSR000CPQ_HeLa-S3_nucleus_Rep2\tHeLa-S3_nucleus\t/home/aleg/Data/Datasets/Epi2_pilot/Localisation_Original_Datasets/Djebali-ENCODE/kallisto_results_stranded_b100/HeLa/ENCSR000CPQ_HeLa-S3_nucleus_Rep2\n",
      "ENCSR000CPP_HeLa-S3_cytosol_Rep1\tHeLa-S3_cytosol\t/home/aleg/Data/Datasets/Epi2_pilot/Localisation_Original_Datasets/Djebali-ENCODE/kallisto_results_stranded_b100/HeLa/ENCSR000CPP_HeLa-S3_cytosol_Rep1\n",
      "sample\tcondition\tpath\n",
      "ENCSR000CTM_A549_nucleus_Rep4\tA549_nucleus\t/home/aleg/Data/Datasets/Epi2_pilot/Localisation_Original_Datasets/Djebali-ENCODE/kallisto_results_stranded_b100/A549/ENCSR000CTM_A549_nucleus_Rep4\n",
      "ENCSR000CTL_A549_cytosol_Rep3\tA549_cytosol\t/home/aleg/Data/Datasets/Epi2_pilot/Localisation_Original_Datasets/Djebali-ENCODE/kallisto_results_stranded_b100/A549/ENCSR000CTL_A549_cytosol_Rep3\n",
      "ENCSR000CTM_A549_nucleus_Rep3\tA549_nucleus\t/home/aleg/Data/Datasets/Epi2_pilot/Localisation_Original_Datasets/Djebali-ENCODE/kallisto_results_stranded_b100/A549/ENCSR000CTM_A549_nucleus_Rep3\n",
      "ENCSR000CTL_A549_cytosol_Rep4\tA549_cytosol\t/home/aleg/Data/Datasets/Epi2_pilot/Localisation_Original_Datasets/Djebali-ENCODE/kallisto_results_stranded_b100/A549/ENCSR000CTL_A549_cytosol_Rep4\n"
     ]
    }
   ],
   "source": [
    "## Other strategy = collect informations to create a file first with python and use R after from the file.\n",
    "\n",
    "# general library import\n",
    "from os.path import abspath, basename, isdir\n",
    "from glob import glob\n",
    "\n",
    "# Function ro parse each dir and create \n",
    "def sleuth_sample_list (dir, list_file=\"./list_file.tsv\"):\n",
    "    \n",
    "    with open (list_file, \"w\") as outfp:\n",
    "        outfp.write(\"sample\\tcondition\\tpath\\n\")\n",
    "\n",
    "        for subdir in [path for path in glob(dir+\"/*\") if isdir(path)]:   \n",
    "            outfp.write(\"{}\\t{}\\t{}\\n\".format(\n",
    "                basename(subdir),\n",
    "                \"_\".join(basename(subdir).split(\"_\")[1:-1]),\n",
    "                abspath(subdir)))\n",
    "\n",
    "# Iterate over the directories of each cell line and create a list for each of them\n",
    "basedir = \"./Localisation_Original_Datasets/Djebali-ENCODE/kallisto_results_stranded_b100/\"\n",
    "for dir in [path for path in glob(basedir+\"*\") if isdir(path)]:\n",
    "    list_file = dir+\"/list_file.tsv\"\n",
    "    sample_list = sleuth_sample_list(dir, list_file)\n",
    "    !head {list_file}\n"
   ]
  },
  {
   "cell_type": "markdown",
   "metadata": {},
   "source": [
    "**Test or Sleuth with on cell type HeLa**"
   ]
  },
  {
   "cell_type": "code",
   "execution_count": 1,
   "metadata": {
    "collapsed": false,
    "scrolled": true
   },
   "outputs": [
    {
     "name": "stderr",
     "output_type": "stream",
     "text": [
      "Loading required package: ggplot2\n",
      "Loading required package: dplyr\n",
      "\n",
      "Attaching package: ‘dplyr’\n",
      "\n",
      "The following objects are masked from ‘package:stats’:\n",
      "\n",
      "    filter, lag\n",
      "\n",
      "The following objects are masked from ‘package:base’:\n",
      "\n",
      "    intersect, setdiff, setequal, union\n",
      "\n",
      "reading in kallisto results\n",
      "....\n",
      "normalizing est_counts\n",
      "97520 targets passed the filter\n",
      "normalizing tpm\n",
      "merging in metadata\n",
      "normalizing bootstrap samples\n",
      "summarizing bootstraps\n",
      "shrinkage estimation\n",
      "computing variance of betas\n",
      "shrinkage estimation\n",
      "computing variance of betas\n"
     ]
    }
   ],
   "source": [
    "################## R KERNEL ##################\n",
    "\n",
    "# imports and setups\n",
    "library(\"sleuth\")\n",
    "options(mc.cores = 4L)\n",
    "\n",
    "# Import the file in a table and select \n",
    "sample_list = \"/home/aleg/Data/Datasets/Epi2_pilot/Localisation_Original_Datasets/Djebali-ENCODE/kallisto_results_stranded_b100/HeLa/list_file.tsv\"\n",
    "s2c = read.table(sample_list, header = TRUE, stringsAsFactors=FALSE)\n",
    "\n",
    "# Extract the data from the kallisto results \n",
    "so = sleuth_prep(s2c, ~ condition, max_bootstrap=10) ## LIMIT to 10 because for 100 the kernel get killed !!\n",
    "\n",
    "# Estimate parameters for the sleuth response error measurement (full) model\n",
    "so <- sleuth_fit(so)\n",
    "\n",
    "# Estimate parameters for the sleuth reduced model (shrinkage)\n",
    "so <- sleuth_fit(so, ~1, 'reduced')\n",
    "\n",
    "# Perform differential analysis (testing)\n",
    "so <- sleuth_lrt(so, 'reduced', 'full')\n"
   ]
  },
  {
   "cell_type": "code",
   "execution_count": 3,
   "metadata": {
    "collapsed": false
   },
   "outputs": [
    {
     "name": "stdout",
     "output_type": "stream",
     "text": [
      "[  full  ]\n",
      "formula:  ~condition \n",
      "coefficients:\n",
      "\t(Intercept)\n",
      " \tconditionHeLa-S3_nucleus\n",
      "[  reduced  ]\n",
      "formula:  ~1 \n",
      "coefficients:\n",
      "\t(Intercept)\n"
     ]
    }
   ],
   "source": [
    "models(so)"
   ]
  },
  {
   "cell_type": "code",
   "execution_count": 7,
   "metadata": {
    "collapsed": false
   },
   "outputs": [],
   "source": [
    "results_table <- sleuth_results(so, 'reduced:full', test_type = 'lrt')\n",
    "write.table(results_table, file = \"./Localisation_Original_Datasets/Djebali-ENCODE/kallisto_results_stranded_b100/HeLa/DE_Sleuth.tsv\",row.names=TRUE, na=\"\",col.names=TRUE, sep=\"\\t\")"
   ]
  },
  {
   "cell_type": "code",
   "execution_count": null,
   "metadata": {
    "collapsed": false
   },
   "outputs": [
    {
     "name": "stderr",
     "output_type": "stream",
     "text": [
      "Loading required package: shiny\n",
      "\n",
      "Listening on http://127.0.0.1:42427\n",
      "Warning message:\n",
      ": Removed 57 rows containing missing values (geom_path).Warning message:\n",
      ": Removed 60 rows containing missing values (geom_point).Warning message:\n",
      ": Error in eval: object 'ENCSR000CPP_HeLa' not foundStack trace (innermost first):\n",
      "    113: eval\n",
      "    112: eval\n",
      "    111: renderPlot\n",
      "    103: output$scatter\n",
      "     36: <Anonymous>\n",
      "     35: do.call\n",
      "     34: print.shiny.appobj\n",
      "     33: print\n",
      "     32: eval\n",
      "     31: eval\n",
      "     30: withVisible\n",
      "     29: evalVis\n",
      "     28: utils::capture.output\n",
      "     27: paste\n",
      "     26: repr_text.default\n",
      "     25: repr_text\n",
      "     24: prepare_mimebundle\n",
      "     23: value_handler\n",
      "     22: value_fun\n",
      "     21: withVisible\n",
      "     20: withCallingHandlers\n",
      "     19: doTryCatch\n",
      "     18: tryCatchOne\n",
      "     17: tryCatchList\n",
      "     16: tryCatch\n",
      "     15: try\n",
      "     14: handle\n",
      "     13: evaluate_call\n",
      "     12: evaluate\n",
      "     11: doTryCatch\n",
      "     10: tryCatchOne\n",
      "      9: tryCatchList\n",
      "      8: doTryCatch\n",
      "      7: tryCatchOne\n",
      "      6: tryCatchList\n",
      "      5: tryCatch\n",
      "      4: executor$execute\n",
      "      3: handle_shell\n",
      "      2: kernel$run\n",
      "      1: IRkernel::main\n",
      "Warning message:\n",
      ": Error in eval: object 'ENCSR000CPP_HeLa' not foundStack trace (innermost first):\n",
      "    113: eval\n",
      "    112: eval\n",
      "    111: renderPlot\n",
      "    103: output$scatter\n",
      "     36: <Anonymous>\n",
      "     35: do.call\n",
      "     34: print.shiny.appobj\n",
      "     33: print\n",
      "     32: eval\n",
      "     31: eval\n",
      "     30: withVisible\n",
      "     29: evalVis\n",
      "     28: utils::capture.output\n",
      "     27: paste\n",
      "     26: repr_text.default\n",
      "     25: repr_text\n",
      "     24: prepare_mimebundle\n",
      "     23: value_handler\n",
      "     22: value_fun\n",
      "     21: withVisible\n",
      "     20: withCallingHandlers\n",
      "     19: doTryCatch\n",
      "     18: tryCatchOne\n",
      "     17: tryCatchList\n",
      "     16: tryCatch\n",
      "     15: try\n",
      "     14: handle\n",
      "     13: evaluate_call\n",
      "     12: evaluate\n",
      "     11: doTryCatch\n",
      "     10: tryCatchOne\n",
      "      9: tryCatchList\n",
      "      8: doTryCatch\n",
      "      7: tryCatchOne\n",
      "      6: tryCatchList\n",
      "      5: tryCatch\n",
      "      4: executor$execute\n",
      "      3: handle_shell\n",
      "      2: kernel$run\n",
      "      1: IRkernel::main\n",
      "Warning message:\n",
      ": Error in <-: dims [product 1] do not match the length of object [0]Stack trace (innermost first):\n",
      "    114: cast\n",
      "    113: reshape2::dcast\n",
      "    112: plot_transcript_heatmap\n",
      "    111: renderPlot\n",
      "    103: output$hm_plot\n",
      "     36: <Anonymous>\n",
      "     35: do.call\n",
      "     34: print.shiny.appobj\n",
      "     33: print\n",
      "     32: eval\n",
      "     31: eval\n",
      "     30: withVisible\n",
      "     29: evalVis\n",
      "     28: utils::capture.output\n",
      "     27: paste\n",
      "     26: repr_text.default\n",
      "     25: repr_text\n",
      "     24: prepare_mimebundle\n",
      "     23: value_handler\n",
      "     22: value_fun\n",
      "     21: withVisible\n",
      "     20: withCallingHandlers\n",
      "     19: doTryCatch\n",
      "     18: tryCatchOne\n",
      "     17: tryCatchList\n",
      "     16: tryCatch\n",
      "     15: try\n",
      "     14: handle\n",
      "     13: evaluate_call\n",
      "     12: evaluate\n",
      "     11: doTryCatch\n",
      "     10: tryCatchOne\n",
      "      9: tryCatchList\n",
      "      8: doTryCatch\n",
      "      7: tryCatchOne\n",
      "      6: tryCatchList\n",
      "      5: tryCatch\n",
      "      4: executor$execute\n",
      "      3: handle_shell\n",
      "      2: kernel$run\n",
      "      1: IRkernel::main\n",
      "Warning message:\n",
      ": Error in plot_bootstrap: Couldn't find transcript ENST00000394803.9Stack trace (innermost first):\n",
      "    112: plot_bootstrap\n",
      "    111: renderPlot\n",
      "    103: output$bs_var_plt\n",
      "     36: <Anonymous>\n",
      "     35: do.call\n",
      "     34: print.shiny.appobj\n",
      "     33: print\n",
      "     32: eval\n",
      "     31: eval\n",
      "     30: withVisible\n",
      "     29: evalVis\n",
      "     28: utils::capture.output\n",
      "     27: paste\n",
      "     26: repr_text.default\n",
      "     25: repr_text\n",
      "     24: prepare_mimebundle\n",
      "     23: value_handler\n",
      "     22: value_fun\n",
      "     21: withVisible\n",
      "     20: withCallingHandlers\n",
      "     19: doTryCatch\n",
      "     18: tryCatchOne\n",
      "     17: tryCatchList\n",
      "     16: tryCatch\n",
      "     15: try\n",
      "     14: handle\n",
      "     13: evaluate_call\n",
      "     12: evaluate\n",
      "     11: doTryCatch\n",
      "     10: tryCatchOne\n",
      "      9: tryCatchList\n",
      "      8: doTryCatch\n",
      "      7: tryCatchOne\n",
      "      6: tryCatchList\n",
      "      5: tryCatch\n",
      "      4: executor$execute\n",
      "      3: handle_shell\n",
      "      2: kernel$run\n",
      "      1: IRkernel::main\n"
     ]
    }
   ],
   "source": [
    "sleuth_live(so)"
   ]
  },
  {
   "cell_type": "markdown",
   "metadata": {},
   "source": [
    "---\n",
    "# RNA protein interaction datasets"
   ]
  },
  {
   "cell_type": "markdown",
   "metadata": {
    "collapsed": true
   },
   "source": [
    "## Hendrickson = fRIP with 24 chromatin related protein"
   ]
  },
  {
   "cell_type": "markdown",
   "metadata": {
    "collapsed": true
   },
   "source": [
    "***Hendrickson D G, DR Kelley, D Tenen, B Bernstein, JL Rinn. Widespread RNA binding by chromatin-associated proteins.. Genome Biol 17, 28 (2016).***\n",
    "\n",
    "- Formaldehyde RNA immunoprecipitation of 24 RPB and chromatin related proteins \n",
    "- Really detaillled and extensive datasets to have transcriptome wide lncRNA interacting with chromatin.\n",
    "- Contain all the list of lncRNA gene significantly enriched in captured factions\n",
    "- Problem = K562 (myelogenous leukemia line) with highly rearranged genomes... "
   ]
  },
  {
   "cell_type": "code",
   "execution_count": null,
   "metadata": {
    "collapsed": true,
    "scrolled": false
   },
   "outputs": [],
   "source": []
  },
  {
   "cell_type": "markdown",
   "metadata": {
    "collapsed": true
   },
   "source": [
    "---\n",
    "## Li  / Starbase =  CLIP-Seq data"
   ]
  },
  {
   "cell_type": "markdown",
   "metadata": {
    "collapsed": true
   },
   "source": [
    "***JH Li, S Liu, LL Zheng, J Wu, WJ Sun, ZL Wang, H Zhou, LH Qu, JH Yang. Discovery of Protein-lncRNA Interactions by Integrating Large-Scale CLIP-Seq and RNA-Seq Datasets.. Front Bioeng Biotechnol 2, 88 (2014).***\n",
    "\n",
    "***JH Li, S Liu, H Zhou, LH Qu, JH Yang. starBase v2.0: decoding miRNA-ceRNA, miRNA-ncRNA and protein-RNA interaction networks from large-scale CLIP-Seq data.. Nucleic Acids Res 42, D92-7 (2014).***\n",
    "\n",
    "- Comprehensive collection of lncRNA protein interaction from \n",
    "- Database dates from 2014 => contain datasets up to 2013 = not up to date.\n",
    "- No specific chromatin protein => have to be crossmatched with protein localization => Done from uniprot = few nuclei pure proteins\n",
    "\n",
    "**Cross-match Protein location Uniprot with data protein/lncRNA database from Starbase**\n",
    "\n",
    "Selection of a limited number of candidate CLIP-Seq datasets based on their localization and the experimental conditions:\n",
    "- Nuclear candidates: ALKBH5, ZC3H7B, FUS, TAF15, hnRNPC, DGCR8, FUS\n",
    "- Cytoplasmic candidates: AGO1, AGO3, AGO4, FXR1, LIN28B, PUM2"
   ]
  },
  {
   "cell_type": "code",
   "execution_count": null,
   "metadata": {
    "collapsed": true,
    "scrolled": false
   },
   "outputs": [],
   "source": []
  },
  {
   "cell_type": "code",
   "execution_count": null,
   "metadata": {
    "collapsed": true,
    "scrolled": false
   },
   "outputs": [],
   "source": []
  },
  {
   "cell_type": "code",
   "execution_count": null,
   "metadata": {
    "collapsed": true,
    "scrolled": false
   },
   "outputs": [],
   "source": []
  },
  {
   "cell_type": "code",
   "execution_count": null,
   "metadata": {
    "collapsed": true,
    "scrolled": false
   },
   "outputs": [],
   "source": []
  },
  {
   "cell_type": "code",
   "execution_count": null,
   "metadata": {
    "collapsed": true,
    "scrolled": false
   },
   "outputs": [],
   "source": []
  }
 ],
 "metadata": {
  "kernelspec": {
   "display_name": "R",
   "language": "R",
   "name": "ir"
  },
  "language_info": {
   "codemirror_mode": "r",
   "file_extension": ".r",
   "mimetype": "text/x-r-source",
   "name": "R",
   "pygments_lexer": "r",
   "version": "3.2.3"
  }
 },
 "nbformat": 4,
 "nbformat_minor": 0
}
