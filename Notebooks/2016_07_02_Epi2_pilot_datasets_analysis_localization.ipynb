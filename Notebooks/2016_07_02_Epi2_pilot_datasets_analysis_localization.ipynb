{
 "cells": [
  {
   "cell_type": "markdown",
   "metadata": {},
   "source": [
    "# Meta Analysis of the Datasets for the Epi² pilot project \n",
    "\n",
    "---\n",
    "# Subcellular cell localization datasets\n",
    "\n",
    "---\n",
    "# PYTHON 3 / R Notebook\n",
    "### Adrien Leger / EMBL EBI\n",
    "### Starting date 02/07/2016"
   ]
  },
  {
   "cell_type": "markdown",
   "metadata": {},
   "source": [
    "---\n",
    "## Import general package and definition of specific functions"
   ]
  },
  {
   "cell_type": "code",
   "execution_count": 3,
   "metadata": {
    "collapsed": false,
    "scrolled": false
   },
   "outputs": [],
   "source": [
    "# pycl imports\n",
    "from pycl import is_readable_file, is_gziped\n",
    "from pycl import file_basename, file_extension, file_name, dir_name\n",
    "from pycl import supersplit, rm_blank\n",
    "from pycl import copyFile, gzip_file, gunzip_file\n",
    "from pycl import head, linerange, colsum, fastcount, simplecount\n",
    "from pycl import mkdir\n",
    "from pycl import bash_basic, bash, make_cmd_str\n",
    "from pycl import dict_to_md, dict_to_report\n",
    "from pycl import reformat_table, _decompose_line, _clean_values, _reformat_line\n",
    "from pycl import url_exist\n",
    "\n",
    "\n",
    "#Std lib imports\n",
    "import datetime\n",
    "from glob import glob\n",
    "from pprint import pprint as pp\n",
    "from os.path import basename\n",
    "from os import listdir, remove, rename\n",
    "from os.path import abspath, basename, isdir\n",
    "from collections import OrderedDict\n",
    "import random\n",
    "\n",
    "# Third party import\n",
    "import numpy as np\n",
    "import scipy.stats as stats\n",
    "import pylab as pl\n",
    "import pandas as pd\n",
    "import seaborn as sns\n",
    "import matplotlib.pyplot as plt\n",
    "\n",
    "#pyplot tweaking\n",
    "%matplotlib inline\n",
    "pl.rcParams['figure.figsize'] = 30, 10  # that's default image size for this interactive session"
   ]
  },
  {
   "cell_type": "markdown",
   "metadata": {},
   "source": [
    "---\n",
    "## Cabili = HT-FISH data"
   ]
  },
  {
   "cell_type": "markdown",
   "metadata": {},
   "source": [
    "***Cabili, M. N. et al. Localization and abundance analysis of human lncRNAs at single-cell and single-molecule resolution. Genome Biol 16, (2015)***\n",
    "\n",
    "- Subcellular Location of lncRNA by RNA FISH\n",
    "- Nice dataset with Human foreskin fibloblast (hFFs), Human lung fibroblast (hLFs) and HeLA cells\n",
    "- Limited to a very number of candidate = 34 only\n",
    "- Could be a good control datasets if we stick to Hela cells"
   ]
  },
  {
   "cell_type": "markdown",
   "metadata": {},
   "source": [
    "**The only data available are a large multitab excel file containing a lot of messy information. The annotation are based on different database (lncipedia or Noncode, or refSeq and rarely ensembl)... sometime the lncRNA is only described in one database and not in ensembl. First I obtained the common name for all lncRNA from lncipedia. However it was impossible to get the Ensembl equivalent in most of the cases.**\n",
    "\n",
    "**Fortunatly they provide all the probe they used to fish the lncRNA. So when the information is not available I have to blast the probe in Ensemble to get the proper gene corresponding to the probes... It is a long and painfull work, but this dataset is going to be my reference for future localization experient so it has to be done properly**"
   ]
  },
  {
   "cell_type": "code",
   "execution_count": 6,
   "metadata": {
    "collapsed": false,
    "scrolled": true
   },
   "outputs": [
    {
     "name": "stdout",
     "output_type": "stream",
     "text": [
      "1\tXLOC_004198\n",
      "2\tXLOC_009233\n",
      "3\tNR_024412\n",
      "4\tNM_000272\n",
      "5\tXLOC_004456\n",
      "6\tNR_015370\n",
      "7\tXLOC_I2_010926\n",
      "8\tNR_024031\n",
      "9\tNR_038322\n",
      "10\tNR_027063\n",
      "11\tXLOC_009474\n",
      "12\tXLOC_004198\n",
      "13\tXLOC_009233\n",
      "14\tNR_024412\n",
      "15\tNM_000272\n",
      "16\tXLOC_004456\n",
      "17\tNR_015370\n",
      "18\tXLOC_I2_010926\n",
      "19\tNR_024031\n",
      "20\tNR_038322\n",
      "21\tNR_027063\n",
      "22\tXLOC_009474\n",
      "23\tXLOC_L2_008203\n",
      "24\tXLOC_012564\n",
      "25\tXLOC_012197\n",
      "26\tXLOC_012046_(exonsuniquetoNR_036444)\n",
      "27\tXLOC_011264\n",
      "28\tXLOC_010709\n",
      "29\tXLOC_010556\n",
      "30\tXLOC_009702\n",
      "31\tXLOC_009662\n",
      "32\tXLOC_009447\n",
      "33\tXLOC_008583\n",
      "34\tXLOC_008174\n",
      "35\tXLOC_005764\n",
      "36\tXLOC_005151\n",
      "37\tXLOC_004803\n",
      "38\tXLOC_004122\n",
      "39\tXLOC_003526\n",
      "40\tXLOC_002408\n",
      "41\tXLOC_002094\n",
      "42\tXLOC_000304\n",
      "43\tNR_033857exons0-2\n",
      "44\tNM_139078(XLOC_010202_neighbor)\n",
      "45\tNM_023000(NR_029435_neighbor)\n",
      "46\tXLOC_013841\n",
      "47\tXLOC_012046(exonsuniquetoNR_033925)\n",
      "48\tXLOC_010263\n",
      "49\tNM_005853(XLOC_011950_neighbor)\n",
      "50\tNM_000820_neighbor_of_XLOC_010514\n",
      "51\tANCR\n",
      "52\tlincFOXF1\n",
      "53\tlincSFPQ\n",
      "54\tlincDR1\n",
      "55\tlincTUG1\n",
      "56\tlincGARS\n",
      "57\tlincMKLN1_A\n",
      "58\tANRil\n",
      "59\tGAS5\n",
      "60\tKcnq1ot1\n",
      "61\tMeg3\n",
      "62\tNR_033857(part not shared with XLOC_008531)\n",
      "63\tNRON\n",
      "64\tNEAT1\n",
      "65\tTERC\n",
      "66\th19\n",
      "67\tXist\n",
      "68\tXLOC_011226\n",
      "69\tXLOC_012187\n",
      "70\tXLOC_010853\n",
      "71\tXLOC_008531\n",
      "72\tXLOC_006922\n",
      "73\tXLOC_002746\n",
      "74\tXLOC_011950\n",
      "75\tXLOC_014160\n",
      "76\tXLOC_012599\n",
      "77\tXLOC_010017\n",
      "78\tXLOC_012192\n",
      "79\tXLOC_012980\n",
      "80\tXLOC_010202\n",
      "81\tXLOC_009474\n",
      "82\tXLOC_010514\n",
      "83\tXLOC_006198\n",
      "84\tXLOC_011185\n",
      "85\tNR_029435\n",
      "86\tXLOC_010853\n",
      "87\tXLOC_012599\n",
      "88\tXLOC_012980\n",
      "89\tXLOC_I2_010926\n",
      "90\tZBTB37\n",
      "91\tRAB30_3UTR\n",
      "92\tMALAT1\n",
      "93\thMorc2\n",
      "94\thMKLN1\n",
      "95\tFOXF1_3UTR\n",
      "96\tCCNA2_exons\n",
      "97\tMIAT\n"
     ]
    }
   ],
   "source": [
    "d = OrderedDict()\n",
    "\n",
    "for line in open(\"./Localisation_Original_Datasets/Cabili_RNA_FISH/probes_seq/All_probes.csv\", 'r'):\n",
    "    sequence, seq_name, gene_num = line.split(\"\\t\")\n",
    "    d[gene_num]=seq_name.rpartition(\"_\")[0]\n",
    "\n",
    "for k,v in d.items():\n",
    "    print (\"{}\\t{}\".format(k.strip(),v))"
   ]
  },
  {
   "cell_type": "code",
   "execution_count": 17,
   "metadata": {
    "collapsed": false,
    "scrolled": false
   },
   "outputs": [],
   "source": [
    "# Extract the sequences of the probles for each gene in a separate file\n",
    "def get_fasta_probes(infile, outfile, id_list=[]):\n",
    "    \n",
    "    seq_dict = OrderedDict()\n",
    "    for line in open (infile, \"r\"):\n",
    "        sequence, seq_name, gene_num = line.split(\"\\t\")\n",
    "        gene_name, sep, seq_num = seq_name.rpartition(\"_\")\n",
    "        \n",
    "        for id in id_list:\n",
    "            if (type(id) == int and id == int(gene_num)) or (type(id) == str and id == gene_id):\n",
    "                seq_dict[seq_name] = sequence\n",
    "\n",
    "    # if sequences were found = write the a maximum of 30 randomly picked sequence in an outfile\n",
    "    if seq_dict:\n",
    "        key_list = list(seq_dict.keys())\n",
    "        random.shuffle(key_list)\n",
    "        \n",
    "        with open (outfile, \"w\") as fp:\n",
    "            for key in key_list[0:30]:\n",
    "                fp.write(\">{}\\n{}\\n\".format(key, seq_dict[key]))"
   ]
  },
  {
   "cell_type": "code",
   "execution_count": 18,
   "metadata": {
    "collapsed": false,
    "scrolled": true
   },
   "outputs": [
    {
     "name": "stdout",
     "output_type": "stream",
     "text": [
      "Created ./Localisation_Original_Datasets/Cabili_RNA_FISH/probes_seq/Cabili_lnc-USP14-2.fa\n",
      "Created ./Localisation_Original_Datasets/Cabili_RNA_FISH/probes_seq/Cabili_MIR4435-2HG.fa\n",
      "Created ./Localisation_Original_Datasets/Cabili_RNA_FISH/probes_seq/Cabili_lnc-MAGOHB-1.fa\n",
      "Created ./Localisation_Original_Datasets/Cabili_RNA_FISH/probes_seq/Cabili_MEG3.fa\n",
      "Created ./Localisation_Original_Datasets/Cabili_RNA_FISH/probes_seq/Cabili_lnc-NRXN1-2.fa\n",
      "Created ./Localisation_Original_Datasets/Cabili_RNA_FISH/probes_seq/Cabili_TMEM161B-AS1.fa\n",
      "Created ./Localisation_Original_Datasets/Cabili_RNA_FISH/probes_seq/Cabili_CDKN2B-AS1.fa\n",
      "Created ./Localisation_Original_Datasets/Cabili_RNA_FISH/probes_seq/Cabili_lnc-C5orf39-2.fa\n",
      "Created ./Localisation_Original_Datasets/Cabili_RNA_FISH/probes_seq/Cabili_TUG1.fa\n",
      "Created ./Localisation_Original_Datasets/Cabili_RNA_FISH/probes_seq/Cabili_KCNQ1OT1.fa\n",
      "Created ./Localisation_Original_Datasets/Cabili_RNA_FISH/probes_seq/Cabili_lnc-AC078802.1-2.fa\n",
      "Created ./Localisation_Original_Datasets/Cabili_RNA_FISH/probes_seq/Cabili_XIST.fa\n",
      "Created ./Localisation_Original_Datasets/Cabili_RNA_FISH/probes_seq/Cabili_lnc-GRXCR1-4.fa\n",
      "Created ./Localisation_Original_Datasets/Cabili_RNA_FISH/probes_seq/Cabili_LINC-PINT.fa\n",
      "Created ./Localisation_Original_Datasets/Cabili_RNA_FISH/probes_seq/Cabili_RAB30-AS1.fa\n",
      "Created ./Localisation_Original_Datasets/Cabili_RNA_FISH/probes_seq/Cabili_lnc-SFPQ-2.fa\n",
      "Created ./Localisation_Original_Datasets/Cabili_RNA_FISH/probes_seq/Cabili_FENDRR.fa\n",
      "Created ./Localisation_Original_Datasets/Cabili_RNA_FISH/probes_seq/Cabili_lnc-SNURF-1.fa\n",
      "Created ./Localisation_Original_Datasets/Cabili_RNA_FISH/probes_seq/Cabili_DANCR.fa\n",
      "Created ./Localisation_Original_Datasets/Cabili_RNA_FISH/probes_seq/Cabili_lnc-RREB1-4.fa\n",
      "Created ./Localisation_Original_Datasets/Cabili_RNA_FISH/probes_seq/Cabili_OIP5-AS1.fa\n",
      "Created ./Localisation_Original_Datasets/Cabili_RNA_FISH/probes_seq/Cabili_NEAT1.fa\n",
      "Created ./Localisation_Original_Datasets/Cabili_RNA_FISH/probes_seq/Cabili_LINC00472.fa\n",
      "Created ./Localisation_Original_Datasets/Cabili_RNA_FISH/probes_seq/Cabili_GAS6-AS2.fa\n",
      "Created ./Localisation_Original_Datasets/Cabili_RNA_FISH/probes_seq/Cabili_CRNDE.fa\n",
      "Created ./Localisation_Original_Datasets/Cabili_RNA_FISH/probes_seq/Cabili_MALAT1.fa\n",
      "Created ./Localisation_Original_Datasets/Cabili_RNA_FISH/probes_seq/Cabili_DUBR.fa\n",
      "Created ./Localisation_Original_Datasets/Cabili_RNA_FISH/probes_seq/Cabili_PSMA3-AS1.fa\n",
      "Created ./Localisation_Original_Datasets/Cabili_RNA_FISH/probes_seq/Cabili_GAS5.fa\n",
      "Created ./Localisation_Original_Datasets/Cabili_RNA_FISH/probes_seq/Cabili_LINC01278.fa\n",
      "Created ./Localisation_Original_Datasets/Cabili_RNA_FISH/probes_seq/Cabili_LINC00941.fa\n",
      "Created ./Localisation_Original_Datasets/Cabili_RNA_FISH/probes_seq/Cabili_PVT1.fa\n",
      "Created ./Localisation_Original_Datasets/Cabili_RNA_FISH/probes_seq/Cabili_LINC01116.fa\n",
      "Created ./Localisation_Original_Datasets/Cabili_RNA_FISH/probes_seq/Cabili_LINC00998.fa\n"
     ]
    }
   ],
   "source": [
    "infile = \"./Localisation_Original_Datasets/Cabili_RNA_FISH/probes_seq/All_probes.csv\"\n",
    "\n",
    "# Creating a file contaning the probe used for each 34 valid experimental designs\n",
    "d ={\"DANCR\":[51, 8, 19],\n",
    "    \"CDKN2B-AS1\":[58],\n",
    "    \"GAS5\":[59],\n",
    "    \"KCNQ1OT1\":[60],\n",
    "    \"FENDRR\":[26, 47, 52, 95],\n",
    "    \"LINC-PINT\":[57],\n",
    "    \"lnc-SFPQ-2\":[53],\n",
    "    \"MALAT1\":[92],\n",
    "    \"MEG3\":[61],\n",
    "    \"NEAT1\":[64],\n",
    "    \"LINC00998\":[3, 14],\n",
    "    \"PSMA3-AS1\":[85],\n",
    "    \"lnc-AC078802.1-2\":[65],\n",
    "    \"TUG1\":[55],\n",
    "    \"XIST\":[67],\n",
    "    \"lnc-NRXN1-2\":[41],\n",
    "    \"LINC01116\":[40],\n",
    "    \"DUBR\":[73],\n",
    "    \"lnc-GRXCR1-4\":[39],\n",
    "    \"TMEM161B-AS1\":[5, 16],\n",
    "    \"lnc-C5orf39-2\":[37],\n",
    "    \"lnc-RREB1-4\":[36],\n",
    "    \"LINC00472\":[35],\n",
    "    \"PVT1\":[72],\n",
    "    \"LINC01278\":[34],\n",
    "    \"RAB30-AS1\":[2, 13],\n",
    "    \"LINC00941\":[30],\n",
    "    \"lnc-MAGOHB-1\":[77],\n",
    "    \"GAS6-AS2\":[82],\n",
    "    \"lnc-SNURF-1\":[84],\n",
    "    \"OIP5-AS1\":[68],\n",
    "    \"CRNDE\":[74],\n",
    "    \"lnc-USP14-2\":[76,87],\n",
    "    \"MIR4435-2HG\":[23]}\n",
    "\n",
    "for gene_name, id_list in d.items():\n",
    "    outfile = \"./Localisation_Original_Datasets/Cabili_RNA_FISH/probes_seq/Cabili_{}.fa\".format(gene_name)\n",
    "    get_fasta_probes(infile, outfile, id_list)\n",
    "    print (\"Created \" + outfile)"
   ]
  },
  {
   "cell_type": "markdown",
   "metadata": {
    "collapsed": true,
    "scrolled": false
   },
   "source": [
    "** Each file was blasted against ensembl human genomic sequence hgrh38. I manually checked the overlapping genes and the position of hits relative to exons. Finally I reported the corresponding ensembl ID. In 2 conditions I was nor able to find a gene in the ensembl build at the position indicated by the probes. Instead in fond genes only described in NCBI genes. Trom what I saw in the blast results, all of the genes identified are not lncRNA. I compared the ensembl gene ID found with the gencodev23 file containing all the genes. Results are summarized in the table thereafter**"
   ]
  },
  {
   "cell_type": "code",
   "execution_count": 132,
   "metadata": {
    "collapsed": false,
    "scrolled": false
   },
   "outputs": [],
   "source": [
    "def parse_ensembl_annotation (annotation_file):\n",
    "\n",
    "    annotation_dict = OrderedDict()\n",
    "    # Ensembl gen decomposing template\n",
    "    template=[0,\"\\t\",1,\"\\t\",2,\"\\t\",3,\"\\t\",4,\"\\t\",5,\"\\t\",6,\"\\t\",7,\"\\tID=\",8,\";gene_id=\",9,\";gene_type=\",10,\n",
    "              \";gene_status=\",11,\";gene_name=\",12,\";level=\",13,\";havana_gene=\",14]\n",
    "    \n",
    "    # Parsing annotation file in a dict\n",
    "    with open (annotation_file, \"r\") as fp:\n",
    "        for line in fp:\n",
    "            if line[0] != \"#\":\n",
    "                sl = _decompose_line(line, template)       \n",
    "                if sl[2] == \"gene\":\n",
    "                    id = sl[8].split(\".\")[0]\n",
    "                    assert id not in annotation_dict, \"Duplicated gene ID !! Fuck\" \n",
    "                    annotation_dict[id] = {\n",
    "                        \"seqid\":sl[0],\"source\":sl[1],\"type\":sl[2],\"start\":sl[3],\"end\":sl[4],\"score\":sl[5],\n",
    "                        \"strand\":sl[6],\"phase\":sl[7],\"ID\":sl[8],\"gene_id\":sl[9],\"gene_type\":sl[10],\n",
    "                        \"gene_status\":sl[11],\"gene_name\":sl[12],\"level\":sl[13],\"havana_gene\":sl[14]}\n",
    "    \n",
    "    return annotation_dict\n",
    "\n",
    "def annotate_ensembl_ID (annotation_file, candidate_file, out_file):\n",
    "    \n",
    "    print (\"Parsing annotation file ...\")\n",
    "    annotation_dict = parse_ensembl_annotation(annotation_file)\n",
    "    \n",
    "    print (\"Searching for candidates ...\")\n",
    "    with open (candidate_file, \"r\") as cf, open (out_file, \"w\") as of:\n",
    "        of.write(\"#Gen_screenID\\tGene_name\\tEnsemb_ID\\tseqid\\tsource\\ttype\\tstart\\tend\\tscore\\tstrand\\tphase\\tID\\tgene_id\\tgene_type\\tgene_status\\tgene_name\\tlevel\\thavana_gene\\n\")                \n",
    "        \n",
    "        for line in cf:\n",
    "            if line[0] != \"#\":\n",
    "                line = line.strip()\n",
    "                sl= line.split(\"\\t\")           \n",
    "                if sl[2] in annotation_dict:\n",
    "                    of.write (\"{}\\t{}\\t{}\\t{}\\t{}\\t{}\\t{}\\t{}\\t{}\\t{}\\t{}\\t{}\\t{}\\t{}\\t{}\\t{}\\n\".format(\n",
    "                            line,\n",
    "                            annotation_dict[sl[2]][\"seqid\"].strip(),\n",
    "                            annotation_dict[sl[2]][\"source\"].strip(),\n",
    "                            annotation_dict[sl[2]][\"type\"].strip(),\n",
    "                            annotation_dict[sl[2]][\"start\"].strip(),\n",
    "                            annotation_dict[sl[2]][\"end\"].strip(),\n",
    "                            annotation_dict[sl[2]][\"score\"].strip(),\n",
    "                            annotation_dict[sl[2]][\"strand\"].strip(),\n",
    "                            annotation_dict[sl[2]][\"phase\"].strip(),\n",
    "                            annotation_dict[sl[2]][\"ID\"].strip(),\n",
    "                            annotation_dict[sl[2]][\"gene_id\"].strip(),\n",
    "                            annotation_dict[sl[2]][\"gene_type\"].strip(),\n",
    "                            annotation_dict[sl[2]][\"gene_status\"].strip(),\n",
    "                            annotation_dict[sl[2]][\"gene_name\"].strip(),\n",
    "                            annotation_dict[sl[2]][\"level\"].strip(),\n",
    "                            annotation_dict[sl[2]][\"havana_gene\"].strip()))\n",
    "                else:\n",
    "                    of.write (\"{}\\t{}\\n\".format(line, \"NOT_FOUND\"))                   "
   ]
  },
  {
   "cell_type": "code",
   "execution_count": 134,
   "metadata": {
    "collapsed": false,
    "scrolled": false
   },
   "outputs": [
    {
     "name": "stdout",
     "output_type": "stream",
     "text": [
      "Parsing annotation file ...\n",
      "Searching for candidates ...\n",
      "#Gen_screenID\tGene_name\tEnsemb_ID\tseqid\tsource\ttype\tstart\tend\tscore\tstrand\tphase\tID\tgene_id\tgene_type\tgene_status\tgene_name\tlevel\thavana_gene\n",
      "ANCR\tDANCR\tENSG00000226950\tchr4\tHAVANA\tgene\t52712404\t52720351\t.\t+\t.\tENSG00000226950.6\tENSG00000226950.6\tprocessed_transcript\tKNOWN\tDANCR\t2;tag=ncRNA_host\tOTTHUMG00000154670.3\n",
      "Anril\tCDKN2B-AS1\tENSG00000240498\tchr9\tHAVANA\tgene\t21994778\t22121097\t.\t+\t.\tENSG00000240498.6\tENSG00000240498.6\tantisense\tKNOWN\tCDKN2B-AS1\t1;tag=ncRNA_host\tOTTHUMG00000019689.3\n",
      "GAS5\tGAS5\tENSG00000234741\tchr1\tHAVANA\tgene\t173863900\t173868882\t.\t-\t.\tENSG00000234741.7\tENSG00000234741.7\tprocessed_transcript\tKNOWN\tGAS5\t2\tOTTHUMG00000037216.5\n",
      "Kcnq1ot1\tKCNQ1OT1\tENSG00000269821\tchr11\tHAVANA\tgene\t2608328\t2699994\t.\t-\t.\tENSG00000269821.1\tENSG00000269821.1\tantisense\tKNOWN\tKCNQ1OT1\t2\tOTTHUMG00000171022.2\n"
     ]
    }
   ],
   "source": [
    "# Request annotation for all candidates in lncRNA Gencode database\n",
    "annotation_file = \"../Reference_Annotation/gencode_v24_lncRNAs_gene.gff3\"\n",
    "candidate_file = \"./Localisation_Original_Datasets/Cabili_RNA_FISH/candidate_list.csv\"\n",
    "out_file = \"./Localisation_Original_Datasets/Cabili_RNA_FISH/candidate_list_annotated.csv\"\n",
    "annotate_ensembl_ID (annotation_file, candidate_file, out_file)\n",
    "\n",
    "head(out_file, 5)"
   ]
  },
  {
   "cell_type": "code",
   "execution_count": 138,
   "metadata": {
    "collapsed": false,
    "scrolled": false
   },
   "outputs": [
    {
     "name": "stdout",
     "output_type": "stream",
     "text": [
      "Parsing annotation file ...\n",
      "Searching for candidates ...\n",
      "#Gen_screenID\tGene_name\tEnsemb_ID\tseqid\tsource\ttype\tstart\tend\tscore\tstrand\tphase\tID\tgene_id\tgene_type\tgene_status\tgene_name\tlevel\thavana_gene\n",
      "ANCR\tDANCR\tENSG00000226950\tchr4\tHAVANA\tgene\t52712404\t52720351\t.\t+\t.\tENSG00000226950.6\tENSG00000226950.6\tprocessed_transcript\tKNOWN\tDANCR\t2;tag=ncRNA_host\tOTTHUMG00000154670.3\n",
      "Anril\tCDKN2B-AS1\tENSG00000240498\tchr9\tHAVANA\tgene\t21994778\t22121097\t.\t+\t.\tENSG00000240498.6\tENSG00000240498.6\tantisense\tKNOWN\tCDKN2B-AS1\t1;tag=ncRNA_host\tOTTHUMG00000019689.3\n",
      "GAS5\tGAS5\tENSG00000234741\tchr1\tHAVANA\tgene\t173863900\t173868882\t.\t-\t.\tENSG00000234741.7\tENSG00000234741.7\tprocessed_transcript\tKNOWN\tGAS5\t2\tOTTHUMG00000037216.5\n",
      "Kcnq1ot1\tKCNQ1OT1\tENSG00000269821\tchr11\tHAVANA\tgene\t2608328\t2699994\t.\t-\t.\tENSG00000269821.1\tENSG00000269821.1\tantisense\tKNOWN\tKCNQ1OT1\t2\tOTTHUMG00000171022.2\n"
     ]
    }
   ],
   "source": [
    "# Request annotation for all candidates in all Gencode database\n",
    "annotation_file = \"../Reference_Annotation/gencode_v24_gene.gff3\"\n",
    "candidate_file = \"./Localisation_Original_Datasets/Cabili_RNA_FISH/candidate_list.csv\"\n",
    "out_file = \"./Localisation_Original_Datasets/Cabili_RNA_FISH/candidate_list_annotated.csv\"\n",
    "annotate_ensembl_ID (annotation_file, candidate_file, out_file)\n",
    "\n",
    "head(out_file, 5)"
   ]
  },
  {
   "cell_type": "markdown",
   "metadata": {},
   "source": [
    "**The 2 non-Ensembl lncRNA were not matched. As for the other 29 belong to the lncRNA class (processed_transcript, antisense, lincRNA), 1 is protein_coding and 2 are transcribed_unprocessed_pseudogene that do no belong to the lncRNA class. I think I will still keep a track of the pseudogene, since thay could also have a particular interest later in the analysis. So I have a final number of 29 valid lncRNA + 3 pseudogenes in the final dataset**"
   ]
  },
  {
   "cell_type": "markdown",
   "metadata": {
    "collapsed": true,
    "scrolled": false
   },
   "source": [
    "|#Gen_screenID|Gene_name|Ensemb_ID|gene_type|lncRNA_class|seqid|start|end|strand|\n",
    "|---|---|---|---|---|---|---|---|---|\n",
    "|ANCR|DANCR|ENSG00000226950|processed_transcript|YES|chr4|52712404|52720351|+|\n",
    "|Anril|CDKN2B-AS1|ENSG00000240498|antisense|YES|chr9|21994778|22121097|+|\n",
    "|GAS5|GAS5|ENSG00000234741|processed_transcript|YES|chr1|173863900|173868882|-|\n",
    "|Kcnq1ot1|KCNQ1OT1|ENSG00000269821|antisense|YES|chr11|2608328|2699994|-|\n",
    "|XLOC_012046|FENDRR|ENSG00000268388|lincRNA|YES|chr16|86474529|86509099|-|\n",
    "|lincMKLN1_A1|LINC-PINT|ENSG00000231721|antisense|YES|chr7|130941760|131110176|-|\n",
    "|lincSFPQ|SFPQ|ENSG00000116560|protein_coding|NO|chr1|35176378|35193148|-|\n",
    "|MALAT1|MALAT1|ENSG00000251562|lincRNA|YES|chr11|65497762|65506516|+|\n",
    "|Meg3|MEG3|ENSG00000214548|lincRNA|YES|chr14|100779410|100861031|+|\n",
    "|NEAT1|NEAT1|ENSG00000245532|lincRNA|YES|chr11|65422774|65445540|+|\n",
    "|NR_024412|LINC00998|ENSG00000214194|lincRNA|YES|chr7|113116718|113118613|-|\n",
    "|NR_029435|PSMA3-AS1|ENSG00000257621|antisense|YES|chr14|58265365|58298134|-|\n",
    "|TERC|TERC|ENSG00000270141|lincRNA|YES|chr3|169764520|169765060|-|\n",
    "|XLOC_014209|TUG1|ENSG00000253352|antisense|YES|chr22|30970677|30979395|+|\n",
    "|XLOC_008185|XIST|ENSG00000229807|lincRNA|YES|chrX|73820651|73852753|-|\n",
    "|XLOC_002094|AC007682.1|ENSG00000231918|lincRNA|YES|chr2|51032601|52407917|+|\n",
    "|XLOC_002408|LINC01116|ENSG00000163364|lincRNA|YES|chr2|176629589|176637931|-|\n",
    "|XLOC_002746|DUBR|ENSG00000243701|lincRNA|YES|chr3|107240692|107326964|+|\n",
    "|XLOC_003526|RP11-1E6.1|ENSG00000250657|processed_transcript|YES|chr4|43340875|43345600|+|\n",
    "|XLOC_004456|TMEM161B-AS1|ENSG00000247828|antisense|YES|chr5|88268895|88436685|+|\n",
    "|XLOC_004803|REFSEQ-FLJ32255|LOC643977|NA|NA|NA|NA|NA|NA|\n",
    "|XLOC_005151|NCBI-105374902|LOC105374902|NA|NA|NA|NA|NA|NA|\n",
    "|XLOC_005764|LINC00472|ENSG00000233237|lincRNA|YES|chr6|71344344|71420769|-|\n",
    "|XLOC_006922|PVT1|ENSG00000249859|lincRNA|YES|chr8|127794533|128101253|+|\n",
    "|XLOC_008174|LINC01278|ENSG00000235437|processed_transcript|YES|chrX|63343227|63561071|-|\n",
    "|XLOC_009233|RAB30-AS1|ENSG00000246067|lincRNA|YES|chr11|83072066|83106719|+|\n",
    "|XLOC_009702|LINC00941|ENSG00000235884|lincRNA|YES|chr12|30795681|30802711|+|\n",
    "|XLOC_010017|KLRAP1|ENSG00000256667|transcribed_unprocessed_pseudogene|NO|chr12|10588063|10599669|-|\n",
    "|XLOC_010514|GAS6-AS2|ENSG00000272695|lincRNA|YES|chr13|113864168|113866833|+|\n",
    "|XLOC_011185|SNHG14|ENSG00000224078|processed_transcript|YES|chr15|24978583|25419462|+|\n",
    "|XLOC_011226|OIP5-AS1|ENSG00000247556|processed_transcript|YES|chr15|41283990|41309737|+|\n",
    "|XLOC_011950|CRNDE|ENSG00000245694|lincRNA|YES|chr16|54918863|54929189|-|\n",
    "|XLOC_012599|ROCK1P1|ENSG00000263006|transcribed_unprocessed_pseudogene|NO|chr18|109065|122219|+|\n",
    "|XLOC_L2_008203|MIR4435-2HG|ENSG00000172965|lincRNA|YES|chr2|111196350|111495100|-|\n",
    "\n"
   ]
  },
  {
   "cell_type": "markdown",
   "metadata": {
    "collapsed": true,
    "scrolled": false
   },
   "source": [
    "**I removed the data from the protein coding and non ensembl gene and crosmatch them with the experimental data in a simple 3 column csv file (Ensembl-ID : Cell type : localization code). I will create a bedfile containing the coordinate of the gene with additional information fetched from the gencodev23 annotation file. The idea is to obtain a standardize file similar to the bed file created previously for PTM.**"
   ]
  },
  {
   "cell_type": "code",
   "execution_count": 156,
   "metadata": {
    "collapsed": false,
    "scrolled": false
   },
   "outputs": [],
   "source": [
    "def Bed_ensembl_ID (annotation_file, localization_file, out_file):\n",
    "        \n",
    "    print (\"Parsing annotation file ...\")\n",
    "    annotation_dict = parse_ensembl_annotation(annotation_file)\n",
    "    \n",
    "    h = \"# Data cleaned, converted to BED6, standardized, hg38 coordinates\\n\"\n",
    "    h+= \"# Gene annotation scrapped from gencodev23\\n\"\n",
    "    h+= \"# Adrien Leger (aleg@ebi.ac.uk) {}\\n\".format(str (datetime.datetime.today()))\n",
    "    h+= \"# Localization type is a numeric code from the original publication\\n\"\n",
    "    h+= \"# 0 = Invalid detection\\n\"\n",
    "    h+= \"# 1 = One or 2 large nuclear foci\\n\"\n",
    "    h+= \"# 2 = Large nuclear foci and single molecules scattered through the nucleus\\n\"\n",
    "    h+= \"# 3 = Predominantly nuclear, without foci\\n\"\n",
    "    h+= \"# 4 = Cytoplasmic and nuclear\\n\"\n",
    "    h+= \"# 5 = Predominantly cytoplasmic\\n\"\n",
    "    h+= \"# chrom\\tchromstart\\tchromend\\tLocalization_code|cell_type|method|PMID|ensembl_id|gene_type|gene_name\\tscore\\tstrand\\n\"\n",
    "        \n",
    "    print (\"Searching for candidates ...\")\n",
    "    with open (localization_file, \"r\") as infile, open (out_file, \"w\") as outfile:\n",
    "        outfile.write(h)\n",
    "        total = invalid_loc_code = invalid_ensemble_id = 0\n",
    "        \n",
    "        for line in infile:\n",
    "            if line[0] != \"#\":\n",
    "                total+=1        \n",
    "                sl= line.split(\"\\t\")\n",
    "                ensemble_id = sl[0].strip()\n",
    "                cell_type = sl[1].strip()\n",
    "                loc_code = sl[2].strip()\n",
    "                \n",
    "                if loc_code == '0':\n",
    "                    invalid_loc_code+=1\n",
    "                    continue\n",
    "                \n",
    "                if ensemble_id not in annotation_dict:\n",
    "                    invalid_ensemble_id+=1\n",
    "                    continue\n",
    "                    \n",
    "                outfile.write (\"{0}\\t{1}\\t{2}\\t{3}|{4}|{5}|{6}|{7}|{8}|{9}\\t{10}\\t{11}\\n\".format(\n",
    "                    annotation_dict[ensemble_id][\"seqid\"].strip(),\n",
    "                    annotation_dict[ensemble_id][\"start\"].strip(),\n",
    "                    annotation_dict[ensemble_id][\"end\"].strip(),\n",
    "                    loc_code,\n",
    "                    cell_type,\n",
    "                    \"RNA_FISH\",\n",
    "                    \"25630241\",\n",
    "                    ensemble_id,\n",
    "                    annotation_dict[ensemble_id][\"gene_type\"].strip(),\n",
    "                    annotation_dict[ensemble_id][\"gene_name\"].strip(),\n",
    "                    \"-\",\n",
    "                    annotation_dict[ensemble_id][\"strand\"].strip()))\n",
    "    \n",
    "    print(\"Total: {}\\tInvalid Localization code: {}\\tInvalid Ensembl ID: {}\".format(total,invalid_loc_code,invalid_ensemble_id))\n",
    "                                   "
   ]
  },
  {
   "cell_type": "code",
   "execution_count": 158,
   "metadata": {
    "collapsed": false,
    "scrolled": false
   },
   "outputs": [
    {
     "name": "stdout",
     "output_type": "stream",
     "text": [
      "Parsing annotation file ...\n",
      "Searching for candidates ...\n",
      "Total: 93\tInvalid Localization code: 24\tInvalid Ensembl ID: 0\n",
      "# Data cleaned, converted to BED6, standardized, hg38 coordinates\n",
      "# Gene annotation scrapped from gencodev23\n",
      "# Adrien Leger (aleg@ebi.ac.uk) 2016-06-15 17:58:10.405934\n",
      "# Localization type is a numeric code from the original publication\n",
      "# 0 = Invalid detection\n",
      "# 1 = One or 2 large nuclear foci\n",
      "# 2 = Large nuclear foci and single molecules scattered through the nucleus\n",
      "# 3 = Predominantly nuclear, without foci\n",
      "# 4 = Cytoplasmic and nuclear\n",
      "# 5 = Predominantly cytoplasmic\n",
      "# chrom\tchromstart\tchromend\tLocalization_code|cell_type|method|PMID|ensembl_id|gene_type|gene_name\tscore\tstrand\n",
      "chr4\t52712404\t52720351\t4|hela|RNA_FISH|25630241|ENSG00000226950|processed_transcript|DANCR\t-\t+\n",
      "chr4\t52712404\t52720351\t4|hLF|RNA_FISH|25630241|ENSG00000226950|processed_transcript|DANCR\t-\t+\n",
      "chr4\t52712404\t52720351\t4|hFF|RNA_FISH|25630241|ENSG00000226950|processed_transcript|DANCR\t-\t+\n",
      "chr9\t21994778\t22121097\t1|hela|RNA_FISH|25630241|ENSG00000240498|antisense|CDKN2B-AS1\t-\t+\n"
     ]
    }
   ],
   "source": [
    "# Request annotation for all candidates in all Gencode database (pseudogenes + lncRNA)\n",
    "annotation_file = \"../Reference_Annotation/gencode_v24_gene.gff3\"\n",
    "localization_file = \"./Localisation_Original_Datasets/Cabili_RNA_FISH/Localization_cell_ensembl.csv\"\n",
    "out_file = \"./Localisation_Clean_Datasets/Cabili_RNA_FISH_hg38.bed\"\n",
    "\n",
    "Bed_ensembl_ID (annotation_file, localization_file, out_file)\n",
    "\n",
    "head (out_file, 15)"
   ]
  },
  {
   "cell_type": "markdown",
   "metadata": {
    "collapsed": true,
    "scrolled": false
   },
   "source": [
    "**This last step removed 24 lines out of 93 for genes that had a invalid localization code (0). The data are now stored in a Bed compatible dataset and ready to be used. I am done with this dataset.**"
   ]
  },
  {
   "cell_type": "markdown",
   "metadata": {},
   "source": [
    "## Djebali =  ENCODE RNA-Seq nuclear/cytoplasmic fractions"
   ]
  },
  {
   "cell_type": "markdown",
   "metadata": {},
   "source": [
    "### Exploration of the data space"
   ]
  },
  {
   "cell_type": "markdown",
   "metadata": {},
   "source": [
    "**I just found this new extensive dataset from the ENCODE v2 consortium published in 2012 with RNA-Seq data from various human cell lines in the nucleus and in the cytoplasm. The data were analysed with the previous version of the human genome and would probably have to be remapped completly on the new version of the genome hg38 and using the last GENCODE annotations. I for each cell line I will compare the nuclear vs the cytoplasmic fractions to get the transcript significantly enriched in the nucleus vs the cytoplasm.**\n",
    "\n",
    "**The content of the dataset is listed bellow** \n",
    "\n",
    "**Cell types (include immortalized cell lines, primary cells and embryonic cells)**\n",
    "* A549\n",
    "* GM12878\n",
    "* H1-hESC\n",
    "* HeLa-S3\n",
    "* HepG2\n",
    "* HUVEC\n",
    "* IMR90\n",
    "* K562\n",
    "* MCF-7\n",
    "* NHEK\n",
    "* SK-N-SH\n",
    "\n",
    "**Localization**\n",
    "* Nucleus / Cytoplasm > Separated using Qiagen RLN buffer\n",
    "* Cytosol\n",
    "* Chromatin (K562 only)\n",
    "* Nucleolus (K562 only)\n",
    "* Nucleoplasm (K562 only)\n",
    "\n",
    "** Additional informations**\n",
    "* RNAs of >200 nt length are selected using the RNeasy MiniElute Cleanup kit\n",
    "* RNA were split in 2 fractions by polyA + and the polyA - using Oligotex \n",
    "* All fractions were pre‐treated with the Ribominus Eukaryotic Kit for RNA‐seq\n",
    "* PhiX was added at 1% in \n",
    "* There are 2 biological replicates for all the samples (except the H1-hESC embyonic cells)\n",
    "* fastq Paired end reads are in 2 separates files\n",
    "* bed, Bigwig, sam .. are also available but I only need the fastq since I will remap the data\n",
    "\n",
    "** Summary of the dataset I will focus on** \n",
    "\n",
    "|Cell Line|Localization|RNA Extract|ENCODE Accesion|\n",
    "|---|---|---|---|\n",
    "|A549|cytosol|Long PolyA+ RNA|EH002624|\n",
    "|A549|nucleus|Long PolyA+ RNA|EH002625|\n",
    "|GM12878|cytosol|Long PolyA+ RNA|EH000147|\n",
    "|GM12878|nucleus|Long PolyA+ RNA|EH000170|\n",
    "|H1-hESC|cytosol|Long PolyA+ RNA|EH000151|\n",
    "|H1-hESC|nucleus|Long PolyA+ RNA|EH000152|\n",
    "|HeLa-S3|cytosol|Long PolyA+ RNA|EH000171|\n",
    "|HeLa-S3|nucleus|Long PolyA+ RNA|EH000172|\n",
    "|HepG2|cytosol|Long PolyA+ RNA|EH000161|\n",
    "|HepG2|nucleus|Long PolyA+ RNA|EH000158|\n",
    "|HUVEC|cytosol|Long PolyA+ RNA|EH000156|\n",
    "|HUVEC|nucleus|Long PolyA+ RNA|EH000157|\n",
    "|IMR90|cytosol|Long PolyA+ RNA|EH002626|\n",
    "|IMR90|nucleus|Long PolyA+ RNA|EH002628|\n",
    "|K562|cytosol|Long PolyA+ RNA|EH000140|\n",
    "|K562|nucleus|Long PolyA+ RNA|EH000174|\n",
    "|MCF-7|cytosol|Long PolyA+ RNA|EH002633|\n",
    "|MCF-7|nucleus|Long PolyA+ RNA|EH002627|\n",
    "|NHEK|cytosol|Long PolyA+ RNA|EH000166|\n",
    "|NHEK|nucleus|Long PolyA+ RNA|EH000165|\n",
    "|SK-N-SH|cytosol|Long PolyA+ RNA|EH002630|\n",
    "|SK-N-SH|nucleus|Long PolyA+ RNA|EH002631|"
   ]
  },
  {
   "cell_type": "markdown",
   "metadata": {},
   "source": [
    "### Reference cleaning and Index generation with Kallisto"
   ]
  },
  {
   "cell_type": "markdown",
   "metadata": {},
   "source": [
    "**It has been a while that I want to use Kalisto, the software designed by Lior Patcher's team to analyse RNA data. I will perform this analysis with the conventional pipeline (STAR) in parallel to compare the results. The data are quite massive, so I will just prototype on my laptop but run the final analysis on the cluster**"
   ]
  },
  {
   "cell_type": "markdown",
   "metadata": {},
   "source": [
    "**I dl the last reference fasta transcriptome for all RNA and for lncRNA only from the gencode server (v23). I need to clean the fasta Reference sequence from Gencode since they contain a lot of information from the transcript names of each sequences that will hamper the readability of the results. In order to be able to use the gene names and information later; I also need to save all the information contained in the names in a separate file.**  "
   ]
  },
  {
   "cell_type": "code",
   "execution_count": 6,
   "metadata": {
    "collapsed": false,
    "scrolled": false
   },
   "outputs": [],
   "source": [
    "from gzip import open as gopen\n",
    "\n",
    "def Gencode_fastaclean_listinfo (gencode_fasta, clean_fasta=\"gencode_clean.fa.gz\", gencode_info=\"gencode_info.tsv\"):\n",
    "    with gopen (gencode_fasta, \"rt\") as fasta_in, gopen (clean_fasta, \"wt\") as fasta_out, open (gencode_info, \"wt\") as info:\n",
    "        \n",
    "        # write header in the info file\n",
    "        info.write (\"{}\\t{}\\t{}\\t{}\\t{}\\t{}\\t{}\\t{}\\n\".format(\n",
    "            \"GENCODE_transcript_id\", \"GENCODE_gene_id\", \"HAVANA_gene_id\", \"HAVANA_transcript_id\", \"transcript_name\",\n",
    "            \"gene_name\", \"length\", \"RNA_type\"))\n",
    "        \n",
    "        nline = nseq = 0\n",
    "        for line in fasta_in:\n",
    "            nline += 1\n",
    "            \n",
    "            if line[0] == \">\":\n",
    "                nseq += 1\n",
    "                ls = [i.strip() for i in line[1:].split(\"|\")]\n",
    "                fasta_out.write (\">{}\\n\".format(ls[0]))\n",
    "                \n",
    "                # in lncRNA file not RNA type at the end...\n",
    "                if not ls[7]:\n",
    "                    ls[7]=\"NA\"\n",
    "                info.write(\"\\t\".join(ls)+\"\\n\")\n",
    "            \n",
    "            else:\n",
    "                fasta_out.write(line)\n",
    "    \n",
    "    print (\"Parsed {} lines\\t Found {} Sequences\".format(nline, nseq))"
   ]
  },
  {
   "cell_type": "code",
   "execution_count": 7,
   "metadata": {
    "collapsed": false,
    "scrolled": true
   },
   "outputs": [
    {
     "name": "stdout",
     "output_type": "stream",
     "text": [
      "Clean the file and generate the list from IDs\n",
      "\n",
      "Parsed 56062 lines\t Found 28031 Sequences\n",
      "Visualize the result\n",
      "\n",
      ">ENST00000473358.1|ENSG00000243485.3|OTTHUMG00000000959.2|OTTHUMT00000002840.1|RP11-34P13.3-001|RP11-34P13.3|712|\n",
      "GTGCACACGGCTCCCATGCGTTGTCTTCCGAGCGTCAGGCCGCCCCTACCCGTGCTTTCTGCTCTGCAGACCCTCTTCCTAGACCTCCGTCCTTTGTCCCATCGCTGCCTTCCCCTCAAGCTCAGGGCCAAGCTGTCCGCCAACCTCGGCTCCTCCGGGCAGCCCTCGCCCGGGGTGCGCCCCGGGGCAGGACCCCCAGCCCACGCCCAGGGCCCGCCCCTGCCCTCCAGCCCTACGCCTTGACCCGCTTTCCTGCGTCTCTCAGCCTACCTGACCTTGTCTTTACCTCTGTGGGCAGCTCCCTTGTGATCTGCTTAGTTCCCACCCCCCTTTAAGAATTCAATAGAGAAGCCAGACGCAAAACTACAGATATCGTATGAGTCCAGTTTTGTGAAGTGCCTAGAATAGTCAAAATTCACAGAGACAGAAGCAGTGGTCGCCAGGAATGGGGAAGCAAGGCGGAGTTGGGCAGCTCGTGTTCAATGGTTTTGTCCGCCTTCCCTGCCTCCTCTTCTGGGGGAGTTAGATCGAGTTGTAACAAGAACATGCCACTGTCTCGCTGGCTGCAGCGTGTGGTCCCCTTACCAGAGTGAGGATGCGAAGAGAAGGTGGCTGTCTGCAAACCAGGAAGAGAGCCCTCACCGGGAACCCGTCCAGCTGCCACCTTGAACTTGGACTTCCAAGCCTCCAGAACTGTGAGGGATAAATGTAT\n",
      "\n",
      ">ENST00000473358.1\n",
      "GTGCACACGGCTCCCATGCGTTGTCTTCCGAGCGTCAGGCCGCCCCTACCCGTGCTTTCTGCTCTGCAGACCCTCTTCCTAGACCTCCGTCCTTTGTCCCATCGCTGCCTTCCCCTCAAGCTCAGGGCCAAGCTGTCCGCCAACCTCGGCTCCTCCGGGCAGCCCTCGCCCGGGGTGCGCCCCGGGGCAGGACCCCCAGCCCACGCCCAGGGCCCGCCCCTGCCCTCCAGCCCTACGCCTTGACCCGCTTTCCTGCGTCTCTCAGCCTACCTGACCTTGTCTTTACCTCTGTGGGCAGCTCCCTTGTGATCTGCTTAGTTCCCACCCCCCTTTAAGAATTCAATAGAGAAGCCAGACGCAAAACTACAGATATCGTATGAGTCCAGTTTTGTGAAGTGCCTAGAATAGTCAAAATTCACAGAGACAGAAGCAGTGGTCGCCAGGAATGGGGAAGCAAGGCGGAGTTGGGCAGCTCGTGTTCAATGGTTTTGTCCGCCTTCCCTGCCTCCTCTTCTGGGGGAGTTAGATCGAGTTGTAACAAGAACATGCCACTGTCTCGCTGGCTGCAGCGTGTGGTCCCCTTACCAGAGTGAGGATGCGAAGAGAAGGTGGCTGTCTGCAAACCAGGAAGAGAGCCCTCACCGGGAACCCGTCCAGCTGCCACCTTGAACTTGGACTTCCAAGCCTCCAGAACTGTGAGGGATAAATGTAT\n",
      "\n",
      "GENCODE_transcript_id\tGENCODE_gene_id\tHAVANA_gene_id\tHAVANA_transcript_id\ttranscript_name\tgene_name\tlength\tRNA_type\n",
      "ENST00000473358.1\tENSG00000243485.3\tOTTHUMG00000000959.2\tOTTHUMT00000002840.1\tRP11-34P13.3-001\tRP11-34P13.3\t712\tNA\n",
      "\n"
     ]
    }
   ],
   "source": [
    "gencode_fasta = \"../../Reference_Genomes/gencode.v24.lncRNA_transcripts.fa.gz\"\n",
    "clean_fasta = \"../../Reference_Genomes/gencode_v24_lncRNA_transcripts_clean.fa.gz\"\n",
    "gencode_info = \"../../Reference_Genomes/gencode_v24_lncRNA_transcripts_info.tsv\"\n",
    "\n",
    "print (\"Clean the file and generate the list from IDs\\n\") \n",
    "Gencode_fastaclean_listinfo (gencode_fasta, clean_fasta, gencode_info)\n",
    "\n",
    "print (\"Visualize the result\\n\")\n",
    "head(gencode_fasta, 2)\n",
    "head(clean_fasta, 2)\n",
    "head(gencode_info, 2)"
   ]
  },
  {
   "cell_type": "code",
   "execution_count": 6,
   "metadata": {
    "collapsed": false,
    "scrolled": true
   },
   "outputs": [
    {
     "name": "stdout",
     "output_type": "stream",
     "text": [
      "Clean the file and generate the list from IDs\n",
      "\n",
      "Parsed 398338 lines\t Found 199169 Sequences\n",
      "Visualize the result\n",
      "\n",
      ">ENST00000456328.2|ENSG00000223972.5|OTTHUMG00000000961.2|OTTHUMT00000362751.1|DDX11L1-002|DDX11L1|1657|processed_transcript|\n",
      "GTTAACTTGCCGTCAGCCTTTTCTTTGACCTCTTCTTTCTGTTCATGTGTATTTGCTGTCTCTTAGCCCAGACTTCCCGTGTCCTTTCCACCGGGCCTTTGAGAGGTCACAGGGTCTTGATGCTGTGGTCTTCATCTGCAGGTGTCTGACTTCCAGCAACTGCTGGCCTGTGCCAGGGTGCAAGCTGAGCACTGGAGTGGAGTTTTCCTGTGGAGAGGAGCCATGCCTAGAGTGGGATGGGCCATTGTTCATCTTCTGGCCCCTGTTGTCTGCATGTAACTTAATACCACAACCAGGCATAGGGGAAAGATTGGAGGAAAGATGAGTGAGAGCATCAACTTCTCTCACAACCTAGGCCAGTGTGTGGTGATGCCAGGCATGCCCTTCCCCAGCATCAGGTCTCCAGAGCTGCAGAAGACGACGGCCGACTTGGATCACACTCTTGTGAGTGTCCCCAGTGTTGCAGAGGCAGGGCCATCAGGCACCAAAGGGATTCTGCCAGCATAGTGCTCCTGGACCAGTGATACACCCGGCACCCTGTCCTGGACACGCTGTTGGCCTGGATCTGAGCCCTGGTGGAGGTCAAAGCCACCTTTGGTTCTGCCATTGCTGCTGTGTGGAAGTTCACTCCTGCCTTTTCCTTTCCCTAGAGCCTCCACCACCCCGAGATCACATTTCTCACTGCCTTTTGTCTGCCCAGTTTCACCAGAAGTAGGCCTCTTCCTGACAGGCAGCTGCACCACTGCCTGGCGCTGTGCCCTTCCTTTGCTCTGCCCGCTGGAGACGGTGTTTGTCATGGGCCTGGTCTGCAGGGATCCTGCTACAAAGGTGAAACCCAGGAGAGTGTGGAGTCCAGAGTGTTGCCAGGACCCAGGCACAGGCATTAGTGCCCGTTGGAGAAAACAGGGGAATCCCGAAGAAATGGTGGGTCCTGGCCATCCGTGAGATCTTCCCAGGGCAGCTCCCCTCTGTGGAATCCAATCTGTCTTCCATCCTGCGTGGCCGAGGGCCAGGCTTCTCACTGGGCCTCTGCAGGAGGCTGCCATTTGTCCTGCCCACCTTCTTAGAAGCGAGACGGAGCAGACCCATCTGCTACTGCCCTTTCTATAATAACTAAAGTTAGCTGCCCTGGACTATTCACCCCCTAGTCTCAATTTAAGAAGATCCCCATGGCCACAGGGCCCCTGCCTGGGGGCTTGTCACCTCCCCCACCTTCTTCCTGAGTCATTCCTGCAGCCTTGCTCCCTAACCTGCCCCACAGCCTTGCCTGGATTTCTATCTCCCTGGCTTGGTGCCAGTTCCTCCAAGTCGATGGCACCTCCCTCCCTCTCAACCACTTGAGCAAACTCCAAGACATCTTCTACCCCAACACCAGCAATTGTGCCAAGGGCCATTAGGCTCTCAGCATGACTATTTTTAGAGACCCCGTGTCTGTCACTGAAACCTTTTTTGTGGGAGACTATTCCTCCCATCTGCAACAGCTGCCCCTGCTGACTGCCCTTCTCTCCTCCCTCTCATCCCAGAGAAACAGGTCAGCTGGGAGCTTCTGCCCCCACTGCCTAGGGACCAACAGGGGCAGGAGGCAGTCACTGACCCCGAGACGTTTGCATCCTGCACAGCTAGAGATCCTTTATTAAAAGCACACTGTTGGTTTCTG\n",
      "\n",
      ">ENST00000456328.2\n",
      "GTTAACTTGCCGTCAGCCTTTTCTTTGACCTCTTCTTTCTGTTCATGTGTATTTGCTGTCTCTTAGCCCAGACTTCCCGTGTCCTTTCCACCGGGCCTTTGAGAGGTCACAGGGTCTTGATGCTGTGGTCTTCATCTGCAGGTGTCTGACTTCCAGCAACTGCTGGCCTGTGCCAGGGTGCAAGCTGAGCACTGGAGTGGAGTTTTCCTGTGGAGAGGAGCCATGCCTAGAGTGGGATGGGCCATTGTTCATCTTCTGGCCCCTGTTGTCTGCATGTAACTTAATACCACAACCAGGCATAGGGGAAAGATTGGAGGAAAGATGAGTGAGAGCATCAACTTCTCTCACAACCTAGGCCAGTGTGTGGTGATGCCAGGCATGCCCTTCCCCAGCATCAGGTCTCCAGAGCTGCAGAAGACGACGGCCGACTTGGATCACACTCTTGTGAGTGTCCCCAGTGTTGCAGAGGCAGGGCCATCAGGCACCAAAGGGATTCTGCCAGCATAGTGCTCCTGGACCAGTGATACACCCGGCACCCTGTCCTGGACACGCTGTTGGCCTGGATCTGAGCCCTGGTGGAGGTCAAAGCCACCTTTGGTTCTGCCATTGCTGCTGTGTGGAAGTTCACTCCTGCCTTTTCCTTTCCCTAGAGCCTCCACCACCCCGAGATCACATTTCTCACTGCCTTTTGTCTGCCCAGTTTCACCAGAAGTAGGCCTCTTCCTGACAGGCAGCTGCACCACTGCCTGGCGCTGTGCCCTTCCTTTGCTCTGCCCGCTGGAGACGGTGTTTGTCATGGGCCTGGTCTGCAGGGATCCTGCTACAAAGGTGAAACCCAGGAGAGTGTGGAGTCCAGAGTGTTGCCAGGACCCAGGCACAGGCATTAGTGCCCGTTGGAGAAAACAGGGGAATCCCGAAGAAATGGTGGGTCCTGGCCATCCGTGAGATCTTCCCAGGGCAGCTCCCCTCTGTGGAATCCAATCTGTCTTCCATCCTGCGTGGCCGAGGGCCAGGCTTCTCACTGGGCCTCTGCAGGAGGCTGCCATTTGTCCTGCCCACCTTCTTAGAAGCGAGACGGAGCAGACCCATCTGCTACTGCCCTTTCTATAATAACTAAAGTTAGCTGCCCTGGACTATTCACCCCCTAGTCTCAATTTAAGAAGATCCCCATGGCCACAGGGCCCCTGCCTGGGGGCTTGTCACCTCCCCCACCTTCTTCCTGAGTCATTCCTGCAGCCTTGCTCCCTAACCTGCCCCACAGCCTTGCCTGGATTTCTATCTCCCTGGCTTGGTGCCAGTTCCTCCAAGTCGATGGCACCTCCCTCCCTCTCAACCACTTGAGCAAACTCCAAGACATCTTCTACCCCAACACCAGCAATTGTGCCAAGGGCCATTAGGCTCTCAGCATGACTATTTTTAGAGACCCCGTGTCTGTCACTGAAACCTTTTTTGTGGGAGACTATTCCTCCCATCTGCAACAGCTGCCCCTGCTGACTGCCCTTCTCTCCTCCCTCTCATCCCAGAGAAACAGGTCAGCTGGGAGCTTCTGCCCCCACTGCCTAGGGACCAACAGGGGCAGGAGGCAGTCACTGACCCCGAGACGTTTGCATCCTGCACAGCTAGAGATCCTTTATTAAAAGCACACTGTTGGTTTCTG\n",
      "\n",
      "GENCODE_transcript_id\tGENCODE_gene_id\tHAVANA_gene_id\tHAVANA_transcript_id\ttranscript_name\tgene_name\tlength\tRNA_type\n",
      "ENST00000456328.2\tENSG00000223972.5\tOTTHUMG00000000961.2\tOTTHUMT00000362751.1\tDDX11L1-002\tDDX11L1\t1657\tprocessed_transcript\t\n",
      "\n"
     ]
    }
   ],
   "source": [
    "gencode_fasta = \"../../Reference_Genomes/gencode.v24.transcripts.fa.gz\"\n",
    "clean_fasta = \"../../Reference_Genomes/gencode_v24_transcripts_clean.fa.gz\"\n",
    "gencode_info = \"../../Reference_Genomes/gencode_v24_transcripts_info.tsv\"\n",
    "\n",
    "print (\"Clean the file and generate the list from IDs\\n\") \n",
    "Gencode_fastaclean_listinfo (gencode_fasta, clean_fasta, gencode_info)\n",
    "\n",
    "print (\"Visualize the result\\n\")\n",
    "head(gencode_fasta, 2)\n",
    "head(clean_fasta, 2)\n",
    "head(gencode_info, 2)"
   ]
  },
  {
   "cell_type": "markdown",
   "metadata": {
    "collapsed": true
   },
   "source": [
    "**To compare the different conditions it might be interesting to to use the internal spike in used in all ENCODE samples. The added the ERCC (External RNA Controls Consortium) RNA Spike-In Mix that is also sometime called NIST spike. This is a pool of 96 synthetic RNAs with various lengths, and GC content covering a 2^20 concentration range as spike-in controls to measure sensitivity, accuracy, and biases in RNA-seq experiments as well as to derive standard curves for quantifying the abundance of transcripts. In all the sample I have selected the used the ERCC pool 14 and the provide the concentration for all RNAs in a tsv file. To enable there analysis one should include the sequences of the oligo transcripts in the alignment step. I will generate a new reference mixing the human genome transcripts as well as the ERCC transcript directil on the computation farm**"
   ]
  },
  {
   "cell_type": "markdown",
   "metadata": {},
   "source": [
    "**Create indexes for Kalisto from the human lncRNA and all RNA transcriptome gencode v23 including the ERCC spike-in transcripts that might be used for normalization later**"
   ]
  },
  {
   "cell_type": "code",
   "execution_count": 8,
   "metadata": {
    "collapsed": false,
    "scrolled": true
   },
   "outputs": [
    {
     "name": "stdout",
     "output_type": "stream",
     "text": [
      "kallisto-0.43 index -i ../../Index/kallisto/gencode_v24_lncRNA_transcripts_ERCC.idx ../../Reference_Genomes/gencode.v24.lncRNA_transcripts.fa.gz ../../Reference_Genomes/ERCC.fa.gz\n",
      "\n",
      "[build] loading fasta file ../../Reference_Genomes/gencode.v24.lncRNA_transcripts.fa.gz\n",
      "[build] loading fasta file ../../Reference_Genomes/ERCC.fa.gz\n",
      "[build] k-mer length: 31\n",
      "[build] warning: clipped off poly-A tail (longer than 10)\n",
      "        from 305 target sequences\n",
      "[build] warning: replaced 4 non-ACGUT characters in the input sequence\n",
      "        with pseudorandom nucleotides\n",
      "[build] counting k-mers ... done.\n",
      "[build] building target de Bruijn graph ...  done \n",
      "[build] creating equivalence classes ...  done\n",
      "[build] target de Bruijn graph has 154016 contigs and contains 21010527 k-mers \n",
      "\n",
      "\n"
     ]
    }
   ],
   "source": [
    "program = \"kallisto-0.43 index\"\n",
    "index_dir = \"../../Index/kallisto/\"\n",
    "index_name = \"gencode_v24_lncRNA_transcripts_ERCC.idx\"\n",
    "index_report = \"gencode_v24_lncRNA_transcripts_ERCC.txt\"\n",
    "gencode_fasta = \"../../Reference_Genomes/gencode.v24.lncRNA_transcripts.fa.gz\"\n",
    "gencode_ERCC = \"../../Reference_Genomes/ERCC.fa.gz\"\n",
    "\n",
    "mkdir(index_dir)\n",
    "\n",
    "cmd = \"{} -i {}{} {} {}\".format(program, index_dir, index_name, gencode_fasta, gencode_ERCC)\n",
    "print (cmd)\n",
    "\n",
    "stderr = bash (cmd, ret_stderr=True, ret_stdout=False)\n",
    "print (stderr)\n",
    "\n",
    "# write the report\n",
    "with open (index_dir+index_report, \"w\") as fp:\n",
    "    fp.write(stderr)"
   ]
  },
  {
   "cell_type": "code",
   "execution_count": 9,
   "metadata": {
    "collapsed": false,
    "scrolled": true
   },
   "outputs": [
    {
     "name": "stdout",
     "output_type": "stream",
     "text": [
      "kallisto-0.43 index -i ../../Index/kallisto/gencode_v24_transcripts_ERCC.idx ../../Reference_Genomes/gencode.v24.transcripts.fa.gz ../../Reference_Genomes/ERCC.fa.gz\n",
      "\n",
      "[build] loading fasta file ../../Reference_Genomes/gencode.v24.transcripts.fa.gz\n",
      "[build] loading fasta file ../../Reference_Genomes/ERCC.fa.gz\n",
      "[build] k-mer length: 31\n",
      "[build] warning: clipped off poly-A tail (longer than 10)\n",
      "        from 1629 target sequences\n",
      "[build] warning: replaced 87 non-ACGUT characters in the input sequence\n",
      "        with pseudorandom nucleotides\n",
      "[build] counting k-mers ... done.\n",
      "[build] building target de Bruijn graph ...  done \n",
      "[build] creating equivalence classes ...  done\n",
      "[build] target de Bruijn graph has 1261145 contigs and contains 123979963 k-mers \n",
      "\n",
      "\n"
     ]
    }
   ],
   "source": [
    "program = \"kallisto-0.43 index\"\n",
    "index_dir = \"../../Index/kallisto/\"\n",
    "index_name = \"gencode_v24_transcripts_ERCC.idx\"\n",
    "index_report = \"gencode_v24_transcripts_ERCC.txt\"\n",
    "gencode_fasta = \"../../Reference_Genomes/gencode.v24.transcripts.fa.gz\"\n",
    "gencode_ERCC = \"../../Reference_Genomes/ERCC.fa.gz\"\n",
    "\n",
    "mkdir(index_dir)\n",
    "\n",
    "cmd = \"{} -i {}{} {} {}\".format(program, index_dir, index_name, gencode_fasta, gencode_ERCC)\n",
    "print (cmd)\n",
    "\n",
    "stderr = bash (cmd, ret_stderr=True, ret_stdout=False)\n",
    "print (stderr)\n",
    "\n",
    "# write the report\n",
    "with open (index_dir+index_report, \"w\") as fp:\n",
    "    fp.write(stderr)"
   ]
  },
  {
   "cell_type": "markdown",
   "metadata": {},
   "source": [
    "### Fastq files download "
   ]
  },
  {
   "cell_type": "markdown",
   "metadata": {},
   "source": [
    "**To analyse the data I will have to get all the fastq files and I will use the Cluster because of the amount of data to be analysed. All the data are available on the ENCODE website https://www.encodeproject.org/ and I can acces them thanks to the ENCODE Accesion number per experimental conditions. For each conditions I retrieved manually a file containing download links for all the files they generated. see bellow**"
   ]
  },
  {
   "cell_type": "code",
   "execution_count": 10,
   "metadata": {
    "collapsed": true,
    "scrolled": false
   },
   "outputs": [
    {
     "name": "stdout",
     "output_type": "stream",
     "text": [
      "https://www.encodeproject.org/metadata/type=Experiment&y.limit=&searchTerm=EH000140/metadata.tsv\r\n",
      "https://www.encodeproject.org/files/ENCFF000HIL/@@download/ENCFF000HIL.bigBed\r\n",
      "https://www.encodeproject.org/files/ENCFF000HIM/@@download/ENCFF000HIM.gtf.gz\r\n",
      "https://www.encodeproject.org/files/ENCFF000HIO/@@download/ENCFF000HIO.gtf.gz\r\n",
      "https://www.encodeproject.org/files/ENCFF000HIS/@@download/ENCFF000HIS.bam\r\n",
      "https://www.encodeproject.org/files/ENCFF000HIT/@@download/ENCFF000HIT.bam\r\n",
      "https://www.encodeproject.org/files/ENCFF000HIU/@@download/ENCFF000HIU.gtf.gz\r\n",
      "https://www.encodeproject.org/files/ENCFF000HIW/@@download/ENCFF000HIW.gtf.gz\r\n",
      "https://www.encodeproject.org/files/ENCFF000HIY/@@download/ENCFF000HIY.gtf.gz\r\n",
      "https://www.encodeproject.org/files/ENCFF000HJA/@@download/ENCFF000HJA.bigBed\r\n",
      "https://www.encodeproject.org/files/ENCFF000HJB/@@download/ENCFF000HJB.bigWig\r\n",
      "https://www.encodeproject.org/files/ENCFF000HJC/@@download/ENCFF000HJC.bigWig\r\n",
      "https://www.encodeproject.org/files/ENCFF000HJD/@@download/ENCFF000HJD.bigWig\r\n",
      "https://www.encodeproject.org/files/ENCFF000HJE/@@download/ENCFF000HJE.bigWig\r\n",
      "https://www.encodeproject.org/files/ENCFF000HJF/@@download/ENCFF000HJF.fastq.gz\r\n",
      "https://www.encodeproject.org/files/ENCFF000HJK/@@download/ENCFF000HJK.gtf.gz\r\n",
      "https://www.encodeproject.org/files/ENCFF000HJM/@@download/ENCFF000HJM.gtf.gz\r\n",
      "https://www.encodeproject.org/files/ENCFF000HJO/@@download/ENCFF000HJO.gtf.gz\r\n",
      "https://www.encodeproject.org/files/ENCFF000HJP/@@download/ENCFF000HJP.fastq.gz\r\n",
      "https://www.encodeproject.org/files/ENCFF000HJW/@@download/ENCFF000HJW.fastq.gz\r\n",
      "https://www.encodeproject.org/files/ENCFF000HJX/@@download/ENCFF000HJX.fastq.gz\r\n",
      "https://www.encodeproject.org/files/ENCFF631VVQ/@@download/ENCFF631VVQ.bed.gz\r\n",
      "https://www.encodeproject.org/files/ENCFF983WUC/@@download/ENCFF983WUC.bed.gz"
     ]
    }
   ],
   "source": [
    "!cat ./Localisation_Original_Datasets/Djebali-ENCODE/ENCODE_sample_files/EH000140.txt"
   ]
  },
  {
   "cell_type": "markdown",
   "metadata": {},
   "source": [
    "**The first file contains a large table with detailled informations for all the files contained in the conditions including there download links I will parse each of the tables and extract only the information related to fastq files**"
   ]
  },
  {
   "cell_type": "code",
   "execution_count": 16,
   "metadata": {
    "collapsed": false,
    "scrolled": false
   },
   "outputs": [],
   "source": [
    "from urllib.request import urlopen\n",
    "\n",
    "def parse_ENCODE_info_files(file_dir, tsv_outfile):\n",
    "\n",
    "    # Handler to write the collect information\n",
    "    with open (tsv_outfile, \"w\") as outfp:\n",
    "        # Loop over the information files to extract the url of the tsv file \n",
    "        for f in sorted(glob(file_dir+\"*.txt\")):\n",
    "            print(\"Parsing {}\".format(file_basename(f)))\n",
    "            with open(f) as infp:\n",
    "                URL = next(infp).strip()\n",
    "\n",
    "                # Parse the tsv url and extract the lines correponding to the fadtq files   \n",
    "                with urlopen(URL) as tsv:\n",
    "                    for line in tsv:\n",
    "                        dl = line.decode('utf-8')\n",
    "                        sl = dl.split(\"\\t\")\n",
    "\n",
    "                        # Write the lines in the collecting file\n",
    "                        if sl[1] == \"fastq\":\n",
    "                            outfp.write(dl)\n",
    "    return tsv_outfile"
   ]
  },
  {
   "cell_type": "code",
   "execution_count": 17,
   "metadata": {
    "collapsed": true,
    "scrolled": true
   },
   "outputs": [
    {
     "name": "stdout",
     "output_type": "stream",
     "text": [
      "Parsing EH000140\n",
      "Parsing EH000147\n",
      "Parsing EH000151\n",
      "Parsing EH000152\n",
      "Parsing EH000156\n",
      "Parsing EH000157\n",
      "Parsing EH000158\n",
      "Parsing EH000161\n",
      "Parsing EH000165\n",
      "Parsing EH000166\n",
      "Parsing EH000170\n",
      "Parsing EH000171\n",
      "Parsing EH000172\n",
      "Parsing EH000174\n",
      "Parsing EH002624\n",
      "Parsing EH002625\n",
      "Parsing EH002626\n",
      "Parsing EH002627\n",
      "Parsing EH002628\n",
      "Parsing EH002630\n",
      "Parsing EH002631\n",
      "Parsing EH002633\n",
      "84\n",
      "ENCFF000HJF\tfastq\treads\tENCSR000COK\tRNA-seq\tEFO:0002067\tK562\timmortalized cell line\tadult\tfemale\tHomo sapiens\t\tcytosol\t\t\t\t\tpolyadenylated mRNA\trRNA\tsee document\tsee document\t\t2011-10-17\tENCODE\t\tsee document\t>200\t53 year\t2\t1\t76\tpaired-ended\t1\tENCFF000HJX\t\t5848000346\tThomas Gingeras, CSHL\t7d6fb0723fb5c2b48e40c6312fc9134e\thttps://www.encodeproject.org/files/ENCFF000HJF/@@download/ENCFF000HJF.fastq.gz\t\tIllumina Genome Analyzer IIx\n",
      "ENCFF000HJP\tfastq\treads\tENCSR000COK\tRNA-seq\tEFO:0002067\tK562\timmortalized cell line\tadult\tfemale\tHomo sapiens\t\tcytosol\t\t\t\t\tpolyadenylated mRNA\trRNA\tsee document\tsee document\t\t2011-10-17\tENCODE\t\tsee document\t>200\t53 year\t1\t1\t76\tpaired-ended\t1\tENCFF000HJW\t\t8866919688\tThomas Gingeras, CSHL\t521ed7d0b3b6e8b8d5a0a177d13be8ec\thttps://www.encodeproject.org/files/ENCFF000HJP/@@download/ENCFF000HJP.fastq.gz\t\tIllumina Genome Analyzer IIx\n"
     ]
    }
   ],
   "source": [
    "tsv_outfile = \"./Localisation_Original_Datasets/Djebali-ENCODE/fastq/fastq_details.tsv\"\n",
    "file_dir = \"./Localisation_Original_Datasets/Djebali-ENCODE/ENCODE_sample_files/\"\n",
    "\n",
    "parse_ENCODE_info_files(file_dir, tsv_outfile)\n",
    "print(fastcount(outfile))\n",
    "head (outfile, 2)"
   ]
  },
  {
   "cell_type": "markdown",
   "metadata": {},
   "source": [
    "**From this file containing all the information I will write a small python script to download the data on the cluster, similar to the following. https://github.com/a-slide/pyScripts/blob/master/EncodeParser.py. I launched the jobs on the cluster farm to download all the fastq files corresponding to the ENCODE number of Nucleus and cytosolic fraction polyA+ RNA. All the data are now available in the ebi server. There are 42 paired ended datafile. I renamed some of the datasets because *HUVEC* cells were called *endothelial-cell-of-umbilical-vein* and *NHEK* were called *keratinocyte* **"
   ]
  },
  {
   "cell_type": "markdown",
   "metadata": {},
   "source": [
    "### Alignment with Kallisto quant"
   ]
  },
  {
   "cell_type": "markdown",
   "metadata": {},
   "source": [
    "**Test alignement with 1M reads extracted from one of the ENCODE datasets with 4 threads, 5 bootstraps and in rf stranded mode**"
   ]
  },
  {
   "cell_type": "code",
   "execution_count": 5,
   "metadata": {
    "collapsed": false,
    "scrolled": false
   },
   "outputs": [
    {
     "name": "stdout",
     "output_type": "stream",
     "text": [
      "kallisto-0.43 quant -t 4 -b 10 --fr-stranded -i ../../Index/kallisto/gencode_v24_lncRNA_transcripts_ERCC.idx -o ./Localisation_Original_Datasets/Djebali-ENCODE/kallisto/test/ ./Localisation_Original_Datasets/Djebali-ENCODE/fastq/1M_test_R1.fastq.gz ./Localisation_Original_Datasets/Djebali-ENCODE/fastq/1M_test_R2.fastq.gz\n",
      "\n",
      "[quant] fragment length distribution will be estimated from the data\n",
      "[index] k-mer length: 31\n",
      "[index] number of targets: 28,127\n",
      "[index] number of k-mers: 21,010,527\n",
      "[index] number of equivalence classes: 91,580\n",
      "[quant] running in paired-end mode\n",
      "[quant] will process pair 1: ./Localisation_Original_Datasets/Djebali-ENCODE/fastq/1M_test_R1.fastq.gz\n",
      "                             ./Localisation_Original_Datasets/Djebali-ENCODE/fastq/1M_test_R2.fastq.gz\n",
      "[quant] finding pseudoalignments for the reads ... done\n",
      "[quant] processed 1,000,000 reads, 58,177 reads pseudoaligned\n",
      "[quant] estimated average fragment length: 303.622\n",
      "[   em] quantifying the abundances ... done\n",
      "[   em] the Expectation-Maximization algorithm ran for 611 rounds\n",
      "[bstrp] number of EM bootstraps complete: 10\n",
      "\n",
      "\n"
     ]
    }
   ],
   "source": [
    "program = \"kallisto-0.43 quant\"\n",
    "index=\"../../Index/kallisto/gencode_v24_lncRNA_transcripts_ERCC.idx\"\n",
    "R1=\"./Localisation_Original_Datasets/Djebali-ENCODE/fastq/1M_test_R1.fastq.gz\"\n",
    "R2=\"./Localisation_Original_Datasets/Djebali-ENCODE/fastq/1M_test_R2.fastq.gz\"\n",
    "output_dir = \"./Localisation_Original_Datasets/Djebali-ENCODE/kallisto/test/\"\n",
    "align_report = output_dir+\"kallisto_report.txt\"\n",
    "n_thread = 4\n",
    "n_bootstraps = 10\n",
    "\n",
    "mkdir(output_dir)\n",
    "\n",
    "cmd = \"{} -t {} -b {} --fr-stranded -i {} -o {} {} {}\".format(program, n_thread, n_bootstraps, index, output_dir, R1, R2)\n",
    "print (cmd)\n",
    "\n",
    "stderr = bash (cmd, ret_stderr=True, ret_stdout=False)\n",
    "print (stderr)\n",
    "\n",
    "# write the report\n",
    "with open (align_report, \"w\") as fp:\n",
    "    fp.write(stderr)"
   ]
  },
  {
   "cell_type": "markdown",
   "metadata": {},
   "source": [
    "**Kalisto quant is working correctly and we obtain a file with counts directly in a very short time. However due to space and parralelisation concerns I will perform the dataset wide analyses on the cluster**"
   ]
  },
  {
   "cell_type": "markdown",
   "metadata": {},
   "source": [
    "**The alignments against the modified reference containing both human transcripts were performed on the cluster. I performed 4 different aligments:**\n",
    "* Against all gencode transcripts + ERCC transcripts with strand specific alignment \n",
    "* Against lncRNA gencode gencode transcripts + ERCC transcripts with strand specific alignment\n",
    "* Against all gencode transcripts only with strand specific alignment \n",
    "* Against lncRNA gencode gencode transcripts only with strand specific alignment\n",
    "\n",
    "**According to the Sleuth paper it might be beneficial perform 100 boostrap although they say that they don't really knows which is the minimun to obtain reliable results**\n",
    "\n",
    "***kallisto quant --bias -b 100 --rf-stranded -t 4 -i INDEX -o OUTPUT_FOLDER READ1 READ2***\n",
    "\n",
    "**I then copied the results localy for further analysis with Sleuth, since the size is rather small.**"
   ]
  },
  {
   "cell_type": "code",
   "execution_count": 8,
   "metadata": {
    "collapsed": false,
    "scrolled": false
   },
   "outputs": [],
   "source": [
    "# Parse the stderr files containing the number of read aligned with kallisto\n",
    "sname_list=[]\n",
    "tae=[] # total all RNA ERCC\n",
    "mae=[] # mapped all RNA ERCC\n",
    "tle=[] # total lncRNA ERCC\n",
    "mle=[] # mapped lncRNA ERCC\n",
    "ma=[] # mapped all RNA no ERCC\n",
    "ml=[] # mapped lncRNA no ERCC\n",
    "flen_list=[]\n",
    "\n",
    "# results obtained with basic alignment using Kallisto quant\n",
    "for file in glob(\"./Localisation_Original_Datasets/Djebali-ENCODE/kallisto/allRNA_ERCC/*/stderr.txt\"):\n",
    "    sname_list.append(file.split(\"/\")[-2])   \n",
    "    lines = !cat {file}\n",
    "    flen_list.append(float(lines[12].split()[-1].replace(\",\",\"\")))\n",
    "    tae.append(int(lines[11].split()[2].replace(\",\",\"\")))\n",
    "    mae.append(int(lines[11].split()[4].replace(\",\",\"\")))\n",
    "\n",
    "# results obtained with stranded alignment using Kallisto quant\n",
    "for file in glob(\"./Localisation_Original_Datasets/Djebali-ENCODE/kallisto/lncRNA_ERCC/*/stderr.txt\"):\n",
    "    lines = !cat {file}\n",
    "    tle.append(int(lines[11].split()[2].replace(\",\",\"\")))\n",
    "    mle.append(int(lines[11].split()[4].replace(\",\",\"\")))\n",
    "\n",
    "# results obtained with stranded alignment using Kallisto quant\n",
    "for file in glob(\"./Localisation_Original_Datasets/Djebali-ENCODE/kallisto/allRNA/*/stderr.txt\"):\n",
    "    lines = !cat {file}\n",
    "    ma.append(int(lines[11].split()[4].replace(\",\",\"\")))\n",
    "    \n",
    "# results obtained with stranded alignment using Kallisto quant\n",
    "for file in glob(\"./Localisation_Original_Datasets/Djebali-ENCODE/kallisto/lncRNA/*/stderr.txt\"):\n",
    "    lines = !cat {file}\n",
    "    ml.append(int(lines[11].split()[4].replace(\",\",\"\")))"
   ]
  },
  {
   "cell_type": "code",
   "execution_count": 24,
   "metadata": {
    "collapsed": false,
    "scrolled": false
   },
   "outputs": [
    {
     "data": {
      "image/png": "[encoded data removed]",
      "text/plain": [
       "<matplotlib.figure.Figure at 0x7efbbbe48fd0>"
      ]
     },
     "metadata": {},
     "output_type": "display_data"
    }
   ],
   "source": [
    "# Plot the results\n",
    "index = np.arange(len(sname_list))\n",
    "bar_width = 0.35\n",
    "\n",
    "p0 = pl.bar(index, tae, bar_width, color=\"LightGreen\", alpha=0.7)\n",
    "p1 = pl.bar(index, mae, bar_width, color=\"ForestGreen\", alpha=0.7)\n",
    "p2 = pl.bar(index, ma, bar_width, color=\"DarkGreen\", alpha=0.7)\n",
    "p3 = pl.bar(index+bar_width, tle, bar_width, color=\"SkyBlue\", alpha=0.7)\n",
    "p4 = pl.bar(index+bar_width, mle, bar_width, color=\"Blue\", alpha=0.7)\n",
    "p5 = pl.bar(index+bar_width, ml, bar_width, color=\"DarkBlue\", alpha=0.7)\n",
    "\n",
    "pl.xticks(index+bar_width, sname_list, rotation=45, horizontalalignment =\"right\")\n",
    "pl.legend((p0[0], p1[0], p2[0], p3[0], p4[0], p5[0]), ('Total Reads', 'Mapped Reads','Mapped Reads no ERCC','Total Reads', 'Mapped Reads lncRNA','Mapped Reads lncRNA no ERCC'))\n",
    "pl.title(\"Number of reads analysed by Kallisto\")\n",
    "pl.show()"
   ]
  },
  {
   "cell_type": "code",
   "execution_count": 23,
   "metadata": {
    "collapsed": false,
    "scrolled": false
   },
   "outputs": [
    {
     "data": {
      "image/png": "[encoded data removed]",
      "text/plain": [
       "<matplotlib.figure.Figure at 0x7efbc3d418d0>"
      ]
     },
     "metadata": {},
     "output_type": "display_data"
    }
   ],
   "source": [
    "# Plot the results\n",
    "index = np.arange(len(sname_list))\n",
    "bar_width = 0.35\n",
    "\n",
    "percent_unstrand = [mapped/total*100.0 for mapped, total in zip(mapped_list, total_list)]\n",
    "percent_strand = [mapped/total*100.0 for mapped, total in zip(mapped_lnc_list, total_lnc_list)]\n",
    "    \n",
    "p1 = pl.bar(index, percent_unstrand, bar_width, color=\"green\", alpha=0.7)\n",
    "p2 = pl.bar(index+bar_width, percent_strand, bar_width, color=\"blue\", alpha=0.7)\n",
    "\n",
    "pl.xticks(index+bar_width, sname_list, rotation=45, horizontalalignment =\"right\")\n",
    "pl.legend((p1[0], p2[0]), ('% Mapped Reads stranded', '% Mapped Reads stranded lnc'))\n",
    "pl.title(\"% of reads aligned by Kallisto\")\n",
    "pl.show()"
   ]
  },
  {
   "cell_type": "markdown",
   "metadata": {},
   "source": [
    "**I obtained between 4E7 and 2.3E8 reads aligned (ie 60% and 90%). The stranded alignment results in less aligned reads but it is surely more accurate, so I will use only these results. There are much fewer read aligned on lncRNA (< 10%) but this is consistant with previous knowledge**"
   ]
  },
  {
   "cell_type": "markdown",
   "metadata": {},
   "source": [
    "### Sleuth differencial expression analysis"
   ]
  },
  {
   "cell_type": "markdown",
   "metadata": {},
   "source": [
    "**For the analysis with Sleuth I will use the basic pipeline recommanded by the documentation https://rawgit.com/pachterlab/sleuth/master/inst/doc/intro.html. Apparently it is not possible to use the ERCC to normalize the tpm and est, since the bootstrap would also have to be normalized. Instead I will perform the analysis with the ERCC transcripts and will verify that they do not appear significantly differentially expressed. If so, the Sleuth normalization is certainly enough, else I would have to find another way to analyse kallisto data**"
   ]
  },
  {
   "cell_type": "markdown",
   "metadata": {},
   "source": [
    "**Normalize the name of the replicates in the folder containing the samples which are sometime called Rep1 Re2p Rep3 or Rep4**"
   ]
  },
  {
   "cell_type": "code",
   "execution_count": 28,
   "metadata": {
    "collapsed": false,
    "scrolled": false
   },
   "outputs": [],
   "source": [
    "def normalize_repname(basedir):\n",
    "    subst_dict = {\"Rep1\": \"1\", \"Rep2\": \"2\",\"Rep3\": \"1\",\"Rep4\": \"2\"}\n",
    "\n",
    "    for subdir in [path for path in glob(basedir+\"/*\") if isdir(path)]:\n",
    "        ss = subdir.split(\"_\")\n",
    "        if ss[-1] in subst_dict:\n",
    "            ss[-1] = subst_dict[ss[-1]]\n",
    "        newname = \"_\".join(ss)\n",
    "        rename (subdir, newname)"
   ]
  },
  {
   "cell_type": "code",
   "execution_count": 37,
   "metadata": {
    "collapsed": false,
    "scrolled": true
   },
   "outputs": [
    {
     "name": "stdout",
     "output_type": "stream",
     "text": [
      "ENCSR000COK_K562_cytosol_1\n",
      "ENCSR000COK_K562_cytosol_2\n",
      "ENCSR000COK_K562_cytosol_1\n",
      "ENCSR000COK_K562_cytosol_2\n",
      "ENCSR000COK_K562_cytosol_1\n",
      "ENCSR000COK_K562_cytosol_2\n",
      "ENCSR000COK_K562_cytosol_1\n",
      "ENCSR000COK_K562_cytosol_2\n"
     ]
    }
   ],
   "source": [
    "for basedir in [\n",
    "    \"./Localisation_Original_Datasets/Djebali-ENCODE/kallisto/lncRNA/\",\n",
    "    \"./Localisation_Original_Datasets/Djebali-ENCODE/kallisto/allRNA/\",\n",
    "    \"./Localisation_Original_Datasets/Djebali-ENCODE/kallisto/lncRNA_ERCC/\",\n",
    "    \"./Localisation_Original_Datasets/Djebali-ENCODE/kallisto/allRNA_ERCC/\"\n",
    "    ]:\n",
    "    \n",
    "    normalize_repname(basedir)\n",
    "    !ls {basedir} | head -2\n"
   ]
  },
  {
   "cell_type": "markdown",
   "metadata": {},
   "source": [
    "**Create a file containing the name of samples, the cell type, the localization and the path to the dir containing kallisto results** "
   ]
  },
  {
   "cell_type": "code",
   "execution_count": 39,
   "metadata": {
    "collapsed": false,
    "scrolled": false
   },
   "outputs": [],
   "source": [
    "# general library import\n",
    "from os.path import abspath, basename, isdir\n",
    "from glob import glob\n",
    "\n",
    "# Function ro parse each dir and  create a sample file\n",
    "def sleuth_sample_list (basedir):\n",
    "    \n",
    "    list_file = basedir+\"list_file.tsv\"\n",
    "    \n",
    "    with open (list_file, \"w\") as outfp:\n",
    "        outfp.write(\"sample\\tcell_type\\tlocalization\\treplicate\\tpath\\n\")\n",
    "\n",
    "        for subdir in [path for path in glob(basedir+\"/*\") if isdir(path)]:\n",
    "            ss = basename(subdir).split(\"_\")\n",
    "            outfp.write(\"{}\\t{}\\t{}\\t{}\\t{}\\n\".format (\"_\".join(ss), ss[1], ss[2], ss[3], abspath(subdir)))\n",
    "    \n",
    "    return list_file"
   ]
  },
  {
   "cell_type": "code",
   "execution_count": 40,
   "metadata": {
    "collapsed": false,
    "scrolled": true
   },
   "outputs": [
    {
     "name": "stdout",
     "output_type": "stream",
     "text": [
      "sample\tcell_type\tlocalization\treplicate\tpath\n",
      "ENCSR000COW_H1-hESC_nucleus_2\tH1-hESC\tnucleus\t2\t/home/aleg/Data/Datasets/Epi2_pilot/Localisation_Original_Datasets/Djebali-ENCODE/kallisto/lncRNA/ENCSR000COW_H1-hESC_nucleus_2\n",
      "\n",
      "sample\tcell_type\tlocalization\treplicate\tpath\n",
      "ENCSR000COW_H1-hESC_nucleus_2\tH1-hESC\tnucleus\t2\t/home/aleg/Data/Datasets/Epi2_pilot/Localisation_Original_Datasets/Djebali-ENCODE/kallisto/allRNA/ENCSR000COW_H1-hESC_nucleus_2\n",
      "\n",
      "sample\tcell_type\tlocalization\treplicate\tpath\n",
      "ENCSR000COW_H1-hESC_nucleus_2\tH1-hESC\tnucleus\t2\t/home/aleg/Data/Datasets/Epi2_pilot/Localisation_Original_Datasets/Djebali-ENCODE/kallisto/lncRNA_ERCC/ENCSR000COW_H1-hESC_nucleus_2\n",
      "\n",
      "sample\tcell_type\tlocalization\treplicate\tpath\n",
      "ENCSR000COW_H1-hESC_nucleus_2\tH1-hESC\tnucleus\t2\t/home/aleg/Data/Datasets/Epi2_pilot/Localisation_Original_Datasets/Djebali-ENCODE/kallisto/allRNA_ERCC/ENCSR000COW_H1-hESC_nucleus_2\n",
      "\n"
     ]
    }
   ],
   "source": [
    "for basedir in [\n",
    "    \"./Localisation_Original_Datasets/Djebali-ENCODE/kallisto/lncRNA/\",\n",
    "    \"./Localisation_Original_Datasets/Djebali-ENCODE/kallisto/allRNA/\",\n",
    "    \"./Localisation_Original_Datasets/Djebali-ENCODE/kallisto/lncRNA_ERCC/\",\n",
    "    \"./Localisation_Original_Datasets/Djebali-ENCODE/kallisto/allRNA_ERCC/\"\n",
    "    ]:\n",
    "    \n",
    "    list_file = sample_list = sleuth_sample_list(basedir)\n",
    "    head (list_file, 2)"
   ]
  },
  {
   "cell_type": "markdown",
   "metadata": {},
   "source": [
    "**Define an R function to analyse data with Sleuth**"
   ]
  },
  {
   "cell_type": "code",
   "execution_count": 1,
   "metadata": {
    "collapsed": false,
    "scrolled": false
   },
   "outputs": [],
   "source": [
    "################## R KERNEL ##################\n",
    "\n",
    "sleuth_analysis <- function(sample_list, transcript_info, select_col, select_val, de_col, beta_factor_list, outdir=\".\", ncore=4, max_bootstrap=10) {\n",
    "    \n",
    "    # Imports and setups\n",
    "    library(\"sleuth\")\n",
    "    options(mc.cores = ncore)\n",
    " \n",
    "    # Create the output directory\n",
    "    outdir=file.path(outdir, select_val)\n",
    "    dir.create(outdir, showWarnings = FALSE, recursive = TRUE)\n",
    "    \n",
    "    cat(\"IMPORT AND SELECT THE SAMPLES\\n\")   \n",
    "    # Import the file in a table and select sample according to select val and col \n",
    "    s2c = read.table(sample_list, header = TRUE, stringsAsFactors=FALSE)\n",
    "    s2c = s2c[s2c[,select_col] == select_val,]   \n",
    "    print (s2c$sample)\n",
    "    \n",
    "    # Save the table in file for tracability\n",
    "    fname = file.path(outdir,\"selected_datasets.tsv\")\n",
    "    write.table(s2c, file = fname, sep=\"\\t\", col.names = TRUE)\n",
    "    \n",
    "    cat(\"IMPORT THE GENE INFORMATIONS\\n\")   \n",
    "    # Import the gene info in table and rename the fields for Sleuth compatibility\n",
    "    t2g = read.table(transcript_info, header = TRUE, stringsAsFactors=FALSE)\n",
    "    t2g = dplyr::rename(t2g, target_id = GENCODE_transcript_id, ens_gene = GENCODE_gene_id)\n",
    "    \n",
    "    cat(\"PREPARE THE DATA FOR SLEUTH\\n\")   \n",
    "    # Extract the data from the kallisto results, LIMIT to 3 because for 100 the kernel get killed !!\n",
    "    de_formula = as.formula(paste(\"~\", de_col))\n",
    "    so = sleuth_prep(s2c, de_formula, max_bootstrap=max_bootstrap, target_mapping = t2g)\n",
    "\n",
    "    cat(\"FIT TO FULL MODEL\\n\")  \n",
    "    # Estimate parameters for the sleuth response error measurement (full) model\n",
    "    so <- sleuth_fit(so)\n",
    "    \n",
    "    cat(\"FIT TO REDUCED MODEL\\n\")\n",
    "    # Estimate parameters for the sleuth reduced model (shrinkage)\n",
    "    so <- sleuth_fit(so, ~1, 'reduced')\n",
    "\n",
    "    cat(\"PERFORM WALD TESTING\\n\")\n",
    "    # Performing Wald test\n",
    "    for (beta_factor in beta_factor_list) { so <- sleuth_wt(so, which_beta = beta_factor, 'full')}\n",
    "\n",
    "    cat(\"PERFORM LIKELYHOOD RATION TESTING\\n\")\n",
    "    # Perform likelihood ratio test\n",
    "    so <- sleuth_lrt(so, 'reduced', 'full')\n",
    "    \n",
    "    cat(\"EXPORT RESULTS\")\n",
    "    # Save all the results in a table\n",
    "    results_table <- sleuth_results(so, 'reduced:full', test_type = 'lrt')\n",
    "    fname = file.path(outdir, \"DE_Sleuth.tsv\")\n",
    "    write.table(results_table, file = fname, row.names=TRUE, na=\"\",col.names=TRUE, sep=\"\\t\")\n",
    "\n",
    "    # Save the Sleuth object for further analysis\n",
    "    fname = file.path(outdir, \"DE_Sleuth.rds\")\n",
    "    saveRDS(so, file = fname)\n",
    "    \n",
    "    return (so)\n",
    "}"
   ]
  },
  {
   "cell_type": "markdown",
   "metadata": {},
   "source": [
    "**I launched the analysis with all the datasets. H1-hESC was not included in the results because there are not replicates**"
   ]
  },
  {
   "cell_type": "code",
   "execution_count": 2,
   "metadata": {
    "collapsed": false,
    "scrolled": true
   },
   "outputs": [
    {
     "name": "stdout",
     "output_type": "stream",
     "text": [
      "\n",
      "########## ANALYSING allRNA_ERCC DATAGROUP ##########\n",
      "\n",
      "### ANALYSING IMR-90 SAMPLE ###\n"
     ]
    },
    {
     "name": "stderr",
     "output_type": "stream",
     "text": [
      "Loading required package: ggplot2\n",
      "Loading required package: dplyr\n",
      "\n",
      "Attaching package: ‘dplyr’\n",
      "\n",
      "The following objects are masked from ‘package:stats’:\n",
      "\n",
      "    filter, lag\n",
      "\n",
      "The following objects are masked from ‘package:base’:\n",
      "\n",
      "    intersect, setdiff, setequal, union\n",
      "\n"
     ]
    },
    {
     "name": "stdout",
     "output_type": "stream",
     "text": [
      "IMPORT AND SELECT THE SAMPLES\n",
      "[1] \"ENCSR000CTP_IMR-90_nucleus_1\" \"ENCSR000CTP_IMR-90_nucleus_2\"\n",
      "[3] \"ENCSR000CTN_IMR-90_cytosol_1\" \"ENCSR000CTN_IMR-90_cytosol_2\"\n",
      "IMPORT THE GENE INFORMATIONS\n",
      "PREPARE THE DATA FOR SLEUTH\n"
     ]
    },
    {
     "name": "stderr",
     "output_type": "stream",
     "text": [
      "reading in kallisto results\n",
      "....\n",
      "normalizing est_counts\n",
      "96432 targets passed the filter\n",
      "normalizing tpm\n",
      "merging in metadata\n",
      "normalizing bootstrap samples\n",
      "summarizing bootstraps\n"
     ]
    },
    {
     "name": "stdout",
     "output_type": "stream",
     "text": [
      "FIT TO FULL MODEL\n"
     ]
    },
    {
     "name": "stderr",
     "output_type": "stream",
     "text": [
      "shrinkage estimation\n",
      "computing variance of betas\n"
     ]
    },
    {
     "name": "stdout",
     "output_type": "stream",
     "text": [
      "FIT TO REDUCED MODEL\n"
     ]
    },
    {
     "name": "stderr",
     "output_type": "stream",
     "text": [
      "shrinkage estimation\n",
      "computing variance of betas\n"
     ]
    },
    {
     "name": "stdout",
     "output_type": "stream",
     "text": [
      "PERFORM WALD TESTING\n",
      "PERFORM LIKELYHOOD RATION TESTING\n",
      "EXPORT RESULTS\n",
      "### ANALYSING A549 SAMPLE ###\n",
      "IMPORT AND SELECT THE SAMPLES\n",
      "[1] \"ENCSR000CTL_A549_cytosol_2\" \"ENCSR000CTL_A549_cytosol_1\"\n",
      "[3] \"ENCSR000CTM_A549_nucleus_1\" \"ENCSR000CTM_A549_nucleus_2\"\n",
      "IMPORT THE GENE INFORMATIONS\n",
      "PREPARE THE DATA FOR SLEUTH\n"
     ]
    },
    {
     "name": "stderr",
     "output_type": "stream",
     "text": [
      "reading in kallisto results\n",
      "....\n",
      "normalizing est_counts\n",
      "102369 targets passed the filter\n",
      "normalizing tpm\n",
      "merging in metadata\n",
      "normalizing bootstrap samples\n",
      "summarizing bootstraps\n"
     ]
    },
    {
     "name": "stdout",
     "output_type": "stream",
     "text": [
      "FIT TO FULL MODEL\n"
     ]
    },
    {
     "name": "stderr",
     "output_type": "stream",
     "text": [
      "shrinkage estimation\n",
      "computing variance of betas\n"
     ]
    },
    {
     "name": "stdout",
     "output_type": "stream",
     "text": [
      "FIT TO REDUCED MODEL\n"
     ]
    },
    {
     "name": "stderr",
     "output_type": "stream",
     "text": [
      "shrinkage estimation\n",
      "computing variance of betas\n"
     ]
    },
    {
     "name": "stdout",
     "output_type": "stream",
     "text": [
      "PERFORM WALD TESTING\n",
      "PERFORM LIKELYHOOD RATION TESTING\n",
      "EXPORT RESULTS\n",
      "### ANALYSING GM12878 SAMPLE ###\n",
      "IMPORT AND SELECT THE SAMPLES\n",
      "[1] \"ENCSR000COR_GM12878_cytosol_2\" \"ENCSR000CPO_GM12878_nucleus_1\"\n",
      "[3] \"ENCSR000CPO_GM12878_nucleus_2\" \"ENCSR000COR_GM12878_cytosol_1\"\n",
      "IMPORT THE GENE INFORMATIONS\n",
      "PREPARE THE DATA FOR SLEUTH\n"
     ]
    },
    {
     "name": "stderr",
     "output_type": "stream",
     "text": [
      "reading in kallisto results\n",
      "....\n",
      "normalizing est_counts\n",
      "106669 targets passed the filter\n",
      "normalizing tpm\n",
      "merging in metadata\n",
      "normalizing bootstrap samples\n",
      "summarizing bootstraps\n"
     ]
    },
    {
     "name": "stdout",
     "output_type": "stream",
     "text": [
      "FIT TO FULL MODEL\n"
     ]
    },
    {
     "name": "stderr",
     "output_type": "stream",
     "text": [
      "shrinkage estimation\n",
      "computing variance of betas\n"
     ]
    },
    {
     "name": "stdout",
     "output_type": "stream",
     "text": [
      "FIT TO REDUCED MODEL\n"
     ]
    },
    {
     "name": "stderr",
     "output_type": "stream",
     "text": [
      "shrinkage estimation\n",
      "computing variance of betas\n"
     ]
    },
    {
     "name": "stdout",
     "output_type": "stream",
     "text": [
      "PERFORM WALD TESTING\n",
      "PERFORM LIKELYHOOD RATION TESTING\n",
      "EXPORT RESULTS\n",
      "### ANALYSING HeLa-S3 SAMPLE ###\n",
      "IMPORT AND SELECT THE SAMPLES\n",
      "[1] \"ENCSR000CPQ_HeLa-S3_nucleus_2\" \"ENCSR000CPP_HeLa-S3_cytosol_1\"\n",
      "[3] \"ENCSR000CPP_HeLa-S3_cytosol_2\" \"ENCSR000CPQ_HeLa-S3_nucleus_1\"\n",
      "IMPORT THE GENE INFORMATIONS\n",
      "PREPARE THE DATA FOR SLEUTH\n"
     ]
    },
    {
     "name": "stderr",
     "output_type": "stream",
     "text": [
      "reading in kallisto results\n",
      "....\n",
      "normalizing est_counts\n",
      "97515 targets passed the filter\n",
      "normalizing tpm\n",
      "merging in metadata\n",
      "normalizing bootstrap samples\n",
      "summarizing bootstraps\n"
     ]
    },
    {
     "name": "stdout",
     "output_type": "stream",
     "text": [
      "FIT TO FULL MODEL\n"
     ]
    },
    {
     "name": "stderr",
     "output_type": "stream",
     "text": [
      "shrinkage estimation\n",
      "computing variance of betas\n"
     ]
    },
    {
     "name": "stdout",
     "output_type": "stream",
     "text": [
      "FIT TO REDUCED MODEL\n"
     ]
    },
    {
     "name": "stderr",
     "output_type": "stream",
     "text": [
      "shrinkage estimation\n",
      "computing variance of betas\n"
     ]
    },
    {
     "name": "stdout",
     "output_type": "stream",
     "text": [
      "PERFORM WALD TESTING\n",
      "PERFORM LIKELYHOOD RATION TESTING\n",
      "EXPORT RESULTS\n",
      "### ANALYSING HepG2 SAMPLE ###\n",
      "IMPORT AND SELECT THE SAMPLES\n",
      "[1] \"ENCSR000CPC_HepG2_nucleus_1\" \"ENCSR000CPF_HepG2_cytosol_2\"\n",
      "[3] \"ENCSR000CPF_HepG2_cytosol_1\" \"ENCSR000CPC_HepG2_nucleus_2\"\n",
      "IMPORT THE GENE INFORMATIONS\n",
      "PREPARE THE DATA FOR SLEUTH\n"
     ]
    },
    {
     "name": "stderr",
     "output_type": "stream",
     "text": [
      "reading in kallisto results\n",
      "....\n",
      "normalizing est_counts\n",
      "99228 targets passed the filter\n",
      "normalizing tpm\n",
      "merging in metadata\n",
      "normalizing bootstrap samples\n",
      "summarizing bootstraps\n"
     ]
    },
    {
     "name": "stdout",
     "output_type": "stream",
     "text": [
      "FIT TO FULL MODEL\n"
     ]
    },
    {
     "name": "stderr",
     "output_type": "stream",
     "text": [
      "shrinkage estimation\n",
      "computing variance of betas\n"
     ]
    },
    {
     "name": "stdout",
     "output_type": "stream",
     "text": [
      "FIT TO REDUCED MODEL\n"
     ]
    },
    {
     "name": "stderr",
     "output_type": "stream",
     "text": [
      "shrinkage estimation\n",
      "computing variance of betas\n"
     ]
    },
    {
     "name": "stdout",
     "output_type": "stream",
     "text": [
      "PERFORM WALD TESTING\n",
      "PERFORM LIKELYHOOD RATION TESTING\n",
      "EXPORT RESULTS\n",
      "### ANALYSING HUVEC SAMPLE ###\n",
      "IMPORT AND SELECT THE SAMPLES\n",
      "[1] \"ENCSR000CPA_HUVEC_cytosol_1\" \"ENCSR000CPA_HUVEC_cytosol_2\"\n",
      "[3] \"ENCSR000CPB_HUVEC_nucleus_1\" \"ENCSR000CPB_HUVEC_nucleus_2\"\n",
      "IMPORT THE GENE INFORMATIONS\n",
      "PREPARE THE DATA FOR SLEUTH\n"
     ]
    },
    {
     "name": "stderr",
     "output_type": "stream",
     "text": [
      "reading in kallisto results\n",
      "....\n",
      "normalizing est_counts\n",
      "106902 targets passed the filter\n",
      "normalizing tpm\n",
      "merging in metadata\n",
      "normalizing bootstrap samples\n",
      "summarizing bootstraps\n"
     ]
    },
    {
     "name": "stdout",
     "output_type": "stream",
     "text": [
      "FIT TO FULL MODEL\n"
     ]
    },
    {
     "name": "stderr",
     "output_type": "stream",
     "text": [
      "shrinkage estimation\n",
      "computing variance of betas\n"
     ]
    },
    {
     "name": "stdout",
     "output_type": "stream",
     "text": [
      "FIT TO REDUCED MODEL\n"
     ]
    },
    {
     "name": "stderr",
     "output_type": "stream",
     "text": [
      "shrinkage estimation\n",
      "computing variance of betas\n"
     ]
    },
    {
     "name": "stdout",
     "output_type": "stream",
     "text": [
      "PERFORM WALD TESTING\n",
      "PERFORM LIKELYHOOD RATION TESTING\n",
      "EXPORT RESULTS\n",
      "### ANALYSING K562 SAMPLE ###\n",
      "IMPORT AND SELECT THE SAMPLES\n",
      "[1] \"ENCSR000COK_K562_cytosol_1\" \"ENCSR000CPS_K562_nucleus_1\"\n",
      "[3] \"ENCSR000CPS_K562_nucleus_2\" \"ENCSR000COK_K562_cytosol_2\"\n",
      "IMPORT THE GENE INFORMATIONS\n",
      "PREPARE THE DATA FOR SLEUTH\n"
     ]
    },
    {
     "name": "stderr",
     "output_type": "stream",
     "text": [
      "reading in kallisto results\n",
      "....\n",
      "normalizing est_counts\n",
      "99719 targets passed the filter\n",
      "normalizing tpm\n",
      "merging in metadata\n",
      "normalizing bootstrap samples\n",
      "summarizing bootstraps\n"
     ]
    },
    {
     "name": "stdout",
     "output_type": "stream",
     "text": [
      "FIT TO FULL MODEL\n"
     ]
    },
    {
     "name": "stderr",
     "output_type": "stream",
     "text": [
      "shrinkage estimation\n",
      "computing variance of betas\n"
     ]
    },
    {
     "name": "stdout",
     "output_type": "stream",
     "text": [
      "FIT TO REDUCED MODEL\n"
     ]
    },
    {
     "name": "stderr",
     "output_type": "stream",
     "text": [
      "shrinkage estimation\n",
      "computing variance of betas\n"
     ]
    },
    {
     "name": "stdout",
     "output_type": "stream",
     "text": [
      "PERFORM WALD TESTING\n",
      "PERFORM LIKELYHOOD RATION TESTING\n",
      "EXPORT RESULTS\n",
      "### ANALYSING MCF-7 SAMPLE ###\n",
      "IMPORT AND SELECT THE SAMPLES\n",
      "[1] \"ENCSR000CTO_MCF-7_nucleus_2\" \"ENCSR000CTU_MCF-7_cytosol_1\"\n",
      "[3] \"ENCSR000CTU_MCF-7_cytosol_2\" \"ENCSR000CTO_MCF-7_nucleus_1\"\n",
      "IMPORT THE GENE INFORMATIONS\n",
      "PREPARE THE DATA FOR SLEUTH\n"
     ]
    },
    {
     "name": "stderr",
     "output_type": "stream",
     "text": [
      "reading in kallisto results\n",
      "....\n",
      "normalizing est_counts\n",
      "106108 targets passed the filter\n",
      "normalizing tpm\n",
      "merging in metadata\n",
      "normalizing bootstrap samples\n",
      "summarizing bootstraps\n"
     ]
    },
    {
     "name": "stdout",
     "output_type": "stream",
     "text": [
      "FIT TO FULL MODEL\n"
     ]
    },
    {
     "name": "stderr",
     "output_type": "stream",
     "text": [
      "shrinkage estimation\n",
      "computing variance of betas\n"
     ]
    },
    {
     "name": "stdout",
     "output_type": "stream",
     "text": [
      "FIT TO REDUCED MODEL\n"
     ]
    },
    {
     "name": "stderr",
     "output_type": "stream",
     "text": [
      "shrinkage estimation\n",
      "computing variance of betas\n"
     ]
    },
    {
     "name": "stdout",
     "output_type": "stream",
     "text": [
      "PERFORM WALD TESTING\n",
      "PERFORM LIKELYHOOD RATION TESTING\n",
      "EXPORT RESULTS\n",
      "### ANALYSING NHEK SAMPLE ###\n",
      "IMPORT AND SELECT THE SAMPLES\n",
      "[1] \"ENCSR000CPK_NHEK_cytosol_1\" \"ENCSR000CPJ_NHEK_nucleus_1\"\n",
      "[3] \"ENCSR000CPJ_NHEK_nucleus_2\" \"ENCSR000CPK_NHEK_cytosol_2\"\n",
      "IMPORT THE GENE INFORMATIONS\n",
      "PREPARE THE DATA FOR SLEUTH\n"
     ]
    },
    {
     "name": "stderr",
     "output_type": "stream",
     "text": [
      "reading in kallisto results\n",
      "....\n",
      "normalizing est_counts\n",
      "98555 targets passed the filter\n",
      "normalizing tpm\n",
      "merging in metadata\n",
      "normalizing bootstrap samples\n",
      "summarizing bootstraps\n"
     ]
    },
    {
     "name": "stdout",
     "output_type": "stream",
     "text": [
      "FIT TO FULL MODEL\n"
     ]
    },
    {
     "name": "stderr",
     "output_type": "stream",
     "text": [
      "shrinkage estimation\n",
      "computing variance of betas\n"
     ]
    },
    {
     "name": "stdout",
     "output_type": "stream",
     "text": [
      "FIT TO REDUCED MODEL\n"
     ]
    },
    {
     "name": "stderr",
     "output_type": "stream",
     "text": [
      "shrinkage estimation\n",
      "computing variance of betas\n"
     ]
    },
    {
     "name": "stdout",
     "output_type": "stream",
     "text": [
      "PERFORM WALD TESTING\n",
      "PERFORM LIKELYHOOD RATION TESTING\n",
      "EXPORT RESULTS\n",
      "### ANALYSING SK-N-SH SAMPLE ###\n",
      "IMPORT AND SELECT THE SAMPLES\n",
      "[1] \"ENCSR000CTR_SK-N-SH_cytosol_1\" \"ENCSR000CTR_SK-N-SH_cytosol_2\"\n",
      "[3] \"ENCSR000CTS_SK-N-SH_nucleus_1\" \"ENCSR000CTS_SK-N-SH_nucleus_2\"\n",
      "IMPORT THE GENE INFORMATIONS\n",
      "PREPARE THE DATA FOR SLEUTH\n"
     ]
    },
    {
     "name": "stderr",
     "output_type": "stream",
     "text": [
      "reading in kallisto results\n",
      "....\n",
      "normalizing est_counts\n",
      "115183 targets passed the filter\n",
      "normalizing tpm\n",
      "merging in metadata\n",
      "normalizing bootstrap samples\n",
      "summarizing bootstraps\n"
     ]
    },
    {
     "name": "stdout",
     "output_type": "stream",
     "text": [
      "FIT TO FULL MODEL\n"
     ]
    },
    {
     "name": "stderr",
     "output_type": "stream",
     "text": [
      "shrinkage estimation\n",
      "computing variance of betas\n"
     ]
    },
    {
     "name": "stdout",
     "output_type": "stream",
     "text": [
      "FIT TO REDUCED MODEL\n"
     ]
    },
    {
     "name": "stderr",
     "output_type": "stream",
     "text": [
      "shrinkage estimation\n",
      "computing variance of betas\n"
     ]
    },
    {
     "name": "stdout",
     "output_type": "stream",
     "text": [
      "PERFORM WALD TESTING\n",
      "PERFORM LIKELYHOOD RATION TESTING\n",
      "EXPORT RESULTS\n",
      "########## ANALYSING allRNA DATAGROUP ##########\n",
      "\n",
      "### ANALYSING IMR-90 SAMPLE ###\n",
      "IMPORT AND SELECT THE SAMPLES\n",
      "[1] \"ENCSR000CTP_IMR-90_nucleus_1\" \"ENCSR000CTP_IMR-90_nucleus_2\"\n",
      "[3] \"ENCSR000CTN_IMR-90_cytosol_1\" \"ENCSR000CTN_IMR-90_cytosol_2\"\n",
      "IMPORT THE GENE INFORMATIONS\n",
      "PREPARE THE DATA FOR SLEUTH\n"
     ]
    },
    {
     "name": "stderr",
     "output_type": "stream",
     "text": [
      "reading in kallisto results\n",
      "....\n",
      "normalizing est_counts\n",
      "96393 targets passed the filter\n",
      "normalizing tpm\n",
      "merging in metadata\n",
      "normalizing bootstrap samples\n",
      "summarizing bootstraps\n"
     ]
    },
    {
     "name": "stdout",
     "output_type": "stream",
     "text": [
      "FIT TO FULL MODEL\n"
     ]
    },
    {
     "name": "stderr",
     "output_type": "stream",
     "text": [
      "shrinkage estimation\n",
      "computing variance of betas\n"
     ]
    },
    {
     "name": "stdout",
     "output_type": "stream",
     "text": [
      "FIT TO REDUCED MODEL\n"
     ]
    },
    {
     "name": "stderr",
     "output_type": "stream",
     "text": [
      "shrinkage estimation\n",
      "computing variance of betas\n"
     ]
    },
    {
     "name": "stdout",
     "output_type": "stream",
     "text": [
      "PERFORM WALD TESTING\n",
      "PERFORM LIKELYHOOD RATION TESTING\n",
      "EXPORT RESULTS\n",
      "### ANALYSING A549 SAMPLE ###\n",
      "IMPORT AND SELECT THE SAMPLES\n",
      "[1] \"ENCSR000CTL_A549_cytosol_2\" \"ENCSR000CTL_A549_cytosol_1\"\n",
      "[3] \"ENCSR000CTM_A549_nucleus_1\" \"ENCSR000CTM_A549_nucleus_2\"\n",
      "IMPORT THE GENE INFORMATIONS\n",
      "PREPARE THE DATA FOR SLEUTH\n"
     ]
    },
    {
     "name": "stderr",
     "output_type": "stream",
     "text": [
      "reading in kallisto results\n",
      "....\n",
      "normalizing est_counts\n",
      "102301 targets passed the filter\n",
      "normalizing tpm\n",
      "merging in metadata\n",
      "normalizing bootstrap samples\n",
      "summarizing bootstraps\n"
     ]
    },
    {
     "name": "stdout",
     "output_type": "stream",
     "text": [
      "FIT TO FULL MODEL\n"
     ]
    },
    {
     "name": "stderr",
     "output_type": "stream",
     "text": [
      "shrinkage estimation\n",
      "computing variance of betas\n"
     ]
    },
    {
     "name": "stdout",
     "output_type": "stream",
     "text": [
      "FIT TO REDUCED MODEL\n"
     ]
    },
    {
     "name": "stderr",
     "output_type": "stream",
     "text": [
      "shrinkage estimation\n",
      "computing variance of betas\n"
     ]
    },
    {
     "name": "stdout",
     "output_type": "stream",
     "text": [
      "PERFORM WALD TESTING\n",
      "PERFORM LIKELYHOOD RATION TESTING\n",
      "EXPORT RESULTS\n",
      "### ANALYSING GM12878 SAMPLE ###\n",
      "IMPORT AND SELECT THE SAMPLES\n",
      "[1] \"ENCSR000COR_GM12878_cytosol_2\" \"ENCSR000CPO_GM12878_nucleus_1\"\n",
      "[3] \"ENCSR000CPO_GM12878_nucleus_2\" \"ENCSR000COR_GM12878_cytosol_1\"\n",
      "IMPORT THE GENE INFORMATIONS\n",
      "PREPARE THE DATA FOR SLEUTH\n"
     ]
    },
    {
     "name": "stderr",
     "output_type": "stream",
     "text": [
      "reading in kallisto results\n",
      "....\n",
      "normalizing est_counts\n",
      "106628 targets passed the filter\n",
      "normalizing tpm\n",
      "merging in metadata\n",
      "normalizing bootstrap samples\n",
      "summarizing bootstraps\n"
     ]
    },
    {
     "name": "stdout",
     "output_type": "stream",
     "text": [
      "FIT TO FULL MODEL\n"
     ]
    },
    {
     "name": "stderr",
     "output_type": "stream",
     "text": [
      "shrinkage estimation\n",
      "computing variance of betas\n"
     ]
    },
    {
     "name": "stdout",
     "output_type": "stream",
     "text": [
      "FIT TO REDUCED MODEL\n"
     ]
    },
    {
     "name": "stderr",
     "output_type": "stream",
     "text": [
      "shrinkage estimation\n",
      "computing variance of betas\n"
     ]
    },
    {
     "name": "stdout",
     "output_type": "stream",
     "text": [
      "PERFORM WALD TESTING\n",
      "PERFORM LIKELYHOOD RATION TESTING\n",
      "EXPORT RESULTS\n",
      "### ANALYSING HeLa-S3 SAMPLE ###\n",
      "IMPORT AND SELECT THE SAMPLES\n",
      "[1] \"ENCSR000CPQ_HeLa-S3_nucleus_2\" \"ENCSR000CPP_HeLa-S3_cytosol_1\"\n",
      "[3] \"ENCSR000CPP_HeLa-S3_cytosol_2\" \"ENCSR000CPQ_HeLa-S3_nucleus_1\"\n",
      "IMPORT THE GENE INFORMATIONS\n",
      "PREPARE THE DATA FOR SLEUTH\n"
     ]
    },
    {
     "name": "stderr",
     "output_type": "stream",
     "text": [
      "reading in kallisto results\n",
      "....\n",
      "normalizing est_counts\n",
      "97454 targets passed the filter\n",
      "normalizing tpm\n",
      "merging in metadata\n",
      "normalizing bootstrap samples\n",
      "summarizing bootstraps\n"
     ]
    },
    {
     "name": "stdout",
     "output_type": "stream",
     "text": [
      "FIT TO FULL MODEL\n"
     ]
    },
    {
     "name": "stderr",
     "output_type": "stream",
     "text": [
      "shrinkage estimation\n",
      "computing variance of betas\n"
     ]
    },
    {
     "name": "stdout",
     "output_type": "stream",
     "text": [
      "FIT TO REDUCED MODEL\n"
     ]
    },
    {
     "name": "stderr",
     "output_type": "stream",
     "text": [
      "shrinkage estimation\n",
      "computing variance of betas\n"
     ]
    },
    {
     "name": "stdout",
     "output_type": "stream",
     "text": [
      "PERFORM WALD TESTING\n",
      "PERFORM LIKELYHOOD RATION TESTING\n",
      "EXPORT RESULTS\n",
      "### ANALYSING HepG2 SAMPLE ###\n",
      "IMPORT AND SELECT THE SAMPLES\n",
      "[1] \"ENCSR000CPC_HepG2_nucleus_1\" \"ENCSR000CPF_HepG2_cytosol_2\"\n",
      "[3] \"ENCSR000CPF_HepG2_cytosol_1\" \"ENCSR000CPC_HepG2_nucleus_2\"\n",
      "IMPORT THE GENE INFORMATIONS\n",
      "PREPARE THE DATA FOR SLEUTH\n"
     ]
    },
    {
     "name": "stderr",
     "output_type": "stream",
     "text": [
      "reading in kallisto results\n",
      "....\n",
      "normalizing est_counts\n",
      "99170 targets passed the filter\n",
      "normalizing tpm\n",
      "merging in metadata\n",
      "normalizing bootstrap samples\n",
      "summarizing bootstraps\n"
     ]
    },
    {
     "name": "stdout",
     "output_type": "stream",
     "text": [
      "FIT TO FULL MODEL\n"
     ]
    },
    {
     "name": "stderr",
     "output_type": "stream",
     "text": [
      "shrinkage estimation\n",
      "computing variance of betas\n"
     ]
    },
    {
     "name": "stdout",
     "output_type": "stream",
     "text": [
      "FIT TO REDUCED MODEL\n"
     ]
    },
    {
     "name": "stderr",
     "output_type": "stream",
     "text": [
      "shrinkage estimation\n",
      "computing variance of betas\n"
     ]
    },
    {
     "name": "stdout",
     "output_type": "stream",
     "text": [
      "PERFORM WALD TESTING\n",
      "PERFORM LIKELYHOOD RATION TESTING\n",
      "EXPORT RESULTS\n",
      "### ANALYSING HUVEC SAMPLE ###\n",
      "IMPORT AND SELECT THE SAMPLES\n",
      "[1] \"ENCSR000CPA_HUVEC_cytosol_1\" \"ENCSR000CPA_HUVEC_cytosol_2\"\n",
      "[3] \"ENCSR000CPB_HUVEC_nucleus_1\" \"ENCSR000CPB_HUVEC_nucleus_2\"\n",
      "IMPORT THE GENE INFORMATIONS\n",
      "PREPARE THE DATA FOR SLEUTH\n"
     ]
    },
    {
     "name": "stderr",
     "output_type": "stream",
     "text": [
      "reading in kallisto results\n",
      "....\n",
      "normalizing est_counts\n",
      "106855 targets passed the filter\n",
      "normalizing tpm\n",
      "merging in metadata\n",
      "normalizing bootstrap samples\n",
      "summarizing bootstraps\n"
     ]
    },
    {
     "name": "stdout",
     "output_type": "stream",
     "text": [
      "FIT TO FULL MODEL\n"
     ]
    },
    {
     "name": "stderr",
     "output_type": "stream",
     "text": [
      "shrinkage estimation\n",
      "computing variance of betas\n"
     ]
    },
    {
     "name": "stdout",
     "output_type": "stream",
     "text": [
      "FIT TO REDUCED MODEL\n"
     ]
    },
    {
     "name": "stderr",
     "output_type": "stream",
     "text": [
      "shrinkage estimation\n",
      "computing variance of betas\n"
     ]
    },
    {
     "name": "stdout",
     "output_type": "stream",
     "text": [
      "PERFORM WALD TESTING\n",
      "PERFORM LIKELYHOOD RATION TESTING\n",
      "EXPORT RESULTS\n",
      "### ANALYSING K562 SAMPLE ###\n",
      "IMPORT AND SELECT THE SAMPLES\n",
      "[1] \"ENCSR000COK_K562_cytosol_1\" \"ENCSR000CPS_K562_nucleus_1\"\n",
      "[3] \"ENCSR000CPS_K562_nucleus_2\" \"ENCSR000COK_K562_cytosol_2\"\n",
      "IMPORT THE GENE INFORMATIONS\n",
      "PREPARE THE DATA FOR SLEUTH\n"
     ]
    },
    {
     "name": "stderr",
     "output_type": "stream",
     "text": [
      "reading in kallisto results\n",
      "....\n",
      "normalizing est_counts\n",
      "99659 targets passed the filter\n",
      "normalizing tpm\n",
      "merging in metadata\n",
      "normalizing bootstrap samples\n",
      "summarizing bootstraps\n"
     ]
    },
    {
     "name": "stdout",
     "output_type": "stream",
     "text": [
      "FIT TO FULL MODEL\n"
     ]
    },
    {
     "name": "stderr",
     "output_type": "stream",
     "text": [
      "shrinkage estimation\n",
      "computing variance of betas\n"
     ]
    },
    {
     "name": "stdout",
     "output_type": "stream",
     "text": [
      "FIT TO REDUCED MODEL\n"
     ]
    },
    {
     "name": "stderr",
     "output_type": "stream",
     "text": [
      "shrinkage estimation\n",
      "computing variance of betas\n"
     ]
    },
    {
     "name": "stdout",
     "output_type": "stream",
     "text": [
      "PERFORM WALD TESTING\n",
      "PERFORM LIKELYHOOD RATION TESTING\n",
      "EXPORT RESULTS\n",
      "### ANALYSING MCF-7 SAMPLE ###\n",
      "IMPORT AND SELECT THE SAMPLES\n",
      "[1] \"ENCSR000CTO_MCF-7_nucleus_2\" \"ENCSR000CTU_MCF-7_cytosol_1\"\n",
      "[3] \"ENCSR000CTU_MCF-7_cytosol_2\" \"ENCSR000CTO_MCF-7_nucleus_1\"\n",
      "IMPORT THE GENE INFORMATIONS\n",
      "PREPARE THE DATA FOR SLEUTH\n"
     ]
    },
    {
     "name": "stderr",
     "output_type": "stream",
     "text": [
      "reading in kallisto results\n",
      "....\n",
      "normalizing est_counts\n",
      "106020 targets passed the filter\n",
      "normalizing tpm\n",
      "merging in metadata\n",
      "normalizing bootstrap samples\n",
      "summarizing bootstraps\n"
     ]
    },
    {
     "name": "stdout",
     "output_type": "stream",
     "text": [
      "FIT TO FULL MODEL\n"
     ]
    },
    {
     "name": "stderr",
     "output_type": "stream",
     "text": [
      "shrinkage estimation\n",
      "computing variance of betas\n"
     ]
    },
    {
     "name": "stdout",
     "output_type": "stream",
     "text": [
      "FIT TO REDUCED MODEL\n"
     ]
    },
    {
     "name": "stderr",
     "output_type": "stream",
     "text": [
      "shrinkage estimation\n",
      "computing variance of betas\n"
     ]
    },
    {
     "name": "stdout",
     "output_type": "stream",
     "text": [
      "PERFORM WALD TESTING\n",
      "PERFORM LIKELYHOOD RATION TESTING\n",
      "EXPORT RESULTS\n",
      "### ANALYSING NHEK SAMPLE ###\n",
      "IMPORT AND SELECT THE SAMPLES\n",
      "[1] \"ENCSR000CPK_NHEK_cytosol_1\" \"ENCSR000CPJ_NHEK_nucleus_1\"\n",
      "[3] \"ENCSR000CPJ_NHEK_nucleus_2\" \"ENCSR000CPK_NHEK_cytosol_2\"\n",
      "IMPORT THE GENE INFORMATIONS\n",
      "PREPARE THE DATA FOR SLEUTH\n"
     ]
    },
    {
     "name": "stderr",
     "output_type": "stream",
     "text": [
      "reading in kallisto results\n",
      "....\n",
      "normalizing est_counts\n",
      "98509 targets passed the filter\n",
      "normalizing tpm\n",
      "merging in metadata\n",
      "normalizing bootstrap samples\n",
      "summarizing bootstraps\n"
     ]
    },
    {
     "name": "stdout",
     "output_type": "stream",
     "text": [
      "FIT TO FULL MODEL\n"
     ]
    },
    {
     "name": "stderr",
     "output_type": "stream",
     "text": [
      "shrinkage estimation\n",
      "computing variance of betas\n"
     ]
    },
    {
     "name": "stdout",
     "output_type": "stream",
     "text": [
      "FIT TO REDUCED MODEL\n"
     ]
    },
    {
     "name": "stderr",
     "output_type": "stream",
     "text": [
      "shrinkage estimation\n",
      "computing variance of betas\n"
     ]
    },
    {
     "name": "stdout",
     "output_type": "stream",
     "text": [
      "PERFORM WALD TESTING\n",
      "PERFORM LIKELYHOOD RATION TESTING\n",
      "EXPORT RESULTS\n",
      "### ANALYSING SK-N-SH SAMPLE ###\n",
      "IMPORT AND SELECT THE SAMPLES\n",
      "[1] \"ENCSR000CTR_SK-N-SH_cytosol_1\" \"ENCSR000CTR_SK-N-SH_cytosol_2\"\n",
      "[3] \"ENCSR000CTS_SK-N-SH_nucleus_1\" \"ENCSR000CTS_SK-N-SH_nucleus_2\"\n",
      "IMPORT THE GENE INFORMATIONS\n",
      "PREPARE THE DATA FOR SLEUTH\n"
     ]
    },
    {
     "name": "stderr",
     "output_type": "stream",
     "text": [
      "reading in kallisto results\n",
      "....\n",
      "normalizing est_counts\n",
      "115087 targets passed the filter\n",
      "normalizing tpm\n",
      "merging in metadata\n",
      "normalizing bootstrap samples\n",
      "summarizing bootstraps\n"
     ]
    },
    {
     "name": "stdout",
     "output_type": "stream",
     "text": [
      "FIT TO FULL MODEL\n"
     ]
    },
    {
     "name": "stderr",
     "output_type": "stream",
     "text": [
      "shrinkage estimation\n",
      "computing variance of betas\n"
     ]
    },
    {
     "name": "stdout",
     "output_type": "stream",
     "text": [
      "FIT TO REDUCED MODEL\n"
     ]
    },
    {
     "name": "stderr",
     "output_type": "stream",
     "text": [
      "shrinkage estimation\n",
      "computing variance of betas\n"
     ]
    },
    {
     "name": "stdout",
     "output_type": "stream",
     "text": [
      "PERFORM WALD TESTING\n",
      "PERFORM LIKELYHOOD RATION TESTING\n",
      "EXPORT RESULTS"
     ]
    }
   ],
   "source": [
    "transcript_info = \"../../Reference_Genomes/gencode_v24_lncRNA_transcripts_info.tsv\"\n",
    "kallisto_dir = \"./Localisation_Original_Datasets/Djebali-ENCODE/kallisto\"\n",
    "sleuth_dir = \"./Localisation_Original_Datasets/Djebali-ENCODE/sleuth/\"\n",
    "subdir_list = c(\"allRNA_ERCC\",\"allRNA\") # \"lncRNA_ERCC\",\"lncRNA\" \n",
    "select_col = \"cell_type\"\n",
    "de_col = \"localization + replicate\"\n",
    "beta_factor_list = c('localizationnucleus', 'replicate')\n",
    "select_val_list = c(\"IMR-90\",\"A549\",\"GM12878\",\"HeLa-S3\",\"HepG2\",\"HUVEC\",\"K562\",\"MCF-7\",\"NHEK\",\"SK-N-SH\")\n",
    "\n",
    "for (subdir in subdir_list) {\n",
    "    sample_list = file.path(kallisto_dir, subdir, \"list_file.tsv\")\n",
    "    outdir = file.path(sleuth_dir, subdir)\n",
    "    cat (paste(c(\"\\n########## ANALYSING\", subdir, \"DATAGROUP ##########\\n\"), collapse=\" \"))\n",
    "    for (select_val in select_val_list){\n",
    "        cat (paste(c(\"\\n### ANALYSING\", select_val, \"SAMPLE ###\\n\"), collapse=\" \"))\n",
    "        sleuth_analysis (sample_list, transcript_info, select_col, select_val, de_col, beta_factor_list, outdir, max_bootstrap=100)\n",
    "    }\n",
    "}"
   ]
  },
  {
   "cell_type": "code",
   "execution_count": null,
   "metadata": {
    "collapsed": false,
    "scrolled": false
   },
   "outputs": [],
   "source": [
    "# start a shinny web server to explore the data\n",
    "so = readRDS(\"./Localisation_Original_Datasets/Djebali-ENCODE/sleuth/lncRNA_ERCC//HepG2//DE_Sleuth.rds\")\n",
    "sleuth_live(so)"
   ]
  },
  {
   "cell_type": "markdown",
   "metadata": {},
   "source": [
    "**This is working OK but I will need to find a way to normalize between sample using a method more advanced that the one offered by Sleuth. In addition the transcript for the ERCC spike need to be used for this normalisation but removed from the final analysis.Finally I have to include the gene level analysis if I want to compare with the other methods at some point. The analysis could be a little long and needs more CPU and RAM that what is available on my laptop so I will probably have to write a small R script to run it on the cluster at the end of the day** "
   ]
  },
  {
   "cell_type": "markdown",
   "metadata": {
    "collapsed": true
   },
   "source": []
  },
  {
   "cell_type": "code",
   "execution_count": 4,
   "metadata": {
    "collapsed": false,
    "scrolled": false
   },
   "outputs": [
    {
     "name": "stdout",
     "output_type": "stream",
     "text": [
      "target_id\tlength\teff_length\test_counts\ttpm\n",
      "ENST00000456328.2\t1657\t1491.17\t115.141\t0.605318\n",
      "ENST00000450305.2\t632\t431.916\t1.20906\t0.0219447\n",
      "ENST00000488147.1\t1351\t1279.26\t3423.65\t20.9803\n",
      "ENST00000619216.1\t68\t21.4314\t0\t0\n",
      "ENST00000473358.1\t712\t506.743\t13.1749\t0.203818\n",
      "ENST00000469289.1\t535\t255.9\t35.6123\t1.09096\n",
      "ENST00000607096.1\t138\t61.9962\t0\t0\n",
      "ENST00000417324.1\t1187\t866.272\t0\t0\n",
      "ENST00000461467.1\t590\t310.865\t0\t0\n",
      "\n"
     ]
    }
   ],
   "source": [
    "head(\"./Localisation_Original_Datasets/Djebali-ENCODE/kallisto/allRNA_ERCC/ENCSR000COK_K562_cytosol_1/abundance.tsv\")"
   ]
  },
  {
   "cell_type": "code",
   "execution_count": 5,
   "metadata": {
    "collapsed": false
   },
   "outputs": [
    {
     "data": {
      "text/html": [
       "<div>\n",
       "<table border=\"1\" class=\"dataframe\">\n",
       "  <thead>\n",
       "    <tr style=\"text-align: right;\">\n",
       "      <th></th>\n",
       "      <th>cell</th>\n",
       "      <th>concentration</th>\n",
       "      <th>eff_length</th>\n",
       "      <th>est_counts</th>\n",
       "      <th>gencode_ID</th>\n",
       "      <th>length</th>\n",
       "      <th>localization</th>\n",
       "      <th>replicate</th>\n",
       "      <th>tpm</th>\n",
       "      <th>transcript_id</th>\n",
       "    </tr>\n",
       "  </thead>\n",
       "  <tbody>\n",
       "    <tr>\n",
       "      <th>0</th>\n",
       "      <td>K562</td>\n",
       "      <td>5.19000</td>\n",
       "      <td>994.209</td>\n",
       "      <td>65924.0</td>\n",
       "      <td>ENCSR000COK</td>\n",
       "      <td>1061</td>\n",
       "      <td>cytosol</td>\n",
       "      <td>1</td>\n",
       "      <td>519.812000</td>\n",
       "      <td>ERCC-00002</td>\n",
       "    </tr>\n",
       "    <tr>\n",
       "      <th>1</th>\n",
       "      <td>K562</td>\n",
       "      <td>0.52200</td>\n",
       "      <td>617.053</td>\n",
       "      <td>6266.0</td>\n",
       "      <td>ENCSR000COK</td>\n",
       "      <td>1023</td>\n",
       "      <td>cytosol</td>\n",
       "      <td>1</td>\n",
       "      <td>79.606500</td>\n",
       "      <td>ERCC-00003</td>\n",
       "    </tr>\n",
       "    <tr>\n",
       "      <th>2</th>\n",
       "      <td>K562</td>\n",
       "      <td>0.00444</td>\n",
       "      <td>243.916</td>\n",
       "      <td>10.0</td>\n",
       "      <td>ENCSR000COK</td>\n",
       "      <td>523</td>\n",
       "      <td>cytosol</td>\n",
       "      <td>1</td>\n",
       "      <td>0.321396</td>\n",
       "      <td>ERCC-00004</td>\n",
       "    </tr>\n",
       "    <tr>\n",
       "      <th>3</th>\n",
       "      <td>K562</td>\n",
       "      <td>0.14200</td>\n",
       "      <td>793.619</td>\n",
       "      <td>6370.0</td>\n",
       "      <td>ENCSR000COK</td>\n",
       "      <td>1135</td>\n",
       "      <td>cytosol</td>\n",
       "      <td>1</td>\n",
       "      <td>62.922800</td>\n",
       "      <td>ERCC-00007</td>\n",
       "    </tr>\n",
       "    <tr>\n",
       "      <th>4</th>\n",
       "      <td>K562</td>\n",
       "      <td>0.21200</td>\n",
       "      <td>696.51</td>\n",
       "      <td>33800.0</td>\n",
       "      <td>ENCSR000COK</td>\n",
       "      <td>984</td>\n",
       "      <td>cytosol</td>\n",
       "      <td>1</td>\n",
       "      <td>380.426000</td>\n",
       "      <td>ERCC-00009</td>\n",
       "    </tr>\n",
       "  </tbody>\n",
       "</table>\n",
       "</div>"
      ],
      "text/plain": [
       "   cell  concentration eff_length  est_counts   gencode_ID length  \\\n",
       "0  K562        5.19000    994.209     65924.0  ENCSR000COK   1061   \n",
       "1  K562        0.52200    617.053      6266.0  ENCSR000COK   1023   \n",
       "2  K562        0.00444    243.916        10.0  ENCSR000COK    523   \n",
       "3  K562        0.14200    793.619      6370.0  ENCSR000COK   1135   \n",
       "4  K562        0.21200     696.51     33800.0  ENCSR000COK    984   \n",
       "\n",
       "  localization  replicate         tpm transcript_id  \n",
       "0      cytosol          1  519.812000    ERCC-00002  \n",
       "1      cytosol          1   79.606500    ERCC-00003  \n",
       "2      cytosol          1    0.321396    ERCC-00004  \n",
       "3      cytosol          1   62.922800    ERCC-00007  \n",
       "4      cytosol          1  380.426000    ERCC-00009  "
      ]
     },
     "execution_count": 5,
     "metadata": {},
     "output_type": "execute_result"
    }
   ],
   "source": [
    "from collections import OrderedDict\n",
    "import pandas as pd\n",
    "\n",
    "# Read the concentration data from the ERCC\n",
    "ERCC_dict = {}\n",
    "ERCC_conc = \"./Localisation_Original_Datasets/Djebali-ENCODE/Protocol_info/NistPool14Concentrations.tsv\"\n",
    "with open (ERCC_conc, \"r\") as fp:\n",
    "    for line in fp:\n",
    "        sl = line.split()\n",
    "        if sl[0] != \"#\":\n",
    "            ERCC_dict[sl[0]] = sl[1]\n",
    "            \n",
    "# Parse the kallisto tsv files containing the tpm results and extract the tpm and the est values\n",
    "# Build a flat dict table containing all the data indexed by number\n",
    "ERCC_association = []\n",
    "basedir = \"./Localisation_Original_Datasets/Djebali-ENCODE/kallisto/allRNA_ERCC\"\n",
    "for subdir in sorted([path for path in glob(basedir+\"/*\") if isdir(path)]):\n",
    "    sample_name = basename(subdir)\n",
    "    for line in open (subdir+\"/abundance.tsv\", \"r\"):\n",
    "        sl = line.split()\n",
    "        if sl[0] in ERCC_dict:\n",
    "            ERCC_association.append({\n",
    "                    \"gencode_ID\":sample_name.split(\"_\")[0],\n",
    "                    \"cell\":sample_name.split(\"_\")[1],\n",
    "                    \"localization\":sample_name.split(\"_\")[2],\n",
    "                    \"replicate\":int(sample_name.split(\"_\")[3]),\n",
    "                    \"transcript_id\":sl[0],\n",
    "                    \"concentration\":float(ERCC_dict[sl[0]])*100000,\n",
    "                    \"length\":sl[1],\n",
    "                    \"eff_length\":sl[2],\n",
    "                    \"est_counts\":float(sl[3]),\n",
    "                    \"tpm\":float(sl[4]),\n",
    "                })\n",
    "\n",
    "# Transform into a panda dataframe\n",
    "df = pd.DataFrame(ERCC_association)\n",
    "df.head()"
   ]
  },
  {
   "cell_type": "code",
   "execution_count": 7,
   "metadata": {
    "collapsed": false,
    "scrolled": false
   },
   "outputs": [
    {
     "data": {
      "text/plain": [
       "<seaborn.axisgrid.FacetGrid at 0x7fa6116c7cc0>"
      ]
     },
     "execution_count": 7,
     "metadata": {},
     "output_type": "execute_result"
    },
    {
     "data": {
      "image/png": "[encoded data removed]",
      "text/plain": [
       "<matplotlib.figure.Figure at 0x7fa60efc64a8>"
      ]
     },
     "metadata": {},
     "output_type": "display_data"
    }
   ],
   "source": [
    "grid = sns.FacetGrid(df, row=\"cell\", col=\"localization\",  hue=\"length\",  margin_titles=True)\n",
    "grid.map(plt.scatter, \"concentration\", \"tpm\", edgecolor=\"w\")\n",
    "grid.add_legend()\n",
    "\n",
    "# Adjust the tick positions and labels\n",
    "grid.set(xticks=np.arange(5), yticks=[-3, 3], xlim=(-.5, 4.5), ylim=(-3.5, 3.5))\n",
    "\n",
    "# Adjust the arrangement of the plots\n",
    "grid.fig.tight_layout(w_pad=1)"
   ]
  },
  {
   "cell_type": "code",
   "execution_count": null,
   "metadata": {
    "collapsed": true,
    "scrolled": false
   },
   "outputs": [],
   "source": []
  },
  {
   "cell_type": "code",
   "execution_count": null,
   "metadata": {
    "collapsed": true,
    "scrolled": false
   },
   "outputs": [],
   "source": []
  },
  {
   "cell_type": "code",
   "execution_count": null,
   "metadata": {
    "collapsed": true,
    "scrolled": false
   },
   "outputs": [],
   "source": []
  },
  {
   "cell_type": "code",
   "execution_count": null,
   "metadata": {
    "collapsed": true,
    "scrolled": false
   },
   "outputs": [],
   "source": []
  },
  {
   "cell_type": "code",
   "execution_count": null,
   "metadata": {
    "collapsed": true,
    "scrolled": false
   },
   "outputs": [],
   "source": []
  }
 ],
 "metadata": {
  "kernelspec": {
   "display_name": "Python 3",
   "language": "python",
   "name": "python3"
  },
  "language_info": {
   "codemirror_mode": {
    "name": "ipython",
    "version": 3
   },
   "file_extension": ".py",
   "mimetype": "text/x-python",
   "name": "python",
   "nbconvert_exporter": "python",
   "pygments_lexer": "ipython3",
   "version": "3.5.1+"
  }
 },
 "nbformat": 4,
 "nbformat_minor": 0
}
