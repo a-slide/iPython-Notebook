{
 "cells": [
  {
   "cell_type": "markdown",
   "metadata": {},
   "source": [
    "# Sample a fasta file while introducing mutations in DNA sequences"
   ]
  },
  {
   "cell_type": "code",
   "execution_count": 2,
   "metadata": {
    "collapsed": true
   },
   "outputs": [],
   "source": [
    "from random import randint, uniform, choice\n",
    "from Bio import SeqIO"
   ]
  },
  {
   "cell_type": "markdown",
   "metadata": {},
   "source": [
    "Simple function introducting mutations in a sequence (lower bases) at a given frequency"
   ]
  },
  {
   "cell_type": "code",
   "execution_count": 3,
   "metadata": {
    "collapsed": true
   },
   "outputs": [],
   "source": [
    "def mutate_seq (seq, freq):\n",
    "    str= \"\"                                                    \n",
    "    for i in seq:\n",
    "        if uniform(0,1) <= freq:                                                 \n",
    "            str+=choice([b for b in [\"a\",\"t\",\"c\",\"g\"] if b != i.lower()])\n",
    "        else:                                                  \n",
    "            str+=i.upper()\n",
    "    return str"
   ]
  },
  {
   "cell_type": "code",
   "execution_count": 4,
   "metadata": {
    "collapsed": false
   },
   "outputs": [
    {
     "data": {
      "text/plain": [
       "'tTCaATatgTAGCATGCATCGTCtCATaCTCGcTCAGCTAGCgGCATCAGCTcGCTGCATCgGTCA'"
      ]
     },
     "execution_count": 4,
     "metadata": {},
     "output_type": "execute_result"
    }
   ],
   "source": [
    "mutate_seq (\"CTCGATCGCTAGCATGCATCGTCGCATGCTCGATCAGCTAGCAGCATCAGCTAGCTGCATCAGTCA\", 0.1)"
   ]
  },
  {
   "cell_type": "markdown",
   "metadata": {},
   "source": [
    "Example from a test dataset on the forward on reverse strand with increasing frequency of mutations"
   ]
  },
  {
   "cell_type": "code",
   "execution_count": 5,
   "metadata": {
    "collapsed": true
   },
   "outputs": [],
   "source": [
    "a = SeqIO.read(\"./data/test.fa\", \"fasta\")"
   ]
  },
  {
   "cell_type": "code",
   "execution_count": 6,
   "metadata": {
    "collapsed": true
   },
   "outputs": [],
   "source": [
    "with open (\"./data/sample.fa\", \"w\") as fp:\n",
    "    for i in range(1, 51):\n",
    "        fp.write(\">query_{:03d}%_mutation_forward\\n\".format(i))\n",
    "        start = randint (0, len(a.seq)-100)\n",
    "        fp.write(\"{}\\n\".format(mutate_seq(str(a.seq)[start:start+100], i/100.0)))\n",
    "    for i in range(1, 51):\n",
    "        fp.write(\">query_{:03d}%_mutation_reverse\\n\".format(i))\n",
    "        start = randint (0, len(a.seq)-100)\n",
    "        fp.write(\"{}\\n\".format(mutate_seq(str(a.seq.reverse_complement())[start:start+100], i/100.0)))"
   ]
  }
 ],
 "metadata": {
  "kernelspec": {
   "display_name": "Python 2",
   "language": "python",
   "name": "python2"
  },
  "language_info": {
   "codemirror_mode": {
    "name": "ipython",
    "version": 2
   },
   "file_extension": ".py",
   "mimetype": "text/x-python",
   "name": "python",
   "nbconvert_exporter": "python",
   "pygments_lexer": "ipython2",
   "version": "2.7.5+"
  }
 },
 "nbformat": 4,
 "nbformat_minor": 0
}
