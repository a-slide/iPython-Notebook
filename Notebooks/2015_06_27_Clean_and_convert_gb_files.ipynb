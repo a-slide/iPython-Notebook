{
 "cells": [
  {
   "cell_type": "markdown",
   "metadata": {},
   "source": [
    "# Clean and convert gb files for RNAseq analyses"
   ]
  },
  {
   "cell_type": "code",
   "execution_count": 24,
   "metadata": {
    "collapsed": true
   },
   "outputs": [],
   "source": [
    "from Bio import SeqIO, Seq\n",
    "import gzip\n",
    "from os import listdir"
   ]
  },
  {
   "cell_type": "markdown",
   "metadata": {},
   "source": [
    "**Create fasta files**"
   ]
  },
  {
   "cell_type": "code",
   "execution_count": 29,
   "metadata": {
    "collapsed": false
   },
   "outputs": [
    {
     "name": "stdout",
     "output_type": "stream",
     "text": [
      "('before', 'W')\n",
      "('before', 'M')\n",
      "('before', 'R')\n",
      "('before', 'K')\n",
      "('before', 'R')\n",
      "('before', 'W')\n",
      "('before', 'M')\n",
      "('before', 'R')\n",
      "('before', 'K')\n",
      "('before', 'R')\n",
      "('before', 'W')\n",
      "('before', 'M')\n",
      "('before', 'R')\n",
      "('before', 'K')\n",
      "('before', 'R')\n",
      "('before', 'W')\n",
      "('before', 'M')\n",
      "('before', 'R')\n",
      "('before', 'K')\n",
      "('before', 'R')\n",
      "('before', 'W')\n",
      "('before', 'M')\n",
      "('before', 'R')\n",
      "('before', 'K')\n",
      "('before', 'R')\n",
      "('before', 'W')\n",
      "('before', 'M')\n",
      "('before', 'R')\n",
      "('before', 'K')\n",
      "('before', 'R')\n"
     ]
    }
   ],
   "source": [
    "for file in listdir(\"./\"):\n",
    "    if file[-2:] == \"gb\":\n",
    "        record = SeqIO.read(file, \"genbank\")\n",
    "        record.id = record.name\n",
    "        record.name = \"\"\n",
    "        clean_seq = \"\"\n",
    "                \n",
    "        for i in record.seq:\n",
    "            if i.upper() not in [\"A\",\"T\",\"C\",\"G\",\"N\"]:\n",
    "                clean_seq += \"N\"\n",
    "                print (\"before\" , i)\n",
    "            else:\n",
    "                clean_seq += i\n",
    "                \n",
    "        a = Seq.Seq(clean_seq)\n",
    "        record.seq = a\n",
    "        for i in record.seq:\n",
    "            if i.upper() not in [\"A\",\"T\",\"C\",\"G\",\"N\"]:\n",
    "                print (\"after\" , i)\n",
    "                    \n",
    "        with open(file[:-3]+\".fa\", \"wb\") as fasta:\n",
    "            fasta.write(record.format(\"fasta\"))"
   ]
  },
  {
   "cell_type": "markdown",
   "metadata": {},
   "source": [
    "**Create gff files**"
   ]
  },
  {
   "cell_type": "code",
   "execution_count": 30,
   "metadata": {
    "collapsed": false
   },
   "outputs": [],
   "source": [
    "for file in listdir(\"./\"):\n",
    "    if file[-2:] == \"gb\":\n",
    "        record = SeqIO.read(file, \"genbank\")\n",
    "        record.id = record.name\n",
    "        record.name = \"\"\n",
    "        with open(file[:-3]+\".gtf\", \"wb\") as gtf:\n",
    "       \n",
    "            # Parse the features in the records\n",
    "            if hasattr(record, 'features'):\n",
    "                for feature in record.features:\n",
    "                    if feature.type in [\"CDS\", \"mRNA\", \"exon\"]:\n",
    "\n",
    "                        # Try several alternative key for feature name else use unknown\n",
    "                        gene_name = \"unknown\"\n",
    "                        for qualifier in ['gene', 'note', 'locus_tag', 'label']:\n",
    "                            if qualifier in feature.qualifiers:\n",
    "                                gene_name = feature.qualifiers[qualifier][0]\n",
    "                                if gene_name[:3] == \"CDS\":\n",
    "                                    gene_name = gene_name.split(\"(\")[1].split(\")\")[0]\n",
    "                                break\n",
    "                        \n",
    "                        # Clean names\n",
    "                        gene_name = str(gene_name.decode('ascii', 'ignore')).replace(\" \", \"_\").replace(\"/\", \"_\")\n",
    "\n",
    "                        # <seqname> <source> <feature> <start> <end> <score> <strand> <frame> [attributes] [comments]\n",
    "                        gtf.write(\"{}\\t{}\\t{}\\t{}\\t{}\\t{}\\t{}\\t{}\\t{} \\\"{}\\\"\\n\".format(\n",
    "                            record.id,\n",
    "                            \"Bacculo_RNAseq\",\n",
    "                            \"exon\",\n",
    "                            feature.location.start.position,\n",
    "                            feature.location.end.position,\n",
    "                            '.',\n",
    "                            '-' if feature.strand < 0 else '+',\n",
    "                            '.',\n",
    "                            'gene_id',\n",
    "                            gene_name\n",
    "                            ))\n"
   ]
  },
  {
   "cell_type": "markdown",
   "metadata": {},
   "source": [
    "**Create bed files**"
   ]
  },
  {
   "cell_type": "code",
   "execution_count": 31,
   "metadata": {
    "collapsed": true
   },
   "outputs": [],
   "source": [
    "for file in listdir(\"./\"):\n",
    "    if file[-2:] == \"gb\":\n",
    "        record = SeqIO.read(file, \"genbank\")\n",
    "        record.id = record.name\n",
    "        record.name = \"\"\n",
    "        \n",
    "        with open(file[:-3]+\".bed\", \"wb\") as bed:\n",
    "            bed.write(\"\"\"track name={} description=\"{}\" visibility=2 colorByStrand=\"255,0,0 0,0,255\"\\n\"\"\".format(\n",
    "            record.id,\n",
    "            record.id))\n",
    "            \n",
    "            # Parse the features in the records\n",
    "            if hasattr(record, 'features'):\n",
    "                for feature in record.features:\n",
    "                    if feature.type in [\"CDS\", \"mRNA\", \"exon\"]:\n",
    "\n",
    "                        # Try several alternative key for feature name else use unknown\n",
    "                        gene_name = \"\"\n",
    "                        for qualifier in ['gene', 'note', 'locus_tag', 'label']:\n",
    "                            if qualifier in feature.qualifiers:\n",
    "                                gene_name = feature.qualifiers[qualifier][0]\n",
    "                                if gene_name[:3] == \"CDS\":\n",
    "                                    gene_name = gene_name.split(\"(\")[1].split(\")\")[0]\n",
    "                                break\n",
    "                        \n",
    "                        if gene_name:\n",
    "                            \n",
    "                            # Clean names\n",
    "                            gene_name = str(gene_name.decode('ascii', 'ignore')).replace(\" \", \"_\").replace(\"/\", \"_\")\n",
    "                            \n",
    "                            bed.write(\"{}\\t{}\\t{}\\t{}\\t{}\\t{}\\n\".format(\n",
    "                                record.id,\n",
    "                                feature.location.start.position,\n",
    "                                feature.location.end.position,\n",
    "                                gene_name,\n",
    "                                1000,\n",
    "                                '-' if feature.strand < 0 else '+'))"
   ]
  }
 ],
 "metadata": {
  "kernelspec": {
   "display_name": "Python 2",
   "language": "python",
   "name": "python2"
  },
  "language_info": {
   "codemirror_mode": {
    "name": "ipython",
    "version": 2
   },
   "file_extension": ".py",
   "mimetype": "text/x-python",
   "name": "python",
   "nbconvert_exporter": "python",
   "pygments_lexer": "ipython2",
   "version": "2.7.6"
  }
 },
 "nbformat": 4,
 "nbformat_minor": 0
}
