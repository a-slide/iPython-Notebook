{
 "cells": [
  {
   "cell_type": "code",
   "execution_count": 2,
   "metadata": {
    "collapsed": false
   },
   "outputs": [
    {
     "data": {
      "text/html": [
       "<script>\n",
       "code_show=true; \n",
       "function code_toggle() {\n",
       " if (code_show){\n",
       " $('div.input').hide();\n",
       " } else {\n",
       " $('div.input').show();\n",
       " }\n",
       " code_show = !code_show\n",
       "} \n",
       "$( document ).ready(code_toggle);\n",
       "</script>\n",
       "<b>The raw code for this IPython notebook is by default hidden for easier reading.To toggle on/off the raw code, click <a href=\"javascript:code_toggle()\">here</a></b>"
      ],
      "text/plain": [
       "<IPython.core.display.HTML object>"
      ]
     },
     "execution_count": 2,
     "metadata": {},
     "output_type": "execute_result"
    }
   ],
   "source": [
    "from IPython.display import HTML\n",
    "\n",
    "HTML('''<script>\n",
    "code_show=true; \n",
    "function code_toggle() {\n",
    " if (code_show){\n",
    " $('div.input').hide();\n",
    " } else {\n",
    " $('div.input').show();\n",
    " }\n",
    " code_show = !code_show\n",
    "} \n",
    "$( document ).ready(code_toggle);\n",
    "</script>\n",
    "<b>The raw code for this IPython notebook is by default hidden for easier reading.To toggle on/off the raw code, click <a href=\"javascript:code_toggle()\">here</a></b>''')"
   ]
  },
  {
   "cell_type": "markdown",
   "metadata": {},
   "source": [
    "# Meta Analysis of the Datasets for the Epi² pilot project \n",
    "\n",
    "---\n",
    "# lncRNA interaction with proteins\n",
    "\n",
    "---\n",
    "# PYTHON 3 / R Notebook\n",
    "### Adrien Leger / EMBL EBI\n",
    "### Starting date 18/08/2016"
   ]
  },
  {
   "cell_type": "markdown",
   "metadata": {},
   "source": [
    "---\n",
    "## Import general package and definition of specific functions"
   ]
  },
  {
   "cell_type": "code",
   "execution_count": 1,
   "metadata": {
    "collapsed": false
   },
   "outputs": [
    {
     "data": {
      "text/html": [
       "<style>.container { width:75% !important; }</style>"
      ],
      "text/plain": [
       "<IPython.core.display.HTML object>"
      ]
     },
     "metadata": {},
     "output_type": "display_data"
    }
   ],
   "source": [
    "# Standard lib imports\n",
    "from glob import glob\n",
    "from os import remove\n",
    "\n",
    "# Local lib import\n",
    "import pycl\n",
    "import pyBioPlot as pbl\n",
    "\n",
    "# Third party import\n",
    "import pandas as pd\n",
    "import numpy as np\n",
    "import pylab as pl\n",
    "import seaborn as sns\n",
    "import scipy.stats as stats\n",
    "\n",
    "# Pyplot tweaking\n",
    "%matplotlib inline\n",
    "pl.rcParams['figure.figsize'] = 30, 10  # that's default image size for this interactive session\n",
    "\n",
    "# Larger display \n",
    "from IPython.core.display import display, HTML\n",
    "display(HTML(\"<style>.container { width:75% !important; }</style>\"))\n",
    "\n",
    "# Allow to use R directly\n",
    "%load_ext rpy2.ipython\n",
    "\n",
    "# Simplify warning reporting to lighten the notebook style \n",
    "import warnings\n",
    "warnings.formatwarning=(lambda message, *args: \"{}\\n\".format(message))"
   ]
  },
  {
   "cell_type": "markdown",
   "metadata": {},
   "source": [
    "---\n",
    "## Hendrickson = fRIP with 24 chromatin related protein"
   ]
  },
  {
   "cell_type": "markdown",
   "metadata": {},
   "source": [
    "***Hendrickson D G, DR Kelley, D Tenen, B Bernstein, JL Rinn. Widespread RNA binding by chromatin-associated proteins.. Genome Biol 17, 28 (2016).***\n",
    "\n",
    "- Formaldehyde RNA immunoprecipitation of 24 RPB and chromatin related proteins \n",
    "- Really detaillled and extensive datasets to have transcriptome wide lncRNA interacting with chromatin.\n",
    "- Contain all the list of lncRNA gene significantly enriched in captured factions\n",
    "- Problem = K562 (myelogenous leukemia line) with highly rearranged genomes...\n",
    "    \n",
    "=> The data provided will be hard to analyse and cannnot simply be lifovered\n",
    "\n",
    "=> I would have to re-analign the fastq files at transcript level, compare bound and unbound fractions, call the peaks...\n",
    "\n",
    "I am not sure that this is worth to do it"
   ]
  },
  {
   "cell_type": "markdown",
   "metadata": {},
   "source": [
    "---\n",
    "## Li  / Starbase =  CLIP-Seq data"
   ]
  },
  {
   "cell_type": "markdown",
   "metadata": {},
   "source": [
    "***JH Li, S Liu, LL Zheng, J Wu, WJ Sun, ZL Wang, H Zhou, LH Qu, JH Yang. Discovery of Protein-lncRNA Interactions by Integrating Large-Scale CLIP-Seq and RNA-Seq Datasets.. Front Bioeng Biotechnol 2, 88 (2014).***\n",
    "\n",
    "***JH Li, S Liu, H Zhou, LH Qu, JH Yang. starBase v2.0: decoding miRNA-ceRNA, miRNA-ncRNA and protein-RNA interaction networks from large-scale CLIP-Seq data.. Nucleic Acids Res 42, D92-7 (2014).***\n",
    "\n",
    "- Comprehensive collection of lncRNA protein interaction from \n",
    "- Database dates from 2014 => contain datasets up to 2013 = not up to date.\n",
    "- No specific chromatin protein => have to be crossmatched with protein localization => Done from uniprot = few nuclei pure proteins\n",
    "\n",
    "**Cross-match Protein location Uniprot with data protein/lncRNA database from Starbase**\n",
    "\n",
    "Selection of a limited number of candidate CLIP-Seq datasets based on their localization and the experimental conditions:\n",
    "- Nuclear candidates: ALKBH5, ZC3H7B, FUS, TAF15, hnRNPC, DGCR8, FUS\n",
    "- Cytoplasmic candidates: AGO1, AGO3, AGO4, FXR1, LIN28B, PUM2"
   ]
  },
  {
   "cell_type": "code",
   "execution_count": 70,
   "metadata": {
    "collapsed": false,
    "scrolled": false
   },
   "outputs": [
    {
     "data": {
      "text/html": [
       "<div>\n",
       "<table border=\"1\" class=\"dataframe\">\n",
       "  <thead>\n",
       "    <tr style=\"text-align: right;\">\n",
       "      <th></th>\n",
       "      <th>protein</th>\n",
       "      <th>experiment</th>\n",
       "      <th>cell_line</th>\n",
       "      <th>replicate</th>\n",
       "      <th>treatment</th>\n",
       "      <th>localization</th>\n",
       "      <th>author</th>\n",
       "      <th>accession</th>\n",
       "      <th>filepath</th>\n",
       "    </tr>\n",
       "    <tr>\n",
       "      <th>Dataset name</th>\n",
       "      <th></th>\n",
       "      <th></th>\n",
       "      <th></th>\n",
       "      <th></th>\n",
       "      <th></th>\n",
       "      <th></th>\n",
       "      <th></th>\n",
       "      <th></th>\n",
       "      <th></th>\n",
       "    </tr>\n",
       "  </thead>\n",
       "  <tbody>\n",
       "    <tr>\n",
       "      <th>HPAR1</th>\n",
       "      <td>FXR1</td>\n",
       "      <td>PAR-CLIP</td>\n",
       "      <td>HEK293</td>\n",
       "      <td>1</td>\n",
       "      <td>wildtype FXR1, 4-thiouridine, RNase T1</td>\n",
       "      <td>cytosol</td>\n",
       "      <td>ascano</td>\n",
       "      <td>GSE39682</td>\n",
       "      <td>/home/aleg/Data/Datasets/Epi2_pilot/Protein_in...</td>\n",
       "    </tr>\n",
       "    <tr>\n",
       "      <th>HPTA1</th>\n",
       "      <td>AGO1</td>\n",
       "      <td>PAR-CLIP</td>\n",
       "      <td>HEK293</td>\n",
       "      <td>1</td>\n",
       "      <td>4-thiouridine, RNase T1</td>\n",
       "      <td>cytosol</td>\n",
       "      <td>hafner</td>\n",
       "      <td>GSE21918</td>\n",
       "      <td>/home/aleg/Data/Datasets/Epi2_pilot/Protein_in...</td>\n",
       "    </tr>\n",
       "    <tr>\n",
       "      <th>HPTA3</th>\n",
       "      <td>AGO3</td>\n",
       "      <td>PAR-CLIP</td>\n",
       "      <td>HEK293</td>\n",
       "      <td>1</td>\n",
       "      <td>4-thiouridine, RNase T1</td>\n",
       "      <td>cytosol</td>\n",
       "      <td>hafner</td>\n",
       "      <td>GSE21918</td>\n",
       "      <td>/home/aleg/Data/Datasets/Epi2_pilot/Protein_in...</td>\n",
       "    </tr>\n",
       "    <tr>\n",
       "      <th>HPTA4</th>\n",
       "      <td>AGO4</td>\n",
       "      <td>PAR-CLIP</td>\n",
       "      <td>HEK293</td>\n",
       "      <td>1</td>\n",
       "      <td>4-thiouridine, RNase T1</td>\n",
       "      <td>cytosol</td>\n",
       "      <td>hafner</td>\n",
       "      <td>GSE21918</td>\n",
       "      <td>/home/aleg/Data/Datasets/Epi2_pilot/Protein_in...</td>\n",
       "    </tr>\n",
       "    <tr>\n",
       "      <th>HPTPU</th>\n",
       "      <td>PUM2</td>\n",
       "      <td>PAR-CLIP</td>\n",
       "      <td>HEK293</td>\n",
       "      <td>1</td>\n",
       "      <td>4-thiouridine, RNase T1</td>\n",
       "      <td>cytosol</td>\n",
       "      <td>hafner</td>\n",
       "      <td>GSE21918</td>\n",
       "      <td>/home/aleg/Data/Datasets/Epi2_pilot/Protein_in...</td>\n",
       "    </tr>\n",
       "    <tr>\n",
       "      <th>HPTLB</th>\n",
       "      <td>LIN28B</td>\n",
       "      <td>PAR-CLIP</td>\n",
       "      <td>HEK293</td>\n",
       "      <td>1</td>\n",
       "      <td>4-thiouridine, RNase T1</td>\n",
       "      <td>cytosol</td>\n",
       "      <td>hafner</td>\n",
       "      <td>GSE44615</td>\n",
       "      <td>/home/aleg/Data/Datasets/Epi2_pilot/Protein_in...</td>\n",
       "    </tr>\n",
       "    <tr>\n",
       "      <th>HPRO6</th>\n",
       "      <td>AGO1</td>\n",
       "      <td>PAR-CLIP</td>\n",
       "      <td>HEK293</td>\n",
       "      <td>1</td>\n",
       "      <td>4-thiouridine, ML_MM_6</td>\n",
       "      <td>cytosol</td>\n",
       "      <td>memczak</td>\n",
       "      <td>GSE43573</td>\n",
       "      <td>/home/aleg/Data/Datasets/Epi2_pilot/Protein_in...</td>\n",
       "    </tr>\n",
       "    <tr>\n",
       "      <th>HPRO7</th>\n",
       "      <td>AGO1</td>\n",
       "      <td>PAR-CLIP</td>\n",
       "      <td>HEK293</td>\n",
       "      <td>2</td>\n",
       "      <td>4-thiouridine, ML_MM_7</td>\n",
       "      <td>cytosol</td>\n",
       "      <td>memczak</td>\n",
       "      <td>GSE43573</td>\n",
       "      <td>/home/aleg/Data/Datasets/Epi2_pilot/Protein_in...</td>\n",
       "    </tr>\n",
       "    <tr>\n",
       "      <th>HPRO8</th>\n",
       "      <td>AGO1</td>\n",
       "      <td>PAR-CLIP</td>\n",
       "      <td>HEK293</td>\n",
       "      <td>3</td>\n",
       "      <td>4-thiouridine, ML_MM_8</td>\n",
       "      <td>cytosol</td>\n",
       "      <td>memczak</td>\n",
       "      <td>GSE43573</td>\n",
       "      <td>/home/aleg/Data/Datasets/Epi2_pilot/Protein_in...</td>\n",
       "    </tr>\n",
       "    <tr>\n",
       "      <th>HPLAL</th>\n",
       "      <td>ALKBH5</td>\n",
       "      <td>PAR-CLIP</td>\n",
       "      <td>HEK293</td>\n",
       "      <td>1</td>\n",
       "      <td>4-thiouridine</td>\n",
       "      <td>nucleus</td>\n",
       "      <td>baltz</td>\n",
       "      <td>GSE38201</td>\n",
       "      <td>/home/aleg/Data/Datasets/Epi2_pilot/Protein_in...</td>\n",
       "    </tr>\n",
       "    <tr>\n",
       "      <th>HPLZC</th>\n",
       "      <td>ZC3H7B</td>\n",
       "      <td>PAR-CLIP</td>\n",
       "      <td>HEK293</td>\n",
       "      <td>1</td>\n",
       "      <td>4-thiouridine</td>\n",
       "      <td>nucleus</td>\n",
       "      <td>baltz</td>\n",
       "      <td>GSE38201</td>\n",
       "      <td>/home/aleg/Data/Datasets/Epi2_pilot/Protein_in...</td>\n",
       "    </tr>\n",
       "    <tr>\n",
       "      <th>HPHFW</th>\n",
       "      <td>FUS</td>\n",
       "      <td>PAR-CLIP</td>\n",
       "      <td>HEK293</td>\n",
       "      <td>1</td>\n",
       "      <td>4-thiouridine</td>\n",
       "      <td>nucleus</td>\n",
       "      <td>hoell</td>\n",
       "      <td>SRA025082</td>\n",
       "      <td>/home/aleg/Data/Datasets/Epi2_pilot/Protein_in...</td>\n",
       "    </tr>\n",
       "    <tr>\n",
       "      <th>HPHTA</th>\n",
       "      <td>TAF15</td>\n",
       "      <td>PAR-CLIP</td>\n",
       "      <td>HEK293</td>\n",
       "      <td>1</td>\n",
       "      <td>4-thiouridine</td>\n",
       "      <td>nucleus</td>\n",
       "      <td>hoell</td>\n",
       "      <td>SRA025082</td>\n",
       "      <td>/home/aleg/Data/Datasets/Epi2_pilot/Protein_in...</td>\n",
       "    </tr>\n",
       "    <tr>\n",
       "      <th>HIUHN</th>\n",
       "      <td>hnRNPC</td>\n",
       "      <td>iCLIP</td>\n",
       "      <td>HeLa</td>\n",
       "      <td>1</td>\n",
       "      <td>-</td>\n",
       "      <td>nucleus</td>\n",
       "      <td>konig</td>\n",
       "      <td>SupplementaryData</td>\n",
       "      <td>/home/aleg/Data/Datasets/Epi2_pilot/Protein_in...</td>\n",
       "    </tr>\n",
       "    <tr>\n",
       "      <th>HHCD1</th>\n",
       "      <td>DGCR8</td>\n",
       "      <td>HITS-CLIP</td>\n",
       "      <td>HEK293</td>\n",
       "      <td>1</td>\n",
       "      <td>D8 (endogenous DGCR8), replicate 1</td>\n",
       "      <td>nucleus</td>\n",
       "      <td>macias</td>\n",
       "      <td>GSE39086</td>\n",
       "      <td>/home/aleg/Data/Datasets/Epi2_pilot/Protein_in...</td>\n",
       "    </tr>\n",
       "    <tr>\n",
       "      <th>HHCD2</th>\n",
       "      <td>DGCR8</td>\n",
       "      <td>HITS-CLIP</td>\n",
       "      <td>HEK293</td>\n",
       "      <td>2</td>\n",
       "      <td>D8 (endogenous DGCR8), replicate 2</td>\n",
       "      <td>nucleus</td>\n",
       "      <td>macias</td>\n",
       "      <td>GSE39086</td>\n",
       "      <td>/home/aleg/Data/Datasets/Epi2_pilot/Protein_in...</td>\n",
       "    </tr>\n",
       "    <tr>\n",
       "      <th>HHMF1</th>\n",
       "      <td>FUS</td>\n",
       "      <td>HITS-CLIP</td>\n",
       "      <td>Brain</td>\n",
       "      <td>1</td>\n",
       "      <td>replicate1, RNase T1</td>\n",
       "      <td>nucleus</td>\n",
       "      <td>nakaya</td>\n",
       "      <td>GSE43308</td>\n",
       "      <td>/home/aleg/Data/Datasets/Epi2_pilot/Protein_in...</td>\n",
       "    </tr>\n",
       "    <tr>\n",
       "      <th>HHMF2</th>\n",
       "      <td>FUS</td>\n",
       "      <td>HITS-CLIP</td>\n",
       "      <td>Brain</td>\n",
       "      <td>2</td>\n",
       "      <td>replicate2, RNase T1</td>\n",
       "      <td>nucleus</td>\n",
       "      <td>nakaya</td>\n",
       "      <td>GSE43308</td>\n",
       "      <td>/home/aleg/Data/Datasets/Epi2_pilot/Protein_in...</td>\n",
       "    </tr>\n",
       "    <tr>\n",
       "      <th>HHMF3</th>\n",
       "      <td>FUS</td>\n",
       "      <td>HITS-CLIP</td>\n",
       "      <td>Brain</td>\n",
       "      <td>3</td>\n",
       "      <td>replicate3, RNase T1</td>\n",
       "      <td>nucleus</td>\n",
       "      <td>nakaya</td>\n",
       "      <td>GSE43308</td>\n",
       "      <td>/home/aleg/Data/Datasets/Epi2_pilot/Protein_in...</td>\n",
       "    </tr>\n",
       "    <tr>\n",
       "      <th>HIUHC</th>\n",
       "      <td>hnRNPC</td>\n",
       "      <td>iCLIP</td>\n",
       "      <td>HeLa</td>\n",
       "      <td>1</td>\n",
       "      <td>untreated</td>\n",
       "      <td>nucleus</td>\n",
       "      <td>zarnack</td>\n",
       "      <td>E-MTAB-1371</td>\n",
       "      <td>/home/aleg/Data/Datasets/Epi2_pilot/Protein_in...</td>\n",
       "    </tr>\n",
       "  </tbody>\n",
       "</table>\n",
       "</div>"
      ],
      "text/plain": [
       "             protein experiment cell_line  replicate  \\\n",
       "Dataset name                                           \n",
       "HPAR1           FXR1   PAR-CLIP    HEK293          1   \n",
       "HPTA1           AGO1   PAR-CLIP    HEK293          1   \n",
       "HPTA3           AGO3   PAR-CLIP    HEK293          1   \n",
       "HPTA4           AGO4   PAR-CLIP    HEK293          1   \n",
       "HPTPU           PUM2   PAR-CLIP    HEK293          1   \n",
       "HPTLB         LIN28B   PAR-CLIP    HEK293          1   \n",
       "HPRO6           AGO1   PAR-CLIP    HEK293          1   \n",
       "HPRO7           AGO1   PAR-CLIP    HEK293          2   \n",
       "HPRO8           AGO1   PAR-CLIP    HEK293          3   \n",
       "HPLAL         ALKBH5   PAR-CLIP    HEK293          1   \n",
       "HPLZC         ZC3H7B   PAR-CLIP    HEK293          1   \n",
       "HPHFW            FUS   PAR-CLIP    HEK293          1   \n",
       "HPHTA          TAF15   PAR-CLIP    HEK293          1   \n",
       "HIUHN         hnRNPC      iCLIP      HeLa          1   \n",
       "HHCD1          DGCR8  HITS-CLIP    HEK293          1   \n",
       "HHCD2          DGCR8  HITS-CLIP    HEK293          2   \n",
       "HHMF1            FUS  HITS-CLIP     Brain          1   \n",
       "HHMF2            FUS  HITS-CLIP     Brain          2   \n",
       "HHMF3            FUS  HITS-CLIP     Brain          3   \n",
       "HIUHC         hnRNPC      iCLIP      HeLa          1   \n",
       "\n",
       "                                           treatment localization   author  \\\n",
       "Dataset name                                                                 \n",
       "HPAR1         wildtype FXR1, 4-thiouridine, RNase T1      cytosol   ascano   \n",
       "HPTA1                        4-thiouridine, RNase T1      cytosol   hafner   \n",
       "HPTA3                        4-thiouridine, RNase T1      cytosol   hafner   \n",
       "HPTA4                        4-thiouridine, RNase T1      cytosol   hafner   \n",
       "HPTPU                        4-thiouridine, RNase T1      cytosol   hafner   \n",
       "HPTLB                        4-thiouridine, RNase T1      cytosol   hafner   \n",
       "HPRO6                         4-thiouridine, ML_MM_6      cytosol  memczak   \n",
       "HPRO7                         4-thiouridine, ML_MM_7      cytosol  memczak   \n",
       "HPRO8                         4-thiouridine, ML_MM_8      cytosol  memczak   \n",
       "HPLAL                                  4-thiouridine      nucleus    baltz   \n",
       "HPLZC                                  4-thiouridine      nucleus    baltz   \n",
       "HPHFW                                  4-thiouridine      nucleus    hoell   \n",
       "HPHTA                                  4-thiouridine      nucleus    hoell   \n",
       "HIUHN                                              -      nucleus    konig   \n",
       "HHCD1             D8 (endogenous DGCR8), replicate 1      nucleus   macias   \n",
       "HHCD2             D8 (endogenous DGCR8), replicate 2      nucleus   macias   \n",
       "HHMF1                           replicate1, RNase T1      nucleus   nakaya   \n",
       "HHMF2                           replicate2, RNase T1      nucleus   nakaya   \n",
       "HHMF3                           replicate3, RNase T1      nucleus   nakaya   \n",
       "HIUHC                                      untreated      nucleus  zarnack   \n",
       "\n",
       "                      accession  \\\n",
       "Dataset name                      \n",
       "HPAR1                  GSE39682   \n",
       "HPTA1                  GSE21918   \n",
       "HPTA3                  GSE21918   \n",
       "HPTA4                  GSE21918   \n",
       "HPTPU                  GSE21918   \n",
       "HPTLB                  GSE44615   \n",
       "HPRO6                  GSE43573   \n",
       "HPRO7                  GSE43573   \n",
       "HPRO8                  GSE43573   \n",
       "HPLAL                  GSE38201   \n",
       "HPLZC                  GSE38201   \n",
       "HPHFW                 SRA025082   \n",
       "HPHTA                 SRA025082   \n",
       "HIUHN         SupplementaryData   \n",
       "HHCD1                  GSE39086   \n",
       "HHCD2                  GSE39086   \n",
       "HHMF1                  GSE43308   \n",
       "HHMF2                  GSE43308   \n",
       "HHMF3                  GSE43308   \n",
       "HIUHC               E-MTAB-1371   \n",
       "\n",
       "                                                       filepath  \n",
       "Dataset name                                                     \n",
       "HPAR1         /home/aleg/Data/Datasets/Epi2_pilot/Protein_in...  \n",
       "HPTA1         /home/aleg/Data/Datasets/Epi2_pilot/Protein_in...  \n",
       "HPTA3         /home/aleg/Data/Datasets/Epi2_pilot/Protein_in...  \n",
       "HPTA4         /home/aleg/Data/Datasets/Epi2_pilot/Protein_in...  \n",
       "HPTPU         /home/aleg/Data/Datasets/Epi2_pilot/Protein_in...  \n",
       "HPTLB         /home/aleg/Data/Datasets/Epi2_pilot/Protein_in...  \n",
       "HPRO6         /home/aleg/Data/Datasets/Epi2_pilot/Protein_in...  \n",
       "HPRO7         /home/aleg/Data/Datasets/Epi2_pilot/Protein_in...  \n",
       "HPRO8         /home/aleg/Data/Datasets/Epi2_pilot/Protein_in...  \n",
       "HPLAL         /home/aleg/Data/Datasets/Epi2_pilot/Protein_in...  \n",
       "HPLZC         /home/aleg/Data/Datasets/Epi2_pilot/Protein_in...  \n",
       "HPHFW         /home/aleg/Data/Datasets/Epi2_pilot/Protein_in...  \n",
       "HPHTA         /home/aleg/Data/Datasets/Epi2_pilot/Protein_in...  \n",
       "HIUHN         /home/aleg/Data/Datasets/Epi2_pilot/Protein_in...  \n",
       "HHCD1         /home/aleg/Data/Datasets/Epi2_pilot/Protein_in...  \n",
       "HHCD2         /home/aleg/Data/Datasets/Epi2_pilot/Protein_in...  \n",
       "HHMF1         /home/aleg/Data/Datasets/Epi2_pilot/Protein_in...  \n",
       "HHMF2         /home/aleg/Data/Datasets/Epi2_pilot/Protein_in...  \n",
       "HHMF3         /home/aleg/Data/Datasets/Epi2_pilot/Protein_in...  \n",
       "HIUHC         /home/aleg/Data/Datasets/Epi2_pilot/Protein_in...  "
      ]
     },
     "execution_count": 70,
     "metadata": {},
     "output_type": "execute_result"
    }
   ],
   "source": [
    "df = pd.read_csv(\"./Protein_interaction/Li_ClipSeq/Protocol_info/Selected_datasets.csv\", sep=\"\\t\", index_col=0)\n",
    "df"
   ]
  },
  {
   "cell_type": "markdown",
   "metadata": {},
   "source": [
    "### Convert coordinates from hg19 to hg39 with Crossmap and remap on last gencode human genes...\n",
    "\n",
    "#### Coordinate conversion using CrossMap and a hg19 tp hg38 chain file in BASH"
   ]
  },
  {
   "cell_type": "code",
   "execution_count": 2,
   "metadata": {
    "collapsed": false
   },
   "outputs": [
    {
     "name": "stdout",
     "output_type": "stream",
     "text": [
      "chr1\t758393\t758417\tHHCD1_1_DGCR8_D8.1_3\t9\t+\n",
      "chr1\t762871\t762896\tHHCD1_2392_DGCR8_D8.1_5\t10\t-\n",
      "chr1\t876695\t876718\tHHCD1_2_DGCR8_D8.1_4\t4\t+\n",
      "\n",
      "chr1\t823013\t823037\tHHCD1_1_DGCR8_D8.1_3\t9\t+\n",
      "chr1\t827491\t827516\tHHCD1_2392_DGCR8_D8.1_5\t10\t-\n",
      "chr1\t941315\t941338\tHHCD1_2_DGCR8_D8.1_4\t4\t+\n",
      "\n",
      "chr2\t242747383\t242747404\tHHCD1_30364_DGCR8_D8.1_1\t14\t-\tFail\n",
      "\n",
      "Only 2 lines in the file\n",
      "\n"
     ]
    }
   ],
   "source": [
    "def liftover (input_file, output_file, unmap_file, liftover_chainfile):\n",
    "    # Conversion of coordinates with Crossmap/liftover\n",
    "    \n",
    "    with open (output_file, \"w\") as output, open(unmap_file, \"w\") as unmap:\n",
    "        # Build the command line\n",
    "        cmd = \"CrossMap.py bed {} {}\".format(liftover_chainfile, input_file)\n",
    "        # Write Liftovers coordinates\n",
    "        for line in pycl.bash(cmd, ret_stdout=True).split(\"\\n\"):\n",
    "            ls = line.split(\"\\t\")\n",
    "            try:\n",
    "                output.write(\"{}\\t{}\\t{}\\t{}\\t{}\\t{}\\n\".format(ls[7], ls[8], ls[9], ls[10], ls[11], ls[12]))\n",
    "            except IndexError as E:\n",
    "                unmap.write(line+\"\\n\")\n",
    "\n",
    "# Test with one file\n",
    "pycl.mkdir(\"./Protein_interaction/Li_ClipSeq/test\")\n",
    "liftover_chainfile = \"../../LiftOver_chain_files/hg19ToHg38.over.chain.gz\"\n",
    "input_file = \"./Protein_interaction/Li_ClipSeq/Human/HHCD1.bed\"\n",
    "output_file = \"./Protein_interaction/Li_ClipSeq/test/HHCD1_converted.bed\"\n",
    "unmap_file = \"./Protein_interaction/Li_ClipSeq/test/HHCD1_unmap.bed\"\n",
    "liftover(input_file, output_file, unmap_file, liftover_chainfile)\n",
    "pycl.head(input_file, 3)\n",
    "pycl.head(output_file, 3)\n",
    "pycl.head(unmap_file, 3)"
   ]
  },
  {
   "cell_type": "markdown",
   "metadata": {
    "collapsed": true
   },
   "source": [
    "#### Remap on the human transcriptome with pyBedTools"
   ]
  },
  {
   "cell_type": "code",
   "execution_count": 3,
   "metadata": {
    "collapsed": false,
    "scrolled": true
   },
   "outputs": [
    {
     "name": "stdout",
     "output_type": "stream",
     "text": [
      "0\tchr1\t823013\t823037\tHHCD1_1_DGCR8_D8.1_3\t9\t+\n",
      "1\tchr1\t827491\t827516\tHHCD1_2392_DGCR8_D8.1_5\t10\t-\n",
      "2\tchr1\t941315\t941338\tHHCD1_2_DGCR8_D8.1_4\t4\t+\n",
      "\n",
      "58711\tchrX\t155605820\t155605843\tHHCD1_57427_DGCR8_D8.1_3\t12\t+\n",
      "58712\tchrX\t155612161\t155612184\tHHCD1_58704_DGCR8_D8.1_3\t2\t-\n",
      "58713\tchrX\t155615409\t155615433\tHHCD1_57428_DGCR8_D8.1_3\t4\t+\n",
      "\n",
      "0\tchrom\tstart\tend\tgene_id|gene_name|gene_type|len\tscore\tstrand\n",
      "1\tchr1\t827491\t827516\tENSG00000225880.5|LINC00115|lincRNA|25\t10\t-\n",
      "2\tchr1\t827491\t827516\tENSG00000230021.8|RP5-857K21.4|lincRNA|25\t10\t-\n",
      "\n",
      "19823\tchrX\t155227749\t155227778\tENSG00000155959.10|VBP1|protein_coding|29\t71\t+\n",
      "19824\tchrX\t155605820\t155605843\tENSG00000224533.4|TMLHE-AS1|antisense|23\t12\t+\n",
      "19825\tchrX\t155612161\t155612184\tENSG00000185973.10|TMLHE|protein_coding|23\t2\t-\n",
      "\n"
     ]
    }
   ],
   "source": [
    "import pybedtools\n",
    "\n",
    "def intersect_bed (annotation_file, peak_file, output_file):\n",
    "    \n",
    "    # Parse file with pybedtools and intersect the coordinate ranges\n",
    "    peak = pybedtools.BedTool(peak_file)\n",
    "    annotation = pybedtools.BedTool(annotation_file)\n",
    "    intersection = peak.intersect(annotation, wo=True, s=True)\n",
    "    \n",
    "    # Reformat the file generated by pybedtools with the merged intervals to a simple Bed format\n",
    "    init_template=[\"{chrom}\",\"\\t\",\"{start}\",\"\\t\",\"{end}\",\"\\t\",\"{info}\",\"\\t\",\"{score}\",\"\\t\",\"{strand}\",\"\\t\",\"{chrom2}\",\"\\t\",\"{source}\",\"\\t\",\"{feature}\",\"\\t\",\"{start2}\",\n",
    "                   \"\\t\",\"{end2}\",\"\\t\",\"{score2}\",\"\\t\",\"{strand2}\",\"\\t\",\"{frame}\",\"\\tID=\",\"{ID}\",\";gene_id=\",\"{gene_id}\",\";gene_type=\",\"{gene_type}\",\n",
    "                   \";gene_status=\",\"{gene_status}\",\";gene_name=\",\"{gene_name}\",\";level=\",\"{level}\",\";havana_gene=\",\"{havana_gene}\",\"\\t\",\"{len}\"]\n",
    "    \n",
    "    final_template=[\"{chrom}\",\"\\t\",\"{start}\",\"\\t\",\"{end}\",\"\\t\",\"{gene_id}\",\"|\",\"{gene_name}\",\"|\",\"{gene_type}\",\"|\",\"{len}\",\"\\t\",\"{score}\",\"\\t\",\"{strand}\"]\n",
    "\n",
    "    pycl.reformat_table(\n",
    "        input_file=intersection.fn, output_file=output_file, init_template=init_template, final_template=final_template,\n",
    "        replace_internal_space='_', replace_null_val=\"-\", keep_original_header=False, predicate=lambda v: v[\"feature\"] == \"gene\", header_from_final_template=True)\n",
    "\n",
    "# Test with one file\n",
    "annotation_file = \"../../Reference_Annotation/gencode_v24.gff3\"\n",
    "peak_file = \"./Protein_interaction/Li_ClipSeq/test/HHCD1_converted.bed\"\n",
    "output_file = \"./Protein_interaction/Li_ClipSeq/test/HHCD1_annotated.bed\"\n",
    "intersect_bed (annotation_file, peak_file, output_file)\n",
    "pycl.linerange(peak_file)\n",
    "pycl.linerange(output_file)"
   ]
  },
  {
   "cell_type": "markdown",
   "metadata": {},
   "source": [
    "#### List the uniq gene ids for each samples\n",
    "\n",
    "for experiment with several samples, the function only retain those in **common in ALL the replicates**"
   ]
  },
  {
   "cell_type": "code",
   "execution_count": 4,
   "metadata": {
    "collapsed": false,
    "scrolled": false
   },
   "outputs": [
    {
     "name": "stdout",
     "output_type": "stream",
     "text": [
      "0\tgene_id\tgene_name\tgene_type\tall_count\trep_count\n",
      "1\tENSG00000141101.12\tNOB1\tprotein_coding\t7\t1\n",
      "2\tENSG00000170677.5\tSOCS6\tprotein_coding\t1\t1\n",
      "\n",
      "8141\tENSG00000135829.16\tDHX9\tprotein_coding\t8\t1\n",
      "8142\tENSG00000169223.14\tLMAN2\tprotein_coding\t1\t1\n",
      "8143\tENSG00000149925.16\tALDOA\tprotein_coding\t11\t1\n",
      "\n",
      "0\tgene_id\tgene_name\tgene_type\tall_count\trep_count\n",
      "1\tENSG00000170677.5\tSOCS6\tprotein_coding\t2\t2\n",
      "2\tENSG00000034053.14\tAPBA2\tprotein_coding\t5\t2\n",
      "\n",
      "3250\tENSG00000258472.8\tRP11-192H23.4\tprotein_coding\t18\t2\n",
      "3251\tENSG00000105662.15\tCRTC1\tprotein_coding\t2\t2\n",
      "3252\tENSG00000169223.14\tLMAN2\tprotein_coding\t3\t2\n",
      "\n"
     ]
    }
   ],
   "source": [
    "def unique_genes_list (input_file_list, output_file):\n",
    "\n",
    "    gene_dict = {}\n",
    "\n",
    "    # iterate on replicates of the same experiment\n",
    "    for input_file in input_file_list:\n",
    "        df = pd.read_csv(input_file, sep=\"[\\t|]\", engine='python')\n",
    "\n",
    "        # iterate on lines of a replicate bed file\n",
    "        for gene_id, gene_df in df.groupby(\"gene_id\"):\n",
    "            if gene_id not in gene_dict:\n",
    "                gene_dict[gene_id] = {\n",
    "                    \"gene_name\":gene_df[\"gene_name\"].unique()[0],\n",
    "                    \"gene_type\":gene_df[\"gene_type\"].unique()[0],\n",
    "                    \"all_count\":0, \"rep_count\":0}\n",
    "            gene_dict[gene_id][\"all_count\"]+=len(gene_df)\n",
    "            gene_dict[gene_id][\"rep_count\"]+=1\n",
    "\n",
    "    # Write the valid gene entries in a file \n",
    "    with open (output_file, \"w\") as output:\n",
    "        output.write(\"gene_id\\tgene_name\\tgene_type\\tall_count\\trep_count\\n\")\n",
    "        for gene_id, val in gene_dict.items():\n",
    "            if val[\"rep_count\"] == len(input_file_list):\n",
    "                output.write(\"{}\\t{}\\t{}\\t{}\\t{}\\n\".format(gene_id, val[\"gene_name\"], val[\"gene_type\"], val[\"all_count\"], val[\"rep_count\"]))\n",
    "            \n",
    "# Test with one file\n",
    "input_file = [\"./Protein_interaction/Li_ClipSeq/test/HCTA1_annotated.bed\"]\n",
    "output_file = \"./Protein_interaction/Li_ClipSeq/test/HCTA1_uniq_gene.tsv\"\n",
    "unique_genes_list(input_file, output_file)\n",
    "pycl.linerange(output_file)\n",
    "\n",
    "# Test with a list of files\n",
    "input_file = [ \"./Protein_interaction/Li_ClipSeq/test/HCTA1_annotated.bed\", \"./Protein_interaction/Li_ClipSeq/test/HHCD1_annotated.bed\"]\n",
    "output_file = \"./Protein_interaction/Li_ClipSeq/test/HHMF1-3_uniq_gene.tsv\"\n",
    "unique_genes_list(input_file, output_file)\n",
    "pycl.linerange(output_file)"
   ]
  },
  {
   "cell_type": "markdown",
   "metadata": {},
   "source": [
    "#### Merge the replicates of the same experiment "
   ]
  },
  {
   "cell_type": "markdown",
   "metadata": {},
   "source": [
    "### Iterate on all the files listed in the sample list and apply hg38 coordinate conversion, gencodev24 annotation and listing of unique genes  "
   ]
  },
  {
   "cell_type": "code",
   "execution_count": 20,
   "metadata": {
    "collapsed": false,
    "scrolled": true
   },
   "outputs": [
    {
     "name": "stdout",
     "output_type": "stream",
     "text": [
      "Analysis experiment  AGO1_PAR-CLIP_HEK293_cytosol_hafner\n",
      "\tAnalysis dataset HPTA1\n",
      "\t\tConverting coordinates with liftover\n",
      "\t\tIntersect with annotation file\n",
      "\tList uniq genes\n",
      "Analysis experiment  AGO1_PAR-CLIP_HEK293_cytosol_memczak\n",
      "\tAnalysis dataset HPRO6\n",
      "\t\tConverting coordinates with liftover\n",
      "\t\tIntersect with annotation file\n",
      "\tAnalysis dataset HPRO7\n",
      "\t\tConverting coordinates with liftover\n",
      "\t\tIntersect with annotation file\n",
      "\tAnalysis dataset HPRO8\n",
      "\t\tConverting coordinates with liftover\n",
      "\t\tIntersect with annotation file\n",
      "\tList uniq genes\n",
      "Analysis experiment  AGO3_PAR-CLIP_HEK293_cytosol_hafner\n",
      "\tAnalysis dataset HPTA3\n",
      "\t\tConverting coordinates with liftover\n",
      "\t\tIntersect with annotation file\n",
      "\tList uniq genes\n",
      "Analysis experiment  AGO4_PAR-CLIP_HEK293_cytosol_hafner\n",
      "\tAnalysis dataset HPTA4\n",
      "\t\tConverting coordinates with liftover\n",
      "\t\tIntersect with annotation file\n",
      "\tList uniq genes\n",
      "Analysis experiment  ALKBH5_PAR-CLIP_HEK293_nucleus_baltz\n",
      "\tAnalysis dataset HPLAL\n",
      "\t\tConverting coordinates with liftover\n",
      "\t\tIntersect with annotation file\n",
      "\tList uniq genes\n",
      "Analysis experiment  DGCR8_HITS-CLIP_HEK293_nucleus_macias\n",
      "\tAnalysis dataset HHCD1\n",
      "\t\tConverting coordinates with liftover\n",
      "\t\tIntersect with annotation file\n",
      "\tAnalysis dataset HHCD2\n",
      "\t\tConverting coordinates with liftover\n",
      "\t\tIntersect with annotation file\n",
      "\tList uniq genes\n",
      "Analysis experiment  FUS_HITS-CLIP_Brain_nucleus_nakaya\n",
      "\tAnalysis dataset HHMF1\n",
      "\t\tConverting coordinates with liftover\n",
      "\t\tIntersect with annotation file\n",
      "\tAnalysis dataset HHMF2\n",
      "\t\tConverting coordinates with liftover\n",
      "\t\tIntersect with annotation file\n",
      "\tAnalysis dataset HHMF3\n",
      "\t\tConverting coordinates with liftover\n",
      "\t\tIntersect with annotation file\n",
      "\tList uniq genes\n",
      "Analysis experiment  FUS_PAR-CLIP_HEK293_nucleus_hoell\n",
      "\tAnalysis dataset HPHFW\n",
      "\t\tConverting coordinates with liftover\n",
      "\t\tIntersect with annotation file\n",
      "\tList uniq genes\n",
      "Analysis experiment  FXR1_PAR-CLIP_HEK293_cytosol_ascano\n",
      "\tAnalysis dataset HPAR1\n",
      "\t\tConverting coordinates with liftover\n",
      "\t\tIntersect with annotation file\n",
      "\tList uniq genes\n",
      "Analysis experiment  LIN28B_PAR-CLIP_HEK293_cytosol_hafner\n",
      "\tAnalysis dataset HPTLB\n",
      "\t\tConverting coordinates with liftover\n",
      "\t\tIntersect with annotation file\n",
      "\tList uniq genes\n",
      "Analysis experiment  PUM2_PAR-CLIP_HEK293_cytosol_hafner\n",
      "\tAnalysis dataset HPTPU\n",
      "\t\tConverting coordinates with liftover\n",
      "\t\tIntersect with annotation file\n",
      "\tList uniq genes\n",
      "Analysis experiment  TAF15_PAR-CLIP_HEK293_nucleus_hoell\n",
      "\tAnalysis dataset HPHTA\n",
      "\t\tConverting coordinates with liftover\n",
      "\t\tIntersect with annotation file\n",
      "\tList uniq genes\n",
      "Analysis experiment  ZC3H7B_PAR-CLIP_HEK293_nucleus_baltz\n",
      "\tAnalysis dataset HPLZC\n",
      "\t\tConverting coordinates with liftover\n",
      "\t\tIntersect with annotation file\n",
      "\tList uniq genes\n",
      "Analysis experiment  hnRNPC_iCLIP_HeLa_nucleus_konig\n",
      "\tAnalysis dataset HIUHN\n",
      "\t\tConverting coordinates with liftover\n",
      "\t\tIntersect with annotation file\n",
      "\tList uniq genes\n",
      "Analysis experiment  hnRNPC_iCLIP_HeLa_nucleus_zarnack\n",
      "\tAnalysis dataset HIUHC\n",
      "\t\tConverting coordinates with liftover\n",
      "\t\tIntersect with annotation file\n",
      "\tList uniq genes\n"
     ]
    }
   ],
   "source": [
    "liftover_chainfile = \"../../LiftOver_chain_files/hg19ToHg38.over.chain.gz\"\n",
    "annotation_file = \"../../Reference_Annotation/gencode_v24.gff3\"\n",
    "intermediate_folder = \"./Protein_interaction/Li_ClipSeq/selected_datasets/\"\n",
    "final_folder = \"./Protein_interaction/Li_ClipSeq/final_datasets/\"\n",
    "pycl.mkdir(intermediate_folder)\n",
    "pycl.mkdir(final_folder)\n",
    "\n",
    "# df containing the sample list details\n",
    "df = pd.read_csv(\"./Protein_interaction/Li_ClipSeq/Protocol_info/Selected_datasets.csv\", sep=\"\\t\", index_col=0)\n",
    "\n",
    "# dict to count the file of the different dataset and experiments\n",
    "dataset_dict = {}\n",
    "exp_dict = {}\n",
    "\n",
    "# Iterate by all sample of the same esperiment (include replicates if there are some replicates)\n",
    "for (prot,exp, cl, loc, aut), exp_df in df.groupby([\"protein\",\"experiment\", \"cell_line\", \"localization\", \"author\"]):\n",
    "    exp_id = \"{}_{}_{}_{}_{}\".format(prot,exp, cl, loc, aut)\n",
    "    print(\"Analysis experiment \", exp_id)\n",
    "    intersect_file_list=[]\n",
    "    \n",
    "    # Iterate on the replicates of the same experiment\n",
    "    for dataset_id, line in exp_df.iterrows():\n",
    "\n",
    "        print(\"\\tAnalysis dataset {}\".format(dataset_id))\n",
    "        input_file = line[\"filepath\"]\n",
    "        \n",
    "        print (\"\\t\\tConverting coordinates with liftover\")\n",
    "        converted_file = \"{}{}_coord_hg38.bed\".format(intermediate_folder, dataset_id) \n",
    "        unmap_file = \"{}{}_unmap.bed\".format(intermediate_folder, dataset_id) \n",
    "        liftover(input_file, converted_file, unmap_file, liftover_chainfile)\n",
    "\n",
    "        print (\"\\t\\tIntersect with annotation file\")\n",
    "        intersect_file = \"{}{}_coord_hg38_annot_gencode24.bed\".format(intermediate_folder, dataset_id)\n",
    "        intersect_file_list.append (intersect_file)\n",
    "        intersect_bed (annotation_file, converted_file, intersect_file)\n",
    "        \n",
    "        # Fill the counter\n",
    "        dataset_dict[dataset_id] = {\n",
    "            \"Init_sites\":pycl.simplecount(input_file),\n",
    "            \"Converted_coord_sites\": pycl.simplecount(converted_file),\n",
    "            \"Unmap_sites\": pycl.simplecount(unmap_file),\n",
    "            \"Annotated_sites\": pycl.simplecount(intersect_file)}\n",
    "    \n",
    "    # list uniq genes for each experiment. Replicate experiment and inner-joined before    \n",
    "    print (\"\\tList uniq genes\")\n",
    "    unique_gene_file = \"{}{}_uniq_genes.tsv\".format(final_folder, exp_id) \n",
    "    unique_genes_list (intersect_file_list, unique_gene_file)\n",
    "    exp_dict[exp_id] = {\n",
    "        \"Uniq_genes\": pycl.simplecount(unique_gene_file),\n",
    "        \"Replicate_Number\": len(intersect_file_list)}\n"
   ]
  },
  {
   "cell_type": "code",
   "execution_count": 21,
   "metadata": {
    "collapsed": false
   },
   "outputs": [
    {
     "data": {
      "text/html": [
       "<table width=100%><tr><td> </td><td><b>Annotated_sites</b></td><td><b>Converted_coord_sites</b></td><td><b>Init_sites</b></td><td><b>Unmap_sites</b></td></tr><tr><td><b>HHCD1</b></td><td>19826</td><td>58714</td><td>58704</td><td>2</td></tr><tr><td><b>HHCD2</b></td><td>76848</td><td>124378</td><td>124354</td><td>5</td></tr><tr><td><b>HHMF1</b></td><td>191972</td><td>325659</td><td>326115</td><td>546</td></tr><tr><td><b>HHMF2</b></td><td>258589</td><td>414603</td><td>415091</td><td>624</td></tr><tr><td><b>HHMF3</b></td><td>269695</td><td>471039</td><td>471590</td><td>681</td></tr><tr><td><b>HIUHC</b></td><td>429723</td><td>438395</td><td>438360</td><td>30</td></tr><tr><td><b>HIUHN</b></td><td>23473</td><td>24446</td><td>24448</td><td>5</td></tr><tr><td><b>HPAR1</b></td><td>8405</td><td>9017</td><td>9017</td><td>2</td></tr><tr><td><b>HPHFW</b></td><td>37719</td><td>39988</td><td>39983</td><td>1</td></tr><tr><td><b>HPHTA</b></td><td>8582</td><td>8678</td><td>8677</td><td>1</td></tr><tr><td><b>HPLAL</b></td><td>1632</td><td>1597</td><td>1596</td><td>1</td></tr><tr><td><b>HPLZC</b></td><td>33465</td><td>32805</td><td>32798</td><td>1</td></tr><tr><td><b>HPRO6</b></td><td>78105</td><td>82219</td><td>82196</td><td>3</td></tr><tr><td><b>HPRO7</b></td><td>2367</td><td>3454</td><td>3453</td><td>1</td></tr><tr><td><b>HPRO8</b></td><td>14050</td><td>15890</td><td>15887</td><td>2</td></tr><tr><td><b>HPTA1</b></td><td>11428</td><td>12165</td><td>12163</td><td>1</td></tr><tr><td><b>HPTA3</b></td><td>18576</td><td>20006</td><td>20001</td><td>1</td></tr><tr><td><b>HPTA4</b></td><td>2895</td><td>4398</td><td>4397</td><td>1</td></tr><tr><td><b>HPTLB</b></td><td>28249</td><td>31802</td><td>31796</td><td>2</td></tr><tr><td><b>HPTPU</b></td><td>7746</td><td>7524</td><td>7523</td><td>1</td></tr></table>"
      ],
      "text/plain": [
       "dict_to_html([('HHCD1',\n",
       "               {'Annotated_sites': 19826,\n",
       "                'Converted_coord_sites': 58714,\n",
       "                'Init_sites': 58704,\n",
       "                'Unmap_sites': 2}),\n",
       "              ('HHCD2',\n",
       "               {'Annotated_sites': 76848,\n",
       "                'Converted_coord_sites': 124378,\n",
       "                'Init_sites': 124354,\n",
       "                'Unmap_sites': 5}),\n",
       "              ('HHMF1',\n",
       "               {'Annotated_sites': 191972,\n",
       "                'Converted_coord_sites': 325659,\n",
       "                'Init_sites': 326115,\n",
       "                'Unmap_sites': 546}),\n",
       "              ('HHMF2',\n",
       "               {'Annotated_sites': 258589,\n",
       "                'Converted_coord_sites': 414603,\n",
       "                'Init_sites': 415091,\n",
       "                'Unmap_sites': 624}),\n",
       "              ('HHMF3',\n",
       "               {'Annotated_sites': 269695,\n",
       "                'Converted_coord_sites': 471039,\n",
       "                'Init_sites': 471590,\n",
       "                'Unmap_sites': 681}),\n",
       "              ('HIUHC',\n",
       "               {'Annotated_sites': 429723,\n",
       "                'Converted_coord_sites': 438395,\n",
       "                'Init_sites': 438360,\n",
       "                'Unmap_sites': 30}),\n",
       "              ('HIUHN',\n",
       "               {'Annotated_sites': 23473,\n",
       "                'Converted_coord_sites': 24446,\n",
       "                'Init_sites': 24448,\n",
       "                'Unmap_sites': 5}),\n",
       "              ('HPAR1',\n",
       "               {'Annotated_sites': 8405,\n",
       "                'Converted_coord_sites': 9017,\n",
       "                'Init_sites': 9017,\n",
       "                'Unmap_sites': 2}),\n",
       "              ('HPHFW',\n",
       "               {'Annotated_sites': 37719,\n",
       "                'Converted_coord_sites': 39988,\n",
       "                'Init_sites': 39983,\n",
       "                'Unmap_sites': 1}),\n",
       "              ('HPHTA',\n",
       "               {'Annotated_sites': 8582,\n",
       "                'Converted_coord_sites': 8678,\n",
       "                'Init_sites': 8677,\n",
       "                'Unmap_sites': 1}),\n",
       "              ('HPLAL',\n",
       "               {'Annotated_sites': 1632,\n",
       "                'Converted_coord_sites': 1597,\n",
       "                'Init_sites': 1596,\n",
       "                'Unmap_sites': 1}),\n",
       "              ('HPLZC',\n",
       "               {'Annotated_sites': 33465,\n",
       "                'Converted_coord_sites': 32805,\n",
       "                'Init_sites': 32798,\n",
       "                'Unmap_sites': 1}),\n",
       "              ('HPRO6',\n",
       "               {'Annotated_sites': 78105,\n",
       "                'Converted_coord_sites': 82219,\n",
       "                'Init_sites': 82196,\n",
       "                'Unmap_sites': 3}),\n",
       "              ('HPRO7',\n",
       "               {'Annotated_sites': 2367,\n",
       "                'Converted_coord_sites': 3454,\n",
       "                'Init_sites': 3453,\n",
       "                'Unmap_sites': 1}),\n",
       "              ('HPRO8',\n",
       "               {'Annotated_sites': 14050,\n",
       "                'Converted_coord_sites': 15890,\n",
       "                'Init_sites': 15887,\n",
       "                'Unmap_sites': 2}),\n",
       "              ('HPTA1',\n",
       "               {'Annotated_sites': 11428,\n",
       "                'Converted_coord_sites': 12165,\n",
       "                'Init_sites': 12163,\n",
       "                'Unmap_sites': 1}),\n",
       "              ('HPTA3',\n",
       "               {'Annotated_sites': 18576,\n",
       "                'Converted_coord_sites': 20006,\n",
       "                'Init_sites': 20001,\n",
       "                'Unmap_sites': 1}),\n",
       "              ('HPTA4',\n",
       "               {'Annotated_sites': 2895,\n",
       "                'Converted_coord_sites': 4398,\n",
       "                'Init_sites': 4397,\n",
       "                'Unmap_sites': 1}),\n",
       "              ('HPTLB',\n",
       "               {'Annotated_sites': 28249,\n",
       "                'Converted_coord_sites': 31802,\n",
       "                'Init_sites': 31796,\n",
       "                'Unmap_sites': 2}),\n",
       "              ('HPTPU',\n",
       "               {'Annotated_sites': 7746,\n",
       "                'Converted_coord_sites': 7524,\n",
       "                'Init_sites': 7523,\n",
       "                'Unmap_sites': 1})])"
      ]
     },
     "execution_count": 21,
     "metadata": {},
     "output_type": "execute_result"
    }
   ],
   "source": [
    "pycl.dict_to_html(dataset_dict)"
   ]
  },
  {
   "cell_type": "code",
   "execution_count": 22,
   "metadata": {
    "collapsed": false
   },
   "outputs": [
    {
     "data": {
      "text/html": [
       "<table width=100%><tr><td> </td><td><b>Replicate_Number</b></td><td><b>Uniq_genes</b></td></tr><tr><td><b>AGO1_PAR-CLIP_HEK293_cytosol_hafner</b></td><td>1</td><td>5962</td></tr><tr><td><b>AGO1_PAR-CLIP_HEK293_cytosol_memczak</b></td><td>3</td><td>1603</td></tr><tr><td><b>AGO3_PAR-CLIP_HEK293_cytosol_hafner</b></td><td>1</td><td>8181</td></tr><tr><td><b>AGO4_PAR-CLIP_HEK293_cytosol_hafner</b></td><td>1</td><td>2337</td></tr><tr><td><b>ALKBH5_PAR-CLIP_HEK293_nucleus_baltz</b></td><td>1</td><td>1184</td></tr><tr><td><b>DGCR8_HITS-CLIP_HEK293_nucleus_macias</b></td><td>2</td><td>8073</td></tr><tr><td><b>FUS_HITS-CLIP_Brain_nucleus_nakaya</b></td><td>3</td><td>18024</td></tr><tr><td><b>FUS_PAR-CLIP_HEK293_nucleus_hoell</b></td><td>1</td><td>8310</td></tr><tr><td><b>FXR1_PAR-CLIP_HEK293_cytosol_ascano</b></td><td>1</td><td>2824</td></tr><tr><td><b>LIN28B_PAR-CLIP_HEK293_cytosol_hafner</b></td><td>1</td><td>10080</td></tr><tr><td><b>PUM2_PAR-CLIP_HEK293_cytosol_hafner</b></td><td>1</td><td>4457</td></tr><tr><td><b>TAF15_PAR-CLIP_HEK293_nucleus_hoell</b></td><td>1</td><td>3662</td></tr><tr><td><b>ZC3H7B_PAR-CLIP_HEK293_nucleus_baltz</b></td><td>1</td><td>7329</td></tr><tr><td><b>hnRNPC_iCLIP_HeLa_nucleus_konig</b></td><td>1</td><td>5869</td></tr><tr><td><b>hnRNPC_iCLIP_HeLa_nucleus_zarnack</b></td><td>1</td><td>13029</td></tr></table>"
      ],
      "text/plain": [
       "dict_to_html([('AGO1_PAR-CLIP_HEK293_cytosol_hafner',\n",
       "               {'Replicate_Number': 1, 'Uniq_genes': 5962}),\n",
       "              ('AGO1_PAR-CLIP_HEK293_cytosol_memczak',\n",
       "               {'Replicate_Number': 3, 'Uniq_genes': 1603}),\n",
       "              ('AGO3_PAR-CLIP_HEK293_cytosol_hafner',\n",
       "               {'Replicate_Number': 1, 'Uniq_genes': 8181}),\n",
       "              ('AGO4_PAR-CLIP_HEK293_cytosol_hafner',\n",
       "               {'Replicate_Number': 1, 'Uniq_genes': 2337}),\n",
       "              ('ALKBH5_PAR-CLIP_HEK293_nucleus_baltz',\n",
       "               {'Replicate_Number': 1, 'Uniq_genes': 1184}),\n",
       "              ('DGCR8_HITS-CLIP_HEK293_nucleus_macias',\n",
       "               {'Replicate_Number': 2, 'Uniq_genes': 8073}),\n",
       "              ('FUS_HITS-CLIP_Brain_nucleus_nakaya',\n",
       "               {'Replicate_Number': 3, 'Uniq_genes': 18024}),\n",
       "              ('FUS_PAR-CLIP_HEK293_nucleus_hoell',\n",
       "               {'Replicate_Number': 1, 'Uniq_genes': 8310}),\n",
       "              ('FXR1_PAR-CLIP_HEK293_cytosol_ascano',\n",
       "               {'Replicate_Number': 1, 'Uniq_genes': 2824}),\n",
       "              ('LIN28B_PAR-CLIP_HEK293_cytosol_hafner',\n",
       "               {'Replicate_Number': 1, 'Uniq_genes': 10080}),\n",
       "              ('PUM2_PAR-CLIP_HEK293_cytosol_hafner',\n",
       "               {'Replicate_Number': 1, 'Uniq_genes': 4457}),\n",
       "              ('TAF15_PAR-CLIP_HEK293_nucleus_hoell',\n",
       "               {'Replicate_Number': 1, 'Uniq_genes': 3662}),\n",
       "              ('ZC3H7B_PAR-CLIP_HEK293_nucleus_baltz',\n",
       "               {'Replicate_Number': 1, 'Uniq_genes': 7329}),\n",
       "              ('hnRNPC_iCLIP_HeLa_nucleus_konig',\n",
       "               {'Replicate_Number': 1, 'Uniq_genes': 5869}),\n",
       "              ('hnRNPC_iCLIP_HeLa_nucleus_zarnack',\n",
       "               {'Replicate_Number': 1, 'Uniq_genes': 13029})])"
      ]
     },
     "execution_count": 22,
     "metadata": {},
     "output_type": "execute_result"
    }
   ],
   "source": [
    "pycl.dict_to_html(exp_dict)"
   ]
  },
  {
   "cell_type": "markdown",
   "metadata": {
    "collapsed": true
   },
   "source": [
    "### Further dataset analysis\n",
    "\n",
    "**It might also be interesting to have a set of core generic RNA associated with nuclear or cytoplasmic candidates. To do so, I need to intersect the data irrespective of their cell line**\n",
    "**I will create several datasets**\n",
    "\n",
    "* RNA found only in at least one nuclear proteins but no cytoplasmic proteins\n",
    "* RNA found only in at least one cytoplasmic proteins but no nuclear proteins\n",
    "* RNA found in all nuclear proteins but no cytoplasmic protein\n",
    "* RNA found in all cytoplasmic proteins but no nuclear protein"
   ]
  },
  {
   "cell_type": "code",
   "execution_count": 8,
   "metadata": {
    "collapsed": false,
    "scrolled": true
   },
   "outputs": [
    {
     "name": "stdout",
     "output_type": "stream",
     "text": [
      "0\tgene_id\tgene_name\tgene_type\tall_count\trep_count\n",
      "1\tENSG00000137807.13\tKIF23\tprotein_coding\t2\t1\n",
      "2\tENSG00000272305.5\tRP11-894J14.5\tprotein_coding\t1\t1\n",
      "\n",
      "5959\tENSG00000247315.3\tZCCHC3\tprotein_coding\t2\t1\n",
      "5960\tENSG00000105401.6\tCDC37\tprotein_coding\t1\t1\n",
      "5961\tENSG00000109586.11\tGALNT7\tprotein_coding\t2\t1\n",
      "\n"
     ]
    }
   ],
   "source": [
    "pycl.linerange(\"./Protein_interaction/Li_ClipSeq/final_datasets/AGO1_PAR-CLIP_HEK293_cytosol_hafner_uniq_genes.tsv\")"
   ]
  },
  {
   "cell_type": "code",
   "execution_count": 14,
   "metadata": {
    "collapsed": false,
    "scrolled": true
   },
   "outputs": [
    {
     "name": "stdout",
     "output_type": "stream",
     "text": [
      "Analysis dataset  TAF15_PAR-CLIP_HEK293_nucleus_hoell_uniq_genes\n",
      "Analysis dataset  AGO4_PAR-CLIP_HEK293_cytosol_hafner_uniq_genes\n",
      "Analysis dataset  FUS_PAR-CLIP_HEK293_nucleus_hoell_uniq_genes\n",
      "Analysis dataset  ALKBH5_PAR-CLIP_HEK293_nucleus_baltz_uniq_genes\n",
      "Analysis dataset  hnRNPC_iCLIP_HeLa_nucleus_zarnack_uniq_genes\n",
      "Analysis dataset  AGO1_PAR-CLIP_HEK293_cytosol_memczak_uniq_genes\n",
      "Analysis dataset  AGO3_PAR-CLIP_HEK293_cytosol_hafner_uniq_genes\n",
      "Analysis dataset  LIN28B_PAR-CLIP_HEK293_cytosol_hafner_uniq_genes\n",
      "Analysis dataset  ZC3H7B_PAR-CLIP_HEK293_nucleus_baltz_uniq_genes\n",
      "Analysis dataset  hnRNPC_iCLIP_HeLa_nucleus_konig_uniq_genes\n",
      "Analysis dataset  AGO1_PAR-CLIP_HEK293_cytosol_hafner_uniq_genes\n",
      "Analysis dataset  FUS_HITS-CLIP_Brain_nucleus_nakaya_uniq_genes\n",
      "Analysis dataset  PUM2_PAR-CLIP_HEK293_cytosol_hafner_uniq_genes\n",
      "Analysis dataset  DGCR8_HITS-CLIP_HEK293_nucleus_macias_uniq_genes\n",
      "Analysis dataset  FXR1_PAR-CLIP_HEK293_cytosol_ascano_uniq_genes\n",
      "0\tgene_id\tgene_name\tgene_type\tcytosol_protein\tnuclear_protein\tnuclearness\n",
      "1\tENSG00000247877.6\tCTD-2001C12.1\tlincRNA\t0\t1\t1\n",
      "2\tENSG00000267053.6\tCTD-3162L10.1\tlincRNA\t0\t1\t1\n",
      "\n",
      "24195\tENSG00000066027.11\tPPP2R5A\tprotein_coding\t3\t3\t0\n",
      "24196\tENSG00000249115.8\tHAUS5\tprotein_coding\t1\t3\t2\n",
      "24197\tENSG00000155846.16\tPPARGC1B\tprotein_coding\t7\t5\t-2\n",
      "\n"
     ]
    }
   ],
   "source": [
    "input_folder = \"./Protein_interaction/Li_ClipSeq/final_datasets/\"\n",
    "output_file = \"./Protein_interaction/Li_ClipSeq/final_datasets/ALL_dataset_uniq_genes.tsv\"\n",
    "remove(output_file)\n",
    "# dict to count the file of the different categorie\n",
    "gene_loc_dict = {}\n",
    "\n",
    "for input_file in glob(input_folder+\"*tsv\"):\n",
    "    sample_name = pycl.file_basename(input_file)\n",
    "    print(\"Analysis dataset \", sample_name)\n",
    "    \n",
    "    localization = sample_name.split(\"_\")[3]\n",
    "    unique_gene_df = pd.read_csv(input_file, sep=\"\\t\", index_col=0)\n",
    "    \n",
    "    for gene_id, gene_line in unique_gene_df.iterrows():\n",
    "        if gene_id not in gene_loc_dict:\n",
    "            gene_loc_dict[gene_id] = {\"gene_name\": gene_line[\"gene_name\"] ,\"gene_type\":gene_line[\"gene_type\"] ,\"cytosol\":0, \"nucleus\":0}\n",
    "        gene_loc_dict[gene_id][localization] += 1\n",
    "\n",
    "# Write results in a file\n",
    "with open (output_file, \"w\") as output:\n",
    "    output.write(\"gene_id\\tgene_name\\tgene_type\\tcytosol_protein\\tnuclear_protein\\tnuclearness\\n\")\n",
    "    for gene_id, val in gene_loc_dict.items():\n",
    "        output.write(\"{}\\t{}\\t{}\\t{}\\t{}\\t{}\\n\".format(gene_id,val[\"gene_name\"],val[\"gene_type\"],val[\"cytosol\"],val[\"nucleus\"],val[\"nucleus\"]-val[\"cytosol\"]))\n",
    "\n",
    "pycl.linerange(output_file)"
   ]
  },
  {
   "cell_type": "code",
   "execution_count": 6,
   "metadata": {
    "collapsed": false
   },
   "outputs": [
    {
     "data": {
      "image/png": "[encoded data removed]",
      "text/plain": [
       "<matplotlib.figure.Figure at 0x7fa9a3e22358>"
      ]
     },
     "metadata": {},
     "output_type": "display_data"
    }
   ],
   "source": [
    "# Create a distribution graph to identify the number of pure nuclear interacting or pure cytosol interacting RNAs  \n",
    "distrib_nucleus = []\n",
    "distrib_cytosol = []\n",
    "for gene_id, val in gene_loc_dict.items():\n",
    "    if not val[\"nucleus\"]:\n",
    "        distrib_cytosol.append(val[\"cytosol\"])\n",
    "    elif not val[\"cytosol\"]:\n",
    "        distrib_nucleus.append(val[\"nucleus\"])\n",
    "\n",
    "distrib_nucleus.sort()\n",
    "distrib_cytosol.sort()\n",
    "p= pl.hist(distrib_nucleus,align=\"mid\", histtype=\"stepfilled\")\n",
    "p= pl.hist(distrib_cytosol,align=\"mid\", histtype=\"stepfilled\")"
   ]
  },
  {
   "cell_type": "code",
   "execution_count": 16,
   "metadata": {
    "collapsed": false
   },
   "outputs": [
    {
     "data": {
      "image/png": "[encoded data removed]",
      "text/plain": [
       "<matplotlib.figure.Figure at 0x7fa9a3c3cac8>"
      ]
     },
     "metadata": {},
     "output_type": "display_data"
    }
   ],
   "source": [
    "# Create a distribution graph to identify the number of pure nuclear interacting or pure cytosol interacting RNAs  \n",
    "distrib_nuclearness = sorted([val[\"nucleus\"]-val[\"cytosol\"] for val in gene_loc_dict.values()])\n",
    "p= pl.hist(distrib_nuclearness)"
   ]
  },
  {
   "cell_type": "code",
   "execution_count": null,
   "metadata": {
    "collapsed": true
   },
   "outputs": [],
   "source": []
  },
  {
   "cell_type": "code",
   "execution_count": null,
   "metadata": {
    "collapsed": true
   },
   "outputs": [],
   "source": []
  },
  {
   "cell_type": "code",
   "execution_count": null,
   "metadata": {
    "collapsed": true
   },
   "outputs": [],
   "source": []
  },
  {
   "cell_type": "code",
   "execution_count": null,
   "metadata": {
    "collapsed": true
   },
   "outputs": [],
   "source": []
  },
  {
   "cell_type": "code",
   "execution_count": null,
   "metadata": {
    "collapsed": true
   },
   "outputs": [],
   "source": []
  },
  {
   "cell_type": "code",
   "execution_count": null,
   "metadata": {
    "collapsed": true
   },
   "outputs": [],
   "source": []
  },
  {
   "cell_type": "code",
   "execution_count": null,
   "metadata": {
    "collapsed": true
   },
   "outputs": [],
   "source": []
  },
  {
   "cell_type": "code",
   "execution_count": null,
   "metadata": {
    "collapsed": true
   },
   "outputs": [],
   "source": []
  },
  {
   "cell_type": "code",
   "execution_count": null,
   "metadata": {
    "collapsed": true
   },
   "outputs": [],
   "source": []
  }
 ],
 "metadata": {
  "kernelspec": {
   "display_name": "Python 3",
   "language": "python",
   "name": "python3"
  },
  "language_info": {
   "codemirror_mode": {
    "name": "ipython",
    "version": 3
   },
   "file_extension": ".py",
   "mimetype": "text/x-python",
   "name": "python",
   "nbconvert_exporter": "python",
   "pygments_lexer": "ipython3",
   "version": "3.5.2"
  }
 },
 "nbformat": 4,
 "nbformat_minor": 0
}
